{
 "cells": [
  {
   "cell_type": "markdown",
   "id": "e0354810-f942-4e4a-b4b9-bb8c083a314e",
   "metadata": {},
   "source": [
    "## `LinearSelector`, draggable selector that can optionally associated with an ipywidget."
   ]
  },
  {
   "cell_type": "code",
   "execution_count": null,
   "id": "d79bb7e0-90af-4459-8dcb-a7a21a89ef64",
   "metadata": {
    "tags": []
   },
   "outputs": [],
   "source": [
    "import fastplotlib as fpl\n",
    "from fastplotlib.graphics.selectors import Synchronizer\n",
    "\n",
    "import numpy as np\n",
    "from ipywidgets import VBox\n",
    "\n",
    "plot = fpl.Plot()\n",
    "\n",
    "# data to plot\n",
    "xs = np.linspace(0, 100, 1000)\n",
    "sine = np.sin(xs) * 20\n",
    "\n",
    "# make sine along x axis\n",
    "sine_graphic = plot.add_line(np.column_stack([xs, sine]).astype(np.float32))\n",
    "\n",
    "# make some selectors\n",
    "selector = sine_graphic.add_linear_selector()\n",
    "selector2 = sine_graphic.add_linear_selector(20)\n",
    "selector3 = sine_graphic.add_linear_selector(40)\n",
    "\n",
    "ss = Synchronizer(selector, selector2, selector3)\n",
    "\n",
    "def set_color_at_index(ev):\n",
    "    # changes the color at the index where the slider is\n",
    "    ix = ev.pick_info[\"selected_index\"]\n",
    "    g = ev.pick_info[\"graphic\"].parent\n",
    "    g.colors[ix] = \"green\"\n",
    "\n",
    "selector.selection.add_event_handler(set_color_at_index)\n",
    "\n",
    "# fastplotlib LineSelector can make an ipywidget slider and return it :D \n",
    "ipywidget_slider = selector.make_ipywidget_slider()\n",
    "\n",
    "plot.auto_scale()\n",
    "plot.show()\n",
    "VBox([plot.show(), ipywidget_slider])"
   ]
  },
  {
   "cell_type": "markdown",
   "id": "2c49cdc2-0555-410c-ae2e-da36c3bf3bf0",
   "metadata": {},
   "source": [
    "### Drag linear selectors with the mouse, hold \"Shift\" to synchronize movement of all the selectors"
   ]
  },
  {
   "cell_type": "markdown",
   "id": "69057edd-7e23-41e7-a284-ac55df1df5d9",
   "metadata": {},
   "source": [
    "## Also works for line collections"
   ]
  },
  {
   "cell_type": "code",
   "execution_count": null,
   "id": "1a3b98bd-7139-48d9-bd70-66c500cd260d",
   "metadata": {
    "tags": []
   },
   "outputs": [],
   "source": [
    "sines = [sine] * 10\n",
    "\n",
    "plot = fpl.Plot()\n",
    "\n",
    "sine_stack = plot.add_line_stack(sines)\n",
    "\n",
    "colors = \"y\", \"blue\", \"red\", \"green\"\n",
    "\n",
    "selectors = list()\n",
    "for i, c in enumerate(colors):\n",
    "    sel = sine_stack.add_linear_selector(i * 100, color=c, name=str(i))\n",
    "    selectors.append(sel)\n",
    "    \n",
    "ss = Synchronizer(*selectors)\n",
    "\n",
    "plot.show()"
   ]
  },
  {
   "cell_type": "code",
   "execution_count": null,
   "id": "b6c2d9d6-ffe0-484c-a550-cafb44fa8465",
   "metadata": {},
   "outputs": [],
   "source": []
  }
 ],
 "metadata": {
  "kernelspec": {
   "display_name": "Python 3 (ipykernel)",
   "language": "python",
   "name": "python3"
  },
  "language_info": {
   "codemirror_mode": {
    "name": "ipython",
    "version": 3
   },
   "file_extension": ".py",
   "mimetype": "text/x-python",
   "name": "python",
   "nbconvert_exporter": "python",
   "pygments_lexer": "ipython3",
   "version": "3.11.3"
  }
 },
 "nbformat": 4,
 "nbformat_minor": 5
}
