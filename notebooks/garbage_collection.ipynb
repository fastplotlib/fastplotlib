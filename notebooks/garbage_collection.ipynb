{
 "cells": [
  {
   "cell_type": "code",
   "execution_count": null,
   "id": "1ef0578e-09e1-45ff-bd34-84472db3885e",
   "metadata": {
    "tags": []
   },
   "outputs": [],
   "source": [
    "from fastplotlib import Plot\n",
    "import numpy as np\n",
    "import sys\n",
    "\n",
    "import weakref\n",
    "import gc\n",
    "import os, psutil\n",
    "process = psutil.Process(os.getpid())"
   ]
  },
  {
   "cell_type": "code",
   "execution_count": null,
   "id": "1bb6bc6f-7786-4d23-9eb1-e30bbc66c798",
   "metadata": {
    "tags": []
   },
   "outputs": [],
   "source": [
    "def print_process_ram_mb():\n",
    "    print(process.memory_info().rss / 1024 / 1024)"
   ]
  },
  {
   "cell_type": "code",
   "execution_count": null,
   "id": "b376676e-a7fe-4424-9ba6-fde5be03b649",
   "metadata": {
    "tags": []
   },
   "outputs": [],
   "source": [
    "print_process_ram_mb()"
   ]
  },
  {
   "cell_type": "code",
   "execution_count": null,
   "id": "b23ba640-88ec-40d9-b53c-c8cbb3e39b0b",
   "metadata": {
    "tags": []
   },
   "outputs": [],
   "source": [
    "plot = Plot()\n",
    "plot.show()"
   ]
  },
  {
   "cell_type": "code",
   "execution_count": null,
   "id": "17f46f21-b29d-4dd3-9496-989bbb240f50",
   "metadata": {
    "tags": []
   },
   "outputs": [],
   "source": [
    "print_process_ram_mb()"
   ]
  },
  {
   "cell_type": "code",
   "execution_count": null,
   "id": "27627cd4-c363-4eab-a121-f6c8abbbe5ae",
   "metadata": {
    "tags": []
   },
   "outputs": [],
   "source": [
    "graphic = \"scatter\""
   ]
  },
  {
   "cell_type": "markdown",
   "id": "d9c10edc-169a-4dd2-bd5b-8a1b67baf3a9",
   "metadata": {},
   "source": [
    "### Run the following cells repeatedly to add and remove the graphic"
   ]
  },
  {
   "cell_type": "code",
   "execution_count": null,
   "id": "e26d392f-6afd-4e89-a685-d618065d3caf",
   "metadata": {
    "tags": []
   },
   "outputs": [],
   "source": [
    "if graphic == \"line\":\n",
    "    a = np.random.rand(10_000_000)\n",
    "    g = plot.add_line(a)\n",
    "    \n",
    "elif graphic == \"heatmap\":\n",
    "    a = np.random.rand(20_000, 20_000)\n",
    "    g = plot.add_heatmap(a)\n",
    "\n",
    "elif graphic == \"line_collection\":\n",
    "    a = np.random.rand(500, 50_000)\n",
    "    g = plot.add_line_collection(a)\n",
    "    \n",
    "elif graphic == \"image\":\n",
    "    a = np.random.rand(7_000, 7_000)\n",
    "    g = plot.add_image(a)\n",
    "\n",
    "elif graphic == \"scatter\":\n",
    "    a = np.random.rand(10_000_000, 3)\n",
    "    g = plot.add_scatter(a)"
   ]
  },
  {
   "cell_type": "code",
   "execution_count": null,
   "id": "31e3027a-56cf-4f7b-ba78-aed4f78eef47",
   "metadata": {
    "tags": []
   },
   "outputs": [],
   "source": [
    "print_process_ram_mb()"
   ]
  },
  {
   "cell_type": "code",
   "execution_count": null,
   "id": "6518795c-98cf-405d-94ab-786ac3b2e1d6",
   "metadata": {
    "tags": []
   },
   "outputs": [],
   "source": [
    "g"
   ]
  },
  {
   "cell_type": "code",
   "execution_count": null,
   "id": "ee2481c9-82e3-4043-85fd-21a0cdf21187",
   "metadata": {
    "tags": []
   },
   "outputs": [],
   "source": [
    "plot.auto_scale()"
   ]
  },
  {
   "cell_type": "code",
   "execution_count": null,
   "id": "53170858-ae72-4451-8647-7d5b1f9da75e",
   "metadata": {
    "tags": []
   },
   "outputs": [],
   "source": [
    "print(process.memory_info().rss / 1024 / 1024)"
   ]
  },
  {
   "cell_type": "code",
   "execution_count": null,
   "id": "e4e0f73b-c58a-40e7-acf5-07a1f70d2821",
   "metadata": {
    "tags": []
   },
   "outputs": [],
   "source": [
    "plot.delete_graphic(plot.graphics[0])"
   ]
  },
  {
   "cell_type": "markdown",
   "id": "47baa487-c66b-4c40-aa11-d819902870e3",
   "metadata": {},
   "source": [
    "If there is no serious system memory leak, this value shouldn't really increase after repeated cycles"
   ]
  },
  {
   "cell_type": "code",
   "execution_count": null,
   "id": "56c64498-229e-48b7-9fb1-f7c327fff2ae",
   "metadata": {
    "tags": []
   },
   "outputs": [],
   "source": [
    "print(process.memory_info().rss / 1024 / 1024)"
   ]
  },
  {
   "cell_type": "code",
   "execution_count": null,
   "id": "dd6a26c1-ea81-469d-ae7a-95839b1f9d5a",
   "metadata": {},
   "outputs": [],
   "source": [
    "import numpy as np\n",
    "from wgpu.gui.auto import WgpuCanvas, run\n",
    "import pygfx as gfx\n",
    "import subprocess\n",
    "\n",
    "canvas = WgpuCanvas()\n",
    "renderer = gfx.WgpuRenderer(canvas)\n",
    "scene = gfx.Scene()\n",
    "camera = gfx.OrthographicCamera(5000, 5000)\n",
    "camera.position.x = 2048\n",
    "camera.position.y = 2048\n",
    "\n",
    "\n",
    "def make_image():\n",
    "    data = np.random.rand(4096, 4096).astype(np.float32)\n",
    "\n",
    "    return gfx.Image(\n",
    "        gfx.Geometry(grid=gfx.Texture(data, dim=2)),\n",
    "        gfx.ImageBasicMaterial(clim=(0, 1)),\n",
    "    )\n",
    "\n",
    "\n",
    "class Graphic:\n",
    "    def __init__(self):\n",
    "        data = np.random.rand(4096, 4096).astype(np.float32)\n",
    "        self.wo = gfx.Image(\n",
    "        gfx.Geometry(grid=gfx.Texture(data, dim=2)),\n",
    "        gfx.ImageBasicMaterial(clim=(0, 1)),\n",
    "    )\n",
    "\n",
    "\n",
    "def draw():\n",
    "    renderer.render(scene, camera)\n",
    "    canvas.request_draw()\n",
    "\n",
    "\n",
    "def print_nvidia(msg):\n",
    "    print(msg)\n",
    "    print(\n",
    "        subprocess.check_output([\"nvidia-smi\", \"--format=csv\", \"--query-gpu=memory.used\"]).decode().split(\"\\n\")[1]\n",
    "    )\n",
    "    print()\n",
    "\n",
    "\n",
    "def add_img(*args):\n",
    "    print_nvidia(\"Before creating image\")\n",
    "    img = make_image()\n",
    "    print_nvidia(\"After creating image\")\n",
    "    scene.add(img)\n",
    "    img.add_event_handler(remove_img, \"click\")\n",
    "    draw()\n",
    "    print_nvidia(\"After add image to scene\")\n",
    "\n",
    "\n",
    "def remove_img(*args):\n",
    "    img = scene.children[0]\n",
    "    scene.remove(img)\n",
    "    draw()\n",
    "    print_nvidia(\"After remove image from scene\")\n",
    "    del img\n",
    "    draw()\n",
    "    print_nvidia(\"After del image\")\n",
    "\n",
    "\n",
    "renderer.add_event_handler(add_img, \"double_click\")\n",
    "canvas"
   ]
  },
  {
   "cell_type": "code",
   "execution_count": null,
   "id": "2599f430-8b00-4490-9e11-774897be6e77",
   "metadata": {},
   "outputs": [],
   "source": [
    "import numpy as np\n",
    "from wgpu.gui.auto import WgpuCanvas, run\n",
    "import pygfx as gfx\n",
    "import subprocess\n",
    "\n",
    "canvas = WgpuCanvas()\n",
    "renderer = gfx.WgpuRenderer(canvas)\n",
    "scene = gfx.Scene()\n",
    "camera = gfx.OrthographicCamera(5000, 5000)\n",
    "camera.position.x = 2048\n",
    "camera.position.y = 2048\n",
    "\n",
    "\n",
    "def make_image():\n",
    "    data = np.random.rand(4096, 4096).astype(np.float32)\n",
    "\n",
    "    return gfx.Image(\n",
    "        gfx.Geometry(grid=gfx.Texture(data, dim=2)),\n",
    "        gfx.ImageBasicMaterial(clim=(0, 1)),\n",
    "    )"
   ]
  },
  {
   "cell_type": "code",
   "execution_count": null,
   "id": "3ec10f26-6544-4ad3-80c1-aa34617dc826",
   "metadata": {},
   "outputs": [],
   "source": [
    "import weakref"
   ]
  },
  {
   "cell_type": "code",
   "execution_count": null,
   "id": "acc819a3-cd50-4fdd-a0b5-c442d80847e2",
   "metadata": {},
   "outputs": [],
   "source": [
    "img = make_image()\n",
    "img_ref = weakref.ref(img)"
   ]
  },
  {
   "cell_type": "code",
   "execution_count": null,
   "id": "f89da335-3372-486b-b773-9f103d6a9bbd",
   "metadata": {},
   "outputs": [],
   "source": [
    "img_ref()"
   ]
  },
  {
   "cell_type": "code",
   "execution_count": null,
   "id": "c22904ad-d674-43e6-83bb-7a2f7b277c06",
   "metadata": {},
   "outputs": [],
   "source": [
    "del img"
   ]
  },
  {
   "cell_type": "code",
   "execution_count": null,
   "id": "573566d7-eb91-4690-958c-d00dd495b3e4",
   "metadata": {},
   "outputs": [],
   "source": [
    "import gc"
   ]
  },
  {
   "cell_type": "code",
   "execution_count": null,
   "id": "aaef3e89-2bfd-43af-9b8f-824a3f89b85f",
   "metadata": {},
   "outputs": [],
   "source": [
    "img_ref()"
   ]
  },
  {
   "cell_type": "code",
   "execution_count": null,
   "id": "3380f35e-fcc9-43f6-80d2-7e9348cd13b4",
   "metadata": {},
   "outputs": [],
   "source": [
    "draw()"
   ]
  },
  {
   "cell_type": "code",
   "execution_count": null,
   "id": "a27bf7c7-f3ef-4ae8-8ecf-31507f8c0449",
   "metadata": {},
   "outputs": [],
   "source": [
    "print(\n",
    "        subprocess.check_output([\"nvidia-smi\", \"--format=csv\", \"--query-gpu=memory.used\"]).decode().split(\"\\n\")[1]\n",
    "    )"
   ]
  },
  {
   "cell_type": "code",
   "execution_count": null,
   "id": "e4bf2711-8a83-4d9c-a4f7-f50de7ae1715",
   "metadata": {},
   "outputs": [],
   "source": []
  }
 ],
 "metadata": {
  "kernelspec": {
   "display_name": "Python 3 (ipykernel)",
   "language": "python",
   "name": "python3"
  },
  "language_info": {
   "codemirror_mode": {
    "name": "ipython",
    "version": 3
   },
   "file_extension": ".py",
   "mimetype": "text/x-python",
   "name": "python",
   "nbconvert_exporter": "python",
   "pygments_lexer": "ipython3",
   "version": "3.10.5"
  }
 },
 "nbformat": 4,
 "nbformat_minor": 5
}
