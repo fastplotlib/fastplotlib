{
 "cells": [
  {
   "cell_type": "code",
   "execution_count": 1,
   "id": "fd2167fe-04de-42fc-a7e2-c96dac665656",
   "metadata": {},
   "outputs": [],
   "source": [
    "from fastplotlib import Plot"
   ]
  },
  {
   "cell_type": "code",
   "execution_count": 2,
   "id": "bc5acda4-9533-4619-a655-ed5404e00f5e",
   "metadata": {},
   "outputs": [
    {
     "data": {
      "application/vnd.jupyter.widget-view+json": {
       "model_id": "e17c38170e864bd3a61cc7e662854dbe",
       "version_major": 2,
       "version_minor": 0
      },
      "text/plain": [
       "RFBOutputContext()"
      ]
     },
     "metadata": {},
     "output_type": "display_data"
    },
    {
     "data": {
      "text/html": [
       "<div class='initial-snapshot-ea3c2c127b3f414eb96e03b8b775c80c' style='position:relative;'><img src='data:image/png;base64,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' style='width:500.0px;height:300.0px;' /><div style='position: absolute; top:0; left:0; padding:1px 3px; background: #777; color:#fff; font-size: 90%; font-family:sans-serif; '>initial snapshot</div></div>"
      ],
      "text/plain": [
       "<jupyter_rfb._utils.Snapshot object>"
      ]
     },
     "metadata": {},
     "output_type": "display_data"
    },
    {
     "data": {
      "application/vnd.jupyter.widget-view+json": {
       "model_id": "ea3c2c127b3f414eb96e03b8b775c80c",
       "version_major": 2,
       "version_minor": 0
      },
      "text/plain": [
       "JupyterWgpuCanvas()"
      ]
     },
     "execution_count": 2,
     "metadata": {},
     "output_type": "execute_result"
    }
   ],
   "source": [
    "plot = Plot()\n",
    "\n",
    "text_graphic = plot.text(\"hello world\")\n",
    "\n",
    "plot.show()"
   ]
  },
  {
   "cell_type": "code",
   "execution_count": 3,
   "id": "71bb2a1b-fc85-44f1-941a-6fc53b8fb8a4",
   "metadata": {},
   "outputs": [],
   "source": [
    "text_graphic.update_text(\"foo\")"
   ]
  },
  {
   "cell_type": "code",
   "execution_count": 4,
   "id": "aa8aba1e-ee37-49c6-b483-234241871855",
   "metadata": {},
   "outputs": [],
   "source": [
    "text_graphic.update_face_color(\"r\")"
   ]
  },
  {
   "cell_type": "code",
   "execution_count": 5,
   "id": "757b6012-c06b-46cf-b5a8-a874f4b0b99a",
   "metadata": {},
   "outputs": [],
   "source": [
    "text_graphic.update_size(5)"
   ]
  },
  {
   "cell_type": "code",
   "execution_count": 6,
   "id": "e3b8ace2-a7ca-4576-983f-9e667e3d2ba3",
   "metadata": {},
   "outputs": [],
   "source": [
    "text_graphic.update_size(15)"
   ]
  },
  {
   "cell_type": "code",
   "execution_count": 7,
   "id": "616faaef-4cbb-4fee-a6e1-9e684c7b4ebe",
   "metadata": {},
   "outputs": [],
   "source": [
    "text_graphic.update_outline_size(2)"
   ]
  },
  {
   "cell_type": "code",
   "execution_count": 8,
   "id": "ee963404-afe7-47c9-b8d9-a3ac3d8ba23f",
   "metadata": {},
   "outputs": [],
   "source": [
    "text_graphic.update_outline_color(\"b\")"
   ]
  },
  {
   "cell_type": "code",
   "execution_count": 9,
   "id": "0baf70d9-ee5b-41f7-9e27-bb8a38f498df",
   "metadata": {},
   "outputs": [],
   "source": [
    "text_graphic.update_position((5, -1, 10))"
   ]
  }
 ],
 "metadata": {
  "kernelspec": {
   "display_name": "Python 3 (ipykernel)",
   "language": "python",
   "name": "python3"
  },
  "language_info": {
   "codemirror_mode": {
    "name": "ipython",
    "version": 3
   },
   "file_extension": ".py",
   "mimetype": "text/x-python",
   "name": "python",
   "nbconvert_exporter": "python",
   "pygments_lexer": "ipython3",
   "version": "3.10.6"
  }
 },
 "nbformat": 4,
 "nbformat_minor": 5
}
