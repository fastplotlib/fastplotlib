{
 "cells": [
  {
   "cell_type": "code",
   "execution_count": null,
   "id": "8a7e6b7d-5d6e-4ffc-ae58-6dd8857af672",
   "metadata": {},
   "outputs": [],
   "source": [
    "import fastplotlib as fpl\n",
    "import torch\n",
    "import numpy as np\n",
    "import zmq"
   ]
  },
  {
   "cell_type": "markdown",
   "id": "bc76c29a-a47e-4a5e-9ac3-0c829b50dad8",
   "metadata": {},
   "source": [
    "# Set up zmq as client subscriber"
   ]
  },
  {
   "cell_type": "code",
   "execution_count": null,
   "id": "b6174ff4-d2ea-4904-a635-0804faf9c1f1",
   "metadata": {},
   "outputs": [],
   "source": [
    "context = zmq.Context()\n",
    "sub = context.socket(zmq.SUB)\n",
    "sub.setsockopt(zmq.SUBSCRIBE, b\"\")\n",
    "\n",
    "# keep only the most recent message\n",
    "sub.setsockopt(zmq.CONFLATE, 1)\n",
    "\n",
    "# address must match publisher in Processor actor\n",
    "sub.connect(\"tcp://127.0.0.1:5555\")"
   ]
  },
  {
   "cell_type": "code",
   "execution_count": null,
   "id": "0cbfaf88-a474-44ec-996a-c626f71a428e",
   "metadata": {},
   "outputs": [],
   "source": [
    "def get_buffer():\n",
    "    \"\"\"Gets the buffer from the publisher.\"\"\"\n",
    "    try:\n",
    "        b = sub.recv(zmq.NOBLOCK)\n",
    "    except zmq.Again:\n",
    "        pass\n",
    "    else:\n",
    "        return b\n",
    "    \n",
    "    return None"
   ]
  },
  {
   "cell_type": "code",
   "execution_count": null,
   "id": "a574e0c1-5c9c-450e-a91b-63f0ebcfc584",
   "metadata": {},
   "outputs": [],
   "source": [
    "# Create the figure\n",
    "figure = fpl.Figure(names=[[\"conv1 weights\"]], size=(700, 500))\n",
    "\n",
    "figure[0,0].axes.visible = False"
   ]
  },
  {
   "cell_type": "code",
   "execution_count": null,
   "id": "7ef6d573-624e-4880-b343-f42d303885c2",
   "metadata": {},
   "outputs": [],
   "source": [
    "def update_frame(p):\n",
    "    \"\"\"Update the frame using data received from the socket.\"\"\"\n",
    "    buff = get_buffer()\n",
    "    if buff is not None:\n",
    "        # Deserialize the buffer into a NumPy array\n",
    "        data = np.frombuffer(buff, dtype=np.float64)\n",
    "\n",
    "        data = data.reshape(20, 40)  \n",
    "\n",
    "        if len(p.graphics) == 0:\n",
    "            p.add_image(data, name=\"weights\", cmap=\"viridis\")\n",
    "        else:\n",
    "            # Update the line plot\n",
    "            p[\"weights\"].data = data\n",
    "            p[\"weights\"].cmap = gray\n",
    "\n",
    "        p.auto_scale()"
   ]
  },
  {
   "cell_type": "code",
   "execution_count": null,
   "id": "fd59022f-b0fe-4f9f-939b-9c2e9f3dc4a2",
   "metadata": {},
   "outputs": [],
   "source": [
    "# Add the animation update function\n",
    "figure[0, 0].add_animations(update_frame)\n",
    "\n",
    "figure.show()"
   ]
  },
  {
   "cell_type": "code",
   "execution_count": null,
   "id": "d45053a7-465f-4d1f-9d68-f93d313db935",
   "metadata": {},
   "outputs": [],
   "source": []
  }
 ],
 "metadata": {
  "kernelspec": {
   "display_name": "Python 3 (ipykernel)",
   "language": "python",
   "name": "python3"
  },
  "language_info": {
   "codemirror_mode": {
    "name": "ipython",
    "version": 3
   },
   "file_extension": ".py",
   "mimetype": "text/x-python",
   "name": "python",
   "nbconvert_exporter": "python",
   "pygments_lexer": "ipython3",
   "version": "3.13.1"
  }
 },
 "nbformat": 4,
 "nbformat_minor": 5
}
