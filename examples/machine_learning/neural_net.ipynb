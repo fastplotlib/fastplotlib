{
 "cells": [
  {
   "cell_type": "code",
   "execution_count": 1,
   "id": "8a7e6b7d-5d6e-4ffc-ae58-6dd8857af672",
   "metadata": {},
   "outputs": [
    {
     "name": "stderr",
     "output_type": "stream",
     "text": [
      "Detected skylake derivative running on mesa i915. Clears to srgb textures will use manual shader clears.\n",
      "Detected skylake derivative running on mesa i915. Clears to srgb textures will use manual shader clears.\n",
      "Detected skylake derivative running on mesa i915. Clears to srgb textures will use manual shader clears.\n"
     ]
    },
    {
     "data": {
      "application/vnd.jupyter.widget-view+json": {
       "model_id": "3d596c043e1c49bda39dea86e10aad5a",
       "version_major": 2,
       "version_minor": 0
      },
      "text/plain": [
       "Image(value=b'version https://git-lfs.github.com/spec/...', height='55', width='300')"
      ]
     },
     "metadata": {},
     "output_type": "display_data"
    },
    {
     "data": {
      "text/html": [
       "<b>Available devices:</b><table><tr><th>Valid</th><th>Device</th><th>Type</th><th>Backend</th><th>Driver</th></tr><tr title=\"This adapter can be used with fastplotlib\"><td>✅</td><td>Intel(R) Arc(tm) Graphics (MTL)</td><td>IntegratedGPU</td><td>Vulkan</td><td>Mesa 24.3.2</td></tr><tr title=\"This adapter can be used with fastplotlib\"><td>✅ (default) </td><td>NVIDIA GeForce RTX 4060 Laptop GPU</td><td>DiscreteGPU</td><td>Vulkan</td><td>565.77</td></tr><tr title=\"CPU rendering support is limited and mainly for testing purposes\"><td>❗ limited</td><td>llvmpipe (LLVM 19.1.5, 256 bits)</td><td>CPU</td><td>Vulkan</td><td>Mesa 24.3.2 (LLVM 19.1.5)</td></tr><tr title=\"This adapter cannot be used with fastplotlib\"><td>❌</td><td>Mesa Intel(R) Arc(tm) Graphics (MTL)</td><td>IntegratedGPU</td><td>OpenGL</td><td>4.6 (Core Profile) Mesa 24.3.2</td></tr></table>"
      ],
      "text/plain": [
       "<IPython.core.display.HTML object>"
      ]
     },
     "metadata": {},
     "output_type": "display_data"
    },
    {
     "name": "stderr",
     "output_type": "stream",
     "text": [
      "Detected skylake derivative running on mesa i915. Clears to srgb textures will use manual shader clears.\n",
      "Detected skylake derivative running on mesa i915. Clears to srgb textures will use manual shader clears.\n"
     ]
    }
   ],
   "source": [
    "import fastplotlib as fpl\n",
    "import torch\n",
    "\n",
    "\n",
    "import numpy as np # to handle matrix and data operation\n",
    "#import pandas as pd # to read csv and handle dataframe\n",
    "\n",
    "import torch\n",
    "import torch.nn as nn\n",
    "import torch.nn.functional as F\n",
    "import torch.utils.data\n",
    "from torch.autograd import Variable\n",
    "\n",
    "from sklearn.model_selection import train_test_split\n",
    "from torchvision import datasets, transforms\n",
    "from torch.optim.lr_scheduler import StepLR\n",
    "import tqdm"
   ]
  },
  {
   "cell_type": "markdown",
   "id": "ee5e1554-96a4-4611-b873-d6db10b68def",
   "metadata": {},
   "source": [
    "## Get the device"
   ]
  },
  {
   "cell_type": "code",
   "execution_count": 2,
   "id": "5630c378-f60c-40b4-9c2f-e2d44a6ec31c",
   "metadata": {},
   "outputs": [],
   "source": [
    "# check if GPU with cuda is available\n",
    "if torch.cuda.is_available():\n",
    "    device = torch.device(\"cuda\")\n",
    "# if not, use CPU\n",
    "else:\n",
    "    device = torch.device(\"cpu\")"
   ]
  },
  {
   "cell_type": "code",
   "execution_count": 3,
   "id": "edf80fec-4c34-455e-a0ba-fcf78c8c798d",
   "metadata": {},
   "outputs": [
    {
     "data": {
      "text/plain": [
       "device(type='cuda')"
      ]
     },
     "execution_count": 3,
     "metadata": {},
     "output_type": "execute_result"
    }
   ],
   "source": [
    "device"
   ]
  },
  {
   "cell_type": "markdown",
   "id": "f2690be6-9319-4038-aec6-18a15bd0196d",
   "metadata": {},
   "source": [
    "## Define model architecture"
   ]
  },
  {
   "cell_type": "code",
   "execution_count": 4,
   "id": "ddc53e5f-c354-4810-bf4a-cc8b9dfe7d13",
   "metadata": {},
   "outputs": [
    {
     "name": "stdout",
     "output_type": "stream",
     "text": [
      "CNN(\n",
      "  (conv1): Conv2d(1, 32, kernel_size=(5, 5), stride=(1, 1))\n",
      "  (conv2): Conv2d(32, 32, kernel_size=(5, 5), stride=(1, 1))\n",
      "  (conv3): Conv2d(32, 64, kernel_size=(5, 5), stride=(1, 1))\n",
      "  (fc1): Linear(in_features=576, out_features=256, bias=True)\n",
      "  (fc2): Linear(in_features=256, out_features=10, bias=True)\n",
      ")\n"
     ]
    }
   ],
   "source": [
    "class CNN(nn.Module):\n",
    "    def __init__(self):\n",
    "        super(CNN, self).__init__()\n",
    "        self.conv1 = nn.Conv2d(1, 32, kernel_size=5)\n",
    "        self.conv2 = nn.Conv2d(32, 32, kernel_size=5)\n",
    "        self.conv3 = nn.Conv2d(32,64, kernel_size=5)\n",
    "        self.fc1 = nn.Linear(3*3*64, 256)\n",
    "        self.fc2 = nn.Linear(256, 10)\n",
    "\n",
    "    def forward(self, x):\n",
    "        x = F.relu(self.conv1(x))\n",
    "        #x = F.dropout(x, p=0.5, training=self.training)\n",
    "        x = F.relu(F.max_pool2d(self.conv2(x), 2))\n",
    "        x = F.dropout(x, p=0.5, training=self.training)\n",
    "        x = F.relu(F.max_pool2d(self.conv3(x),2))\n",
    "        x = F.dropout(x, p=0.5, training=self.training)\n",
    "        x = x.view(-1,3*3*64 )\n",
    "        x = F.relu(self.fc1(x))\n",
    "        x = F.dropout(x, training=self.training)\n",
    "        x = self.fc2(x)\n",
    "        return F.log_softmax(x, dim=1)\n",
    " \n",
    "model = CNN().to(device)\n",
    "print(model)"
   ]
  },
  {
   "cell_type": "markdown",
   "id": "524a5d18-49d2-4d29-b7a2-691f12463b5d",
   "metadata": {},
   "source": [
    "## Load the dataset"
   ]
  },
  {
   "cell_type": "code",
   "execution_count": 5,
   "id": "9d169693-74c3-4bbe-8c80-284db1b994c8",
   "metadata": {},
   "outputs": [],
   "source": [
    "# tranform to apply to images\n",
    "transform=transforms.Compose([\n",
    "        transforms.ToTensor(), # convert to tensor\n",
    "        transforms.Normalize((0.1307,), (0.3081,)) # normalize with specified mean and sd\n",
    "        ])\n",
    "\n",
    "data = datasets.MNIST('../data', train=True, download=True,\n",
    "                   transform=transform)\n",
    "\n",
    "train_loader = torch.utils.data.DataLoader(data, batch_size=32, num_workers=1, shuffle=True)"
   ]
  },
  {
   "cell_type": "markdown",
   "id": "f73586c4-5f2a-4cb7-833c-a2d90bedbf80",
   "metadata": {},
   "source": [
    "## Sample visual of inputs"
   ]
  },
  {
   "cell_type": "code",
   "execution_count": 6,
   "id": "d224516a-591e-4ad4-9439-97582f0afa36",
   "metadata": {},
   "outputs": [
    {
     "data": {
      "application/vnd.jupyter.widget-view+json": {
       "model_id": "6c1c9f79ad6f4b3ea6630802bc6ae015",
       "version_major": 2,
       "version_minor": 0
      },
      "text/plain": [
       "RFBOutputContext()"
      ]
     },
     "metadata": {},
     "output_type": "display_data"
    },
    {
     "name": "stderr",
     "output_type": "stream",
     "text": [
      "Detected skylake derivative running on mesa i915. Clears to srgb textures will use manual shader clears.\n"
     ]
    },
    {
     "data": {
      "application/vnd.jupyter.widget-view+json": {
       "model_id": "3bcfa7ff3a7f4bf28368298dc6aea39c",
       "version_major": 2,
       "version_minor": 0
      },
      "text/html": [
       "<div class='snapshot-3bcfa7ff3a7f4bf28368298dc6aea39c' style='position:relative;'><img src='data:image/png;base64,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' style='width:900.0px;height:300.0px;' /><div style='position: absolute; top:0; left:0; padding:1px 3px; background: #777; color:#fff; font-size: 90%; font-family:sans-serif; '>snapshot</div></div>"
      ],
      "text/plain": [
       "JupyterRenderCanvas(css_height='300.0px', css_width='900.0px')"
      ]
     },
     "execution_count": 6,
     "metadata": {},
     "output_type": "execute_result"
    }
   ],
   "source": [
    "fig_data = fpl.Figure(shape=(1,5), size=(900,300))\n",
    "\n",
    "# Print the first few images in a row\n",
    "for j, (image, label) in enumerate(train_loader):\n",
    "    for i in range(5):\n",
    "        fig_data[0, i].add_image(image[i].squeeze().numpy(), cmap=\"gray\")\n",
    "        fig_data[0, i].set_title(f\"Label: {label[i].item()}\")\n",
    "        fig_data[0, i].axes.visible = False\n",
    "        fig_data[0, i].toolbar  = False\n",
    "\n",
    "    break  # Exit the loop after printing 5 samples\n",
    "\n",
    "fig_data.show()"
   ]
  },
  {
   "cell_type": "code",
   "execution_count": null,
   "id": "144a3f9f-5e2f-4d26-88fd-d4812e2cbdcb",
   "metadata": {},
   "outputs": [],
   "source": []
  },
  {
   "cell_type": "markdown",
   "id": "c44e6182-2d70-4142-9e85-8153f0fb47b5",
   "metadata": {},
   "source": [
    "## Plot the initial weights"
   ]
  },
  {
   "cell_type": "code",
   "execution_count": 7,
   "id": "aef0a3a1-2a98-4dcf-a090-71760984ab19",
   "metadata": {},
   "outputs": [
    {
     "data": {
      "application/vnd.jupyter.widget-view+json": {
       "model_id": "60b2995820024a0fbec325c51062bcde",
       "version_major": 2,
       "version_minor": 0
      },
      "text/plain": [
       "RFBOutputContext()"
      ]
     },
     "metadata": {},
     "output_type": "display_data"
    },
    {
     "data": {
      "text/plain": [
       "'weight': ImageGraphic @ 0x7ff0c1ef96d0"
      ]
     },
     "execution_count": 7,
     "metadata": {},
     "output_type": "execute_result"
    }
   ],
   "source": [
    "fig_weight = fpl.Figure()\n",
    "\n",
    "a = model.state_dict()[\"conv1.weight\"].squeeze().reshape(20, 40)\n",
    "\n",
    "fig_weight[0,0].add_image(a.cpu().numpy(), \"viridis\", name=\"weight\")\n",
    "\n",
    "# for i, subplot in enumerate(fig_weight):\n",
    "#     subplot.axes.visible = False\n",
    "#     subplot.add_image(data=a[i].cpu().numpy(), cmap=\"viridis\", name=\"weight\")"
   ]
  },
  {
   "cell_type": "code",
   "execution_count": 8,
   "id": "614da99c-7cd8-43b2-99e2-6da75a94c93d",
   "metadata": {},
   "outputs": [],
   "source": [
    "fig_weight.show(sidecar=True)"
   ]
  },
  {
   "cell_type": "code",
   "execution_count": 9,
   "id": "40ded155-1c97-4b03-beff-0b85d4bcfd07",
   "metadata": {},
   "outputs": [],
   "source": [
    "fig_weight[0,0].axes.visible = False"
   ]
  },
  {
   "cell_type": "code",
   "execution_count": null,
   "id": "7a42de65-a8f7-4753-8d80-4b2b55e9089e",
   "metadata": {},
   "outputs": [],
   "source": []
  },
  {
   "cell_type": "markdown",
   "id": "3fab73d2-dd20-40ec-8989-11cb95b2cdb9",
   "metadata": {},
   "source": [
    "## Train the model"
   ]
  },
  {
   "cell_type": "code",
   "execution_count": 10,
   "id": "b81aecd8-4b53-4d34-8a63-06a237c7de3f",
   "metadata": {},
   "outputs": [],
   "source": [
    "def train(model, device, train_loader, optimizer, epoch):\n",
    "    global fig_weight\n",
    "    model.train()\n",
    "    correct = 0\n",
    "    for batch_idx, (data, target) in enumerate(train_loader):\n",
    "        data, target = data.to(device), target.to(device)\n",
    "        optimizer.zero_grad()\n",
    "        output = model(data)\n",
    "        loss = F.nll_loss(output, target)\n",
    "        loss.backward()\n",
    "        optimizer.step()\n",
    "\n",
    "        predicted = torch.max(output.data, 1)[1]\n",
    "        correct += (predicted == target).sum()\n",
    "        if batch_idx % 1000 == 0:\n",
    "            print('Train Epoch: {} [{}/{} ({:.0f}%)]\\tLoss: {:.6f}\\t Accuracy:{:.3f}%'.format(\n",
    "                epoch, batch_idx * len(data), len(train_loader.dataset),\n",
    "                100. * batch_idx / len(train_loader), loss.item(), float(correct*100) / float(32 * (batch_idx + 1))))"
   ]
  },
  {
   "cell_type": "code",
   "execution_count": 11,
   "id": "7da55be5-937d-44a6-abc8-95faff0ef90f",
   "metadata": {},
   "outputs": [
    {
     "name": "stderr",
     "output_type": "stream",
     "text": [
      "  0%|                                                                                                 | 0/5 [00:00<?, ?it/s]"
     ]
    },
    {
     "name": "stdout",
     "output_type": "stream",
     "text": [
      "Train Epoch: 0 [0/60000 (0%)]\tLoss: 2.355740\t Accuracy:0.000%\n",
      "Train Epoch: 0 [32000/60000 (53%)]\tLoss: 0.225816\t Accuracy:89.479%\n"
     ]
    },
    {
     "name": "stderr",
     "output_type": "stream",
     "text": [
      " 20%|█████████████████▊                                                                       | 1/5 [00:04<00:19,  4.88s/it]"
     ]
    },
    {
     "name": "stdout",
     "output_type": "stream",
     "text": [
      "Train Epoch: 1 [0/60000 (0%)]\tLoss: 0.211738\t Accuracy:96.875%\n",
      "Train Epoch: 1 [32000/60000 (53%)]\tLoss: 0.006923\t Accuracy:97.340%\n"
     ]
    },
    {
     "name": "stderr",
     "output_type": "stream",
     "text": [
      " 40%|███████████████████████████████████▌                                                     | 2/5 [00:09<00:14,  4.68s/it]"
     ]
    },
    {
     "name": "stdout",
     "output_type": "stream",
     "text": [
      "Train Epoch: 2 [0/60000 (0%)]\tLoss: 0.153109\t Accuracy:93.750%\n",
      "Train Epoch: 2 [32000/60000 (53%)]\tLoss: 0.148585\t Accuracy:97.812%\n"
     ]
    },
    {
     "name": "stderr",
     "output_type": "stream",
     "text": [
      " 60%|█████████████████████████████████████████████████████▍                                   | 3/5 [00:14<00:09,  4.75s/it]"
     ]
    },
    {
     "name": "stdout",
     "output_type": "stream",
     "text": [
      "Train Epoch: 3 [0/60000 (0%)]\tLoss: 0.167706\t Accuracy:96.875%\n",
      "Train Epoch: 3 [32000/60000 (53%)]\tLoss: 0.033305\t Accuracy:97.743%\n"
     ]
    },
    {
     "name": "stderr",
     "output_type": "stream",
     "text": [
      " 80%|███████████████████████████████████████████████████████████████████████▏                 | 4/5 [00:18<00:04,  4.70s/it]"
     ]
    },
    {
     "name": "stdout",
     "output_type": "stream",
     "text": [
      "Train Epoch: 4 [0/60000 (0%)]\tLoss: 0.008563\t Accuracy:100.000%\n",
      "Train Epoch: 4 [32000/60000 (53%)]\tLoss: 0.028307\t Accuracy:97.933%\n"
     ]
    },
    {
     "name": "stderr",
     "output_type": "stream",
     "text": [
      "100%|█████████████████████████████████████████████████████████████████████████████████████████| 5/5 [00:23<00:00,  4.69s/it]\n"
     ]
    }
   ],
   "source": [
    "optimizer = torch.optim.Adam(model.parameters() ,lr=0.001)\n",
    "\n",
    "scheduler = StepLR(optimizer, step_size=1)\n",
    "for epoch in tqdm.tqdm(range(0, 5)):\n",
    "    train(model, device, train_loader, optimizer, epoch)\n",
    "    scheduler.step()\n",
    "    # update the weights \n",
    "    a = model.state_dict()[\"conv1.weight\"].squeeze().reshape(20,40).cpu().numpy()\n",
    "    fig_weight[0,0][\"weight\"].data = a\n",
    "    if epoch % 2 == 0:\n",
    "        fig_weight[0,0][\"weight\"].cmap = \"gray\"\n",
    "    else:\n",
    "        fig_weight[0,0][\"weight\"].cmap = \"viridis\""
   ]
  },
  {
   "cell_type": "code",
   "execution_count": 12,
   "id": "4b401a23-41d3-4e0c-9068-0e794d70be87",
   "metadata": {},
   "outputs": [
    {
     "data": {
      "text/plain": [
       "4"
      ]
     },
     "execution_count": 12,
     "metadata": {},
     "output_type": "execute_result"
    }
   ],
   "source": [
    "epoch"
   ]
  },
  {
   "cell_type": "code",
   "execution_count": null,
   "id": "634d94e6-024e-475f-b3df-5b032fe23bcb",
   "metadata": {},
   "outputs": [],
   "source": []
  },
  {
   "cell_type": "code",
   "execution_count": 12,
   "id": "cf09b586-dd9a-410d-ae7d-eae5f441e803",
   "metadata": {},
   "outputs": [
    {
     "name": "stdout",
     "output_type": "stream",
     "text": [
      "Layer: conv1.weight, Shape: torch.Size([32, 1, 5, 5])\n",
      "Weights:\n",
      "conv1.weight\n",
      "Layer: conv2.weight, Shape: torch.Size([32, 32, 5, 5])\n",
      "Weights:\n",
      "conv2.weight\n",
      "Layer: conv3.weight, Shape: torch.Size([64, 32, 5, 5])\n",
      "Weights:\n",
      "conv3.weight\n",
      "Layer: fc1.weight, Shape: torch.Size([256, 576])\n",
      "Weights:\n",
      "fc1.weight\n",
      "Layer: fc2.weight, Shape: torch.Size([10, 256])\n",
      "Weights:\n",
      "fc2.weight\n"
     ]
    }
   ],
   "source": [
    "for name, param in model.named_parameters():\n",
    "    if 'weight' in name:\n",
    "        print(f\"Layer: {name}, Shape: {param.shape}\")\n",
    "        print(\"Weights:\")\n",
    "        print(name)\n",
    "        # print(param.data)"
   ]
  },
  {
   "cell_type": "code",
   "execution_count": 52,
   "id": "c2d55d29-c66f-4c14-866b-511f3f512fe4",
   "metadata": {},
   "outputs": [
    {
     "data": {
      "application/vnd.jupyter.widget-view+json": {
       "model_id": "bd0356b06b2e4ab9b5c4bfae6e43a0cc",
       "version_major": 2,
       "version_minor": 0
      },
      "text/plain": [
       "RFBOutputContext()"
      ]
     },
     "metadata": {},
     "output_type": "display_data"
    }
   ],
   "source": []
  },
  {
   "cell_type": "code",
   "execution_count": 20,
   "id": "2ee8fedb-d4e9-4a86-a1dc-3acffb7aa125",
   "metadata": {},
   "outputs": [
    {
     "data": {
      "text/plain": [
       "(20, 40)"
      ]
     },
     "execution_count": 20,
     "metadata": {},
     "output_type": "execute_result"
    }
   ],
   "source": [
    "a = model.state_dict()[\"conv1.weight\"].squeeze().reshape(20, 40).cpu().numpy()\n",
    "a.shape"
   ]
  },
  {
   "cell_type": "code",
   "execution_count": 21,
   "id": "7195fea6-dea4-40da-9cae-a2d5184915e3",
   "metadata": {},
   "outputs": [],
   "source": [
    "fig_weight[0,0][\"weight\"].data = a"
   ]
  },
  {
   "cell_type": "code",
   "execution_count": null,
   "id": "c42022e4-64bd-473a-aeeb-b6c181dcac71",
   "metadata": {},
   "outputs": [],
   "source": []
  }
 ],
 "metadata": {
  "kernelspec": {
   "display_name": "Python 3 (ipykernel)",
   "language": "python",
   "name": "python3"
  },
  "language_info": {
   "codemirror_mode": {
    "name": "ipython",
    "version": 3
   },
   "file_extension": ".py",
   "mimetype": "text/x-python",
   "name": "python",
   "nbconvert_exporter": "python",
   "pygments_lexer": "ipython3",
   "version": "3.13.1"
  }
 },
 "nbformat": 4,
 "nbformat_minor": 5
}
