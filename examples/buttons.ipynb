{
 "cells": [
  {
   "cell_type": "code",
   "execution_count": 1,
   "id": "6725ce7d-eea7-44f7-bedc-813e8ce5bf4f",
   "metadata": {},
   "outputs": [],
   "source": [
    "from fastplotlib import Plot\n",
    "from ipywidgets import HBox, Checkbox, Image, VBox, Layout, ToggleButton, Button\n",
    "import numpy as np"
   ]
  },
  {
   "cell_type": "code",
   "execution_count": 2,
   "id": "33bf59c4-14e5-43a8-8a16-69b6859864c5",
   "metadata": {},
   "outputs": [
    {
     "data": {
      "application/vnd.jupyter.widget-view+json": {
       "model_id": "7c85c9cf530c4c9285c4d4eeabc56ad6",
       "version_major": 2,
       "version_minor": 0
      },
      "text/plain": [
       "RFBOutputContext()"
      ]
     },
     "metadata": {},
     "output_type": "display_data"
    },
    {
     "name": "stderr",
     "output_type": "stream",
     "text": [
      "/home/clewis7/repos/fastplotlib/fastplotlib/graphics/features/_base.py:33: UserWarning: converting float64 array to float32\n",
      "  warn(f\"converting {array.dtype} array to float32\")\n"
     ]
    },
    {
     "data": {
      "text/plain": [
       "<weakproxy at 0x7f05a2125270 to ImageGraphic at 0x7f05c82c5ca0>"
      ]
     },
     "execution_count": 2,
     "metadata": {},
     "output_type": "execute_result"
    }
   ],
   "source": [
    "plot = Plot()\n",
    "img = np.random.rand(512, 512)\n",
    "plot.add_image(img)"
   ]
  },
  {
   "cell_type": "code",
   "execution_count": 3,
   "id": "68ea8011-d6fd-448f-9bf6-34073164d271",
   "metadata": {},
   "outputs": [
    {
     "data": {
      "application/vnd.jupyter.widget-view+json": {
       "model_id": "26f3abcd50ff466c88eeae34ba0ebc95",
       "version_major": 2,
       "version_minor": 0
      },
      "text/plain": [
       "VBox(children=(JupyterWgpuCanvas(), HBox(children=(Button(icon='expand-arrows-alt', layout=Layout(width='auto'…"
      ]
     },
     "execution_count": 3,
     "metadata": {},
     "output_type": "execute_result"
    }
   ],
   "source": [
    "plot.show()"
   ]
  },
  {
   "cell_type": "code",
   "execution_count": 4,
   "id": "0bbb459c-cb49-448e-b0b8-c541e55da313",
   "metadata": {},
   "outputs": [],
   "source": [
    "from fastplotlib import GridPlot\n",
    "from ipywidgets import Dropdown"
   ]
  },
  {
   "cell_type": "code",
   "execution_count": 5,
   "id": "91a31531-818b-46a2-9587-5d9ef5b59b93",
   "metadata": {},
   "outputs": [
    {
     "data": {
      "application/vnd.jupyter.widget-view+json": {
       "model_id": "5f53d9e84b7d47a2807def025021626b",
       "version_major": 2,
       "version_minor": 0
      },
      "text/plain": [
       "RFBOutputContext()"
      ]
     },
     "metadata": {},
     "output_type": "display_data"
    }
   ],
   "source": [
    "gp = GridPlot(\n",
    "            shape=(1,2),\n",
    "            names=[[None, 'plot2']])"
   ]
  },
  {
   "cell_type": "code",
   "execution_count": 6,
   "id": "e96bbda7-3693-42f2-bd52-f668f39134f6",
   "metadata": {},
   "outputs": [],
   "source": [
    "for subplot in gp:\n",
    "    subplot.add_image(data=img)"
   ]
  },
  {
   "cell_type": "code",
   "execution_count": 7,
   "id": "03b877ba-cf9c-47d9-a0e5-b3e694274a28",
   "metadata": {},
   "outputs": [
    {
     "data": {
      "application/vnd.jupyter.widget-view+json": {
       "model_id": "027c60bf624b427e94048758147b530c",
       "version_major": 2,
       "version_minor": 0
      },
      "text/plain": [
       "VBox(children=(JupyterWgpuCanvas(), HBox(children=(Button(icon='expand-arrows-alt', layout=Layout(width='auto'…"
      ]
     },
     "execution_count": 7,
     "metadata": {},
     "output_type": "execute_result"
    }
   ],
   "source": [
    "gp.show()"
   ]
  },
  {
   "cell_type": "code",
   "execution_count": 8,
   "id": "36f5e040-cc58-4b0a-beb1-1f66ea02ccb9",
   "metadata": {},
   "outputs": [
    {
     "data": {
      "application/vnd.jupyter.widget-view+json": {
       "model_id": "f902391ceb614f2a812725371184ce81",
       "version_major": 2,
       "version_minor": 0
      },
      "text/plain": [
       "RFBOutputContext()"
      ]
     },
     "metadata": {},
     "output_type": "display_data"
    }
   ],
   "source": [
    "gp2 = GridPlot(shape=(1,2))"
   ]
  },
  {
   "cell_type": "code",
   "execution_count": 9,
   "id": "c6753d45-a0ae-4c96-8ed5-7638c4cf24e3",
   "metadata": {},
   "outputs": [],
   "source": [
    "for subplot in gp2:\n",
    "    subplot.add_image(data=img)"
   ]
  },
  {
   "cell_type": "code",
   "execution_count": 10,
   "id": "5a769c0f-6d95-4969-ad9d-24636fc74b18",
   "metadata": {},
   "outputs": [
    {
     "data": {
      "application/vnd.jupyter.widget-view+json": {
       "model_id": "65a2a30036f44e22a479c6edd215e25a",
       "version_major": 2,
       "version_minor": 0
      },
      "text/plain": [
       "VBox(children=(JupyterWgpuCanvas(), HBox(children=(Button(icon='expand-arrows-alt', layout=Layout(width='auto'…"
      ]
     },
     "execution_count": 10,
     "metadata": {},
     "output_type": "execute_result"
    }
   ],
   "source": [
    "gp2.show()"
   ]
  },
  {
   "cell_type": "code",
   "execution_count": 12,
   "id": "d6d62cf4-405b-4598-8696-592613593a4f",
   "metadata": {},
   "outputs": [
    {
     "data": {
      "text/plain": [
       "[(0, 0), (0, 1)]"
      ]
     },
     "execution_count": 12,
     "metadata": {},
     "output_type": "execute_result"
    }
   ],
   "source": [
    "positions = [(i,j) for i, j in gp2._get_iterator()]\n",
    "positions"
   ]
  },
  {
   "cell_type": "code",
   "execution_count": 14,
   "id": "b5fcb6b2-f8e8-4260-9d00-be2d3cdc1bc6",
   "metadata": {},
   "outputs": [],
   "source": [
    "values = list()\n",
    "for pos in positions:\n",
    "    if gp2[pos].name is not None:\n",
    "        values.append(gp2[pos].name)\n",
    "    else:\n",
    "        values.append(pos)"
   ]
  },
  {
   "cell_type": "code",
   "execution_count": 15,
   "id": "c95aebb8-e600-40e5-a91c-bb71f46c48ac",
   "metadata": {},
   "outputs": [
    {
     "data": {
      "text/plain": [
       "[(0, 0), (0, 1)]"
      ]
     },
     "execution_count": 15,
     "metadata": {},
     "output_type": "execute_result"
    }
   ],
   "source": [
    "values"
   ]
  },
  {
   "cell_type": "code",
   "execution_count": 26,
   "id": "a591cc18-ba41-4b86-96c3-a2cf9a252d6d",
   "metadata": {},
   "outputs": [],
   "source": [
    "drop = Dropdown(options=[str(pos) for pos in values], disabled=False, description='Plots:')"
   ]
  },
  {
   "cell_type": "code",
   "execution_count": 27,
   "id": "3595493c-3f7d-4887-879a-28cf497e1336",
   "metadata": {},
   "outputs": [
    {
     "data": {
      "application/vnd.jupyter.widget-view+json": {
       "model_id": "104cc0a4f38c4a81a74bef42cfcc7c75",
       "version_major": 2,
       "version_minor": 0
      },
      "text/plain": [
       "Dropdown(description='Plots:', options=('(0, 0)', '(0, 1)'), value='(0, 0)')"
      ]
     },
     "execution_count": 27,
     "metadata": {},
     "output_type": "execute_result"
    }
   ],
   "source": [
    "drop"
   ]
  },
  {
   "cell_type": "code",
   "execution_count": 31,
   "id": "6cf7069f-2992-41f5-92ff-020dcd925a1f",
   "metadata": {},
   "outputs": [
    {
     "data": {
      "text/plain": [
       "(0, 0)"
      ]
     },
     "execution_count": 31,
     "metadata": {},
     "output_type": "execute_result"
    }
   ],
   "source": [
    "eval(drop.value)"
   ]
  },
  {
   "cell_type": "code",
   "execution_count": 32,
   "id": "ebab126c-c77c-462c-a9fb-0f64dad81abf",
   "metadata": {},
   "outputs": [],
   "source": [
    "values = ['plot1', (0, 1)]"
   ]
  },
  {
   "cell_type": "code",
   "execution_count": 33,
   "id": "b01c2079-e152-455a-82f6-97ad30cf8f9e",
   "metadata": {},
   "outputs": [],
   "source": [
    "drop = Dropdown(options=[str(pos) for pos in values], disabled=False, description='Plots:')"
   ]
  },
  {
   "cell_type": "code",
   "execution_count": 34,
   "id": "54465b3f-f7aa-4782-b164-88a3d88e824e",
   "metadata": {},
   "outputs": [
    {
     "data": {
      "application/vnd.jupyter.widget-view+json": {
       "model_id": "e758704e84144e919c673b6f9154f3fc",
       "version_major": 2,
       "version_minor": 0
      },
      "text/plain": [
       "Dropdown(description='Plots:', options=('plot1', '(0, 1)'), value='plot1')"
      ]
     },
     "execution_count": 34,
     "metadata": {},
     "output_type": "execute_result"
    }
   ],
   "source": [
    "drop"
   ]
  },
  {
   "cell_type": "code",
   "execution_count": 35,
   "id": "4d086ef3-1e32-4447-a46f-7793b26d0ce7",
   "metadata": {},
   "outputs": [
    {
     "ename": "NameError",
     "evalue": "name 'plot1' is not defined",
     "output_type": "error",
     "traceback": [
      "\u001b[0;31m---------------------------------------------------------------------------\u001b[0m",
      "\u001b[0;31mNameError\u001b[0m                                 Traceback (most recent call last)",
      "Input \u001b[0;32mIn [35]\u001b[0m, in \u001b[0;36m<cell line: 1>\u001b[0;34m()\u001b[0m\n\u001b[0;32m----> 1\u001b[0m \u001b[38;5;28;43meval\u001b[39;49m\u001b[43m(\u001b[49m\u001b[43mdrop\u001b[49m\u001b[38;5;241;43m.\u001b[39;49m\u001b[43mvalue\u001b[49m\u001b[43m)\u001b[49m\n",
      "File \u001b[0;32m<string>:1\u001b[0m, in \u001b[0;36m<module>\u001b[0;34m\u001b[0m\n",
      "\u001b[0;31mNameError\u001b[0m: name 'plot1' is not defined"
     ]
    }
   ],
   "source": [
    "eval(drop.value)"
   ]
  },
  {
   "cell_type": "code",
   "execution_count": null,
   "id": "cd3e7b3c-f4d2-44c7-931c-d172c7bdad36",
   "metadata": {},
   "outputs": [],
   "source": []
  }
 ],
 "metadata": {
  "kernelspec": {
   "display_name": "Python 3 (ipykernel)",
   "language": "python",
   "name": "python3"
  },
  "language_info": {
   "codemirror_mode": {
    "name": "ipython",
    "version": 3
   },
   "file_extension": ".py",
   "mimetype": "text/x-python",
   "name": "python",
   "nbconvert_exporter": "python",
   "pygments_lexer": "ipython3",
   "version": "3.9.2"
  }
 },
 "nbformat": 4,
 "nbformat_minor": 5
}
