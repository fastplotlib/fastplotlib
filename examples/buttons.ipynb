{
 "cells": [
  {
   "cell_type": "code",
   "execution_count": 1,
   "id": "6725ce7d-eea7-44f7-bedc-813e8ce5bf4f",
   "metadata": {
    "tags": []
   },
   "outputs": [],
   "source": [
    "from fastplotlib import Plot, GridPlot, ImageWidget\n",
    "from ipywidgets import HBox, Checkbox, Image, VBox, Layout, ToggleButton, Button, Dropdown\n",
    "import numpy as np"
   ]
  },
  {
   "cell_type": "code",
   "execution_count": 2,
   "id": "33bf59c4-14e5-43a8-8a16-69b6859864c5",
   "metadata": {
    "tags": []
   },
   "outputs": [
    {
     "data": {
      "application/vnd.jupyter.widget-view+json": {
       "model_id": "5039947949ac4d5da76e561e082da8c2",
       "version_major": 2,
       "version_minor": 0
      },
      "text/plain": [
       "RFBOutputContext()"
      ]
     },
     "metadata": {},
     "output_type": "display_data"
    },
    {
     "name": "stderr",
     "output_type": "stream",
     "text": [
      "/home/clewis7/repos/fastplotlib/fastplotlib/graphics/features/_base.py:34: UserWarning: converting float64 array to float32\n",
      "  warn(f\"converting {array.dtype} array to float32\")\n"
     ]
    },
    {
     "data": {
      "text/plain": [
       "<weakproxy at 0x7ff6ca7af970 to LineGraphic at 0x7ff6ca7f0290>"
      ]
     },
     "execution_count": 2,
     "metadata": {},
     "output_type": "execute_result"
    }
   ],
   "source": [
    "plot = Plot()\n",
    "xs = np.linspace(-10, 10, 100)\n",
    "# sine wave\n",
    "ys = np.sin(xs)\n",
    "sine = np.dstack([xs, ys])[0]\n",
    "plot.add_line(sine)"
   ]
  },
  {
   "cell_type": "code",
   "execution_count": 3,
   "id": "68ea8011-d6fd-448f-9bf6-34073164d271",
   "metadata": {
    "tags": []
   },
   "outputs": [
    {
     "data": {
      "application/vnd.jupyter.widget-view+json": {
       "model_id": "5819995040a04300b5ccf10abac8b69e",
       "version_major": 2,
       "version_minor": 0
      },
      "text/plain": [
       "VBox(children=(JupyterWgpuCanvas(), HBox(children=(Button(icon='expand-arrows-alt', layout=Layout(width='auto'…"
      ]
     },
     "execution_count": 3,
     "metadata": {},
     "output_type": "execute_result"
    }
   ],
   "source": [
    "plot.show()"
   ]
  },
  {
   "cell_type": "code",
   "execution_count": 4,
   "id": "91a31531-818b-46a2-9587-5d9ef5b59b93",
   "metadata": {
    "tags": []
   },
   "outputs": [
    {
     "data": {
      "application/vnd.jupyter.widget-view+json": {
       "model_id": "2f318829d0a4419798a008c5fe2d6677",
       "version_major": 2,
       "version_minor": 0
      },
      "text/plain": [
       "RFBOutputContext()"
      ]
     },
     "metadata": {},
     "output_type": "display_data"
    }
   ],
   "source": [
    "gp = GridPlot(\n",
    "            shape=(1,2),\n",
    "            names=[['plot1', 'plot2']])"
   ]
  },
  {
   "cell_type": "code",
   "execution_count": 5,
   "id": "e96bbda7-3693-42f2-bd52-f668f39134f6",
   "metadata": {
    "tags": []
   },
   "outputs": [],
   "source": [
    "img = np.random.rand(512,512)\n",
    "for subplot in gp:\n",
    "    subplot.add_image(data=img)"
   ]
  },
  {
   "cell_type": "code",
   "execution_count": 6,
   "id": "03b877ba-cf9c-47d9-a0e5-b3e694274a28",
   "metadata": {
    "tags": []
   },
   "outputs": [
    {
     "data": {
      "application/vnd.jupyter.widget-view+json": {
       "model_id": "ff5064077bb944c6a5248f135f052668",
       "version_major": 2,
       "version_minor": 0
      },
      "text/plain": [
       "VBox(children=(JupyterWgpuCanvas(), HBox(children=(Button(icon='expand-arrows-alt', layout=Layout(width='auto'…"
      ]
     },
     "execution_count": 6,
     "metadata": {},
     "output_type": "execute_result"
    }
   ],
   "source": [
    "gp.show()"
   ]
  },
  {
   "cell_type": "code",
   "execution_count": 7,
   "id": "36f5e040-cc58-4b0a-beb1-1f66ea02ccb9",
   "metadata": {
    "tags": []
   },
   "outputs": [
    {
     "data": {
      "application/vnd.jupyter.widget-view+json": {
       "model_id": "f21de0c607b24fd281364a7bec8ad837",
       "version_major": 2,
       "version_minor": 0
      },
      "text/plain": [
       "RFBOutputContext()"
      ]
     },
     "metadata": {},
     "output_type": "display_data"
    }
   ],
   "source": [
    "gp2 = GridPlot(shape=(1,2))"
   ]
  },
  {
   "cell_type": "code",
   "execution_count": 8,
   "id": "c6753d45-a0ae-4c96-8ed5-7638c4cf24e3",
   "metadata": {
    "tags": []
   },
   "outputs": [],
   "source": [
    "for subplot in gp2:\n",
    "    subplot.add_image(data=img)"
   ]
  },
  {
   "cell_type": "code",
   "execution_count": 9,
   "id": "5a769c0f-6d95-4969-ad9d-24636fc74b18",
   "metadata": {
    "tags": []
   },
   "outputs": [
    {
     "data": {
      "application/vnd.jupyter.widget-view+json": {
       "model_id": "fcb816a9aaab42b3a7a7e443607ad127",
       "version_major": 2,
       "version_minor": 0
      },
      "text/plain": [
       "VBox(children=(JupyterWgpuCanvas(), HBox(children=(Button(icon='expand-arrows-alt', layout=Layout(width='auto'…"
      ]
     },
     "execution_count": 9,
     "metadata": {},
     "output_type": "execute_result"
    }
   ],
   "source": [
    "gp2.show()"
   ]
  },
  {
   "cell_type": "code",
   "execution_count": 2,
   "id": "3958829a-1a2b-4aa2-8c9d-408dce9ccf30",
   "metadata": {
    "tags": []
   },
   "outputs": [],
   "source": [
    "data = np.random.rand(500, 512, 512)"
   ]
  },
  {
   "cell_type": "code",
   "execution_count": 3,
   "id": "9f60c0b0-d0ee-4ea1-b961-708aff3b91ae",
   "metadata": {
    "tags": []
   },
   "outputs": [
    {
     "data": {
      "application/vnd.jupyter.widget-view+json": {
       "model_id": "433485ec12b44aa68082a93c264e613c",
       "version_major": 2,
       "version_minor": 0
      },
      "text/plain": [
       "RFBOutputContext()"
      ]
     },
     "metadata": {},
     "output_type": "display_data"
    },
    {
     "name": "stderr",
     "output_type": "stream",
     "text": [
      "/home/clewis7/repos/fastplotlib/fastplotlib/graphics/features/_base.py:34: UserWarning: converting float64 array to float32\n",
      "  warn(f\"converting {array.dtype} array to float32\")\n"
     ]
    }
   ],
   "source": [
    "iw = ImageWidget(data=data, vmin_vmax_sliders=True)"
   ]
  },
  {
   "cell_type": "code",
   "execution_count": 4,
   "id": "346f241c-4bd0-4f90-afd5-3fa617d96dad",
   "metadata": {
    "tags": []
   },
   "outputs": [
    {
     "data": {
      "application/vnd.jupyter.widget-view+json": {
       "model_id": "a1bdd59532f240948d33ae440d61c4a5",
       "version_major": 2,
       "version_minor": 0
      },
      "text/plain": [
       "VBox(children=(VBox(children=(JupyterWgpuCanvas(), HBox(children=(Button(icon='expand-arrows-alt', layout=Layo…"
      ]
     },
     "execution_count": 4,
     "metadata": {},
     "output_type": "execute_result"
    }
   ],
   "source": [
    "iw.show()"
   ]
  },
  {
   "cell_type": "code",
   "execution_count": 5,
   "id": "0563ddfb-8fd3-4a99-bcee-3a83ae5d0f32",
   "metadata": {
    "tags": []
   },
   "outputs": [
    {
     "data": {
      "application/vnd.jupyter.widget-view+json": {
       "model_id": "79e924078e7f4cf69be71eaf12a94854",
       "version_major": 2,
       "version_minor": 0
      },
      "text/plain": [
       "RFBOutputContext()"
      ]
     },
     "metadata": {},
     "output_type": "display_data"
    }
   ],
   "source": [
    "iw2 = ImageWidget(data=[data, data, data, data], grid_plot_kwargs={'controllers': np.array([[0, 1], [2, 3]])}, slider_dims=\"t\", vmin_vmax_sliders=True)"
   ]
  },
  {
   "cell_type": "code",
   "execution_count": 6,
   "id": "d7fb94f8-825f-4447-b161-c9dafa1a068a",
   "metadata": {
    "tags": []
   },
   "outputs": [
    {
     "data": {
      "application/vnd.jupyter.widget-view+json": {
       "model_id": "bb3b7dd92b4d4f74ace4adfbca35aaf3",
       "version_major": 2,
       "version_minor": 0
      },
      "text/plain": [
       "VBox(children=(VBox(children=(JupyterWgpuCanvas(), HBox(children=(Button(icon='expand-arrows-alt', layout=Layo…"
      ]
     },
     "execution_count": 6,
     "metadata": {},
     "output_type": "execute_result"
    }
   ],
   "source": [
    "iw2.show()"
   ]
  },
  {
   "cell_type": "code",
   "execution_count": null,
   "id": "3743219d-6702-468a-bea6-0e4c4549e9e4",
   "metadata": {},
   "outputs": [],
   "source": []
  },
  {
   "cell_type": "code",
   "execution_count": null,
   "id": "68bafb86-db5a-4681-8176-37ec72ce04a8",
   "metadata": {},
   "outputs": [],
   "source": []
  }
 ],
 "metadata": {
  "kernelspec": {
   "display_name": "Python 3 (ipykernel)",
   "language": "python",
   "name": "python3"
  },
  "language_info": {
   "codemirror_mode": {
    "name": "ipython",
    "version": 3
   },
   "file_extension": ".py",
   "mimetype": "text/x-python",
   "name": "python",
   "nbconvert_exporter": "python",
   "pygments_lexer": "ipython3",
   "version": "3.11.3"
  }
 },
 "nbformat": 4,
 "nbformat_minor": 5
}
