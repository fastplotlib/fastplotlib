{
 "cells": [
  {
   "cell_type": "code",
   "execution_count": 1,
   "id": "6725ce7d-eea7-44f7-bedc-813e8ce5bf4f",
   "metadata": {},
   "outputs": [],
   "source": [
    "from fastplotlib import Plot\n",
    "from ipywidgets import HBox, Checkbox, Image, VBox, Layout, ToggleButton, Button\n",
    "import numpy as np"
   ]
  },
  {
   "cell_type": "code",
   "execution_count": 2,
   "id": "6e893bc8-26e3-4ec4-968f-35f6f876ddfe",
   "metadata": {},
   "outputs": [],
   "source": [
    "# need to create some icons\n",
    "# put icons in an HBox\n",
    "tools = list()"
   ]
  },
  {
   "cell_type": "code",
   "execution_count": 3,
   "id": "8c519521-3409-45a8-89b8-b02baca20b24",
   "metadata": {},
   "outputs": [],
   "source": [
    "# auto scale tool button\n",
    "auto = Button(value=False, disabled=False, icon='expand-arrows-alt', layout=Layout(width='auto'))\n",
    "tools.append(auto)"
   ]
  },
  {
   "cell_type": "code",
   "execution_count": 4,
   "id": "e47e763a-7d90-4455-9d28-e93a8d3726f1",
   "metadata": {},
   "outputs": [],
   "source": [
    "# center scene tool button\n",
    "center = Button(value=False, disabled=False, icon='compress-arrows-alt', layout=Layout(width='auto'))\n",
    "tools.append(center)"
   ]
  },
  {
   "cell_type": "code",
   "execution_count": 5,
   "id": "253cd1ce-aab3-41a1-a86a-dd155e0cedfe",
   "metadata": {},
   "outputs": [],
   "source": [
    "# panzoom tool button\n",
    "panzoom = ToggleButton(value=False, disabled=False, icon='hand-pointer', layout=Layout(width='auto'))\n",
    "tools.append(panzoom)"
   ]
  },
  {
   "cell_type": "code",
   "execution_count": 6,
   "id": "9e05ed4a-3ce9-4c0f-a684-034a12a853d1",
   "metadata": {},
   "outputs": [],
   "source": [
    "# maintain aspect tool button\n",
    "m_aspect = ToggleButton(value=False, disabled=False, description=\"1:1\", layout=Layout(width='auto'))\n",
    "m_aspect.style.font_weight = \"bold\"\n",
    "tools.append(m_aspect)"
   ]
  },
  {
   "cell_type": "code",
   "execution_count": 7,
   "id": "4888dc48-f422-4c1e-97eb-cad4cc390b58",
   "metadata": {
    "tags": []
   },
   "outputs": [
    {
     "data": {
      "application/vnd.jupyter.widget-view+json": {
       "model_id": "5a28ab7e957a43409f0ca0863780a394",
       "version_major": 2,
       "version_minor": 0
      },
      "text/plain": [
       "HBox(children=(Button(icon='expand-arrows-alt', layout=Layout(width='auto'), style=ButtonStyle()), Button(icon…"
      ]
     },
     "execution_count": 7,
     "metadata": {},
     "output_type": "execute_result"
    }
   ],
   "source": [
    "HBox(tools)"
   ]
  },
  {
   "cell_type": "code",
   "execution_count": 2,
   "id": "33bf59c4-14e5-43a8-8a16-69b6859864c5",
   "metadata": {},
   "outputs": [
    {
     "data": {
      "application/vnd.jupyter.widget-view+json": {
       "model_id": "0472ef2ee6284842aca8df23f0f0048d",
       "version_major": 2,
       "version_minor": 0
      },
      "text/plain": [
       "RFBOutputContext()"
      ]
     },
     "metadata": {},
     "output_type": "display_data"
    },
    {
     "name": "stderr",
     "output_type": "stream",
     "text": [
      "/home/clewis7/repos/fastplotlib/fastplotlib/graphics/features/_base.py:33: UserWarning: converting float64 array to float32\n",
      "  warn(f\"converting {array.dtype} array to float32\")\n"
     ]
    },
    {
     "data": {
      "text/plain": [
       "<weakproxy at 0x7f687d9317c0 to ImageGraphic at 0x7f68a691b0d0>"
      ]
     },
     "execution_count": 2,
     "metadata": {},
     "output_type": "execute_result"
    }
   ],
   "source": [
    "plot = Plot()\n",
    "img = np.random.rand(512, 512)\n",
    "plot.add_image(img)"
   ]
  },
  {
   "cell_type": "code",
   "execution_count": 3,
   "id": "68ea8011-d6fd-448f-9bf6-34073164d271",
   "metadata": {},
   "outputs": [
    {
     "data": {
      "application/vnd.jupyter.widget-view+json": {
       "model_id": "585aa41941eb4c4e9f230e0a9ecebacf",
       "version_major": 2,
       "version_minor": 0
      },
      "text/plain": [
       "VBox(children=(JupyterWgpuCanvas(), HBox(children=(Button(icon='expand-arrows-alt', layout=Layout(width='auto'…"
      ]
     },
     "execution_count": 3,
     "metadata": {},
     "output_type": "execute_result"
    }
   ],
   "source": [
    "plot.show()"
   ]
  },
  {
   "cell_type": "code",
   "execution_count": 9,
   "id": "c02159c1-ddcf-4e2d-a0aa-67c73112777e",
   "metadata": {},
   "outputs": [
    {
     "data": {
      "application/vnd.jupyter.widget-view+json": {
       "model_id": "667f2e2de82b4f6abe7d9f2dbccb9e95",
       "version_major": 2,
       "version_minor": 0
      },
      "text/plain": [
       "VBox(children=(JupyterWgpuCanvas(), HBox(children=(Button(icon='expand-arrows-alt', layout=Layout(width='auto'…"
      ]
     },
     "execution_count": 9,
     "metadata": {},
     "output_type": "execute_result"
    }
   ],
   "source": [
    "VBox([plot.show(), HBox(tools)])"
   ]
  },
  {
   "cell_type": "code",
   "execution_count": 10,
   "id": "46b9b7af-a029-4c9b-a0d7-55614b618ea5",
   "metadata": {},
   "outputs": [],
   "source": [
    "def auto_scale(b):\n",
    "    if m_aspect.value: \n",
    "        plot.auto_scale(maintain_aspect=True)\n",
    "    else:\n",
    "        plot.auto_scale()\n",
    "def center_scene(b):\n",
    "    plot.center_scene()"
   ]
  },
  {
   "cell_type": "code",
   "execution_count": 11,
   "id": "f02c536f-32fa-484f-9a85-7549f83a63d9",
   "metadata": {},
   "outputs": [],
   "source": [
    "auto.on_click(auto_scale)\n",
    "center.on_click(center_scene)"
   ]
  },
  {
   "cell_type": "code",
   "execution_count": 12,
   "id": "2df49dec-e547-4912-886f-8828a70a96aa",
   "metadata": {},
   "outputs": [],
   "source": [
    "def panzoom_control(obj):\n",
    "    if panzoom.value:\n",
    "        # toggle pan zoom controller\n",
    "        plot.controller.enabled = False\n",
    "    else: \n",
    "        plot.controller.enabled = True"
   ]
  },
  {
   "cell_type": "code",
   "execution_count": 13,
   "id": "a4798429-0db2-48ea-ab2e-24e54fc35541",
   "metadata": {},
   "outputs": [],
   "source": [
    "panzoom.observe(panzoom_control, 'value')"
   ]
  },
  {
   "cell_type": "code",
   "execution_count": null,
   "id": "0bbb459c-cb49-448e-b0b8-c541e55da313",
   "metadata": {},
   "outputs": [],
   "source": []
  }
 ],
 "metadata": {
  "kernelspec": {
   "display_name": "Python 3 (ipykernel)",
   "language": "python",
   "name": "python3"
  },
  "language_info": {
   "codemirror_mode": {
    "name": "ipython",
    "version": 3
   },
   "file_extension": ".py",
   "mimetype": "text/x-python",
   "name": "python",
   "nbconvert_exporter": "python",
   "pygments_lexer": "ipython3",
   "version": "3.9.2"
  }
 },
 "nbformat": 4,
 "nbformat_minor": 5
}
