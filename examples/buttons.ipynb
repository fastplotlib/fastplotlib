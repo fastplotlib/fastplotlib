{
 "cells": [
  {
   "cell_type": "code",
   "execution_count": 1,
   "id": "6725ce7d-eea7-44f7-bedc-813e8ce5bf4f",
   "metadata": {},
   "outputs": [],
   "source": [
    "from fastplotlib import Plot\n",
    "from ipywidgets import HBox, Checkbox, Image, VBox, Layout"
   ]
  },
  {
   "cell_type": "code",
   "execution_count": 2,
   "id": "6e893bc8-26e3-4ec4-968f-35f6f876ddfe",
   "metadata": {},
   "outputs": [],
   "source": [
    "# need to create some icons\n",
    "# put icons in an HBox\n",
    "tools = list()"
   ]
  },
  {
   "cell_type": "code",
   "execution_count": 3,
   "id": "7415ec97-ee57-4061-8906-e6bf8a6b91b7",
   "metadata": {},
   "outputs": [],
   "source": [
    "# auto scale tool button\n",
    "img = open(\"/home/clewis7/Desktop/autoscale.png\", \"rb\")\n",
    "image = img.read()\n",
    "auto = Image(value=image, format='png', width=50, height=50)\n",
    "tools.append(auto)"
   ]
  },
  {
   "cell_type": "code",
   "execution_count": 4,
   "id": "2ce8ff08-217c-4d1f-8e41-f64ebc8057e9",
   "metadata": {},
   "outputs": [],
   "source": [
    "# center scene tool button\n",
    "img = open(\"/home/clewis7/Desktop/center.png\", \"rb\")\n",
    "image = img.read()\n",
    "center = Image(value=image, format='png', width=50, height=50)\n",
    "tools.append(center)"
   ]
  },
  {
   "cell_type": "code",
   "execution_count": 5,
   "id": "648c1242-b472-4269-b67d-85d114199cd4",
   "metadata": {},
   "outputs": [],
   "source": [
    "img = open(\"/home/clewis7/Desktop/panzoom.png\", \"rb\")\n",
    "image = img.read()\n",
    "panzoom = Image(value=image, format='png', width=50, height=50)\n",
    "tools.append(panzoom)"
   ]
  },
  {
   "cell_type": "code",
   "execution_count": 6,
   "id": "9e05ed4a-3ce9-4c0f-a684-034a12a853d1",
   "metadata": {},
   "outputs": [],
   "source": [
    "# maintain aspect tool button\n",
    "m_aspect = Checkbox(value=False, description=\"maintain aspect\", indent=False)\n",
    "tools.append(m_aspect)"
   ]
  },
  {
   "cell_type": "code",
   "execution_count": 7,
   "id": "4888dc48-f422-4c1e-97eb-cad4cc390b58",
   "metadata": {
    "tags": []
   },
   "outputs": [
    {
     "data": {
      "application/vnd.jupyter.widget-view+json": {
       "model_id": "acb3f6627dba429781ed3b0204033f37",
       "version_major": 2,
       "version_minor": 0
      },
      "text/plain": [
       "HBox(children=(Image(value=b'\\x89PNG\\r\\n\\x1a\\n\\x00\\x00\\x00\\rIHDR\\x00\\x00\\x02\\xbc\\x00\\x00\\x02\\xbc\\x08\\x06\\x00\\x…"
      ]
     },
     "execution_count": 7,
     "metadata": {},
     "output_type": "execute_result"
    }
   ],
   "source": [
    "HBox(tools)"
   ]
  },
  {
   "cell_type": "code",
   "execution_count": 8,
   "id": "33bf59c4-14e5-43a8-8a16-69b6859864c5",
   "metadata": {},
   "outputs": [
    {
     "data": {
      "application/vnd.jupyter.widget-view+json": {
       "model_id": "e30cabb3660c43b8bd402620a3179ccc",
       "version_major": 2,
       "version_minor": 0
      },
      "text/plain": [
       "RFBOutputContext()"
      ]
     },
     "metadata": {},
     "output_type": "display_data"
    }
   ],
   "source": [
    "plot = Plot()"
   ]
  },
  {
   "cell_type": "code",
   "execution_count": 9,
   "id": "c02159c1-ddcf-4e2d-a0aa-67c73112777e",
   "metadata": {},
   "outputs": [
    {
     "data": {
      "application/vnd.jupyter.widget-view+json": {
       "model_id": "ea23c58912594fb5bfe0376c33223c8d",
       "version_major": 2,
       "version_minor": 0
      },
      "text/plain": [
       "VBox(children=(JupyterWgpuCanvas(), HBox(children=(Image(value=b'\\x89PNG\\r\\n\\x1a\\n\\x00\\x00\\x00\\rIHDR\\x00\\x00\\x…"
      ]
     },
     "execution_count": 9,
     "metadata": {},
     "output_type": "execute_result"
    }
   ],
   "source": [
    "VBox([plot.show(), HBox(tools)])"
   ]
  },
  {
   "cell_type": "code",
   "execution_count": null,
   "id": "46b9b7af-a029-4c9b-a0d7-55614b618ea5",
   "metadata": {},
   "outputs": [],
   "source": []
  }
 ],
 "metadata": {
  "kernelspec": {
   "display_name": "Python 3 (ipykernel)",
   "language": "python",
   "name": "python3"
  },
  "language_info": {
   "codemirror_mode": {
    "name": "ipython",
    "version": 3
   },
   "file_extension": ".py",
   "mimetype": "text/x-python",
   "name": "python",
   "nbconvert_exporter": "python",
   "pygments_lexer": "ipython3",
   "version": "3.9.2"
  }
 },
 "nbformat": 4,
 "nbformat_minor": 5
}
