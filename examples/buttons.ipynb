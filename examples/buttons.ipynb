{
 "cells": [
  {
   "cell_type": "code",
   "execution_count": 1,
   "id": "6725ce7d-eea7-44f7-bedc-813e8ce5bf4f",
   "metadata": {},
   "outputs": [],
   "source": [
    "from fastplotlib import Plot\n",
    "from ipywidgets import HBox, Checkbox, Image, VBox, Layout, ToggleButton, Button\n",
    "import numpy as np"
   ]
  },
  {
   "cell_type": "code",
   "execution_count": 2,
   "id": "33bf59c4-14e5-43a8-8a16-69b6859864c5",
   "metadata": {},
   "outputs": [
    {
     "data": {
      "application/vnd.jupyter.widget-view+json": {
       "model_id": "1c3e43293aca45a19d365903625b1c46",
       "version_major": 2,
       "version_minor": 0
      },
      "text/plain": [
       "RFBOutputContext()"
      ]
     },
     "metadata": {},
     "output_type": "display_data"
    },
    {
     "name": "stderr",
     "output_type": "stream",
     "text": [
      "/home/clewis7/repos/fastplotlib/fastplotlib/graphics/features/_base.py:34: UserWarning: converting float64 array to float32\n",
      "  warn(f\"converting {array.dtype} array to float32\")\n"
     ]
    },
    {
     "data": {
      "text/plain": [
       "<weakproxy at 0x7fdab55af790 to LineGraphic at 0x7fdaea470cd0>"
      ]
     },
     "execution_count": 2,
     "metadata": {},
     "output_type": "execute_result"
    }
   ],
   "source": [
    "plot = Plot()\n",
    "xs = np.linspace(-10, 10, 100)\n",
    "# sine wave\n",
    "ys = np.sin(xs)\n",
    "sine = np.dstack([xs, ys])[0]\n",
    "plot.add_line(sine)"
   ]
  },
  {
   "cell_type": "code",
   "execution_count": 3,
   "id": "68ea8011-d6fd-448f-9bf6-34073164d271",
   "metadata": {},
   "outputs": [
    {
     "data": {
      "application/vnd.jupyter.widget-view+json": {
       "model_id": "cb10c2023f584bacabc6ee5fbb897006",
       "version_major": 2,
       "version_minor": 0
      },
      "text/plain": [
       "VBox(children=(JupyterWgpuCanvas(), HBox(children=(Button(icon='expand-arrows-alt', layout=Layout(width='auto'…"
      ]
     },
     "execution_count": 3,
     "metadata": {},
     "output_type": "execute_result"
    }
   ],
   "source": [
    "plot.show()"
   ]
  },
  {
   "cell_type": "code",
   "execution_count": 4,
   "id": "0bbb459c-cb49-448e-b0b8-c541e55da313",
   "metadata": {},
   "outputs": [],
   "source": [
    "from fastplotlib import GridPlot\n",
    "from ipywidgets import Dropdown"
   ]
  },
  {
   "cell_type": "code",
   "execution_count": 5,
   "id": "91a31531-818b-46a2-9587-5d9ef5b59b93",
   "metadata": {},
   "outputs": [
    {
     "data": {
      "application/vnd.jupyter.widget-view+json": {
       "model_id": "5fe57d44e1f648b2a52be84a24b89c1d",
       "version_major": 2,
       "version_minor": 0
      },
      "text/plain": [
       "RFBOutputContext()"
      ]
     },
     "metadata": {},
     "output_type": "display_data"
    }
   ],
   "source": [
    "gp = GridPlot(\n",
    "            shape=(1,2),\n",
    "            names=[['plot1', 'plot2']])"
   ]
  },
  {
   "cell_type": "code",
   "execution_count": 6,
   "id": "e96bbda7-3693-42f2-bd52-f668f39134f6",
   "metadata": {},
   "outputs": [],
   "source": [
    "img = np.random.rand(512,512)\n",
    "for subplot in gp:\n",
    "    subplot.add_image(data=img)"
   ]
  },
  {
   "cell_type": "code",
   "execution_count": 7,
   "id": "03b877ba-cf9c-47d9-a0e5-b3e694274a28",
   "metadata": {},
   "outputs": [
    {
     "data": {
      "application/vnd.jupyter.widget-view+json": {
       "model_id": "c78082de5ce146e1a134bd307fbed39e",
       "version_major": 2,
       "version_minor": 0
      },
      "text/plain": [
       "VBox(children=(JupyterWgpuCanvas(), HBox(children=(Button(icon='expand-arrows-alt', layout=Layout(width='auto'…"
      ]
     },
     "execution_count": 7,
     "metadata": {},
     "output_type": "execute_result"
    }
   ],
   "source": [
    "gp.show()"
   ]
  },
  {
   "cell_type": "code",
   "execution_count": 9,
   "id": "afc0cd52-fb24-4561-9876-50fbdf784502",
   "metadata": {},
   "outputs": [
    {
     "data": {
      "text/plain": [
       "(0, 1)"
      ]
     },
     "execution_count": 9,
     "metadata": {},
     "output_type": "execute_result"
    }
   ],
   "source": [
    "gp[0,1].position"
   ]
  },
  {
   "cell_type": "code",
   "execution_count": 8,
   "id": "36f5e040-cc58-4b0a-beb1-1f66ea02ccb9",
   "metadata": {},
   "outputs": [
    {
     "data": {
      "application/vnd.jupyter.widget-view+json": {
       "model_id": "f902391ceb614f2a812725371184ce81",
       "version_major": 2,
       "version_minor": 0
      },
      "text/plain": [
       "RFBOutputContext()"
      ]
     },
     "metadata": {},
     "output_type": "display_data"
    }
   ],
   "source": [
    "gp2 = GridPlot(shape=(1,2))"
   ]
  },
  {
   "cell_type": "code",
   "execution_count": 9,
   "id": "c6753d45-a0ae-4c96-8ed5-7638c4cf24e3",
   "metadata": {},
   "outputs": [],
   "source": [
    "for subplot in gp2:\n",
    "    subplot.add_image(data=img)"
   ]
  },
  {
   "cell_type": "code",
   "execution_count": 10,
   "id": "5a769c0f-6d95-4969-ad9d-24636fc74b18",
   "metadata": {},
   "outputs": [
    {
     "data": {
      "application/vnd.jupyter.widget-view+json": {
       "model_id": "65a2a30036f44e22a479c6edd215e25a",
       "version_major": 2,
       "version_minor": 0
      },
      "text/plain": [
       "VBox(children=(JupyterWgpuCanvas(), HBox(children=(Button(icon='expand-arrows-alt', layout=Layout(width='auto'…"
      ]
     },
     "execution_count": 10,
     "metadata": {},
     "output_type": "execute_result"
    }
   ],
   "source": [
    "gp2.show()"
   ]
  },
  {
   "cell_type": "code",
   "execution_count": 2,
   "id": "cd3e7b3c-f4d2-44c7-931c-d172c7bdad36",
   "metadata": {},
   "outputs": [],
   "source": [
    "from fastplotlib import ImageWidget"
   ]
  },
  {
   "cell_type": "code",
   "execution_count": 3,
   "id": "3958829a-1a2b-4aa2-8c9d-408dce9ccf30",
   "metadata": {},
   "outputs": [],
   "source": [
    "data = np.random.rand(500, 512, 512)"
   ]
  },
  {
   "cell_type": "code",
   "execution_count": 4,
   "id": "9f60c0b0-d0ee-4ea1-b961-708aff3b91ae",
   "metadata": {},
   "outputs": [
    {
     "data": {
      "application/vnd.jupyter.widget-view+json": {
       "model_id": "6484ffac490544bf8ba3c9d513df8420",
       "version_major": 2,
       "version_minor": 0
      },
      "text/plain": [
       "RFBOutputContext()"
      ]
     },
     "metadata": {},
     "output_type": "display_data"
    },
    {
     "name": "stderr",
     "output_type": "stream",
     "text": [
      "/home/clewis7/repos/fastplotlib/fastplotlib/graphics/features/_base.py:34: UserWarning: converting float64 array to float32\n",
      "  warn(f\"converting {array.dtype} array to float32\")\n"
     ]
    }
   ],
   "source": [
    "iw = ImageWidget(data=data)"
   ]
  },
  {
   "cell_type": "code",
   "execution_count": 5,
   "id": "346f241c-4bd0-4f90-afd5-3fa617d96dad",
   "metadata": {},
   "outputs": [
    {
     "data": {
      "application/vnd.jupyter.widget-view+json": {
       "model_id": "220eac76dbf94c498b817e3b063424c0",
       "version_major": 2,
       "version_minor": 0
      },
      "text/plain": [
       "VBox(children=(JupyterWgpuCanvas(), HBox(children=(Button(icon='expand-arrows-alt', layout=Layout(width='auto'…"
      ]
     },
     "execution_count": 5,
     "metadata": {},
     "output_type": "execute_result"
    }
   ],
   "source": [
    "iw.show()"
   ]
  },
  {
   "cell_type": "code",
   "execution_count": 13,
   "id": "39730ff4-ca81-48f9-ad1e-d7b5face5155",
   "metadata": {},
   "outputs": [
    {
     "data": {
      "text/plain": [
       "fastplotlib.plot.Plot"
      ]
     },
     "execution_count": 13,
     "metadata": {},
     "output_type": "execute_result"
    }
   ],
   "source": [
    "type(iw.plot)"
   ]
  },
  {
   "cell_type": "code",
   "execution_count": 24,
   "id": "16b8709b-a6e9-460e-9dea-96a78eb9f88d",
   "metadata": {},
   "outputs": [
    {
     "data": {
      "text/plain": [
       "0"
      ]
     },
     "execution_count": 24,
     "metadata": {},
     "output_type": "execute_result"
    }
   ],
   "source": [
    "iw.sliders[\"t\"].min"
   ]
  },
  {
   "cell_type": "code",
   "execution_count": 28,
   "id": "c8b2fd80-e016-4816-933a-203d0cf63d79",
   "metadata": {},
   "outputs": [],
   "source": [
    "from ipywidgets import Play, jslink"
   ]
  },
  {
   "cell_type": "code",
   "execution_count": 26,
   "id": "7bf4c61d-68c6-4918-9e52-ced7946c28e9",
   "metadata": {},
   "outputs": [],
   "source": [
    "play = Play(\n",
    "    value=0,\n",
    "    min=iw.sliders[\"t\"].min,\n",
    "    max=iw.sliders[\"t\"].max,\n",
    "    step=iw.sliders[\"t\"].step,\n",
    "    description=\"play/pause\",\n",
    "    disabled=False\n",
    ")"
   ]
  },
  {
   "cell_type": "code",
   "execution_count": 31,
   "id": "52ea01a6-6d91-4e18-a4de-e061c7b47405",
   "metadata": {},
   "outputs": [
    {
     "data": {
      "application/vnd.jupyter.widget-view+json": {
       "model_id": "a99f8bbf7da04b2bb57a95bcab25eed9",
       "version_major": 2,
       "version_minor": 0
      },
      "text/plain": [
       "Play(value=0, description='play/pause', max=499)"
      ]
     },
     "execution_count": 31,
     "metadata": {},
     "output_type": "execute_result"
    }
   ],
   "source": [
    "play"
   ]
  },
  {
   "cell_type": "code",
   "execution_count": 30,
   "id": "6c4df8d7-6170-4204-940b-21522aee06ec",
   "metadata": {},
   "outputs": [
    {
     "data": {
      "text/plain": [
       "Link(source=(Play(value=0, description='play/pause', max=499), 'value'), target=(IntSlider(value=0, description='dimension: t', layout=Layout(width='500px'), max=499), 'value'))"
      ]
     },
     "execution_count": 30,
     "metadata": {},
     "output_type": "execute_result"
    }
   ],
   "source": [
    "jslink((play, 'value'), (iw.sliders[\"t\"], 'value'))"
   ]
  },
  {
   "cell_type": "code",
   "execution_count": 14,
   "id": "4786d8e4-c49b-4ab0-a6c7-ed8fa348b605",
   "metadata": {},
   "outputs": [],
   "source": [
    "autoscale_button = Button(value=False, disabled=False, icon='expand-arrows-alt',\n",
    "                                       layout=Layout(width='auto'), tooltip='auto-scale scene')"
   ]
  },
  {
   "cell_type": "code",
   "execution_count": 15,
   "id": "8a5a4a70-f017-483b-9e53-2122e5cac477",
   "metadata": {},
   "outputs": [
    {
     "data": {
      "application/vnd.jupyter.widget-view+json": {
       "model_id": "774a7ebf34d84d0387d097fb466782bc",
       "version_major": 2,
       "version_minor": 0
      },
      "text/plain": [
       "Button(icon='expand-arrows-alt', layout=Layout(width='auto'), style=ButtonStyle(), tooltip='auto-scale scene')"
      ]
     },
     "execution_count": 15,
     "metadata": {},
     "output_type": "execute_result"
    }
   ],
   "source": [
    "autoscale_button"
   ]
  },
  {
   "cell_type": "code",
   "execution_count": 16,
   "id": "ffc43cfe-aef9-4383-a6ca-0022038c4879",
   "metadata": {},
   "outputs": [],
   "source": [
    "autoscale_button.icon = 'play'"
   ]
  },
  {
   "cell_type": "code",
   "execution_count": null,
   "id": "0563ddfb-8fd3-4a99-bcee-3a83ae5d0f32",
   "metadata": {},
   "outputs": [],
   "source": []
  }
 ],
 "metadata": {
  "kernelspec": {
   "display_name": "Python 3 (ipykernel)",
   "language": "python",
   "name": "python3"
  },
  "language_info": {
   "codemirror_mode": {
    "name": "ipython",
    "version": 3
   },
   "file_extension": ".py",
   "mimetype": "text/x-python",
   "name": "python",
   "nbconvert_exporter": "python",
   "pygments_lexer": "ipython3",
   "version": "3.11.3"
  }
 },
 "nbformat": 4,
 "nbformat_minor": 5
}
