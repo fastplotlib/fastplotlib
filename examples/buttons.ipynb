{
 "cells": [
  {
   "cell_type": "code",
   "execution_count": 1,
   "id": "6725ce7d-eea7-44f7-bedc-813e8ce5bf4f",
   "metadata": {},
   "outputs": [],
   "source": [
    "from fastplotlib import Plot, GridPlot, ImageWidget\n",
    "from ipywidgets import HBox, Checkbox, Image, VBox, Layout, ToggleButton, Button, Dropdown\n",
    "import numpy as np"
   ]
  },
  {
   "cell_type": "code",
   "execution_count": 2,
   "id": "33bf59c4-14e5-43a8-8a16-69b6859864c5",
   "metadata": {},
   "outputs": [
    {
     "data": {
      "application/vnd.jupyter.widget-view+json": {
       "model_id": "1c3e43293aca45a19d365903625b1c46",
       "version_major": 2,
       "version_minor": 0
      },
      "text/plain": [
       "RFBOutputContext()"
      ]
     },
     "metadata": {},
     "output_type": "display_data"
    },
    {
     "name": "stderr",
     "output_type": "stream",
     "text": [
      "/home/clewis7/repos/fastplotlib/fastplotlib/graphics/features/_base.py:34: UserWarning: converting float64 array to float32\n",
      "  warn(f\"converting {array.dtype} array to float32\")\n"
     ]
    },
    {
     "data": {
      "text/plain": [
       "<weakproxy at 0x7fdab55af790 to LineGraphic at 0x7fdaea470cd0>"
      ]
     },
     "execution_count": 2,
     "metadata": {},
     "output_type": "execute_result"
    }
   ],
   "source": [
    "plot = Plot()\n",
    "xs = np.linspace(-10, 10, 100)\n",
    "# sine wave\n",
    "ys = np.sin(xs)\n",
    "sine = np.dstack([xs, ys])[0]\n",
    "plot.add_line(sine)"
   ]
  },
  {
   "cell_type": "code",
   "execution_count": 3,
   "id": "68ea8011-d6fd-448f-9bf6-34073164d271",
   "metadata": {},
   "outputs": [
    {
     "data": {
      "application/vnd.jupyter.widget-view+json": {
       "model_id": "cb10c2023f584bacabc6ee5fbb897006",
       "version_major": 2,
       "version_minor": 0
      },
      "text/plain": [
       "VBox(children=(JupyterWgpuCanvas(), HBox(children=(Button(icon='expand-arrows-alt', layout=Layout(width='auto'…"
      ]
     },
     "execution_count": 3,
     "metadata": {},
     "output_type": "execute_result"
    }
   ],
   "source": [
    "plot.show()"
   ]
  },
  {
   "cell_type": "code",
   "execution_count": 5,
   "id": "91a31531-818b-46a2-9587-5d9ef5b59b93",
   "metadata": {},
   "outputs": [
    {
     "data": {
      "application/vnd.jupyter.widget-view+json": {
       "model_id": "5fe57d44e1f648b2a52be84a24b89c1d",
       "version_major": 2,
       "version_minor": 0
      },
      "text/plain": [
       "RFBOutputContext()"
      ]
     },
     "metadata": {},
     "output_type": "display_data"
    }
   ],
   "source": [
    "gp = GridPlot(\n",
    "            shape=(1,2),\n",
    "            names=[['plot1', 'plot2']])"
   ]
  },
  {
   "cell_type": "code",
   "execution_count": 6,
   "id": "e96bbda7-3693-42f2-bd52-f668f39134f6",
   "metadata": {},
   "outputs": [],
   "source": [
    "img = np.random.rand(512,512)\n",
    "for subplot in gp:\n",
    "    subplot.add_image(data=img)"
   ]
  },
  {
   "cell_type": "code",
   "execution_count": 7,
   "id": "03b877ba-cf9c-47d9-a0e5-b3e694274a28",
   "metadata": {},
   "outputs": [
    {
     "data": {
      "application/vnd.jupyter.widget-view+json": {
       "model_id": "c78082de5ce146e1a134bd307fbed39e",
       "version_major": 2,
       "version_minor": 0
      },
      "text/plain": [
       "VBox(children=(JupyterWgpuCanvas(), HBox(children=(Button(icon='expand-arrows-alt', layout=Layout(width='auto'…"
      ]
     },
     "execution_count": 7,
     "metadata": {},
     "output_type": "execute_result"
    }
   ],
   "source": [
    "gp.show()"
   ]
  },
  {
   "cell_type": "code",
   "execution_count": 9,
   "id": "afc0cd52-fb24-4561-9876-50fbdf784502",
   "metadata": {},
   "outputs": [
    {
     "data": {
      "text/plain": [
       "(0, 1)"
      ]
     },
     "execution_count": 9,
     "metadata": {},
     "output_type": "execute_result"
    }
   ],
   "source": [
    "gp[0,1].position"
   ]
  },
  {
   "cell_type": "code",
   "execution_count": 8,
   "id": "36f5e040-cc58-4b0a-beb1-1f66ea02ccb9",
   "metadata": {},
   "outputs": [
    {
     "data": {
      "application/vnd.jupyter.widget-view+json": {
       "model_id": "f902391ceb614f2a812725371184ce81",
       "version_major": 2,
       "version_minor": 0
      },
      "text/plain": [
       "RFBOutputContext()"
      ]
     },
     "metadata": {},
     "output_type": "display_data"
    }
   ],
   "source": [
    "gp2 = GridPlot(shape=(1,2))"
   ]
  },
  {
   "cell_type": "code",
   "execution_count": 9,
   "id": "c6753d45-a0ae-4c96-8ed5-7638c4cf24e3",
   "metadata": {},
   "outputs": [],
   "source": [
    "for subplot in gp2:\n",
    "    subplot.add_image(data=img)"
   ]
  },
  {
   "cell_type": "code",
   "execution_count": 10,
   "id": "5a769c0f-6d95-4969-ad9d-24636fc74b18",
   "metadata": {},
   "outputs": [
    {
     "data": {
      "application/vnd.jupyter.widget-view+json": {
       "model_id": "65a2a30036f44e22a479c6edd215e25a",
       "version_major": 2,
       "version_minor": 0
      },
      "text/plain": [
       "VBox(children=(JupyterWgpuCanvas(), HBox(children=(Button(icon='expand-arrows-alt', layout=Layout(width='auto'…"
      ]
     },
     "execution_count": 10,
     "metadata": {},
     "output_type": "execute_result"
    }
   ],
   "source": [
    "gp2.show()"
   ]
  },
  {
   "cell_type": "code",
   "execution_count": 3,
   "id": "3958829a-1a2b-4aa2-8c9d-408dce9ccf30",
   "metadata": {},
   "outputs": [],
   "source": [
    "data = np.random.rand(500, 512, 512)"
   ]
  },
  {
   "cell_type": "code",
   "execution_count": 4,
   "id": "9f60c0b0-d0ee-4ea1-b961-708aff3b91ae",
   "metadata": {},
   "outputs": [
    {
     "data": {
      "application/vnd.jupyter.widget-view+json": {
       "model_id": "449ab6a6c0b0461eb688055d0fe4826a",
       "version_major": 2,
       "version_minor": 0
      },
      "text/plain": [
       "RFBOutputContext()"
      ]
     },
     "metadata": {},
     "output_type": "display_data"
    },
    {
     "name": "stderr",
     "output_type": "stream",
     "text": [
      "/home/clewis7/repos/fastplotlib/fastplotlib/graphics/features/_base.py:34: UserWarning: converting float64 array to float32\n",
      "  warn(f\"converting {array.dtype} array to float32\")\n"
     ]
    }
   ],
   "source": [
    "iw = ImageWidget(data=data)"
   ]
  },
  {
   "cell_type": "code",
   "execution_count": 5,
   "id": "346f241c-4bd0-4f90-afd5-3fa617d96dad",
   "metadata": {},
   "outputs": [
    {
     "data": {
      "application/vnd.jupyter.widget-view+json": {
       "model_id": "6289b56a99d044818516f0ced6e74724",
       "version_major": 2,
       "version_minor": 0
      },
      "text/plain": [
       "VBox(children=(JupyterWgpuCanvas(), HBox(children=(Button(icon='expand-arrows-alt', layout=Layout(width='auto'…"
      ]
     },
     "execution_count": 5,
     "metadata": {},
     "output_type": "execute_result"
    }
   ],
   "source": [
    "iw.show()"
   ]
  },
  {
   "cell_type": "code",
   "execution_count": 9,
   "id": "0563ddfb-8fd3-4a99-bcee-3a83ae5d0f32",
   "metadata": {},
   "outputs": [
    {
     "ename": "TypeError",
     "evalue": "must pass list or numpy array",
     "output_type": "error",
     "traceback": [
      "\u001b[0;31m---------------------------------------------------------------------------\u001b[0m",
      "\u001b[0;31mTypeError\u001b[0m                                 Traceback (most recent call last)",
      "Cell \u001b[0;32mIn[9], line 1\u001b[0m\n\u001b[0;32m----> 1\u001b[0m iw2 \u001b[38;5;241m=\u001b[39m \u001b[43mImageWidget\u001b[49m\u001b[43m(\u001b[49m\u001b[43mdata\u001b[49m\u001b[38;5;241;43m=\u001b[39;49m\u001b[43m[\u001b[49m\u001b[43mdata\u001b[49m\u001b[43m,\u001b[49m\u001b[43m \u001b[49m\u001b[43mdata\u001b[49m\u001b[43m,\u001b[49m\u001b[43m \u001b[49m\u001b[43mdata\u001b[49m\u001b[43m,\u001b[49m\u001b[43m \u001b[49m\u001b[43mdata\u001b[49m\u001b[43m]\u001b[49m\u001b[43m,\u001b[49m\u001b[43m \u001b[49m\u001b[43mgrid_plot_kwargs\u001b[49m\u001b[38;5;241;43m=\u001b[39;49m\u001b[43m{\u001b[49m\u001b[38;5;124;43m'\u001b[39;49m\u001b[38;5;124;43mcontrollers\u001b[39;49m\u001b[38;5;124;43m'\u001b[39;49m\u001b[43m:\u001b[49m\u001b[43m \u001b[49m\u001b[38;5;124;43m\"\u001b[39;49m\u001b[38;5;124;43mNone\u001b[39;49m\u001b[38;5;124;43m\"\u001b[39;49m\u001b[43m}\u001b[49m\u001b[43m,\u001b[49m\u001b[43m \u001b[49m\u001b[43mslider_dims\u001b[49m\u001b[38;5;241;43m=\u001b[39;49m\u001b[38;5;124;43m\"\u001b[39;49m\u001b[38;5;124;43mt\u001b[39;49m\u001b[38;5;124;43m\"\u001b[39;49m\u001b[43m)\u001b[49m\n",
      "File \u001b[0;32m~/repos/fastplotlib/fastplotlib/widgets/image.py:518\u001b[0m, in \u001b[0;36mImageWidget.__init__\u001b[0;34m(self, data, dims_order, slider_dims, window_funcs, frame_apply, vmin_vmax_sliders, grid_shape, names, grid_plot_kwargs, **kwargs)\u001b[0m\n\u001b[1;32m    515\u001b[0m \u001b[38;5;28;01mif\u001b[39;00m grid_plot_kwargs \u001b[38;5;129;01mis\u001b[39;00m \u001b[38;5;28;01mNone\u001b[39;00m:\n\u001b[1;32m    516\u001b[0m     grid_plot_kwargs \u001b[38;5;241m=\u001b[39m {\u001b[38;5;124m\"\u001b[39m\u001b[38;5;124mcontrollers\u001b[39m\u001b[38;5;124m\"\u001b[39m: \u001b[38;5;124m\"\u001b[39m\u001b[38;5;124msync\u001b[39m\u001b[38;5;124m\"\u001b[39m}\n\u001b[0;32m--> 518\u001b[0m \u001b[38;5;28mself\u001b[39m\u001b[38;5;241m.\u001b[39m_plot: GridPlot \u001b[38;5;241m=\u001b[39m \u001b[43mGridPlot\u001b[49m\u001b[43m(\u001b[49m\u001b[43mshape\u001b[49m\u001b[38;5;241;43m=\u001b[39;49m\u001b[43mgrid_shape\u001b[49m\u001b[43m,\u001b[49m\u001b[43m \u001b[49m\u001b[38;5;241;43m*\u001b[39;49m\u001b[38;5;241;43m*\u001b[39;49m\u001b[43mgrid_plot_kwargs\u001b[49m\u001b[43m)\u001b[49m\n\u001b[1;32m    520\u001b[0m \u001b[38;5;28mself\u001b[39m\u001b[38;5;241m.\u001b[39mimage_graphics \u001b[38;5;241m=\u001b[39m \u001b[38;5;28mlist\u001b[39m()\n\u001b[1;32m    521\u001b[0m \u001b[38;5;28;01mfor\u001b[39;00m data_ix, (d, subplot) \u001b[38;5;129;01min\u001b[39;00m \u001b[38;5;28menumerate\u001b[39m(\u001b[38;5;28mzip\u001b[39m(\u001b[38;5;28mself\u001b[39m\u001b[38;5;241m.\u001b[39mdata, \u001b[38;5;28mself\u001b[39m\u001b[38;5;241m.\u001b[39mplot)):\n",
      "File \u001b[0;32m~/repos/fastplotlib/fastplotlib/layouts/_gridplot.py:91\u001b[0m, in \u001b[0;36mGridPlot.__init__\u001b[0;34m(self, shape, cameras, controllers, canvas, renderer, size, **kwargs)\u001b[0m\n\u001b[1;32m     88\u001b[0m \u001b[38;5;28;01mif\u001b[39;00m controllers \u001b[38;5;129;01mis\u001b[39;00m \u001b[38;5;28;01mNone\u001b[39;00m:\n\u001b[1;32m     89\u001b[0m     controllers \u001b[38;5;241m=\u001b[39m np\u001b[38;5;241m.\u001b[39marange(\u001b[38;5;28mself\u001b[39m\u001b[38;5;241m.\u001b[39mshape[\u001b[38;5;241m0\u001b[39m] \u001b[38;5;241m*\u001b[39m \u001b[38;5;28mself\u001b[39m\u001b[38;5;241m.\u001b[39mshape[\u001b[38;5;241m1\u001b[39m])\u001b[38;5;241m.\u001b[39mreshape(\u001b[38;5;28mself\u001b[39m\u001b[38;5;241m.\u001b[39mshape)\n\u001b[0;32m---> 91\u001b[0m controllers \u001b[38;5;241m=\u001b[39m \u001b[43mto_array\u001b[49m\u001b[43m(\u001b[49m\u001b[43mcontrollers\u001b[49m\u001b[43m)\u001b[49m\n\u001b[1;32m     93\u001b[0m \u001b[38;5;28;01mif\u001b[39;00m controllers\u001b[38;5;241m.\u001b[39mshape \u001b[38;5;241m!=\u001b[39m \u001b[38;5;28mself\u001b[39m\u001b[38;5;241m.\u001b[39mshape:\n\u001b[1;32m     94\u001b[0m     \u001b[38;5;28;01mraise\u001b[39;00m \u001b[38;5;167;01mValueError\u001b[39;00m\n",
      "File \u001b[0;32m~/repos/fastplotlib/fastplotlib/layouts/_gridplot.py:22\u001b[0m, in \u001b[0;36mto_array\u001b[0;34m(a)\u001b[0m\n\u001b[1;32m     19\u001b[0m     \u001b[38;5;28;01mreturn\u001b[39;00m a\n\u001b[1;32m     21\u001b[0m \u001b[38;5;28;01mif\u001b[39;00m \u001b[38;5;129;01mnot\u001b[39;00m \u001b[38;5;28misinstance\u001b[39m(a, \u001b[38;5;28mlist\u001b[39m):\n\u001b[0;32m---> 22\u001b[0m     \u001b[38;5;28;01mraise\u001b[39;00m \u001b[38;5;167;01mTypeError\u001b[39;00m(\u001b[38;5;124m\"\u001b[39m\u001b[38;5;124mmust pass list or numpy array\u001b[39m\u001b[38;5;124m\"\u001b[39m)\n\u001b[1;32m     24\u001b[0m \u001b[38;5;28;01mreturn\u001b[39;00m np\u001b[38;5;241m.\u001b[39marray(a)\n",
      "\u001b[0;31mTypeError\u001b[0m: must pass list or numpy array"
     ]
    }
   ],
   "source": [
    "iw2 = ImageWidget(data=[data, data, data, data], grid_plot_kwargs={'controllers': \"None\"}, slider_dims=\"t\")"
   ]
  },
  {
   "cell_type": "code",
   "execution_count": 5,
   "id": "d7fb94f8-825f-4447-b161-c9dafa1a068a",
   "metadata": {},
   "outputs": [
    {
     "data": {
      "application/vnd.jupyter.widget-view+json": {
       "model_id": "532e0cebc3774c0b97ffe9e18d5553c1",
       "version_major": 2,
       "version_minor": 0
      },
      "text/plain": [
       "VBox(children=(JupyterWgpuCanvas(), HBox(children=(Button(icon='expand-arrows-alt', layout=Layout(width='auto'…"
      ]
     },
     "execution_count": 5,
     "metadata": {},
     "output_type": "execute_result"
    }
   ],
   "source": [
    "iw2.show()"
   ]
  },
  {
   "cell_type": "code",
   "execution_count": null,
   "id": "96d4554f-5788-4ac6-ad7f-4840f9570507",
   "metadata": {},
   "outputs": [],
   "source": []
  }
 ],
 "metadata": {
  "kernelspec": {
   "display_name": "Python 3 (ipykernel)",
   "language": "python",
   "name": "python3"
  },
  "language_info": {
   "codemirror_mode": {
    "name": "ipython",
    "version": 3
   },
   "file_extension": ".py",
   "mimetype": "text/x-python",
   "name": "python",
   "nbconvert_exporter": "python",
   "pygments_lexer": "ipython3",
   "version": "3.11.3"
  }
 },
 "nbformat": 4,
 "nbformat_minor": 5
}
