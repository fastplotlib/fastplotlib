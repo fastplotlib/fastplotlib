{
 "cells": [
  {
   "cell_type": "code",
   "execution_count": null,
   "id": "c32d3bd2-4839-4ed1-ae6b-0a99c768d566",
   "metadata": {
    "tags": []
   },
   "outputs": [],
   "source": [
    "from typing import *\n",
    "from itertools import product\n",
    "from time import time\n",
    "\n",
    "import numpy as np\n",
    "import fastplotlib as fpl\n",
    "import pygfx"
   ]
  },
  {
   "cell_type": "code",
   "execution_count": null,
   "id": "67602111-9b99-461a-bfe3-b5688bcd3228",
   "metadata": {
    "tags": []
   },
   "outputs": [],
   "source": [
    "def make_circle(center: Tuple[float, float], radius: float, n_points: int = 50) -> np.ndarray:\n",
    "    theta = np.linspace(0, 2 * np.pi, n_points)\n",
    "    xs = radius * np.sin(theta)\n",
    "    ys = radius * np.cos(theta)\n",
    "    zs = np.zeros(xs.size)\n",
    "    \n",
    "    xs += center[0]\n",
    "    ys += center[1]\n",
    "    \n",
    "    return np.ascontiguousarray(np.column_stack([xs, ys, zs]).astype(np.float32))"
   ]
  },
  {
   "cell_type": "code",
   "execution_count": null,
   "id": "65989bfb-472e-42e6-8788-9d1db3e37d6d",
   "metadata": {
    "tags": []
   },
   "outputs": [],
   "source": [
    "spatial_dims = (1000, 1000)\n",
    "\n",
    "circles = list()\n",
    "for center in product(range(0, spatial_dims[0], 15), range(0, spatial_dims[1], 15)):\n",
    "    circles.append(make_circle(center, 5, n_points=75))"
   ]
  },
  {
   "cell_type": "code",
   "execution_count": null,
   "id": "794052b3-14d3-4d88-a4b7-f589f0e50765",
   "metadata": {
    "tags": []
   },
   "outputs": [],
   "source": [
    "len(circles)"
   ]
  },
  {
   "cell_type": "code",
   "execution_count": null,
   "id": "df3d5e58-09e4-41ff-8141-3e5dcd96c442",
   "metadata": {
    "tags": []
   },
   "outputs": [],
   "source": [
    "from wgpu.gui.auto import WgpuCanvas, run\n",
    "import pygfx as gfx"
   ]
  },
  {
   "cell_type": "code",
   "execution_count": null,
   "id": "d56311fd-e184-4a18-8016-33b51fe1304e",
   "metadata": {
    "tags": []
   },
   "outputs": [],
   "source": [
    "canvas = WgpuCanvas()\n",
    "renderer = gfx.WgpuRenderer(canvas)"
   ]
  },
  {
   "cell_type": "code",
   "execution_count": null,
   "id": "145f974a-dbc0-4d38-ac31-3f4b944cadbf",
   "metadata": {
    "tags": []
   },
   "outputs": [],
   "source": [
    "scene = gfx.Scene()"
   ]
  },
  {
   "cell_type": "code",
   "execution_count": null,
   "id": "1c7872e2-c934-472d-89b4-5a64049f7059",
   "metadata": {
    "tags": []
   },
   "outputs": [],
   "source": [
    "lines = list()\n",
    "\n",
    "for c in circles:\n",
    "    line = gfx.Line(\n",
    "        gfx.Geometry(positions=c),\n",
    "        gfx.LineMaterial(thickness=1.2, color=(1, 1, 1, 1)),\n",
    "    )\n",
    "    lines.append(line)\n",
    "    scene.add(line)"
   ]
  },
  {
   "cell_type": "code",
   "execution_count": null,
   "id": "3fb74456-4b41-4d40-9993-213611bff28c",
   "metadata": {
    "tags": []
   },
   "outputs": [],
   "source": [
    "gfx.show(scene, camera=gfx.OrthographicCamera(1000, 1000))"
   ]
  },
  {
   "cell_type": "code",
   "execution_count": null,
   "id": "a6f4a511-536c-43b4-8b2d-ef587fbf1529",
   "metadata": {
    "tags": []
   },
   "outputs": [],
   "source": [
    "camera = gfx.OrthographicCamera(1000, 1000)\n",
    "controller = gfx.PanZoomController(camera, register_events=renderer)"
   ]
  },
  {
   "cell_type": "code",
   "execution_count": null,
   "id": "c5e34579-1b45-4828-a187-1d88a1058b58",
   "metadata": {
    "tags": []
   },
   "outputs": [],
   "source": [
    "t1 = time()\n",
    "\n",
    "for l in lines[100:1000]:\n",
    "    l.visible = False\n",
    "    \n",
    "# canvas.request_draw()\n",
    "\n",
    "time() - t1"
   ]
  },
  {
   "cell_type": "code",
   "execution_count": null,
   "id": "a08a7e80-196f-4dd8-aba6-7a795fac2683",
   "metadata": {
    "tags": []
   },
   "outputs": [],
   "source": [
    "temporal = list()\n",
    "\n",
    "xs = np.arange(0, 10_000)\n",
    "for i in range(len(circles)):\n",
    "    if i % 2 == 0:\n",
    "        ys = np.sin(xs) * 10\n",
    "    else:\n",
    "        ys = np.cos(xs) * 10\n",
    "    \n",
    "    temporal.append(ys)"
   ]
  },
  {
   "cell_type": "code",
   "execution_count": null,
   "id": "942956b8-dd24-4d64-920b-e374c7892fb4",
   "metadata": {
    "tags": []
   },
   "outputs": [],
   "source": [
    "temporal = np.vstack(temporal)"
   ]
  },
  {
   "cell_type": "code",
   "execution_count": null,
   "id": "194e0147-8ffe-4bf5-be20-728527b2f766",
   "metadata": {
    "tags": []
   },
   "outputs": [],
   "source": [
    "plot = fpl.GridPlot((1, 2))\n",
    "\n",
    "# contours = plot[0, 0].add_line(np.vstack(circles), thickness=3)\n",
    "contours = plot[0, 0].add_line_collection(circles, thickness=1.5)\n",
    "heatmap = plot[0, 1].add_heatmap(temporal)\n",
    "selector = heatmap.add_linear_region_selector(axis=\"y\")\n",
    "\n",
    "plot.show()"
   ]
  },
  {
   "cell_type": "code",
   "execution_count": null,
   "id": "8135a679-1a77-42bf-bb1f-78f00a984784",
   "metadata": {
    "tags": []
   },
   "outputs": [],
   "source": [
    "def update_visible(ev):\n",
    "    ixs_visible = ev.pick_info[\"selected_indices\"]\n",
    "    ixs_hide = np.setdiff1d(np.arange(len(circles)), ixs_visible)\n",
    "    \n",
    "    # very fast, 20 ms to change 1,000\n",
    "    for i, g in enumerate(contours.graphics):\n",
    "        if not g.visible and i in ixs_visible:\n",
    "            g.visible = True\n",
    "        elif g.visible and i in ixs_hide:\n",
    "            g.visible = False"
   ]
  },
  {
   "cell_type": "code",
   "execution_count": null,
   "id": "bc3bcba2-fb8b-4583-a893-a2fec273550a",
   "metadata": {
    "tags": []
   },
   "outputs": [],
   "source": [
    "selector.bounds.add_event_handler(update_visible)"
   ]
  },
  {
   "cell_type": "code",
   "execution_count": null,
   "id": "6bb9a952-85f7-4e3b-8301-fb156ad267e1",
   "metadata": {
    "tags": []
   },
   "outputs": [],
   "source": [
    "selector.bounds.remove_event_handler(update_visible)"
   ]
  },
  {
   "cell_type": "code",
   "execution_count": null,
   "id": "c4ac3b79-0a90-4b76-9390-6b4097fed08a",
   "metadata": {
    "tags": []
   },
   "outputs": [],
   "source": [
    "selector.bounds._event_handlers.clear()"
   ]
  },
  {
   "cell_type": "code",
   "execution_count": null,
   "id": "f432248e-70e3-438a-9b9b-99247247e6f0",
   "metadata": {
    "tags": []
   },
   "outputs": [],
   "source": [
    "class Event:\n",
    "    pick_info = {\"selected_indices\": np.arange(2000, 3000)}"
   ]
  },
  {
   "cell_type": "code",
   "execution_count": null,
   "id": "4c01aa29-232b-4390-b9ed-fef429017f19",
   "metadata": {
    "tags": []
   },
   "outputs": [],
   "source": [
    "t1 = time()\n",
    "\n",
    "update_visible(Event())\n",
    "\n",
    "time() - t1"
   ]
  },
  {
   "cell_type": "code",
   "execution_count": null,
   "id": "691400bd-0eb4-4cad-a08d-0258c2243337",
   "metadata": {
    "tags": []
   },
   "outputs": [],
   "source": [
    "t1 = time()\n",
    "\n",
    "for c in contours.graphics[100:1000]:\n",
    "    c.visible = True\n",
    "    \n",
    "# for i in range(100, 1000):\n",
    "#     contours.graphics[i].world_object.visible = True\n",
    "    \n",
    "time() - t1"
   ]
  },
  {
   "cell_type": "code",
   "execution_count": null,
   "id": "3a7e2bac-61d4-4191-92e4-9b99bb83e037",
   "metadata": {
    "tags": []
   },
   "outputs": [],
   "source": [
    "zero_alpha_ixs = list()\n",
    "\n",
    "start_offset = 0\n",
    "for c in circles:\n",
    "    start_offset += c.shape[0]\n",
    "    zero_alpha_ixs += [start_offset - 1, start_offset]\n",
    "    \n",
    "zero_alpha_ixs = zero_alpha_ixs[:-1]"
   ]
  },
  {
   "cell_type": "code",
   "execution_count": null,
   "id": "d9d04e28-556f-4b58-84fd-5799257bf9bb",
   "metadata": {
    "tags": []
   },
   "outputs": [],
   "source": [
    "contours.colors[np.array(zero_alpha_ixs)] = [1, 1, 1, 0]"
   ]
  },
  {
   "cell_type": "code",
   "execution_count": null,
   "id": "b6754109-eff5-4cfd-8a2a-622c85f0a42c",
   "metadata": {
    "tags": []
   },
   "outputs": [],
   "source": [
    "def set_visible_alpha(ev):\n",
    "    ixs_visible = ev.pick_info[\"selected_indices\"]\n",
    "    ixs_hide = np.setdiff1d(np.arange(len(circles)), ixs_visible)\n",
    "    \n",
    "    for i in ixs_visible:\n",
    "        contours.world_object.geometry.colors.data[(i * 75) + 1:(i * 75) + 74, -1] = 1\n",
    "        \n",
    "    for i in ixs_hide:\n",
    "        contours.world_object.geometry.colors.data[(i * 75) + 1:(i * 75) + 74, -1] = 0\n",
    "        \n",
    "    contours.world_object.geometry.colors.update_range()"
   ]
  },
  {
   "cell_type": "code",
   "execution_count": null,
   "id": "1d409b0a-32c3-4690-b181-648fa4b6101e",
   "metadata": {
    "tags": []
   },
   "outputs": [],
   "source": [
    "selector.bounds.add_event_handler(set_visible_alpha)"
   ]
  },
  {
   "cell_type": "code",
   "execution_count": null,
   "id": "907e6c81-8ffc-475b-9a5f-2b2f9fc21916",
   "metadata": {},
   "outputs": [],
   "source": []
  }
 ],
 "metadata": {
  "kernelspec": {
   "display_name": "Python 3 (ipykernel)",
   "language": "python",
   "name": "python3"
  },
  "language_info": {
   "codemirror_mode": {
    "name": "ipython",
    "version": 3
   },
   "file_extension": ".py",
   "mimetype": "text/x-python",
   "name": "python",
   "nbconvert_exporter": "python",
   "pygments_lexer": "ipython3",
   "version": "3.11.3"
  }
 },
 "nbformat": 4,
 "nbformat_minor": 5
}
