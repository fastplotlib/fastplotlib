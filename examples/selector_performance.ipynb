{
 "cells": [
  {
   "cell_type": "code",
   "execution_count": null,
   "id": "c32d3bd2-4839-4ed1-ae6b-0a99c768d566",
   "metadata": {
    "tags": []
   },
   "outputs": [],
   "source": [
    "from typing import *\n",
    "from itertools import product\n",
    "\n",
    "import numpy as np\n",
    "import fastplotlib as fpl\n",
    "import pygfx"
   ]
  },
  {
   "cell_type": "code",
   "execution_count": null,
   "id": "67602111-9b99-461a-bfe3-b5688bcd3228",
   "metadata": {
    "tags": []
   },
   "outputs": [],
   "source": [
    "def make_circle(center: Tuple[float, float], radius: float, n_points: int = 50) -> np.ndarray:\n",
    "    theta = np.linspace(0, 2 * np.pi, n_points)\n",
    "    xs = radius * np.sin(theta)\n",
    "    ys = radius * np.cos(theta)\n",
    "    \n",
    "    return np.column_stack([xs, ys]) + center"
   ]
  },
  {
   "cell_type": "code",
   "execution_count": null,
   "id": "65989bfb-472e-42e6-8788-9d1db3e37d6d",
   "metadata": {
    "tags": []
   },
   "outputs": [],
   "source": [
    "spatial_dims = (1000, 1000)\n",
    "\n",
    "circles = list()\n",
    "for center in product(range(0, spatial_dims[0], 15), range(0, spatial_dims[1], 15)):\n",
    "    circles.append(make_circle(center, 5, n_points=75))"
   ]
  },
  {
   "cell_type": "code",
   "execution_count": null,
   "id": "794052b3-14d3-4d88-a4b7-f589f0e50765",
   "metadata": {
    "tags": []
   },
   "outputs": [],
   "source": [
    "len(circles)"
   ]
  },
  {
   "cell_type": "code",
   "execution_count": null,
   "id": "a08a7e80-196f-4dd8-aba6-7a795fac2683",
   "metadata": {
    "tags": []
   },
   "outputs": [],
   "source": [
    "temporal = list()\n",
    "\n",
    "xs = np.arange(0, 10_000)\n",
    "for i in range(len(circles)):\n",
    "    if i % 2 == 0:\n",
    "        ys = np.sin(xs) * 10\n",
    "    else:\n",
    "        ys = np.cos(xs) * 10\n",
    "    \n",
    "    temporal.append(ys)"
   ]
  },
  {
   "cell_type": "code",
   "execution_count": null,
   "id": "942956b8-dd24-4d64-920b-e374c7892fb4",
   "metadata": {
    "tags": []
   },
   "outputs": [],
   "source": [
    "temporal = np.vstack(temporal)"
   ]
  },
  {
   "cell_type": "code",
   "execution_count": null,
   "id": "194e0147-8ffe-4bf5-be20-728527b2f766",
   "metadata": {
    "tags": []
   },
   "outputs": [],
   "source": [
    "plot = fpl.GridPlot((1, 2))\n",
    "\n",
    "contours = plot[0, 0].add_line(np.vstack(circles), thickness=3)\n",
    "heatmap = plot[0, 1].add_heatmap(temporal)\n",
    "selector = heatmap.add_linear_region_selector(axis=\"y\")\n",
    "\n",
    "plot.show()"
   ]
  },
  {
   "cell_type": "code",
   "execution_count": null,
   "id": "3a7e2bac-61d4-4191-92e4-9b99bb83e037",
   "metadata": {
    "tags": []
   },
   "outputs": [],
   "source": [
    "zero_alpha_ixs = list()\n",
    "\n",
    "start_offset = 0\n",
    "for c in circles:\n",
    "    start_offset += c.shape[0]\n",
    "    zero_alpha_ixs += [start_offset - 1, start_offset]\n",
    "    \n",
    "zero_alpha_ixs = zero_alpha_ixs[:-1]"
   ]
  },
  {
   "cell_type": "code",
   "execution_count": null,
   "id": "d9d04e28-556f-4b58-84fd-5799257bf9bb",
   "metadata": {
    "tags": []
   },
   "outputs": [],
   "source": [
    "contours.colors[np.array(zero_alpha_ixs)] = [1, 1, 1, 0]"
   ]
  },
  {
   "cell_type": "code",
   "execution_count": null,
   "id": "b6754109-eff5-4cfd-8a2a-622c85f0a42c",
   "metadata": {
    "tags": []
   },
   "outputs": [],
   "source": [
    "def set_visible_alpha(ev):\n",
    "    ixs_visible = ev.pick_info[\"selected_indices\"]\n",
    "    ixs_hide = np.setdiff1d(np.arange(len(circles)), ixs_visible)\n",
    "    \n",
    "    for i in ixs_visible:\n",
    "        contours.world_object.geometry.colors.data[(i * 75) + 1:(i * 75) + 74, -1] = 1\n",
    "        \n",
    "    for i in ixs_hide:\n",
    "        contours.world_object.geometry.colors.data[(i * 75) + 1:(i * 75) + 74, -1] = 0\n",
    "        \n",
    "    contours.world_object.geometry.colors.update_range()"
   ]
  },
  {
   "cell_type": "code",
   "execution_count": null,
   "id": "1d409b0a-32c3-4690-b181-648fa4b6101e",
   "metadata": {
    "tags": []
   },
   "outputs": [],
   "source": [
    "selector.bounds.add_event_handler(set_visible_alpha)"
   ]
  },
  {
   "cell_type": "code",
   "execution_count": null,
   "id": "907e6c81-8ffc-475b-9a5f-2b2f9fc21916",
   "metadata": {},
   "outputs": [],
   "source": []
  }
 ],
 "metadata": {
  "kernelspec": {
   "display_name": "Python 3 (ipykernel)",
   "language": "python",
   "name": "python3"
  },
  "language_info": {
   "codemirror_mode": {
    "name": "ipython",
    "version": 3
   },
   "file_extension": ".py",
   "mimetype": "text/x-python",
   "name": "python",
   "nbconvert_exporter": "python",
   "pygments_lexer": "ipython3",
   "version": "3.11.3"
  }
 },
 "nbformat": 4,
 "nbformat_minor": 5
}
