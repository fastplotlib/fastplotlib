{
 "cells": [
  {
   "cell_type": "code",
   "execution_count": 1,
   "id": "77bd602d-aed3-4ddc-9917-46f3429d32b9",
   "metadata": {
    "tags": []
   },
   "outputs": [],
   "source": [
    "import numpy as np\n",
    "from fastplotlib import Plot"
   ]
  },
  {
   "cell_type": "code",
   "execution_count": 2,
   "id": "0dc85d4e-4554-44e5-bf05-96ceb339e57f",
   "metadata": {},
   "outputs": [
    {
     "data": {
      "application/vnd.jupyter.widget-view+json": {
       "model_id": "27e7e540a7be408997b143ac274b2b8e",
       "version_major": 2,
       "version_minor": 0
      },
      "text/plain": [
       "RFBOutputContext()"
      ]
     },
     "metadata": {},
     "output_type": "display_data"
    }
   ],
   "source": [
    "data = np.random.normal(0, 256, 2048)\n",
    "\n",
    "plot = Plot()"
   ]
  },
  {
   "cell_type": "code",
   "execution_count": 3,
   "id": "ef4fbdb5-f7a3-44c3-acef-38d127dccdc9",
   "metadata": {},
   "outputs": [
    {
     "name": "stderr",
     "output_type": "stream",
     "text": [
      "/home/kushal/python-venvs/mescore/lib/python3.10/site-packages/pygfx/geometries/_plane.py:19: RuntimeWarning: invalid value encountered in true_divide\n",
      "  texcoords = (positions[..., :2] + dim / 2) / dim\n"
     ]
    },
    {
     "data": {
      "text/html": [
       "<div class='initial-snapshot-ff05c3706cfd401eb97f58b6e12e6d2a' style='position:relative;'><img src='data:image/png;base64,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' style='width:500.0px;height:300.0px;' /><div style='position: absolute; top:0; left:0; padding:1px 3px; background: #777; color:#fff; font-size: 90%; font-family:sans-serif; '>initial snapshot</div></div>"
      ],
      "text/plain": [
       "<jupyter_rfb._utils.Snapshot object>"
      ]
     },
     "metadata": {},
     "output_type": "display_data"
    },
    {
     "data": {
      "application/vnd.jupyter.widget-view+json": {
       "model_id": "ff05c3706cfd401eb97f58b6e12e6d2a",
       "version_major": 2,
       "version_minor": 0
      },
      "text/plain": [
       "JupyterWgpuCanvas()"
      ]
     },
     "execution_count": 3,
     "metadata": {},
     "output_type": "execute_result"
    }
   ],
   "source": [
    "plot.add_histogram(data=data, bins=100)\n",
    "\n",
    "plot.set_axes_visibility(True)\n",
    "plot.show()"
   ]
  },
  {
   "cell_type": "code",
   "execution_count": null,
   "id": "4c72d91a-0771-46c1-a2b8-d555ee47291f",
   "metadata": {},
   "outputs": [],
   "source": []
  }
 ],
 "metadata": {
  "kernelspec": {
   "display_name": "Python 3 (ipykernel)",
   "language": "python",
   "name": "python3"
  },
  "language_info": {
   "codemirror_mode": {
    "name": "ipython",
    "version": 3
   },
   "file_extension": ".py",
   "mimetype": "text/x-python",
   "name": "python",
   "nbconvert_exporter": "python",
   "pygments_lexer": "ipython3",
   "version": "3.10.5"
  }
 },
 "nbformat": 4,
 "nbformat_minor": 5
}
