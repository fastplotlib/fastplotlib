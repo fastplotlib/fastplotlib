{
 "cells": [
  {
   "cell_type": "markdown",
   "id": "386184a4-bd03-4467-a539-2696c3c5a573",
   "metadata": {
    "tags": []
   },
   "source": [
    "# A more complex example combing different graphics, gridplot and multiple perspectives"
   ]
  },
  {
   "cell_type": "code",
   "execution_count": null,
   "id": "9c974494-712e-4981-bae2-a3ee176a6b20",
   "metadata": {},
   "outputs": [],
   "source": [
    "import numpy as np\n",
    "from fastplotlib import GridPlot"
   ]
  },
  {
   "cell_type": "code",
   "execution_count": null,
   "id": "c3d8f967-f60f-4f0b-b6ba-21b1251b4856",
   "metadata": {},
   "outputs": [],
   "source": [
    "# create data in the shape of a spiral\n",
    "phi = np.linspace(0, 30, 200)\n",
    "\n",
    "xs = phi * np.cos(phi)\n",
    "ys = phi * np.sin(phi)\n",
    "zs = phi\n",
    "\n",
    "# make data 3d, with shape [<n_vertices>, 3]\n",
    "spiral = np.dstack([xs, ys, zs])[0]"
   ]
  },
  {
   "cell_type": "code",
   "execution_count": null,
   "id": "78cffe56-1147-4255-82c1-53cec6bc986a",
   "metadata": {},
   "outputs": [],
   "source": [
    "# grid with 2 rows and 2 columns\n",
    "shape = (2, 2)\n",
    "\n",
    "# pan-zoom controllers for each view\n",
    "# views are synced if they have the \n",
    "# same controller ID\n",
    "# in this example the first view has its own controller\n",
    "# and the last 3 views are synced\n",
    "controllers = [\n",
    "    [0, 1], # id each controller with an integer\n",
    "    [1, 1]\n",
    "]\n",
    "\n",
    "# create the grid plot\n",
    "grid_plot = GridPlot(\n",
    "    shape=shape,\n",
    "    cameras='3d',  # 3D view for all subplots within the grid\n",
    "    controllers=controllers\n",
    ")\n",
    "\n",
    "for i, subplot in enumerate(grid_plot):\n",
    "    # create and add the LineGraphic\n",
    "    line_graphic = subplot.add_line(data=spiral, thickness=3, cmap='jet')\n",
    "    \n",
    "    # make axes visible\n",
    "    subplot.set_axes_visibility(True)\n",
    "    subplot.set_grid_visibility(True)\n",
    "    \n",
    "    marker = subplot.add_scatter(data=spiral[0], sizes=10, name=\"marker\")\n",
    "    \n",
    "marker_index = 0\n",
    "\n",
    "# a function to move the ball along the spiral\n",
    "def move_marker():\n",
    "    global marker_index\n",
    "    \n",
    "    marker_index += 1\n",
    "    \n",
    "    if marker_index == spiral.shape[0]:\n",
    "        marker_index = 0\n",
    "    \n",
    "    for subplot in grid_plot:\n",
    "        subplot[\"marker\"].data = spiral[marker_index]\n",
    "        \n",
    "# add `move_marker` to the animations\n",
    "grid_plot.add_animations(move_marker)\n",
    "\n",
    "grid_plot.show()"
   ]
  },
  {
   "cell_type": "code",
   "execution_count": null,
   "id": "e388eb93-7a9b-4ae4-91fc-cf32947f63a9",
   "metadata": {},
   "outputs": [],
   "source": []
  }
 ],
 "metadata": {
  "kernelspec": {
   "display_name": "Python 3 (ipykernel)",
   "language": "python",
   "name": "python3"
  },
  "language_info": {
   "codemirror_mode": {
    "name": "ipython",
    "version": 3
   },
   "file_extension": ".py",
   "mimetype": "text/x-python",
   "name": "python",
   "nbconvert_exporter": "python",
   "pygments_lexer": "ipython3",
   "version": "3.11.3"
  }
 },
 "nbformat": 4,
 "nbformat_minor": 5
}
