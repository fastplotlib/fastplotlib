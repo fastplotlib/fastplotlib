{
 "cells": [
  {
   "cell_type": "markdown",
   "id": "2d14adc9-1ba0-4a5c-ab7d-d31d5fad238d",
   "metadata": {},
   "source": [
    "# working on event interactivity for a single contour"
   ]
  },
  {
   "cell_type": "code",
   "execution_count": 1,
   "id": "a934868b-3792-48da-83e7-793350545a09",
   "metadata": {},
   "outputs": [],
   "source": [
    "%load_ext autoreload\n",
    "%autoreload 2"
   ]
  },
  {
   "cell_type": "code",
   "execution_count": 2,
   "id": "4420c0dc-23f9-4405-bc0b-b2b745061326",
   "metadata": {},
   "outputs": [
    {
     "name": "stderr",
     "output_type": "stream",
     "text": [
      "2022-12-14 21:15:10.071022: I tensorflow/core/platform/cpu_feature_guard.cc:193] This TensorFlow binary is optimized with oneAPI Deep Neural Network Library (oneDNN) to use the following CPU instructions in performance-critical operations:  AVX2 AVX512F AVX512_VNNI FMA\n",
      "To enable them in other operations, rebuild TensorFlow with the appropriate compiler flags.\n",
      "2022-12-14 21:15:10.183652: I tensorflow/core/util/port.cc:104] oneDNN custom operations are on. You may see slightly different numerical results due to floating-point round-off errors from different computation orders. To turn them off, set the environment variable `TF_ENABLE_ONEDNN_OPTS=0`.\n",
      "2022-12-14 21:15:10.196607: W tensorflow/compiler/xla/stream_executor/platform/default/dso_loader.cc:64] Could not load dynamic library 'libcudart.so.11.0'; dlerror: libcudart.so.11.0: cannot open shared object file: No such file or directory; LD_LIBRARY_PATH: /home/caitlin/venvs/mescore/lib/python3.9/site-packages/cv2/../../lib64:\n",
      "2022-12-14 21:15:10.196623: I tensorflow/compiler/xla/stream_executor/cuda/cudart_stub.cc:29] Ignore above cudart dlerror if you do not have a GPU set up on your machine.\n",
      "2022-12-14 21:15:10.703225: W tensorflow/compiler/xla/stream_executor/platform/default/dso_loader.cc:64] Could not load dynamic library 'libnvinfer.so.7'; dlerror: libnvinfer.so.7: cannot open shared object file: No such file or directory; LD_LIBRARY_PATH: /home/caitlin/venvs/mescore/lib/python3.9/site-packages/cv2/../../lib64:\n",
      "2022-12-14 21:15:10.703287: W tensorflow/compiler/xla/stream_executor/platform/default/dso_loader.cc:64] Could not load dynamic library 'libnvinfer_plugin.so.7'; dlerror: libnvinfer_plugin.so.7: cannot open shared object file: No such file or directory; LD_LIBRARY_PATH: /home/caitlin/venvs/mescore/lib/python3.9/site-packages/cv2/../../lib64:\n",
      "2022-12-14 21:15:10.703292: W tensorflow/compiler/tf2tensorrt/utils/py_utils.cc:38] TF-TRT Warning: Cannot dlopen some TensorRT libraries. If you would like to use Nvidia GPU with TensorRT, please make sure the missing libraries mentioned above are installed properly.\n"
     ]
    }
   ],
   "source": [
    "import numpy as np\n",
    "from fastplotlib.plot import Plot\n",
    "from fastplotlib.graphics import LineGraphic\n",
    "import pygfx\n",
    "import pickle\n",
    "from mesmerize_core import *\n",
    "import tifffile"
   ]
  },
  {
   "cell_type": "code",
   "execution_count": 3,
   "id": "3eb77356-5314-4004-ac26-0628a19c038b",
   "metadata": {},
   "outputs": [],
   "source": [
    "contours = pickle.load(open(\"/home/caitlin/Downloads/contours.pickle\", \"rb\"))"
   ]
  },
  {
   "cell_type": "code",
   "execution_count": 4,
   "id": "0b2090b9-9fe6-407e-b517-2b8b28d38d2e",
   "metadata": {},
   "outputs": [
    {
     "data": {
      "text/plain": [
       "155"
      ]
     },
     "execution_count": 4,
     "metadata": {},
     "output_type": "execute_result"
    }
   ],
   "source": [
    "len(contours)"
   ]
  },
  {
   "cell_type": "code",
   "execution_count": 5,
   "id": "90373974-c3a1-468e-8cf2-8c31061284a6",
   "metadata": {},
   "outputs": [],
   "source": [
    "single_contour = LineGraphic(data=contours[0], size=10.0)"
   ]
  },
  {
   "cell_type": "code",
   "execution_count": 6,
   "id": "df16cf45-a767-40ce-a1f5-efac891b57f5",
   "metadata": {},
   "outputs": [
    {
     "data": {
      "application/vnd.jupyter.widget-view+json": {
       "model_id": "15944fb7c4d34bd28fa6ef1a73965b1d",
       "version_major": 2,
       "version_minor": 0
      },
      "text/plain": [
       "RFBOutputContext()"
      ]
     },
     "metadata": {},
     "output_type": "display_data"
    },
    {
     "name": "stderr",
     "output_type": "stream",
     "text": [
      "MESA-INTEL: warning: Performance support disabled, consider sysctl dev.i915.perf_stream_paranoid=0\n",
      "\n"
     ]
    }
   ],
   "source": [
    "plot = Plot()"
   ]
  },
  {
   "cell_type": "code",
   "execution_count": 7,
   "id": "038eb7d8-f4cf-4d0e-8aa5-1e52c65d0fe3",
   "metadata": {},
   "outputs": [],
   "source": [
    "plot.add_graphic(single_contour)"
   ]
  },
  {
   "cell_type": "code",
   "execution_count": 8,
   "id": "c6ffada3-4b52-4a54-815e-d07581240433",
   "metadata": {},
   "outputs": [
    {
     "data": {
      "text/html": [
       "<div class='initial-snapshot-1ad382c3d2c94b3bae8b66a0be34e7f7' style='position:relative;'><img src='data:image/png;base64,iVBORw0KGgoAAAANSUhEUgAAAfQAAAEsCAYAAAA1u0HIAABAHklEQVR42u3dBVhV2doHcOkQlDKwMLDHbsXuwhy7u3V0ZnRmbOzuzlGxsDsRBEEEFQMJQVLpLsX4zt8L9/HO53D2RmAfzvn/nuc8X1z17hN7vXut9a73LVSIiIiIiIiIiIiIiIiIiIiIiIiIiIiIiIiIiIiIiIiIiIiIiIiIiIiIiIiIiIiIiIiIiIiIiIiIiIiIiIiIiIiIiIiIiIiIiIiIiIiIiIiIiIiIiIiIiIhIYamrqxfS1NQspKWl9fWlra1dSEdHR01XV1dNT09PTV9fX61w4cJqBgYGaoaGhmpFihRRK1q0qJqRkZGasbGxmomJibqpqam6mZmZerFixdSLFy+uXqJECfWSJUuqm5ubq5cqVUqjdOnSGmXKlPn6Klu2rEa5cuU0LCwsNMuXL69ZoUIFzYoVK2pWqlRJ09LSUrNy5cpaVapU+fqqWrWqVrVq1bRq1Kih/dNPP2nXqVNHp169err4n/j7GhoaUn98RERE+QvBD0EYwbRBgwZ6/fr1Kz5nzpya69ata79t27YeO3fu7LV79+4+e/fu7bdv376fDxw4MPDQoUND/v7772FHjx4daWtrO/r48eNjT548OeH06dOTzpw5M/XcuXMzLly4MOvSpUtzrly58tu1a9fmXb9+/a+bN28uvH379uK7d+/a3Lt3b4Wjo+Pq+/fvr3N2dt7o4uKy5eHDh9sfPXq0y93dfe/jx48PPH369PCzZ8+Ovnjx4vjLly9PvXr16qyPj88FPz+/y69fv74WEBBwU/a69ebNm9uBgYF3Zf/zFv6NefPm1cWDg9SfLRERUa5D4MYMGoG7fv36un379i32yy+/1Ni4cWMnOzu7Ka6urlsRHCMjI58lJye/zcjISJG90j5+/IhX+nde7//5+vTp04fvvDK+8/qI1+fPn799ffrO6398+fIl6/Wv8G/FxMT47Nq1qzdm/lJ/7kRERDmCwI3lbyxhYxm6d+/eZjNnzqy+YcOGjphBy2bCm/39/W/IArdnUlJSGAI3Ai8C6BclgeAfHx//Zvv27T2xtC/1d0JERPSvsMeNvWvMQrF3bG1tbTZjxoyqWCrH8jeWsbEsHRER8UQWuEM/fPiQLJtFI3B/lDrg5ldQj4uL89u8eXMXLr8TEZHkELiReIYEstq1a+v07NnTdNq0aVXWrl3b9sSJE+OcnJzW+fn5XQkPD3+cmJgYIgvcSVj+VpXALS+ox8TEeOMhB4l5Un+XRESkAr4N3LVq1dLp3r27yZQpUyqvXr26ja2t7RhHR8c1vr6+l2SB20MWuIP/Ebg//3D0U1II6tHR0S9XrlzZCln3Un/PRESkJBC4cdwLe7s4ctW1a1fjyZMnWyLgHDt2bJSDg8MqHx+fi+/evXNPSEgIfP/+fSID949BfgCS/WxsbJrjSJ3UvwEiIiqAcH7b0tJSq3PnzkYTJ06stGLFipZHjx4dYW9vv8Lb2/u8LHA/kgXuN7LAncDAnXcQ1JFPsHDhwkZIGpT6d0FERAUIZuDr16/vgHPVb9++fRgfHx+QFbhxbOsLA/ePknuM7X/+sCyoY+Xjjz/+qIvtDal/H0REVAAg8/z8+fMzUlNTIwvSkTBcK46x4fw5MuPT0tJi8B5SUlIiZK9wnFHHcTdkzmMvPyEhIQgrDHhYiYuL80dmeWxsrC/Ogster6Kjo72ioqJeyl7PseyN43KYKSOJD/kACLCyhx03PPCEhYW5hoaGPpC9nENCQpyCg4Pvy14OQUFB9wIDA+1lrzsoIoPz8igq8/r16+v4v3FNmefUBb0/2b/tPGvWrBqoeif174SIiBQYzn9nBvMoqQO0vMCN4jEy0cgGlwW6+56enn9fvXp1HirDYV9//vz5DWUz2npz586t89tvv9WeM2fOTyhIg7Pt06dPrzp16tQqyAHAdsL48eMrjB07tvzo0aPLjRw5suywYcPKDBkypNSgQYPMBwwYULJ///4l+vbtWxxn462trU179Ohh0q1bN2NsR3Ts2LFo+/bti7Rt29awVatWBlZWVgbNmzcv3LRpU/1GjRrpNWjQQDervCtWPlD2FeVf8f/fsmVLVzxICA3qWB3Bg8CkSZMqYUuEiIjo/2nYsKEeSp5iZit10P4mcGdkBu4Y2ezZBzPUZ8+eHbt+/fqfssDdf8GCBQ1HjBhRFoEU+/044oVAp6ZWMCaw5ubmGihTi1UCEUE9w9fX9yIePFCznoiI6L+aNGmij7rl6enpcRIEbkTuDJRllQVuWdyO9cPy9fPnz4/fuHFj/v79+wcsWrSo8ahRo8q1adPGEM1OELjRcKWgBO7soMDOnj17+mIb4IvAfXXkMqBGPFYPcPqAiIioEJaH0XwESW/5Fbjx4CDzOiwszEUWmE7eunVr4YEDBwYtXry4yZgxYyzatWtXBN3J0OlMWQJ3dtCdDU1jsKcuIqinowlMnz59ijGoExGpMARJKyurwrdv316CM+N5FLjjkXCGpDEvLy87dCxDx7OlS5c2w5419p7RUhTtSZHopeyBOzvYVz916tQEJPIJ/ayRAOjh4bEPVfgY1ImIVBACJ/ad0Q4UldtyI3BjHxgZ369evTpz584dm8OHDw9dtmxZCyScIXGsevXq2qhNjp7kqhy4s4MSuRcvXvxFzNZHRkZGqpub2w4U+uHnSkSkQjDot27d2hAFYsQEcwRwHAfDUS8UlfH29j4n+zeWHzlyZPjy5cutJkyYUBFZ38jiRuDW19dn4M4BZMYjd0DMqgk6zz148GATHpz4mRMRqQAM9m3bti2CMq0IziKC+Uecu963b19/HPXCbLBmzZrayNJG4OZyb+5CXoPY1RN8n/fv31+L43MM6kRESgyDPPasMeiLDeYomILz3EWLFmWkyCdYRRH74IU/i5UXnIWX+vqJiCgPIJhjOdbJyWm9mACBPfKgoCAHFGVBYxap34cqyXoAc3Z23oAldRFBPQnJhyhsI/V7ICKiXITAgL3tBw8ebBQTGBDMUZUMldWwrC71+1BFWd+dq6vrViS/Cf3ucATx6tWrc+vXr68r9XsgIqJcgICA/W4XF5ctIoP5B39//+soj4qsdKnfhyrDd4ge848ePdqNqnlCv0NU1zt79uw05DpI/R6IiOgHIFENgeDhw4fbxMzuEMz9/Pwuo8Y5irpI/T7oP99lr169zJ48eXIAxwSFfpdoSmNrazsa1fWkfg9ERJQDCAA9evQwdXNz2ykmmKOkKHqdo+gLm38oFnyn/fr1K/78+fNj+J4EfqWf0V3uwIEDA8uVK6ch9XsgIiIRMPBbW1ububu77xGzRIsggWpuaPqhpcUJnSLS0NAoNHTo0NKvXr06i5UUoUE9ISEhcOfOnb1Kly7NoE5EVBAgmKPFJ8qBigzm6S9evDiBYMEOXooN38+4cePKv379+hoSFwVFdBmU4EW7VhT9kfo9EBFRNhDM+/btW+zJkycHUeNbTDB/9uzZ0YEDB5bEDJAUH3Ibpk2bVjUoKOge6gQIDepoQbthw4YOaHoj9XsgIqLvQCDu379/CXTfEpM0hVk8/o7s7xZntbeCBUcJf/vtt1qon4+y+kKDenR0tNfq1avbmJmZ8QsnIlIkWIIdNGiQuWyWfUxsMH/8+PEBtt8suAwNDdXmz5/fIDw83ENMUI+KinqOxjkmJiY8xUBEpAgQzIcNG1b6xYsXJ0VkPn/t0OXh4bEX++0M5gUbyvEuWbKkaWRkpKeIoP4pIiLiKfrPs5wvEZHEkIk+atSocmhXKjaYo0iJtbU1e2grCdlMWx0d72Qz7xeYgQsN6pjZ//XXX/Ux05f6PRARqSQkRSHT2cfH54KI40v/7Z3do0cPEwZz5YI98TVr1rSNjo5+JSaoh4WFuaJWPysCEhHlM11dXbVJkyZV8vPzuyIymKe4urpu69atmzHbayonZK9v2LChY2xsrK+IoP4xMDDw7tSpUyuzMiARUT7BLGratGlV/P39bwg9gwwfPnxIcXFx2dylSxcGcyVnbm6uvnXr1m7x8fH+QoM6fkt4QBwzZowF6xAQEeUxtC+dNWtWddls6o7IYJ7s7Oy8sVOnTkYM5qoBFeF27drVOyEhIQiTcIFB/cOrV6/sBg8eXIr1CIiI8oiBgYEa9jmDg4MdZAOvoEIiWcHcyclpXYcOHYoymKsWCwsLzUOHDg1OSkoKExrUkVyJIkN9+/ZlXQIiotyGDOS5c+fWCQ0NfSC0KlhmME9ydHRc0759+yIM5qqpSpUqWsePHx+bkpISIfR3g1oGjx8/3s9TEEREuQhnhHGs6O3bt25CzxhnBfN79+6tbNu2rSGDuWqrVauWzrlz52agP7rQ3w+KDj169GgXEyiJiHKBkZGR2oIFCxq+e/fOXUwwf//+faK9vf3y1q1bM5jTVw0aNNC9du3aH7LfRoKIoJ7q4uKyhbkXREQ/wNjYWG3RokWNw8PDH4sN5nfu3LFp2bKlAQdh+lazZs30Zb+NpVi9ERHUU5ycnNa3a9eO2zZERGKh6hdKeUZERDwRGcwTbt++vbhFixaFpX4PpJjwoIetGCRLCv1d4c86ODisbNWqlYHU109EVGCYmpqq29jYNEedbTHBPD09Pf7GjRsLMAuT+j2Q4sIsG7NtnHzA7FtEUE/C7L558+Z8WCQikgelO1GPOzIy8pmYYJ6WlhZ79erVuY0bN2YwJ7kQ1Dt16lQU++PYJxexApR4/fr1Pxs2bKgn9XsgIlJYxYoVU1+5cmUrtLUUWt1L5nNqamr0pUuXZnOQJTEQ1JHB7ubmthMZ7WIeHs+fPz+zdu3aOlK/ByIihYNSnWiqIQvmL0UG88hz585Nr1evnq7U74EKHpwxx1lznDnH2XOhQR2/u5MnT46vXr26ttTvgYhIYaCc6+rVq9uIaaaBYJ6SkhJ++vTpSZwp0Y9AUO/bt28xT0/PIyJa8OL3F2Frazu6RIkSrDxDRIRlzyFDhpRCpysxwTw5OfntiRMnxtWsWZMzJPphCOqDBg0y9/LyshPRve8zEjeHDRtWRurrJyKSHDKGkZgkdGaEoJ+UlBR69OjRkdWqVdOS+vpJeaDD2ujRoy38/PwuC238g4S6U6dOTcTJDKmvn4hIMuiGZWtrOwbHzYQG88TExODDhw8PqVy5MoM55TptbW21KVOmVM5cMZLbMwC/yZCQEKcePXqYSn3tRESS0NfXV1u6dGmzuLg4vy8CumBh4ExISAjcv3//gIoVK7JZNeUZPT09tdmzZ9cMCwtzEXJ0EkfZdu/e3Qe/aamvnYgoX2HffPDgweZv3ry5I/CsOYL5G9mg2RftMKW+flJ+aNWLhkCRkZGe8nI78Bv29fW92LZt2yJSXzcRUb5CJTcXF5fNQo8JIZv44MGDg8qWLash9bWT6kD54Z07d/YS0qENJYePHDkyomTJktxLJyLVkLlvPjo9PT1OSDBHDW1UgON5X5ICkja9vLxOC1hJ+hwbG+uDbSTM7qW+biKiPIW9STRckQ18gvbNcXzo6dOnhzt27FhU6msn1aSrq6u2bdu27kISNxH0Q0NDnSdMmFBRQ4OLSUSkpHDOd+jQoaXfvHlzW8i+OfYt0QMdGcccHElKnTt3NkLWu9CH0GfPnh1D1jtbrRKR0sHAhkHxyZMnB4SeN8dZ802bNnU2MjLiqEiSwm8Q20RCO7PhbDo6ubGFLxEplaxWlffv318rdEDM2jevUqUKz5qTQujfv3/xoKAge6EdAJEkd+7cuRmWlpb8DRNRwYdgjqM8jo6OaxCkhQyEqNDl6en5N1pbSn39RFnQb2DRokWNo6KiXggtUZyUlBSC/Xd0EZT6+omIcgzBvE2bNoYODg6rhQbzrH3zqVOnVuG+OSkaBOYtW7Z0Q7VCob/n6Ojol4sXL26CBwKpr5+ISLRvgvkqocE8c0bzdd/c2NiYgx8pJFQpPHPmzBQR5Yo/BQcH3x83blx5PqQSUYGCYN66dWvDe/furRQTzLG/fu3atXlVq1blniMpNBRGwjYSkt8EbiN9QGvW7t27mzDznYgKBAxWrVq1MrC3t18hC+ZJQoM5Mt9fvnx5smvXrsZSvwciefA7R3BGkBbaahXBHw8BeBiQ+vqJiLKFQa5ly5YI5stzEsxxRp1LklRQ4LeKZXQspwvNfMcyvZ2d3RQ2FyIihZUVzO/evbssB8H8FIM5FURIdEPCGxLfBGa+f23/u2XLlq7MfCcihWRlZVVYFsxtxAZzLy8vu+HDh5fR1OSEhQomBGYcTcMRNSG/ewR+HH1buHBhI7ZbJSKFgmpYd+7cWSo2mL969ersiBEjyjKYU0FnaWmpiSIyKCYjMKh/CgoKujd69GgLlEQmIpIcOlHdvn17ichg/sHb2/v8qFGjyjGYk7LAgy3KvYrJfH/69OkhJIIy852IJJUZzBfLZiWJQoM5BjEfH58LY8aMsdDS4uk0Uh4IymjIgsYsYjLfUauhSZMmzHwnImk0bdpU/9atWwvFBnNfX99LY8eOLc9gTsoIiZ1onRoSEuIsIvM97tSpUxMrVKjA5Soiyl+YTdy4cWO+0P3CrGDu5+d3efz48RW0tbWlfgtEecbAwEBtyZIlTaOjo72EZr4nJCQEbd68uYuZmRk31IkofzRu3Fjv+vXrf4oN5q9fv76KmQuDOamC4sWLq+/YsaNnUlJSmJB7JDPz/fmCBQsa6unpcUOdiPJWo0aN9K5evTpPaA3rzGCe4e/vf33SpEmVdHR0OFCRykDr34sXL/4idFsKS/SBgYF3cfKDme9ElGcaNmyod+XKld+x3ycmmAcEBNycMmVKZQZzUkVWVlYGzs7OG4RmvuMEyOPHjw906dKFme9ElPvq16+ve+nSpV9lwTxWTDB/8+bNLbRB1dXV5chEKglB2dra2vT58+fHcU8IuXfQpAiNjbC9JfX1E5ESqVevnu7Fixdnp6WlxYgM5nemT59elcGcVB0y3ydPnmwZFhbmKibz/cSJE+MsLCyY+U5EP65u3bq6Fy5cmCUymH8MDAy0nzFjRjUm9xD9h6GhoZqNjU3zmJgYbxGZ7282btzYydTUlBvqRJRzderU0Tl37tz01NTUaDHBHOUsZ82aVZ3BnOh/lShRQn3Xrl29k5OT3wq5nxD4IyMjn/3555/1udJFRDlSu3ZtnTNnzkyVBfMoocFcNvZ8DA4Odpw9e3ZNNpwg+r5q1appXb58+VehpZKxRB8QEHBr2LBhpZn5TkSi1KpVS8fOzm6yLJhHignmISEhTnPmzPkJ7SSlfg9EiqxVq1YGDx482JSRkZEm5P5CIyMPD499nTt3NmLmOxEJUrNmTW2UoExJSYkQE8xDQ0Mf/Pbbb7UYzInkQ1Du1auX2cuXL0+KyXy3t7dfjuOjUl8/ESm4GjVqaJ88eXK8yGD+KSwszOX333+vg3KXUr8HooICXQZxpPPt27duApPkviA51dbWdlTZsmU1pL5+IlJQ1atX1z5+/PhYWTAPFxPMZYPRw3nz5tVlMCcSr0iRImrLly+3iomJ8RGa+R4fHx+wfv36DiYmJtxQJ6L/hSQd2VP/6OTk5HcYMEQEc7c//vijHo7jSP0eiAqqkiVLqu/evbtP5v0n5N5D5rsn7j1WXySi/0Kt6WPHjo3KPEYjOJi/e/fuEY7SMJgT/Thsd129enWumMx39EcYMmRIKWa+E1GhypUrax05cmREDoK5+19//dUAy4VSvwciZdG6dWtDFxeXLSIy39Pd3d33dOzYsajU105EErK0tNT6+++/h2W2dhQVzOfPn9+QwZwodyHzvU+fPsW8vLzshGa+y2b0KXfu3LFBrwWpr5+IJFCpUiXNQ4cODZEF81AxwTw8PNwDvZqLFi3KYE6UB5D5jpLJ2NISWvMdme9YaStTpgwz34lUScWKFTUPHjw4SBbMQ8QG84ULFzZiMCfKW7jHVqxY0TI2NlZM5rv/unXr2jPznUhFlC9fXnP//v0DEhMTg0UG88eLFi1qzGBOlD/Mzc3V9+7d21/oMVIE/oiIiKdz586tw5rvREoOR2P27dvXX2wwlw0STxYvXtzEyMiIgwRRPkLVxmvXrv0hIvP9I2q+Dx8+vAzLwxIpKdzco0ePtkDXJrHBfMmSJU2NjY05OhBJoE2bNoaurq5bP378KDjz/erVq/Mww5f62okoDxQvXlz97Nmz04Qeh8kM5k+XLl3ajMGcSDp4GO/Xr19xb2/vc2hNLOT2DQ0Nde7SpYuR1NdORHlg4MCB5qjqJmR2zmBOpFi0tLQKzZo1qwaOjApJkkOXRJxGYcEZIiVjZmamju5pstl5qpBgjpKSNjY2zZktS6Q4kMOyatWq1rGxsX7yHszRavX8+fMzeA8TKZn+/fsXDwsLc5U3CODJPzo6+uXy5ctbcCAgUjylSpXSQM8FeUlyuJd9fHzOs80qkRJBYEYHNfRRFrBMF40GEcWKFWMwJ1JQPXr0MEG7YnkP6HFxcf4TJ06sKPX1ElEu6d27dzEkyAiYnX98+vTp4UaNGvGJnkiBlS5dWuPu3bvL5JWGxUM8jqnyTDqREsCe29GjR0cKmZ2jeMWKFSuskHxDRIoLpWHRCz09PT1e3kO6m5vbTpR5lvqaiegHYWkuODjYQcjs3NPT8whn50QFw6BBg8yjoqKey3tQR4VHrNJJfb1E9APQCe3gwYODhVSYks3OI1evXt1GW1tb6ssmIgGqV6+ujS0yec1b0tLSYrHypqHBni1EBVbnzp2N3rx5c1vemVUMCC9evDjRtGlTfamvmYiEMTAwUDty5MhweYWisM9+/fr1P1FYSuprJqIcKFy4sNqePXv6vX//PkHe7Dw1NTUK+3E6OjpMnCEqIFA9Di1WM/syZPvMHhAQcLNFixaFpb5mIsqB9u3bF3n9+vU1IbNzLy8vO97sRAVPs2bNCvv7+9+QlyODoD9r1qzqbNZCVMDo6+ur7dixw1peBmzm/lrMpk2bOvNYC1HBg3oR165dmyfg+FoaTrtgmV7qayYiEdCZydfX95KQ2bm3t/f5Vq1aGUh9zUQkHuq0L1++3AoP5vLudZxiQSKd1NdMRALp6empbd26tRsyWwXMzmO3bdvWHX9H6usmopzp1auXGRq2yLvfo6KiXg4ePLiU1NdLRAK1bNnSAC0W5R1lwX+OWXzbtm0Npb5mIsq5ihUraj58+HC7vHseCbIbNmzoiKI0RKTgsA++cePGTvKW3wD76zt37uyF/Xapr5uIcg73/d69e/vJqwaJPur29vbLUTZW6msmIjmQqe7l5XVawOz8s7+///UOHToUlfqaiejHjR8/vmJcXNxreQ/yISEh93nfEyk4nCFft25de5wpl3dTv3//PnHfvn0/M+OVSDk0aNBAN3OrLdtE2OTk5Hfz5s2ry+NrRAoMme0vX748JWR2HhgYeKdr167GUl8zEeUOY2NjtbNnz07/+PHj++zuf9l/nn769OnJaNok9TUT0Xegk9KpU6cmYuYtb3aOuu6HDx8egjrvUl83EeUOzLj/+uuvBikpKRFyHui/FpKqW7eurtTXTET/ULZsWY29e/f2T0pKCpEXzDE7Dw4Ovm9tbW0q9XUTUe5C74bQ0FBneeNAbGys75gxYyykvl4i+kapUqU0duzY0TMhIeHNFzmlHzNn58nHjh0bheU5qa+diHIXHu4dHR1XI5td3jiAEy7a2tocB4gUQcmSJdW3bNnSFZmt8hJhsmbneHrv06cP+yITKSEtLa1Cmzdv7iJv6002FHx88ODB5vLly/NAOpHU0AYR3dFiY2N9hARzQC1n7LObmpqyhSKRkho2bFjp6OhoL3njwdu3b9169OjBrTciKZmZmamvXr26DW5aocEciTDBwcEOQ4cOLS319RNR3vnpp5+0nz9/bitvbEhNTY1eunRpM9SCJyIJmJiYqKMRQ1RU1AsxwTw8PPzJ/PnzG6JHutTvgYjyDk6vHD9+fAyOp2U3Lnz69OnD5cuXf8UEQeprJlI5ODe6ZMmSJpGRkZ5igjn+PJ7Eee6USPnh+NqcOXNqJiUlhcoZGz77+fldadKkib7U10ykUvDUjRm2bKb9WF7hmG+DOWbyK1eubMl9cyLVgXbIgYGB9vLGCJyOmTp1ahWpr5dIZWCZ/Pfff6+NJBYRwfxzTEzMq7Vr17YrVqwYgzmRCsEJmFu3bi389OlTRnbjREZGRuqhQ4cGs0ETUT5AF6UZM2ZUCw4OdhQTzFE4Al3XSpQowWBOpGI0NDQKIXE2PT09Tt4qnoeHx/7KlStrSX3NREoNZ0onTJhQMSAg4Ka8QhHfBvP4+Hj/rVu3djc3N2cwJ1JR/fr1Kx4REfFU3piBHJuff/65hNTXS6S0NDU1C40YMaKsj4/PBXnLZt8G84SEhMBdu3b1Zr9jItVmaWmp5e7uvkfeyh5m8WvWrGmLMYeIchnOhQ4YMKDky5cvT+JoiZBgjniOrNaDBw8OsrCw4J1JpOL09PTUDhw4MAj75NkNHJgw3L59e7G5uTknAUS5CcEcpVk9PT3/ltcG8dtgnpKSEm5razuae2FElGXKlCmW8fHxb+SNH0FBQffQflnq6yVSGgjm6ILm4eGxT15RiG+lpaVFnzlzZmrNmjW1pX4PRKQ4GjdurOfn53dZXt2KpKSksF9//bUWzrAT0Q/CjdStWzdjNze3nai5LjSYp6enx1++fPm3evXqsbcxEf0P1J+4dOnSbHlbd5hAnDhxYhzqXUh9zUQFGoJ5p06djFxcXLbI2+/6Fjoq4awpKz0R0fdg1W/x4sVNUlNTo7Jdc//8+dOLFy9O1KpVS0fqayYqsBDM27VrV8TJyWm9LJinCA3mHz58SLp79+6yFi1aFJb6PRCR4urevbtJWFiYq7wxJSYmxhsna6S+XqICCcG8devWhg4ODqtkATpZRDBPlv2d1fi7Ur8HIlJs6Hnu7Oy8AT3Q5Y0rBw4cGGhoaMhldyKxMLuWzbJtMNsWGswxi5fN5je0b9++CBNYiEgebW3tQtu3b+8pb9KAxLmgoCCHwYMHl2JLVSIRGjVqpHfz5s0F2AcXEcxTXVxctmK/ncGciIQaNWpUOZSDljfGIDnu4cOHO9q2bVtE6msmKhBQ+AXHzOTVWf5nMHdzc9uFTHgGcyISo0GDBnoBAQG3MBEXsqV348aN+TwGSyQHmibMnTu3DuqtiwjmaY8fP96PM+pcCiMisVAKGrk6QstIo1DVkiVLmmK8IqJ/UapUKQ17e/sVQm8sLIGhahyqxzGYE1FOYOz4888/6yckJAQJGXdwbv3KlSu/s/UyUTYqVqyo+eTJk0NCWqGi9OvLly9PDRw40JzBnIh+RLly5TSOHz8+Ji0tLVbe2IMEOS8vLzsuuxNlo0KFCgjoB+UFdMzgfX19L40cObIcuyARUW6oU6eOzs2bNxcKqXkRHh7u0bNnT1Opr5lIYaGlIWbd8morx8XF+f3yyy81cOSEiCi3dOnSxVg2WbgooL57KMYgqa+XSGFVq1ZNy8/P74q8p+M3b97cYX12IsptBgYGakeOHBkurwEUZvE4v66lxQaORN9Vu3ZtHVmwvi1vCwvL7VWrVuWdRES5Csde58+f30BefXckxl29enUeE+OI/kXjxo31UY1JXkIKGiVYWlpy85yIct2gQYPMo6KiXsgZhz5he7B69erc9yP6nlatWhmEhoY6y7uRcO4cCXRSXy8RKR8UmvH3978ub+vv3bt37ihmJfX1Eimkzp07G719+9ZNTkD/iFaqZcuWZVUHIsp1KDTj6Oi4Rl7DlqSkpJCZM2dWk/p6iRSStbW1WXh4+BM5e1cZDg4OK1GERurrJSLlo6+vr3b48OGhQhLjtm7d2o1HZ4m+Y8CAASWjoqKeywvoaNxSokQJJqMQUa5DYtzChQsbpaWlxcgbiy5fvvybmZkZxyKifxo+fHiZmJgYbzk30YdLly79ampqypuIiPLEkCFDSkVHR3vJ2f77/Pz5c1ueuCH6jvHjx1eIi4vLtjELSr6eOXNmipGREduqEVGeQAvnzA5s2ULOD3J/pL5eIoUzbdq0KomJicHyArqtre0YFICQ+nqJSDmVKVNGw8nJab28xDjZeBWEcUvq6yVSOHPmzPkpOTn5nZyAnn7w4MHBurq6DOhElCcKFy6sdvTo0RGYQGQ3HqE/+qZNmzqzlSrRP6CFYWpqanR2NxD6n+/evbsPSy4SUV5BYhx6nsvrvoacnosXL842MTFhTg9RFtxAS5cubfr+/fsEeQF9y5YtXflETER5adiwYUjSfZXdeIRCV56enkcqV67MGQZRFgT0VatWtZbXulD2n6euXbu2Hf48EVFeadq0qX5gYOCdL3KEhYW5duzYsajU10ukMNTV1QthLwoz8OxuHtkMPnHZsmUtGNCJKC+VK1dO48GDB5vlJcYlJCQETpkypbLU10ukMFBtaceOHdYfP37MNqCj2MOCBQsaSn29RKTccJLG1tZ2tIDEuKQNGzZ05DYgUSZkre/fv3+AvHKLKSkp4b///nttqa+XiJQbVg1tbGyap6enx2U3JiEx7vz58zONjY25bEgEmcdERsp7Gk5MTAyZMWMGGyIQUZ4bOXJk2djYWJ/sxiQkxj158uQQWzoTZSpatKja6dOnJ8kC+ofsbp74+PiAiRMnVpL6eolI+TVv3rxwUFCQPeJ2duNSaGjog/bt2xeR+nqJFALOcV64cOEXLF9ld+PgaXnUqFHlpL5eIlJ+FhYWmq6urtvkJcZhojFp0iRONIigePHi6tevX/8THYyyu3GioqJeDho0yFzq6yUi5WdoaKh24sSJcfK2AnH6Zt26de2YGEckY25urmFvb79MFtCzfRKOiIh42qdPn2JSXy8RKT8kxi1fvtxKXmIcAv7Zs2ensWkUUaH/NENwdnbeKG9p6927d4+6du1qLPX1EpFqGD16tEVsbKxvduMSEuM8PDz2VapUiYlxROXLl9d0d3ffjRsjuxsnLCzMpW3btoZSXy8RqYaWLVsaBAUFOXyRIyQkxKlNmzYcm4jwZPvs2bOjsoCebTZpcHCwY7NmzfSlvl4iUg0VKlTQdHNz2ylvshEfH+8/fvz4ClJfL5HkqlSpouXt7X3+i5zjIaitXK9ePV2pr5eIVEORIkXUTp06NUFAYlzC6tWr22DfnUil1axZUzsgIOCmnFWtz/7+/tdq1KihLfX1EpFqQIBeuXJlK3mdIBHw7ezsJqOmhtTXTCSpBg0a6Mpm3/ZyEk8+v3r16gxbFRJRfho7dmz5uLi413LGp0+PHj3ajSV6qa+XSFItWrQoHBIScl/eDePp6fl3xYoVecMQUb5p1aqVgbzxCUMUcnzwZ6W+XiJJoWwi+grLCegfkZxiYWHB6g1ElG8wiXB3d98jLzFONov3w2xe6uslklT37t1N3r1755HdzYKiM05OTutKly7NgE5E+Qb74nZ2dlPk9ZpIT0+Px347E+NIpfXt27d4ZGSkp5yAnnHnzp2lJUuW5N1CRPkGAXrNmjVtUeI1uzEKiXHIiEdmvNTXTCSZIUOGlIqOjvaSE9A/XL16dV6xYsUY0IkoX02YMKEizpoL2BbcgUJZUl8vkWQyyyv6yQvo58+fn2lsbMynXyLKV6hQGRIS4vwle5+DgoLuWVlZMTGOVNfkyZMtExIS3shbzjp58uR4LmcRUX5DNcvHjx/vl5cYh7rvsgkKWzyT6po1a1b1pKSkUDkBPf3IkSPD9fX1GdCJKF9hZfDs2bPTsVKY3TiFzmzo0MbEOFJZc+fOrZOSkhIhL6Dv27evv46ODgM6EeUr9Dpft25d+w8fPiTJW0k8fvz4WPRSl/qaifKdmppaoYULFzaSPdnGZnejZGRkpG3fvr2npibzTYgo/02aNEnu1iAS41xdXbeyXgapJAR0LFHJe/KVBfTUjRs3duJSFhFJAQWwQkNDXb5k7zPKWDdv3ryw1NdLlO8QoLGUhYAtb8n9wIEDA7mURURSQB8JIW2eY2JivEeMGFFW6uslyndYQt+6dWt3LKnLWcr6FBIS4vTLL7/UYGIcEeW32rVr63h6eh6Rl+mOxLhly5a14GoiqRwtLa1Cu3bt6o0ZuJylrK/lX3HOk0GdiPITjstiJVHeaZys1cRDhw4N0dPT4xhFqkVoWUUGdSKSAsao8ePHV3j79u1DecvtgHygTZs2dWYCL6kkFGKIjo5+JSSgM6gTUX5q27ZtEQ8Pj33yzqBn7Q6Gh4d7DB48uJTU100kCdQ+vnLlylx5me4M6kSUnypUqKB54cKFWbKxKVnIuPT+/fuEEydOjCtRogQ30El1tW7d2vDWrVuLcEMwqBOR1LBvvnbt2nYJCQmBQsYjFJV5+PDh9pYtW7KWO1HTpk31b9y4MZ9BnYikhH3zsWPHlg8LC3MVsm+OzPfg4GDHESNGlGF2O1EmBnUikhq6q3l4eOwVum+O1qorVqxoaWBgwPGH6FsM6kQkFeT0oFWz0JwejFN2dnaTy5Yty3KvRN/DoE5E+Q375jhGK2bf3M3NbUerVq24b06UHQZ1Isov2PseM2aMhZh9c1SvHDlyZFnumxMJwKBORPmhTZs2hu7u7nsE7pt/iY+PD1i5cmUr7psTidCkSRMGdSLKMxUrVhS7b5545syZKeXKleO+OZFYDOpElBfKlCmjsWfPnn5C6rQD9s0fPXq0i/vmRD+AQZ2IclPVqlW1ZMG8L5bPsS0ubzzBvnloaKjzqFGjynHfnOgHMagT0Y9SU1Mr1KJFi8IXL178JTk5+a2QJLgv/zlvHrBq1arWhoaGHEeIcgODOhHlFGbW3bp1M75///5aoV0eAX/27Nmz0ywsLLhvTpSbGNRJ1eA3W6dOHZ2hQ4eWHj58eBn877q6uvwdi4DPC5/dkydPDmZkZKQKHTsy9813o+eE1O+BSCkxqJOyQwCqUaOG9ujRoy0OHDgw6NmzZ8eio6O9YmJiXj1//vz4hg0bOtatW1cHS8iUPRMTE/U//vijXkBAwC0EaKFjBpbjQ0NDH6DNM/fNifIQgzopGx0dHTUka2EmuXfv3n6y2eQhWQD3wYwSSVnfBJpPKSkpkY6Ojqv79+9fQk9Pj7/lf1GqVCkNVICLiIh4+u1nKCSeJyYmBq1evboN982J8gGDOhV02trahSwtLTUHDx5caseOHdbu7u57MROXBfEUeQFINttMl806b9rY2DTjuej/r2bNmtr79+8fEBcX5ycw+e2/M3M0XTl8+PAQfq5E+ehHgvrMmTOrcy+S8puWltbXgiYDBgwouXXr1m7opR0VFfUcxU1EziK/ztYRfJC01a5duyIaGow/2IbAWfGrV6/OTUlJCf8i4Fjat59nZGTks/Xr13fAOXWp3wuRyslpUMfsZty4ceU1NTWlfguk5PAbQzevvn37Ft+4cWOnBw8ebMIyMDKoxQbx78HDABK+pk6dWgV7xlK/X6nggaZHjx6mzs7OG4VWf/tmTPiAB/358+c3NDU1VdnPkEhyOQzqH7y8vOwwU2LSC+U2BHG01uzVq5fZ2rVr292/f39deHi4R3p6erwsiH/80SD+nd9zhuzff4Kle2TCq1rCHLbQxo4dW97T0/NIRkZGmpjPDnkK+Hv4+9yKI1IAOQnqyHrFzMba2tpU1QZAyn2YIZYuXVqje/fuJihEcu/evRVv3751kwXxOKwK5XYQ/yfs/6ampkY6ODis6tevX3FV2VLCjBoza8ywhTZZyYJVEszoe/bsacotCyIFkpOgjqf5hw8f7ujcubMRgzqJhdUdc3NzjS5duhgtW7asxZ07d5aGhYW5pKWlxWDWnNdB/N9+0/7+/teXLFnSFKsEUn9GeQl73djzxt63mO0LPPxgjx177dhz571PpIAyg/pfWNoUMQCmODk5rW/btq0hb2ySB0G8RIkS6h06dCiKoHnz5s0F6JEtmx1HSxXEvxOwPsXFxb1GdzD8rpVx9omthcOHDw9FaVaxmezIfkcWPLLhpX4fRJSNrKAuZqaOJJq7d+8ua9asWWGpr58UDx70ihUrpo7+2QsWLGh07dq1P4KDgx2xxJ2XQRyB+ePHj2mZ59EFB61vf9ePHz8+MHnyZEsTExOleFrFd4GHFKzGyT7/qC8iM9mRkIjz6TinLvV7ISIBmjdvXvjevXsrxWS7Yj8NS3B169bVlfr6SXoIHNiftbKyKjxv3ry6ly9f/jUwMPBuSkpKhNi9WrFBHKtGsbGxPk+fPj186NChIUePHh2B/XhZcBf935uZMOexffv2HrVr1y7QCXNINkSioYuLyxaxmezImUHFOFSOU5aHGyKVkHUeFYlJshs/WehNjyf+kydPTqhSpYqW1O+B8h9+N8bGxmrNmjXT//XXX2udP39+pr+//43k5OR3mUFc9CxZRBBPxVIwSr0ePHhwMLKusSSManC4Jtn/beHm5rYzcztJ1HVk7hlH4H7A8bmCmDBnYGCgNnHixEovXrw4kYNM9hQkwI4YMaJMQXzvRCoPgzMKbiCLFTe00LEvKSkpDPtrLC6hGvA7KVq0qFrjxo31UEXQzs5uip+f3xXZ7yA0s/53XgbxNOwBy4LUySNHjgyfMGFCRcyiv3d8Cnv3aP9pa2s7GmVhc3L8Df99r1+/vrZ48eImBen3je2ORYsWNUFfcrFbHNh6Q5c1dFvjEVWiAgyDddeuXY0fPXq0S8RT/dceyKjkVbJkSY4ASgp1uhs0aKA7ffr0qidPnhzv4+NzPjExMRhlVXOyXy0wiH/Gv5+QkBD46tWrM7LgPGbKlCmV69Wrp4sZqJDrxt7v/PnzG8iu94KY7mHfPkhgJeD06dOT0ElM0YMcSrBu2rSpc1RU1Auxmezoe37x4sXZ2DYpyFsNRJQJA1bv3r3NPD09/xbacQmDAWZBKApiZmam2CMeCYblVmRHI0kMM10UF5IF1zd42MvrII6HBQRhbOngIaJhw4Z6RYoUUctJoEEdeJydvn379mIErRxc+2fkjHh4eOybNGlSJSzpS/3dfA8euPA94TsSm8mOHITdu3f3qVatGrfPiJQJgvqQIUNKeXt7nxe6ZIdBAbMCnC82MjJSyAGPhEMg37JlS1fsUaMGemYQ/+HSq//288HDI7ZvsHyP42NYzscJDPyWcmO2iH8DbVY3b97cBQlzOUnUw9959+6d+9atW7vXqlVLYRLmcB3t27cvcufOnSU40/9FXCb7x/Dw8MerVq1qxRU2IiWFxhiYjSBTWej+IwZ8lNTEEqfQJVFSLFnHnK5fv/4njpnlZRBHgEQCHRLpkFD322+/1cJRSMyA8ypY4gFh3LhxFR49erQ786hmThLmwnFss3fv3sXQylXK7wuZ7EjcQ+MaMQmtgIeo169fX8XnzodwIiWHjGHZzV5bNit5JHRgx59D9a9Zs2ZVl3qwI3G0tbXVUK8/MziIOuYkFII4MsjxoIijbTgWZWVlZYAjb/k148UKVMuWLQ1OnDgxLjY21jcnDy3Yj/fz87u8aNGixlIlzGELAtsR2ArB+XuR15+CLQS0o+V9SqQiMGhg0EKBCRFB/SPKaeLoEDu0FQzoPDZ37tw6WPLGHnYuxvCvM3HM9oODgx1QZGbBggUNUXQG2dhSLlujljwK3/j6+l7MacKc7IHA79SpUxNx7DM/E+aKFy+ubmNj0/zt27cPRWayf8ZRPtSwRwleRU/yI6JchsF+5cqVLaOjo18KTbbBIP7y5ctTP//8cwkOGooNmdEbNmzoGBkZ6ZlLS+wI4hko74oyrzdv3lyIsq8o/4oysIr0e8CqhLW1tRn2n7H8n9OEOXd39704RpcfCXPoEb9t27busvvRS2wme1JSUsiZM2emNm3aVF9RcgCIKJ9hRoBBHzMSoYMeZnoopYkMY0UaxOk/MKBjYMcxNLGZ0f8WxJGUhS0XNF5BgiRmgWjIosjfPz4HFKVBEiC2l34wYa7bTz/9pJ0XwRL/Js7/nz59eiJOAYjMZP8UExPzavv27T0tLS2ZyU6k6jAwo4e0bPAP+iIwmSizQ9t2dmhTLGhAgtaljo6Oa9CyVOj3+b0gjr+PzHGUD0YrVPy7WM4uaE1OkBiGWbZstr3nRxLmZA8zNii5mpt703gg6tSpk5G9vf3yzO9LzMNGBh5Uli9f3gIrJFJ/zkSkICwsLDTRtQnLk0IHFCTg3L9/fx32TRnUpYe8CJxgwJG0HO4df8Q+LGqe43tF/QEEMLQfLeg5Ewic2A/HqsUPJMyl+fr6Xlq4cGEjPNj86DXhHP3AgQNLyh40douo4vgVVslQBAhJqvjepf58iUjB4Dzv2bNnp8kG9VihAwuO1Ny9e9cGdb+lvn5Vhv3ydevWtQ8LC3MVWxYUfx5BzsXFZevGjRs74bhU+fLlNQt6EP8eBGIEZFlgvvwDCXO+yKT/kcprCMI4k48HBLHJirjn3NzcdiGPBcdQiYi+C5W70NsaCUFCBxgsYyLLuVGjRnpSX7+qQUDB537kyJEROdkvR3DAMadp06ZVsbS01FSFAIElc1RNxIMoltJzmDCXgG5nOA4odgkeVReXLl3aLPPYqJha9Mhkj8VZ+Y4dOxZV5PwFIlIQOD+c2XZVcEEL7P+h7SqDev7Bkm2fPn2KoelGWloaVlVElQXFuXE8vCFLXdWCAx6EkOSG6nBIestJwhxm1mjy8ueff9bHUT0h/72o2oatjKioqOdiM9mR44ItA95jRCRYVsnJBw8ebBKzt8egnn8QQNCfPLM5iajiI5nLxj7opodSp1K/FynhOBrakXp4eOzNXJUSmzD3CaWRd+zY0bN69era2f13IU8F/dgz9/BFZbLjaCmy9StUqKB8+yBElLe+6dC2W0zAYFDPe7KZpc7OnTt7ie28BdgvR9GS5cuXW5mbm6vWtPxfYHUCHddQSAYd2MR+plkdzbDt9G+rHVgN+Pvvv4djli0mmOP7Ql4EluiFrgIQEf0/33RoOyK0QxuDet5Bkhoesm7durUoJ3u/SAJ7/vy5LbqsMTP6/0OpV/RIR1U9sasekJWPMGrUqHJZPQ+yagKgfSm2OL6IWAHANXh5eZ2eOnVqZbS5lfrzIaICDkF96NChpXFERkz2NIN67sLS8LRp06pmHkkTdcTpS2ZZUOy19+jRw7SgnSPPT0hwQ14CzoXn5KEJe/EhISH3Ub4VJw/atWtXBMl3meffRT0cPHz4cBuuRRlPGxCRRJD5jFldYGCgvZisXAb13FGpUiVNVPPD+XCxR9Iyk6kCT58+PQlHC1kvQD58Rsgt2LZtW4/Mz1xUwlzW0TY0qUHpWJHd0j6npaVF37p1azEeBvh9EVGuQ4e2OXPm/IQa3gzq+QOrI2h5iuVasSVBAcEfPbHxMIBz5VK/n4IGqyJ4kH3y5MlBsS1Mv2T2gpd9B4LvFXy/+J6PHz8+pn79+rpSv38iUmKFCxdW+/XXX2sxqOc97MFiLxZVxHLS8hTL8i9evDgxc+bM6vnRWERZYXsCZ75v3LgxPyUlJSdNXgQHc/RTQLIjmrRI/b6JSAUwqOc9JGetWLGiJT5jMcmIWYEBLU3RRKVbt24m3H/NHWjygmCb2ZkwNzrXffud4ejby/Xr13dAXwWp3ysRqRAG9byB/dJmzZoVPn78+Ni4uLjXOTg+9fW88u7du/vWrl1bh/uvuQvHxubPn9/Q39//Rm71lsd3hm0RdLBDBTmp3yMRqSAG9dylq6urhtrcKOaDjPQvIguc4IiTn5/fZVQtQ0tcqd+PssL3NGjQIHNXV9dtOdkK+RZyHIKDgx3/+OOPeugIJ/V7IyIVxqCeO9D6csGCBQ1RRjQHMz8cSYtzcnJa369fv+K52dqTvg8rH+jcduHChVk5SVYEbKV4e3ufQ9Kdvr4+vzMikl5mUGf2ew4gMNStW1d33759/aOjo71yssSORKpjx46NatKkCY+k5TMcJ0R3uoiIiCdistlR4AeZ85jpq0IzHCIqQBjUxUOyWo8ePUzs7e1XpKamRomd5WGGFxwc7IC919zozU05Y2JiojZ79uyar169shPSjhXH31xdXbf27NnTVNUa4hBRAcHld+FMTU3VEQRQ1jMnPbnRRMTNzW3n8OHDy+Bzl/r9qDo8nFlbW5vK63qH783BwWEVjsFxNYWIFBpn6vJVrVpVa8uWLd0iIiKeiuyF/XWJHc09zp8/P7NNmzaGnOEpDgToxo0b62P7A1Xivl2Cx+oLAj1q8Lds2dKAwZyICgQG9e9D8MXMTPYe5yUnJ4flpOrbu3fvHq1bt649W2gqLmx//PXXX/VdXFy2vH371i0yMvKZj4/PxX379v2srL9tIlJiDOr/C53NJkyYUDGHJUSx75ri6en5NzKiixYtyumdgsMSPB66unXrZoyjiPXq1dPN6r5GRFTgMKj/h4WFhcbq1avboAd5Dpp8oM/2O5Qd7dy5sxG7pBERkSRUOahjiR37pXZ2dlPi4+PfiF1ix+eF5drt27f3rFGjhrbU74eIiFScKgZ1FAoZMmRIKVQTQ2az2CV2ZL57e3uf/f3332uzHCgRESmM3DjSVlAyg0uVKqWxZMmSpm/evLmTk8Yq6IXt4OCwGsegWHSEiIgUzo/M1G/fvr1kypQplQcMGFCyd+/eZkg26tChQ1EsaaNCGqqtYVkaR8IsLS010X4Se9foWoYAi9KqmOmijSgS1JCghP7u2traXxOYsDyOB4asV07g7zVs2FDv8OHDQ2NjY31yUvUtJibG++DBg4MbNGhQYB5giIhIBeU0qKPxSHx8fEBUVNQLnN9+9+6de1hYmGtoaKgzqqUFBgbeQQcsHx+fC+gBjmxyNze3Hc7OzhtQie3mzZsLr1y58vv58+dnnDp1aiLOCh86dGjwnj17+m3fvr0HyneuWbOmLaquLVq0qDGaZcyZM+en6dOnV500aVKlMWPGWAwbNqz0vz1Q1K9fXxdlPB0dHddkV1jk36B+e0BAwK3Fixc3KVmyJJfYiYhI8eU0qItZtsZsN/P1EQU+cIY78/VBFjzxeo8gihceFjJfqeiehRUBlGJFdnliYmIIEtri4uL8ZLPnV9k8UNyNjIz0zEljlffv3yegFOjgwYPNsWog9fdDREQkWF4H9YIADxxYdTh9+vQkKyurwlxiJyKiAkmVgzpWCmQzfJdVq1a1LleuHA+XExFRwaaKQR2V4h4/frx/3Lhx5Q0NDTktJyIi5ZDTI20FDTb2k5KSQpGc1759+yJsrEJEREpH2WfqSMiLiIh4snnz5i5VqlTh4XIiIlJe38zU7yMASh2Ec0tGRkbKixcvTs6aNau6iYkJl9iJiEj5Iajj7PezZ8+O4jx35vEyvD4gkeyb42cfMZP/5ngazn2LOvud13BNqampkXfv3rXp3r27CQrYEBERqQwEPisrK4NVq1a1OnPmzBQ7O7vJ586dm3758uVf0XVMFiCXOTk5rXv48OF2JJc9f/7c1tvb+7y/v/91lFsNCgq6h6V7ZJGjfziWuiMjI59HR0d7xcbG+uKoWGJiYnBycvJbBFw8OKDeOmbSOIuOM+myB4i0rHPqYh8ovh6Cl/0ZVIvbu3dv/zp16ujwSBoREakstAo1MjJSQ/9vlGw1NTVVL168uLq5ubl66dKlNXDcCz2nK1WqpIl96erVq2sjeDZu3FgPDwRIPOvatatxr169zNCTeujQoaVHjx5dbuLEiRWnTZtWdfbs2TXnzZtXd+HChY1sbGyao8Xphg0bOm7btq377t27+x48eHDQ0aNHR548eXJC5gPFbwIeKG77+vpeunfv3gpUm8O1Sv05EhERqYysGu7IPMcKAZqi6OrqqmELALXf//lAgRrx33ugqF27tg5qyqN+PHuXExERERERERERERERERERERERERERERERERERERERERERERERERERERERERERERERERERERERERERERERERERERERERERERERERERERERESmO/wMiTe2zQswaIgAAAABJRU5ErkJggg==' style='width:500.0px;height:300.0px;' /><div style='position: absolute; top:0; left:0; padding:1px 3px; background: #777; color:#fff; font-size: 90%; font-family:sans-serif; '>initial snapshot</div></div>"
      ],
      "text/plain": [
       "<jupyter_rfb._utils.Snapshot object>"
      ]
     },
     "metadata": {},
     "output_type": "display_data"
    },
    {
     "data": {
      "application/vnd.jupyter.widget-view+json": {
       "model_id": "1ad382c3d2c94b3bae8b66a0be34e7f7",
       "version_major": 2,
       "version_minor": 0
      },
      "text/plain": [
       "JupyterWgpuCanvas()"
      ]
     },
     "execution_count": 8,
     "metadata": {},
     "output_type": "execute_result"
    }
   ],
   "source": [
    "plot.show()"
   ]
  },
  {
   "cell_type": "code",
   "execution_count": 9,
   "id": "73ab4a53-f26b-4668-8603-eba027449d82",
   "metadata": {},
   "outputs": [],
   "source": [
    "red = np.array([1.0, 1.0, 1.0, 1.0]) "
   ]
  },
  {
   "cell_type": "code",
   "execution_count": 10,
   "id": "3803b5d4-0c1e-4b0d-803c-7bb769a310d2",
   "metadata": {},
   "outputs": [],
   "source": [
    "single_contour.link(event=\"click\", target=single_contour, feature=\"color\", new_data=red)"
   ]
  },
  {
   "cell_type": "code",
   "execution_count": null,
   "id": "ba6339e2-247a-4ae6-b2a7-0f105c2511c9",
   "metadata": {},
   "outputs": [],
   "source": []
  }
 ],
 "metadata": {
  "kernelspec": {
   "display_name": "Python 3 (ipykernel)",
   "language": "python",
   "name": "python3"
  },
  "language_info": {
   "codemirror_mode": {
    "name": "ipython",
    "version": 3
   },
   "file_extension": ".py",
   "mimetype": "text/x-python",
   "name": "python",
   "nbconvert_exporter": "python",
   "pygments_lexer": "ipython3",
   "version": "3.9.2"
  }
 },
 "nbformat": 4,
 "nbformat_minor": 5
}
