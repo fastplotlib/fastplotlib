{
 "cells": [
  {
   "cell_type": "code",
   "execution_count": 1,
   "metadata": {},
   "outputs": [
    {
     "data": {
      "application/vnd.jupyter.widget-view+json": {
       "model_id": "5d9f9913391a42af95d4d43d07c17b19",
       "version_major": 2,
       "version_minor": 0
      },
      "text/plain": [
       "RFBOutputContext()"
      ]
     },
     "metadata": {},
     "output_type": "display_data"
    },
    {
     "data": {
      "application/vnd.jupyter.widget-view+json": {
       "model_id": "9cd08c319b814934a09fd266a1b6322b",
       "version_major": 2,
       "version_minor": 0
      },
      "text/plain": [
       "JupyterOutputContext(children=(JupyterWgpuCanvas(), IpywidgetToolBar(children=(Button(icon='expand-arrows-alt'…"
      ]
     },
     "execution_count": 1,
     "metadata": {},
     "output_type": "execute_result"
    }
   ],
   "source": [
    "from time import time\n",
    "\n",
    "import numpy as np\n",
    "import fastplotlib as fpl\n",
    "\n",
    "plot = fpl.Plot()\n",
    "\n",
    "points = np.array([[-1,0,1],[-1,0,1]], dtype=np.float32).swapaxes(0,1)\n",
    "size_delta_scales = np.array([10, 40, 100], dtype=np.float32)\n",
    "min_sizes = 6\n",
    "\n",
    "def update_positions():\n",
    "    current_time = time()\n",
    "    newPositions = points + np.sin(((current_time / 4) % 1)*np.pi)\n",
    "    plot.graphics[0].data = newPositions\n",
    "\n",
    "def update_sizes():\n",
    "    current_time = time()\n",
    "    sin_sample = np.sin(((current_time / 4) % 1)*np.pi)\n",
    "    size_delta = sin_sample*size_delta_scales\n",
    "    plot.graphics[0].sizes = min_sizes + size_delta\n",
    "\n",
    "scatter = plot.add_scatter(points, colors=[\"red\", \"green\", \"blue\"], sizes=12)\n",
    "plot.add_animations(update_positions, update_sizes)\n",
    "\n",
    "plot.camera.width = 12\n",
    "plot.show(autoscale=False)"
   ]
  },
  {
   "cell_type": "code",
   "execution_count": null,
   "metadata": {},
   "outputs": [],
   "source": []
  }
 ],
 "metadata": {
  "kernelspec": {
   "display_name": "Python 3 (ipykernel)",
   "language": "python",
   "name": "python3"
  },
  "language_info": {
   "codemirror_mode": {
    "name": "ipython",
    "version": 3
   },
   "file_extension": ".py",
   "mimetype": "text/x-python",
   "name": "python",
   "nbconvert_exporter": "python",
   "pygments_lexer": "ipython3",
   "version": "3.11.3"
  }
 },
 "nbformat": 4,
 "nbformat_minor": 4
}
