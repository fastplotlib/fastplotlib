{
 "cells": [
  {
   "cell_type": "markdown",
   "id": "a06e1fd9-47df-42a3-a76c-19e23d7b89fd",
   "metadata": {},
   "source": [
    "## `LinearSelector`, draggable selector that can optionally associated with an ipywidget."
   ]
  },
  {
   "cell_type": "code",
   "execution_count": null,
   "id": "eb95ba19-14b5-4bf4-93d9-05182fa500cb",
   "metadata": {},
   "outputs": [],
   "source": [
    "import fastplotlib as fpl\n",
    "from fastplotlib.graphics.selectors import Synchronizer\n",
    "\n",
    "import numpy as np\n",
    "from ipywidgets import VBox, IntSlider, FloatSlider\n",
    "\n",
    "fig = fpl.Figure()\n",
    "\n",
    "# data to plot\n",
    "xs = np.linspace(0, 100, 1000)\n",
    "sine = np.sin(xs) * 20\n",
    "\n",
    "# make sine along x axis\n",
    "sine_graphic = fig[0, 0].add_line(np.column_stack([xs, sine]).astype(np.float32))\n",
    "\n",
    "# make some selectors\n",
    "selector = sine_graphic.add_linear_selector()\n",
    "selector2 = sine_graphic.add_linear_selector(20)\n",
    "selector3 = sine_graphic.add_linear_selector(40)\n",
    "\n",
    "ss = Synchronizer(selector, selector2, selector3)\n",
    "\n",
    "def set_color_at_index(ev):\n",
    "    # changes the color at the index where the slider is\n",
    "    ix = ev.pick_info[\"selected_index\"]\n",
    "    g = ev.pick_info[\"graphic\"].parent\n",
    "    g.colors[ix] = \"green\"\n",
    "\n",
    "selector.selection.add_event_handler(set_color_at_index)\n",
    "\n",
    "# fastplotlib LineSelector can make an ipywidget slider and return it :D \n",
    "ipywidget_slider = selector.make_ipywidget_slider()\n",
    "ipywidget_slider.description = \"slider1\"\n",
    "\n",
    "# or you can make your own ipywidget sliders and connect them to the linear selector\n",
    "ipywidget_slider2 = IntSlider(min=0, max=100, description=\"slider2\")\n",
    "ipywidget_slider3 = FloatSlider(min=0, max=100, description=\"slider3\")\n",
    "\n",
    "selector2.add_ipywidget_handler(ipywidget_slider2, step=5)\n",
    "selector3.add_ipywidget_handler(ipywidget_slider3, step=0.1)\n",
    "\n",
    "fig[0, 0].auto_scale()\n",
    "fig.show(add_widgets=[ipywidget_slider])"
   ]
  },
  {
   "cell_type": "code",
   "execution_count": null,
   "id": "7ab9f141-f92f-4c4c-808b-97dafd64ca25",
   "metadata": {},
   "outputs": [],
   "source": [
    "selector.step = 0.1"
   ]
  },
  {
   "cell_type": "markdown",
   "id": "3b0f448f-bbe4-4b87-98e3-093f561c216c",
   "metadata": {},
   "source": [
    "### Drag linear selectors with the mouse, hold \"Shift\" to synchronize movement of all the selectors"
   ]
  },
  {
   "cell_type": "markdown",
   "id": "c6f041b7-8779-46f1-8454-13cec66f53fd",
   "metadata": {},
   "source": [
    "## Also works for line collections"
   ]
  },
  {
   "cell_type": "code",
   "execution_count": null,
   "id": "e36da217-f82a-4dfa-9556-1f4a2c7c4f1c",
   "metadata": {},
   "outputs": [],
   "source": [
    "sines = [sine] * 10\n",
    "\n",
    "fig = fpl.Figure()\n",
    "\n",
    "sine_stack = fig[0, 0].add_line_stack(sines)\n",
    "\n",
    "colors = \"y\", \"blue\", \"red\", \"green\"\n",
    "\n",
    "selectors = list()\n",
    "for i, c in enumerate(colors):\n",
    "    sel = sine_stack.add_linear_selector(i * 100, color=c, name=str(i))\n",
    "    selectors.append(sel)\n",
    "    \n",
    "ss = Synchronizer(*selectors)\n",
    "\n",
    "fig.show()"
   ]
  },
  {
   "cell_type": "code",
   "execution_count": null,
   "id": "71ae4fca-f644-4d4f-8f32-f9d069bbc2f1",
   "metadata": {},
   "outputs": [],
   "source": []
  }
 ],
 "metadata": {
  "kernelspec": {
   "display_name": "Python 3 (ipykernel)",
   "language": "python",
   "name": "python3"
  },
  "language_info": {
   "codemirror_mode": {
    "name": "ipython",
    "version": 3
   },
   "file_extension": ".py",
   "mimetype": "text/x-python",
   "name": "python",
   "nbconvert_exporter": "python",
   "pygments_lexer": "ipython3",
   "version": "3.11.3"
  }
 },
 "nbformat": 4,
 "nbformat_minor": 5
}
