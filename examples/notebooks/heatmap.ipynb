{
 "cells": [
  {
   "cell_type": "markdown",
   "id": "d8c90f4b-b635-4027-b7d5-080d77bd40a3",
   "metadata": {},
   "source": [
    "# Looking at very large arrays"
   ]
  },
  {
   "cell_type": "code",
   "execution_count": null,
   "id": "49b2498d-56ae-4559-9282-c8484f3e6b6d",
   "metadata": {
    "tags": []
   },
   "outputs": [],
   "source": [
    "import numpy as np\n",
    "import fastplotlib as fpl"
   ]
  },
  {
   "cell_type": "markdown",
   "id": "908f93f8-68c3-4a36-8f40-e0aab560955d",
   "metadata": {},
   "source": [
    "## Generate some sine and cosine data"
   ]
  },
  {
   "cell_type": "code",
   "execution_count": null,
   "id": "40718465-abf6-4727-8bd7-4acdd59843d5",
   "metadata": {
    "tags": []
   },
   "outputs": [],
   "source": [
    "xs = np.linspace(0, 1_000, 20_000)\n",
    "\n",
    "sine = np.sin(np.sqrt(xs))\n",
    "\n",
    "data = np.vstack([sine * i for i in range(10_000)])"
   ]
  },
  {
   "cell_type": "code",
   "execution_count": null,
   "id": "02b072eb-2909-40c8-8739-950f07efbbc2",
   "metadata": {
    "tags": []
   },
   "outputs": [],
   "source": [
    "data.shape"
   ]
  },
  {
   "cell_type": "code",
   "execution_count": null,
   "id": "84deb31b-5464-4cce-a938-694371011021",
   "metadata": {
    "tags": []
   },
   "outputs": [],
   "source": [
    "fig = fpl.Figure()\n",
    "\n",
    "fig[0, 0].add_image(data, cmap=\"viridis\")\n",
    "\n",
    "fig.show(maintain_aspect=False)"
   ]
  },
  {
   "cell_type": "code",
   "execution_count": null,
   "id": "df3f8994-0f5b-4578-a36d-4cd9bf0733c0",
   "metadata": {},
   "outputs": [],
   "source": []
  }
 ],
 "metadata": {
  "kernelspec": {
   "display_name": "Python 3 (ipykernel)",
   "language": "python",
   "name": "python3"
  },
  "language_info": {
   "codemirror_mode": {
    "name": "ipython",
    "version": 3
   },
   "file_extension": ".py",
   "mimetype": "text/x-python",
   "name": "python",
   "nbconvert_exporter": "python",
   "pygments_lexer": "ipython3",
   "version": "3.11.3"
  }
 },
 "nbformat": 4,
 "nbformat_minor": 5
}
