{
 "cells": [
  {
   "cell_type": "markdown",
   "id": "d8c90f4b-b635-4027-b7d5-080d77bd40a3",
   "metadata": {},
   "source": [
    "# The `HeatmapGraphic` is useful for looking at very large arrays\n",
    "\n",
    "`ImageGraphic` is limited to a max size of `8192 x 8192`"
   ]
  },
  {
   "cell_type": "code",
   "execution_count": null,
   "id": "49b2498d-56ae-4559-9282-c8484f3e6b6d",
   "metadata": {
    "tags": []
   },
   "outputs": [],
   "source": [
    "import numpy as np\n",
    "import fastplotlib as fpl\n",
    "\n",
    "from tqdm import tqdm"
   ]
  },
  {
   "cell_type": "markdown",
   "id": "908f93f8-68c3-4a36-8f40-e0aab560955d",
   "metadata": {},
   "source": [
    "## Generate some random neural-like data"
   ]
  },
  {
   "cell_type": "code",
   "execution_count": null,
   "id": "40718465-abf6-4727-8bd7-4acdd59843d5",
   "metadata": {
    "tags": []
   },
   "outputs": [],
   "source": [
    "def generate_traces(n_components, n_frames):\n",
    "    n_frames = n_frames + 50\n",
    "    n_components = n_components\n",
    "    \n",
    "    out = np.zeros((n_components, n_frames), dtype=np.float16)\n",
    "    \n",
    "    xs = np.arange(0, 50, 1)\n",
    "    # exponential decay\n",
    "    _lambda = 0.1\n",
    "    ys = np.e**-(_lambda * xs)\n",
    "    \n",
    "    for component_num in tqdm(range(n_components)):\n",
    "        time_step = 0\n",
    "        while time_step < n_frames - 50:\n",
    "            firing_prop = np.random.randint(0, 20)\n",
    "            if np.random.poisson() > firing_prop:\n",
    "                out[component_num, time_step:min(time_step + 50, n_frames - 1)] = ys.astype(np.float16)\n",
    "                time_step += 100\n",
    "            else:\n",
    "                time_step += 2\n",
    "                \n",
    "    return out[:, :n_frames - 50]"
   ]
  },
  {
   "cell_type": "markdown",
   "id": "fc1070d9-f9e9-405f-939c-a130cc5c456a",
   "metadata": {},
   "source": [
    "Generate an array that is `10,000 x 30,000`, this may take a few minutes"
   ]
  },
  {
   "cell_type": "code",
   "execution_count": null,
   "id": "8a1b83f6-c0d8-4237-abd6-b483e7d978ee",
   "metadata": {
    "tags": []
   },
   "outputs": [],
   "source": [
    "temporal = generate_traces(10_000, 30_000)"
   ]
  },
  {
   "cell_type": "code",
   "execution_count": null,
   "id": "f89bd740-7397-43e7-9e66-d6cfb14de884",
   "metadata": {
    "tags": []
   },
   "outputs": [],
   "source": [
    "plot = fpl.Plot()\n",
    "\n",
    "plot.add_heatmap(temporal, cmap=\"viridis\")\n",
    "\n",
    "plot.show(maintain_aspect=False)"
   ]
  },
  {
   "cell_type": "code",
   "execution_count": null,
   "id": "84deb31b-5464-4cce-a938-694371011021",
   "metadata": {},
   "outputs": [],
   "source": []
  }
 ],
 "metadata": {
  "kernelspec": {
   "display_name": "Python 3 (ipykernel)",
   "language": "python",
   "name": "python3"
  },
  "language_info": {
   "codemirror_mode": {
    "name": "ipython",
    "version": 3
   },
   "file_extension": ".py",
   "mimetype": "text/x-python",
   "name": "python",
   "nbconvert_exporter": "python",
   "pygments_lexer": "ipython3",
   "version": "3.11.3"
  }
 },
 "nbformat": 4,
 "nbformat_minor": 5
}
