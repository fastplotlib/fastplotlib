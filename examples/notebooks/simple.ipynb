{
 "cells": [
  {
   "cell_type": "markdown",
   "id": "93740a09-9111-4777-ad57-173e9b80a2f0",
   "metadata": {
    "tags": []
   },
   "source": [
    "# Introduction to `fastplotlib`\n",
    "\n",
    "This notebook goes through the basic components of the `fastplotlib` API, image, image updates, line plots, and scatter plots. "
   ]
  },
  {
   "cell_type": "markdown",
   "id": "ae07272b-e94b-4262-b486-6b3ddac63038",
   "metadata": {},
   "source": [
    "**The example images are from `imageio` so you will need to install it for this example notebook. But `imageio` is not required to use `fasptlotlib`**"
   ]
  },
  {
   "cell_type": "code",
   "execution_count": null,
   "id": "6674c90b-bfe3-4a71-ab7d-21e9cc03c050",
   "metadata": {
    "tags": []
   },
   "outputs": [],
   "source": [
    "!pip install imageio"
   ]
  },
  {
   "cell_type": "code",
   "execution_count": null,
   "id": "5c50e177-5800-4e19-a4f6-d0e0a082e4cd",
   "metadata": {
    "tags": []
   },
   "outputs": [],
   "source": [
    "import imageio.v3 as iio"
   ]
  },
  {
   "cell_type": "code",
   "execution_count": null,
   "id": "fb57c3d3-f20d-4d88-9e7a-04b9309bc637",
   "metadata": {
    "tags": []
   },
   "outputs": [],
   "source": [
    "from fastplotlib import Plot\n",
    "from ipywidgets import VBox, HBox, IntSlider\n",
    "import numpy as np"
   ]
  },
  {
   "cell_type": "code",
   "execution_count": null,
   "id": "1d374d5e-70e0-4946-937f-82d16a56009f",
   "metadata": {
    "tags": []
   },
   "outputs": [],
   "source": [
    "# this is only for testing, you do not need this to use fastplotlib\n",
    "from nb_test_utils import plot_test, notebook_finished"
   ]
  },
  {
   "cell_type": "markdown",
   "id": "a9b386ac-9218-4f8f-97b3-f29b4201ef55",
   "metadata": {},
   "source": [
    "## Simple image\n",
    "\n",
    "We are going to be using `jupyterlab-sidecar` to render some of the plots on the side. This makes it very easy to interact with your plots without having to constantly scroll up and down :D"
   ]
  },
  {
   "cell_type": "code",
   "execution_count": null,
   "id": "237823b7-e2c0-4e2f-9ee8-e3fc2b4453c4",
   "metadata": {
    "tags": []
   },
   "outputs": [],
   "source": [
    "# create a `Plot` instance\n",
    "plot = Plot()\n",
    "\n",
    "# get a grayscale image\n",
    "data = iio.imread(\"imageio:camera.png\")\n",
    "\n",
    "# plot the image data\n",
    "image_graphic = plot.add_image(data=data, name=\"sample-image\")\n",
    "\n",
    "# show the plot\n",
    "plot.show()"
   ]
  },
  {
   "cell_type": "markdown",
   "id": "be5b408f-dd91-4e36-807a-8c22c8d7d216",
   "metadata": {},
   "source": [
    "**Use the handle on the bottom right corner of the _canvas_ to resize it. You can also pan and zoom using your mouse!**\n",
    "\n",
    "By default the origin is on the bottom left, you can click the flip button to flip the y-axis, or use `plot.camera.local.scale_y *= -1`"
   ]
  },
  {
   "cell_type": "code",
   "execution_count": null,
   "id": "58c1dc0b-9bf0-4ad5-8579-7c10396fc6bc",
   "metadata": {
    "tags": []
   },
   "outputs": [],
   "source": [
    "plot.camera.local.scale_y *= -1"
   ]
  },
  {
   "cell_type": "markdown",
   "id": "7c3b637c-a26b-416e-936c-705275852a8a",
   "metadata": {},
   "source": [
    "Changing graphic **\"features\"**"
   ]
  },
  {
   "cell_type": "code",
   "execution_count": null,
   "id": "de816c88-1c4a-4071-8a5e-c46c93671ef5",
   "metadata": {
    "tags": []
   },
   "outputs": [],
   "source": [
    "image_graphic.cmap = \"viridis\""
   ]
  },
  {
   "cell_type": "markdown",
   "id": "da1efe85-c5b8-42e8-ae81-6cbddccc30f7",
   "metadata": {},
   "source": [
    "### Slicing data\n",
    "\n",
    "**Most features, such as `data` support slicing!**\n",
    "\n",
    "Out image data is of shape [n_rows, n_cols]"
   ]
  },
  {
   "cell_type": "code",
   "execution_count": null,
   "id": "a04afe48-5534-4ef6-a159-f6e6a4337d8d",
   "metadata": {
    "tags": []
   },
   "outputs": [],
   "source": [
    "image_graphic.data().shape"
   ]
  },
  {
   "cell_type": "code",
   "execution_count": null,
   "id": "83b2db1b-2783-4e89-bcf3-66bb6e09e18a",
   "metadata": {
    "tags": []
   },
   "outputs": [],
   "source": [
    "image_graphic.data[::15, :] = 1\n",
    "image_graphic.data[:, ::15] = 1"
   ]
  },
  {
   "cell_type": "markdown",
   "id": "135db5d2-53fb-4d50-8164-2c1f00560c25",
   "metadata": {},
   "source": [
    "**Fancy indexing**"
   ]
  },
  {
   "cell_type": "code",
   "execution_count": null,
   "id": "a89120eb-108b-4df3-8d3f-8192c9315aa6",
   "metadata": {
    "tags": []
   },
   "outputs": [],
   "source": [
    "image_graphic.data[data > 175] = 255"
   ]
  },
  {
   "cell_type": "markdown",
   "id": "096ccb73-bf6d-4dba-8168-788a63450406",
   "metadata": {},
   "source": [
    "Adjust vmin vmax"
   ]
  },
  {
   "cell_type": "code",
   "execution_count": null,
   "id": "f8e69df8-7aaf-4d7c-92e3-861d9ebc8c5f",
   "metadata": {
    "tags": []
   },
   "outputs": [],
   "source": [
    "image_graphic.cmap.vmin = 50\n",
    "image_graphic.cmap.vmax = 150"
   ]
  },
  {
   "cell_type": "code",
   "execution_count": null,
   "id": "aa67b34a-2694-4ec0-9ba2-e88c469f1a06",
   "metadata": {
    "tags": []
   },
   "outputs": [],
   "source": [
    "# testing cell, ignore\n",
    "plot_test(\"camera\", plot)"
   ]
  },
  {
   "cell_type": "markdown",
   "id": "da9c9b25-7c8b-49b2-9531-7c741debd71d",
   "metadata": {},
   "source": [
    "**Set the entire data array again**\n",
    "\n",
    "Note: The shape of the new data array must match the current data shown in the Graphic."
   ]
  },
  {
   "cell_type": "code",
   "execution_count": null,
   "id": "089170fd-016e-4b2f-a090-c30beb85cc1b",
   "metadata": {
    "tags": []
   },
   "outputs": [],
   "source": [
    "new_data = iio.imread(\"imageio:astronaut.png\")\n",
    "new_data.shape"
   ]
  },
  {
   "cell_type": "markdown",
   "id": "d14cf14a-282f-40c6-b086-9bcf332ed0c8",
   "metadata": {},
   "source": [
    "This is an RGB image, convert to grayscale to maintain the shape of (512, 512)"
   ]
  },
  {
   "cell_type": "code",
   "execution_count": null,
   "id": "ec9b2874-ce1a-49c6-9b84-ee8f14d55966",
   "metadata": {
    "tags": []
   },
   "outputs": [],
   "source": [
    "gray = new_data.dot([0.3, 0.6, 0.1])\n",
    "gray.shape"
   ]
  },
  {
   "cell_type": "code",
   "execution_count": null,
   "id": "8a8fc1d3-19ba-42c0-b9ec-39f6ddd23314",
   "metadata": {
    "tags": []
   },
   "outputs": [],
   "source": [
    "image_graphic.data = gray"
   ]
  },
  {
   "cell_type": "markdown",
   "id": "bb568f89-ac92-4dde-9359-789049dc758a",
   "metadata": {},
   "source": [
    "\n",
    "\n",
    "reset vmin vmax"
   ]
  },
  {
   "cell_type": "code",
   "execution_count": null,
   "id": "de09d977-88ea-472c-8d89-9e24abc845a9",
   "metadata": {
    "tags": []
   },
   "outputs": [],
   "source": [
    "image_graphic.cmap.reset_vmin_vmax()"
   ]
  },
  {
   "cell_type": "code",
   "execution_count": null,
   "id": "9cf84998-03e1-41b3-8e63-92d5b59426e6",
   "metadata": {
    "tags": []
   },
   "outputs": [],
   "source": [
    "# testing cell, ignore\n",
    "plot_test(\"astronaut\", plot)"
   ]
  },
  {
   "cell_type": "code",
   "execution_count": null,
   "id": "0bb1cfc7-1a06-4abb-a10a-a877a0d51c6b",
   "metadata": {
    "tags": []
   },
   "outputs": [],
   "source": [
    "plot.canvas.get_logical_size()"
   ]
  },
  {
   "cell_type": "markdown",
   "id": "b53bc11a-ddf1-4786-8dca-8f3d2eaf993d",
   "metadata": {},
   "source": [
    "### Indexing plots"
   ]
  },
  {
   "cell_type": "markdown",
   "id": "67b92ffd-40cc-43fe-9df9-0e0d94763d8e",
   "metadata": {},
   "source": [
    "**Plots are indexable and give you their graphics by name**"
   ]
  },
  {
   "cell_type": "code",
   "execution_count": null,
   "id": "e6ba689c-ff4a-44ef-9663-f2c8755072c4",
   "metadata": {
    "tags": []
   },
   "outputs": [],
   "source": [
    "plot"
   ]
  },
  {
   "cell_type": "code",
   "execution_count": null,
   "id": "5b18f4e3-e13b-46d5-af1f-285c5a7fdc12",
   "metadata": {
    "tags": []
   },
   "outputs": [],
   "source": [
    "plot[\"sample-image\"]"
   ]
  },
  {
   "cell_type": "markdown",
   "id": "a64314bf-a737-4858-803b-ea2adbd3578c",
   "metadata": {},
   "source": [
    "**You can also use numerical indexing on `plot.graphics`**"
   ]
  },
  {
   "cell_type": "code",
   "execution_count": null,
   "id": "c09a1924-70f8-4d9e-9e92-510d700ac715",
   "metadata": {
    "tags": []
   },
   "outputs": [],
   "source": [
    "plot.graphics"
   ]
  },
  {
   "cell_type": "code",
   "execution_count": null,
   "id": "ec9e6ba6-553f-4718-ba13-471c8c7c3c4e",
   "metadata": {
    "tags": []
   },
   "outputs": [],
   "source": [
    "plot.graphics[0]"
   ]
  },
  {
   "cell_type": "markdown",
   "id": "4316a8b5-5f33-427a-8f52-b101d1daab67",
   "metadata": {},
   "source": [
    "The `Graphic` instance is also returned when you call `plot.add_<graphic_type>`."
   ]
  },
  {
   "cell_type": "code",
   "execution_count": null,
   "id": "2b5c1321-1fd4-44bc-9433-7439ad3e22cf",
   "metadata": {
    "tags": []
   },
   "outputs": [],
   "source": [
    "image_graphic"
   ]
  },
  {
   "cell_type": "code",
   "execution_count": null,
   "id": "b12bf75e-4e93-4930-9146-e96324fdf3f6",
   "metadata": {
    "tags": []
   },
   "outputs": [],
   "source": [
    "image_graphic == plot[\"sample-image\"]"
   ]
  },
  {
   "cell_type": "code",
   "execution_count": null,
   "id": "058d9785-a692-46f6-a062-cdec9c040afe",
   "metadata": {},
   "outputs": [],
   "source": [
    "# close the sidecar\n",
    "plot.sidecar.close()"
   ]
  },
  {
   "cell_type": "markdown",
   "id": "5694dca1-1041-4e09-a1da-85b293c5af47",
   "metadata": {},
   "source": [
    "### RGB images are also supported\n",
    "\n",
    "`cmap` arguments are ignored for rgb images, but vmin vmax still works"
   ]
  },
  {
   "cell_type": "code",
   "execution_count": null,
   "id": "d6b8ca51-073d-47aa-a464-44511fcaccbc",
   "metadata": {
    "tags": []
   },
   "outputs": [],
   "source": [
    "plot_rgb = Plot()\n",
    "\n",
    "plot_rgb.add_image(new_data, name=\"rgb-image\")\n",
    "\n",
    "# show the plot\n",
    "plot_rgb.show()"
   ]
  },
  {
   "cell_type": "code",
   "execution_count": null,
   "id": "71eae361-3bbf-4d1f-a903-3615d35b557b",
   "metadata": {
    "tags": []
   },
   "outputs": [],
   "source": [
    "plot_rgb.camera.local.scale_y *= -1"
   ]
  },
  {
   "cell_type": "markdown",
   "id": "7fc66377-00e8-4f32-9671-9cf63f74529f",
   "metadata": {},
   "source": [
    "vmin and vmax are still applicable to rgb images"
   ]
  },
  {
   "cell_type": "code",
   "execution_count": null,
   "id": "cafaa403-50a2-403c-b8e7-b0938d48cadd",
   "metadata": {
    "tags": []
   },
   "outputs": [],
   "source": [
    "plot_rgb[\"rgb-image\"].cmap.vmin = 100"
   ]
  },
  {
   "cell_type": "code",
   "execution_count": null,
   "id": "b8d600c7-aa80-4c3f-8ec0-6641e9359c3a",
   "metadata": {
    "tags": []
   },
   "outputs": [],
   "source": [
    "# testing cell, ignore\n",
    "plot_test(\"astronaut_RGB\", plot_rgb)"
   ]
  },
  {
   "cell_type": "code",
   "execution_count": null,
   "id": "8316b4f2-3d6e-46b5-8776-c7c963a7aa99",
   "metadata": {},
   "outputs": [],
   "source": [
    "# close sidecar\n",
    "plot_rgb.sidecar.close()"
   ]
  },
  {
   "cell_type": "markdown",
   "id": "1cb03f42-1029-4b16-a16b-35447d9e2955",
   "metadata": {
    "tags": []
   },
   "source": [
    "### Image updates\n",
    "\n",
    "This examples show how you can define animation functions that run on every render cycle."
   ]
  },
  {
   "cell_type": "code",
   "execution_count": null,
   "id": "aadd757f-6379-4f52-a709-46aa57c56216",
   "metadata": {
    "tags": []
   },
   "outputs": [],
   "source": [
    "# create another `Plot` instance\n",
    "plot_v = Plot()\n",
    "\n",
    "plot.canvas.max_buffered_frames = 1\n",
    "\n",
    "# make some random data again\n",
    "data = np.random.rand(512, 512)\n",
    "\n",
    "# plot the data\n",
    "plot_v.add_image(data=data, name=\"random-image\")\n",
    "\n",
    "# a function to update the image_graphic\n",
    "# a plot will pass its plot instance to the animation function as an argument\n",
    "def update_data(plot_instance):\n",
    "    new_data = np.random.rand(512, 512)\n",
    "    plot_instance[\"random-image\"].data = new_data\n",
    "\n",
    "#add this as an animation function\n",
    "plot_v.add_animations(update_data)\n",
    "\n",
    "# show the plot\n",
    "plot_v.show()"
   ]
  },
  {
   "cell_type": "markdown",
   "id": "b313eda1-6e6c-466f-9fd5-8b70c1d3c110",
   "metadata": {},
   "source": [
    "### We can share controllers across plots\n",
    "\n",
    "This example creates a new plot, but it synchronizes the pan-zoom controller"
   ]
  },
  {
   "cell_type": "code",
   "execution_count": null,
   "id": "86e70b1e-4328-4035-b992-70dff16d2a69",
   "metadata": {},
   "outputs": [],
   "source": [
    "plot_sync = Plot(controller=plot_v.controller)\n",
    "\n",
    "data = np.random.rand(512, 512)\n",
    "\n",
    "image_graphic_instance = plot_sync.add_image(data=data, cmap=\"viridis\")\n",
    "\n",
    "# you will need to define a new animation function for this graphic\n",
    "def update_data_2():\n",
    "    new_data = np.random.rand(512, 512)\n",
    "    # alternatively, you can use the stored reference to the graphic as well instead of indexing the Plot\n",
    "    image_graphic_instance.data = new_data\n",
    "\n",
    "plot_sync.add_animations(update_data_2)\n",
    "\n",
    "plot_sync.show(sidecar=False)"
   ]
  },
  {
   "cell_type": "markdown",
   "id": "f226c9c2-8d0e-41ab-9ab9-1ae31fd91de5",
   "metadata": {},
   "source": [
    "#### Keeping a reference to the Graphic instance, as shown above `image_graphic_instance`, is useful if you're creating something where you need flexibility in the naming of the graphics"
   ]
  },
  {
   "cell_type": "markdown",
   "id": "d11fabb7-7c76-4e94-893d-80ed9ee3be3d",
   "metadata": {},
   "source": [
    "### You can also use `ipywidgets.VBox` and `HBox` to stack plots. See the `gridplot` notebooks for a proper gridplot interface for more automated subplotting"
   ]
  },
  {
   "cell_type": "code",
   "execution_count": null,
   "id": "ef9743b3-5f81-4b79-9502-fa5fca08e56d",
   "metadata": {},
   "outputs": [],
   "source": [
    "VBox([plot_v.show(sidecar=False), plot_sync.show(sidecar=False)])"
   ]
  },
  {
   "cell_type": "code",
   "execution_count": null,
   "id": "11839d95-8ff7-444c-ae13-6b072c3112c5",
   "metadata": {},
   "outputs": [],
   "source": [
    "HBox([plot_v.show(sidecar=False), plot_sync.show(sidecar=False)])"
   ]
  },
  {
   "cell_type": "code",
   "execution_count": null,
   "id": "f33f4cd9-02fc-41b7-961b-9dfeb455b63a",
   "metadata": {},
   "outputs": [],
   "source": [
    "# close sidecar\n",
    "plot_v.sidecar.close()"
   ]
  },
  {
   "cell_type": "markdown",
   "id": "e7859338-8162-408b-ac72-37e606057045",
   "metadata": {
    "tags": []
   },
   "source": [
    "# Line plots\n",
    "\n",
    "## 2D line plots\n",
    "\n",
    "This example plots a sine wave, cosine wave, and ricker wavelet and demonstrates how **Graphic Features** can be modified by slicing!"
   ]
  },
  {
   "cell_type": "markdown",
   "id": "a6fee1c2-4a24-4325-bca2-26e5a4bf6338",
   "metadata": {},
   "source": [
    "### First generate some data."
   ]
  },
  {
   "cell_type": "code",
   "execution_count": null,
   "id": "8e8280da-b421-43a5-a1a6-2a196a408e9a",
   "metadata": {},
   "outputs": [],
   "source": [
    "# linspace, create 100 evenly spaced x values from -10 to 10\n",
    "xs = np.linspace(-10, 10, 100)\n",
    "# sine wave\n",
    "ys = np.sin(xs)\n",
    "sine = np.dstack([xs, ys])[0]\n",
    "\n",
    "# cosine wave\n",
    "ys = np.cos(xs) + 5\n",
    "cosine = np.dstack([xs, ys])[0]\n",
    "\n",
    "# sinc function\n",
    "a = 0.5\n",
    "ys = np.sinc(xs) * 3 + 8\n",
    "sinc = np.dstack([xs, ys])[0]"
   ]
  },
  {
   "cell_type": "markdown",
   "id": "fbb806e5-1565-4189-936c-b7cf147a59ee",
   "metadata": {},
   "source": [
    "### We will plot all of it on the same plot. Each line plot will be an individual Graphic, you can have any combination of graphics on a plot."
   ]
  },
  {
   "cell_type": "code",
   "execution_count": null,
   "id": "93a5d1e6-d019-4dd0-a0d1-25d1704ab7a7",
   "metadata": {},
   "outputs": [],
   "source": [
    "# Create a plot instance\n",
    "plot_l = Plot()\n",
    "\n",
    "# plot sine wave, use a single color\n",
    "sine_graphic = plot_l.add_line(data=sine, thickness=5, colors=\"magenta\")\n",
    "\n",
    "# you can also use colormaps for lines!\n",
    "cosine_graphic = plot_l.add_line(data=cosine, thickness=12, cmap=\"autumn\")\n",
    "\n",
    "# or a list of colors for each datapoint\n",
    "colors = [\"r\"] * 25 + [\"purple\"] * 25 + [\"y\"] * 25 + [\"b\"] * 25\n",
    "sinc_graphic = plot_l.add_line(data=sinc, thickness=5, colors = colors)\n",
    "\n",
    "# show the plot\n",
    "plot_l.show(sidecar_kwargs={\"title\": \"lines\", \"layout\": {'width': '800px'}})"
   ]
  },
  {
   "cell_type": "code",
   "execution_count": null,
   "id": "a4060576-2f29-4e4b-a86a-0410c766bd98",
   "metadata": {
    "tags": []
   },
   "outputs": [],
   "source": [
    "# testing cell, ignore\n",
    "plot_test(\"lines\", plot_l)"
   ]
  },
  {
   "cell_type": "markdown",
   "id": "22dde600-0f56-4370-b017-c8f23a6c01aa",
   "metadata": {},
   "source": [
    "### \"stretching\" the camera, useful for large timeseries data\n",
    "\n",
    "Set `maintain_aspect = False` on a camera, and then use the right mouse button and move the mouse to stretch and squeeze the view!\n",
    "\n",
    "You can also click the **`1:1`** button to toggle this."
   ]
  },
  {
   "cell_type": "code",
   "execution_count": null,
   "id": "2695f023-f6ce-4e26-8f96-4fbed5510d1d",
   "metadata": {
    "tags": []
   },
   "outputs": [],
   "source": [
    "plot_l.camera.maintain_aspect = False"
   ]
  },
  {
   "cell_type": "markdown",
   "id": "1651e965-f750-47ac-bf53-c23dae84cc98",
   "metadata": {},
   "source": [
    "### reset the plot area"
   ]
  },
  {
   "cell_type": "code",
   "execution_count": null,
   "id": "ba50a6ed-0f1b-4795-91dd-a7c3e40b8e3c",
   "metadata": {
    "tags": []
   },
   "outputs": [],
   "source": [
    "plot_l.auto_scale(maintain_aspect=True)"
   ]
  },
  {
   "cell_type": "markdown",
   "id": "dcd68796-c190-4c3f-8519-d73b98ff6367",
   "metadata": {},
   "source": [
    "## Graphic features support slicing! :D "
   ]
  },
  {
   "cell_type": "code",
   "execution_count": null,
   "id": "cb0d13ed-ef07-46ff-b19e-eeca4c831037",
   "metadata": {},
   "outputs": [],
   "source": [
    "# indexing of colors\n",
    "cosine_graphic.colors[:15] = \"magenta\"\n",
    "cosine_graphic.colors[90:] = \"red\"\n",
    "cosine_graphic.colors[60] = \"w\"\n",
    "\n",
    "# indexing to assign colormaps to entire lines or segments\n",
    "sinc_graphic.cmap[10:50] = \"gray\"\n",
    "sine_graphic.cmap = \"seismic\"\n",
    "\n",
    "# more complex indexing, set the blue value directly from an array\n",
    "cosine_graphic.colors[65:90, 0] = np.linspace(0, 1, 90-65)"
   ]
  },
  {
   "cell_type": "markdown",
   "id": "c9689887-cdf3-4a4d-948f-7efdb09bde4e",
   "metadata": {},
   "source": [
    "## You can capture changes to a graphic feature as events"
   ]
  },
  {
   "cell_type": "code",
   "execution_count": null,
   "id": "cfa001f6-c640-4f91-beb0-c19b030e503f",
   "metadata": {},
   "outputs": [],
   "source": [
    "def callback_func(event_data):\n",
    "    print(event_data)\n",
    "\n",
    "# Will print event data when the color changes\n",
    "cosine_graphic.colors.add_event_handler(callback_func)"
   ]
  },
  {
   "cell_type": "code",
   "execution_count": null,
   "id": "bb8a0f95-0063-4cd4-a117-e3d62c6e120d",
   "metadata": {},
   "outputs": [],
   "source": [
    "# more complex indexing of colors\n",
    "# from point 15 - 30, set every 3rd point as \"cyan\"\n",
    "cosine_graphic.colors[15:50:3] = \"cyan\""
   ]
  },
  {
   "cell_type": "code",
   "execution_count": null,
   "id": "ef8cab1b-8327-43e2-b021-176125b91ca9",
   "metadata": {
    "tags": []
   },
   "outputs": [],
   "source": [
    "# testing cell, ignore\n",
    "plot_test(\"lines-colors\", plot_l)"
   ]
  },
  {
   "cell_type": "markdown",
   "id": "c29f81f9-601b-49f4-b20c-575c56e58026",
   "metadata": {},
   "source": [
    "## Graphic _data_ is itself also indexable"
   ]
  },
  {
   "cell_type": "code",
   "execution_count": null,
   "id": "d1a4314b-5723-43c7-94a0-b4cbb0e44d60",
   "metadata": {},
   "outputs": [],
   "source": [
    "cosine_graphic.data[10:50:5, :2] = sine[10:50:5]\n",
    "cosine_graphic.data[90:, 1] = 7"
   ]
  },
  {
   "cell_type": "code",
   "execution_count": null,
   "id": "682db47b-8c7a-4934-9be4-2067e9fb12d5",
   "metadata": {},
   "outputs": [],
   "source": [
    "cosine_graphic.data[0] = np.array([[-10, 0, 0]])"
   ]
  },
  {
   "cell_type": "code",
   "execution_count": null,
   "id": "96086bd4-cdaa-467d-a68b-1f57002ad6c5",
   "metadata": {
    "tags": []
   },
   "outputs": [],
   "source": [
    "# testing cell, ignore\n",
    "plot_test(\"lines-data\", plot_l)"
   ]
  },
  {
   "cell_type": "markdown",
   "id": "3f6d264b-1b03-407e-9d83-cd6cfb02e706",
   "metadata": {},
   "source": [
    "### Toggle the presence of a graphic within the scene"
   ]
  },
  {
   "cell_type": "code",
   "execution_count": null,
   "id": "fcba75b7-9a1e-4aae-9dec-715f7f7456c3",
   "metadata": {},
   "outputs": [],
   "source": [
    "sinc_graphic.present = False"
   ]
  },
  {
   "cell_type": "code",
   "execution_count": null,
   "id": "763b9943-53a4-4e2a-b47a-4e9e5c9d7be3",
   "metadata": {},
   "outputs": [],
   "source": [
    "sinc_graphic.present = True"
   ]
  },
  {
   "cell_type": "markdown",
   "id": "86f4e535-ce88-415a-b8d2-53612a2de7b9",
   "metadata": {},
   "source": [
    "### You can create callbacks to this too, for example to re-scale the plot w.r.t. graphics that are present in the scene"
   ]
  },
  {
   "cell_type": "code",
   "execution_count": null,
   "id": "64a20a16-75a5-4772-a849-630ade9be4ff",
   "metadata": {},
   "outputs": [],
   "source": [
    "sinc_graphic.present.add_event_handler(plot_l.auto_scale)"
   ]
  },
  {
   "cell_type": "code",
   "execution_count": null,
   "id": "fb093046-c94c-4085-86b4-8cd85cb638ff",
   "metadata": {},
   "outputs": [],
   "source": [
    "sinc_graphic.present = False"
   ]
  },
  {
   "cell_type": "code",
   "execution_count": null,
   "id": "f05981c3-c768-4631-ae62-6a8407b20c4c",
   "metadata": {},
   "outputs": [],
   "source": [
    "sinc_graphic.present = True"
   ]
  },
  {
   "cell_type": "markdown",
   "id": "05f93e93-283b-45d8-ab31-8d15a7671dd2",
   "metadata": {},
   "source": [
    "### You can set the z-positions of graphics to have them appear under other graphics"
   ]
  },
  {
   "cell_type": "code",
   "execution_count": null,
   "id": "6bb33406-5bef-455b-86ea-358a7d3ffa94",
   "metadata": {
    "tags": []
   },
   "outputs": [],
   "source": [
    "img = iio.imread(\"imageio:camera.png\")\n",
    "\n",
    "plot_l.add_image(img[::20, ::20], name=\"image\", cmap=\"gray\")\n",
    "\n",
    "# z axis position -1 so it is below all the lines\n",
    "plot_l[\"image\"].position_z = -1\n",
    "plot_l[\"image\"].position_x = -8\n",
    "plot_l[\"image\"].position_y = -8"
   ]
  },
  {
   "cell_type": "code",
   "execution_count": null,
   "id": "ae3e3dc9-e49b-430a-8471-5d0a0d659d20",
   "metadata": {
    "tags": []
   },
   "outputs": [],
   "source": [
    "# testing cell, ignore\n",
    "plot_test(\"lines-underlay\", plot_l)"
   ]
  },
  {
   "cell_type": "code",
   "execution_count": null,
   "id": "bef729ea-f524-4efd-a189-bfca23b39af5",
   "metadata": {},
   "outputs": [],
   "source": [
    "# close sidecar\n",
    "plot_l.sidecar.close()"
   ]
  },
  {
   "cell_type": "markdown",
   "id": "2c90862e-2f2a-451f-a468-0cf6b857e87a",
   "metadata": {},
   "source": [
    "### 3D line plot"
   ]
  },
  {
   "cell_type": "code",
   "execution_count": null,
   "id": "9c51229f-13a2-4653-bff3-15d43ddbca7b",
   "metadata": {},
   "outputs": [],
   "source": [
    "# just set the camera as \"3d\", the rest is basically the same :D \n",
    "plot_l3d = Plot(camera='3d')\n",
    "\n",
    "# create a spiral\n",
    "phi = np.linspace(0, 30, 200)\n",
    "\n",
    "xs = phi * np.cos(phi)\n",
    "ys = phi * np.sin(phi)\n",
    "zs = phi\n",
    "\n",
    "# use 3D data\n",
    "# note: you usually mix 3D and 2D graphics on the same plot\n",
    "spiral = np.dstack([xs, ys, zs])[0]\n",
    "\n",
    "plot_l3d.add_line(data=spiral, thickness=2, cmap='winter')\n",
    "\n",
    "plot_l3d.show()"
   ]
  },
  {
   "cell_type": "code",
   "execution_count": null,
   "id": "28eb7014-4773-4a34-8bfc-bd3a46429012",
   "metadata": {
    "tags": []
   },
   "outputs": [],
   "source": [
    "plot_l3d.auto_scale(maintain_aspect=True)"
   ]
  },
  {
   "cell_type": "code",
   "execution_count": null,
   "id": "5135f3f1-a004-4451-86cd-ead6acea6e13",
   "metadata": {
    "tags": []
   },
   "outputs": [],
   "source": [
    "# testing cell, ignore\n",
    "plot_test(\"lines-3d\", plot_l3d)"
   ]
  },
  {
   "cell_type": "code",
   "execution_count": null,
   "id": "c2c70541-98fe-4e02-a718-ac2857cc25be",
   "metadata": {
    "tags": []
   },
   "outputs": [],
   "source": [
    "# close sidecar\n",
    "plot_l3d.sidecar.close()"
   ]
  },
  {
   "cell_type": "markdown",
   "id": "a202b3d0-2a0b-450a-93d4-76d0a1129d1d",
   "metadata": {},
   "source": [
    "# Scatter plots\n",
    "\n",
    "### Plot tens of thousands or millions of points\n",
    "\n",
    "#### There might be a small delay for a few seconds before the plot shows, this is due to shaders being compiled and a few other things. The plot should be very fast and responsive once it is displayed and future modifications should also be fast!"
   ]
  },
  {
   "cell_type": "code",
   "execution_count": null,
   "id": "2ecb2385-8fa4-4239-881c-b754c24aed9f",
   "metadata": {},
   "outputs": [],
   "source": [
    "from fastplotlib import Plot\n",
    "from ipywidgets import VBox, HBox, IntSlider\n",
    "import numpy as np"
   ]
  },
  {
   "cell_type": "code",
   "execution_count": null,
   "id": "39252df5-9ae5-4132-b97b-2785c5fa92ea",
   "metadata": {},
   "outputs": [],
   "source": [
    "# create a random distribution of 10,000 xyz coordinates\n",
    "n_points = 10_000\n",
    "\n",
    "# if you have a good GPU go for 1.5 million points :D \n",
    "# this is multiplied by 3\n",
    "#n_points = 500_000\n",
    "\n",
    "# dimensions always have to be [n_points, xyz]\n",
    "dims = (n_points, 3)\n",
    "\n",
    "clouds_offset = 15\n",
    "\n",
    "# create some random clouds\n",
    "normal = np.random.normal(size=dims, scale=5)\n",
    "# stack the data into a single array\n",
    "cloud = np.vstack(\n",
    "    [\n",
    "        normal - clouds_offset,\n",
    "        normal,\n",
    "        normal + clouds_offset,\n",
    "    ]\n",
    ")\n",
    "\n",
    "# color each of them separately\n",
    "colors = [\"yellow\"] * n_points + [\"cyan\"] * n_points + [\"magenta\"] * n_points\n",
    "\n",
    "# create plot\n",
    "plot_s = Plot()\n",
    "\n",
    "# use an alpha value since this will be a lot of points\n",
    "scatter_graphic = plot_s.add_scatter(data=cloud, sizes=3, colors=colors, alpha=0.7)\n",
    "\n",
    "plot_s.show()"
   ]
  },
  {
   "cell_type": "markdown",
   "id": "b6e4a704-ee6b-4316-956e-acb4dcc1c6f2",
   "metadata": {},
   "source": [
    "### scatter graphic features work similarly to line graphic"
   ]
  },
  {
   "cell_type": "code",
   "execution_count": null,
   "id": "8fa46ec0-8680-44f5-894c-559de3145932",
   "metadata": {},
   "outputs": [],
   "source": [
    "# half of the first cloud's points to red\n",
    "scatter_graphic.colors[:n_points:2] = \"r\""
   ]
  },
  {
   "cell_type": "code",
   "execution_count": null,
   "id": "e4dc71e4-5144-436f-a464-f2a29eee8f0b",
   "metadata": {},
   "outputs": [],
   "source": [
    "# set the green value directly\n",
    "scatter_graphic.colors[n_points:n_points * 2, 1] = 0.3"
   ]
  },
  {
   "cell_type": "code",
   "execution_count": null,
   "id": "5b637a29-cd5e-4011-ab81-3f91490d9ecd",
   "metadata": {},
   "outputs": [],
   "source": [
    "# set color values directly using an array\n",
    "scatter_graphic.colors[n_points * 2:] = np.repeat([[1, 1, 0, 0.5]], n_points, axis=0)"
   ]
  },
  {
   "cell_type": "code",
   "execution_count": null,
   "id": "a4084fce-78a2-48b3-9a0d-7b57c165c3c1",
   "metadata": {},
   "outputs": [],
   "source": [
    "# change the data, change y-values\n",
    "scatter_graphic.data[n_points:n_points * 2, 1] += 15"
   ]
  },
  {
   "cell_type": "code",
   "execution_count": null,
   "id": "f486083e-7c58-4255-ae1a-3fe5d9bfaeed",
   "metadata": {},
   "outputs": [],
   "source": [
    "# set x values directly but using an array\n",
    "scatter_graphic.data[n_points:n_points * 2, 0] = np.linspace(-40, 0, n_points)"
   ]
  },
  {
   "cell_type": "code",
   "execution_count": null,
   "id": "a9ffdde4-4b8e-4ff7-98b3-464cf5462d20",
   "metadata": {},
   "outputs": [],
   "source": [
    "# close sidecar\n",
    "plot_s.sidecar.close()"
   ]
  },
  {
   "cell_type": "markdown",
   "id": "d9e554de-c436-4684-a46a-ce8a33d409ac",
   "metadata": {},
   "source": [
    "### You can combine VBox and HBox to create more complex layouts\n",
    "\n",
    "This just plots everything above in a single nb output"
   ]
  },
  {
   "cell_type": "code",
   "execution_count": null,
   "id": "f404a5ea-633b-43f5-87d1-237017bbca2a",
   "metadata": {},
   "outputs": [],
   "source": [
    "row1 = HBox([plot.show(sidecar=False), plot_v.show(sidecar=False), plot_sync.show(sidecar=False)])\n",
    "row2 = HBox([plot_l.show(sidecar=False), plot_l3d.show(sidecar=False), plot_s.show(sidecar=False)])\n",
    "\n",
    "VBox([row1, row2])"
   ]
  },
  {
   "cell_type": "code",
   "execution_count": null,
   "id": "370d5837-aecf-4e52-9323-b899ac458bbf",
   "metadata": {},
   "outputs": [],
   "source": [
    "# for testing, ignore\n",
    "notebook_finished()"
   ]
  },
  {
   "cell_type": "code",
   "execution_count": null,
   "id": "52b6c281-ab27-4984-9a6e-f1e27f609e44",
   "metadata": {},
   "outputs": [],
   "source": []
  }
 ],
 "metadata": {
  "kernelspec": {
   "display_name": "Python 3 (ipykernel)",
   "language": "python",
   "name": "python3"
  },
  "language_info": {
   "codemirror_mode": {
    "name": "ipython",
    "version": 3
   },
   "file_extension": ".py",
   "mimetype": "text/x-python",
   "name": "python",
   "nbconvert_exporter": "python",
   "pygments_lexer": "ipython3",
   "version": "3.11.3"
  }
 },
 "nbformat": 4,
 "nbformat_minor": 5
}
