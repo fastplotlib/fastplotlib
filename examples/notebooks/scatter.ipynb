{
 "cells": [
  {
   "cell_type": "markdown",
   "id": "eb204b20-160a-48ef-8ac6-54d263e497e4",
   "metadata": {
    "tags": []
   },
   "source": [
    "# Scatter plots in a `GridPlot` layout with a mix of 2d an 3d cameras"
   ]
  },
  {
   "cell_type": "code",
   "execution_count": null,
   "id": "9b3041ad-d94e-4b2a-af4d-63bcd19bf6c2",
   "metadata": {
    "tags": []
   },
   "outputs": [],
   "source": [
    "import numpy as np\n",
    "import fastplotlib as fpl"
   ]
  },
  {
   "cell_type": "code",
   "execution_count": null,
   "id": "51f1d76a-f815-460f-a884-097fe3ea81ac",
   "metadata": {
    "tags": []
   },
   "outputs": [],
   "source": [
    "# create a random distribution of 10,000 xyz coordinates\n",
    "n_points = 10_000\n",
    "\n",
    "# if you have a good GPU go for 1.2 million points :D \n",
    "# this is multiplied by 3\n",
    "#n_points = 400_000\n",
    "dims = (n_points, 3)\n",
    "\n",
    "offset = 15\n",
    "\n",
    "normal = np.random.normal(size=dims, scale=5)\n",
    "cloud = np.vstack(\n",
    "    [\n",
    "        normal - offset,\n",
    "        normal,\n",
    "        normal + offset,\n",
    "    ]\n",
    ")\n",
    "\n",
    "colors = [\"yellow\"] * n_points + [\"cyan\"] * n_points + [\"magenta\"] * n_points"
   ]
  },
  {
   "cell_type": "code",
   "execution_count": null,
   "id": "922990b6-24e9-4fa0-977b-6577f9752d84",
   "metadata": {
    "tags": []
   },
   "outputs": [],
   "source": [
    "# figure with 2 rows and 2 columns\n",
    "shape = (2, 2)\n",
    "\n",
    "# define the camera\n",
    "# a mix of 2d and 3d\n",
    "cameras = [\n",
    "    ['2d', '3d'], \n",
    "    ['3d', '2d']\n",
    "]\n",
    "\n",
    "# pan-zoom controllers for each subplot\n",
    "# subplots are synced if they have the\n",
    "# same controller ID\n",
    "# you can only sync controllers that use the same camera type\n",
    "# i.e. you cannot sync between 2d and 3d subplots\n",
    "controller_ids = [\n",
    "    [0, 1],\n",
    "    [1, 0]\n",
    "]\n",
    "\n",
    "# create the figure\n",
    "fig = fpl.Figure(\n",
    "    shape=shape,\n",
    "    cameras=cameras,\n",
    "    controller_ids=controller_ids\n",
    ")\n",
    "\n",
    "for subplot in fig:\n",
    "    subplot.add_scatter(data=cloud, colors=colors, alpha=0.7, sizes=5)\n",
    "    \n",
    "    subplot.set_axes_visibility(True)\n",
    "    subplot.set_grid_visibility(True)\n",
    "\n",
    "\n",
    "fig.show()"
   ]
  },
  {
   "cell_type": "code",
   "execution_count": null,
   "id": "7b912961-f72e-46ef-889f-c03234831059",
   "metadata": {
    "tags": []
   },
   "outputs": [],
   "source": [
    "fig[0, 1].graphics[0].colors[n_points:int(n_points * 1.5)] = \"r\""
   ]
  },
  {
   "cell_type": "code",
   "execution_count": null,
   "id": "c6085806-c001-4632-ab79-420b4692693a",
   "metadata": {
    "tags": []
   },
   "outputs": [],
   "source": [
    "fig[0, 1].graphics[0].colors[:n_points:10] = \"blue\""
   ]
  },
  {
   "cell_type": "code",
   "execution_count": null,
   "id": "6f416825-df31-4e5d-b66b-07f23b48e7db",
   "metadata": {
    "tags": []
   },
   "outputs": [],
   "source": [
    "fig[0, 1].graphics[0].colors[n_points:] = \"green\""
   ]
  },
  {
   "cell_type": "code",
   "execution_count": null,
   "id": "c0fd611e-73e5-49e6-a25c-9d5b64afa5f4",
   "metadata": {
    "tags": []
   },
   "outputs": [],
   "source": [
    "fig[0, 1].graphics[0].colors[n_points:, -1] = 0"
   ]
  },
  {
   "cell_type": "code",
   "execution_count": null,
   "id": "cd390542-3a44-4973-8172-89e5583433bc",
   "metadata": {
    "tags": []
   },
   "outputs": [],
   "source": [
    "fig[0, 1].graphics[0].data[:n_points] = fig[0, 1].graphics[0].data[n_points * 2:]"
   ]
  },
  {
   "cell_type": "code",
   "execution_count": null,
   "id": "a18e7a17-c2af-4674-a499-bf5f3b27c8ca",
   "metadata": {},
   "outputs": [],
   "source": []
  }
 ],
 "metadata": {
  "kernelspec": {
   "display_name": "Python 3 (ipykernel)",
   "language": "python",
   "name": "python3"
  },
  "language_info": {
   "codemirror_mode": {
    "name": "ipython",
    "version": 3
   },
   "file_extension": ".py",
   "mimetype": "text/x-python",
   "name": "python",
   "nbconvert_exporter": "python",
   "pygments_lexer": "ipython3",
   "version": "3.11.3"
  }
 },
 "nbformat": 4,
 "nbformat_minor": 5
}
