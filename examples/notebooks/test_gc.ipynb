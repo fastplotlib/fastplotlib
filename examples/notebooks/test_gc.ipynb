{
 "cells": [
  {
   "cell_type": "code",
   "execution_count": null,
   "id": "9dfba6cf-38af-4003-90b9-463c0cb1063f",
   "metadata": {},
   "outputs": [],
   "source": [
    "import weakref\n",
    "import fastplotlib as fpl\n",
    "import numpy as np\n",
    "import pytest"
   ]
  },
  {
   "cell_type": "code",
   "execution_count": null,
   "id": "7552eedc-3b9b-4682-8e3b-7d44e0e5510d",
   "metadata": {},
   "outputs": [],
   "source": [
    "def test_references(plot_objects):\n",
    "    for i in range(len(plot_objects)):\n",
    "        with pytest.raises(ReferenceError) as failure:\n",
    "            plot_objects[i]\n",
    "            pytest.fail(f\"GC failed for object: {plot_objects[i]} of type: {plot_objects[i].__class__.__name__}\")"
   ]
  },
  {
   "cell_type": "markdown",
   "id": "948108e8-a4fa-4dc7-9953-a956428128cf",
   "metadata": {},
   "source": [
    "# Add graphics and selectors, add feature event handlers, test gc occurs"
   ]
  },
  {
   "cell_type": "code",
   "execution_count": null,
   "id": "3d96bf14-b484-455e-bcd7-5b2fe7b45fb4",
   "metadata": {},
   "outputs": [],
   "source": [
    "xs = np.linspace(0, 20 * np.pi, 1_000)\n",
    "ys = np.sin(xs)\n",
    "zs = np.zeros(xs.size)\n",
    "\n",
    "points_data = np.column_stack([xs, ys, zs])\n",
    "\n",
    "line_collection_data = [points_data[:, 1].copy() for i in range(10)]\n",
    "\n",
    "img_data = np.random.rand(1_000, 1_000)"
   ]
  },
  {
   "cell_type": "markdown",
   "id": "2a8a92e1-70bc-41b5-9ad8-b86dab6e74eb",
   "metadata": {},
   "source": [
    "# Make references to each graphic"
   ]
  },
  {
   "cell_type": "code",
   "execution_count": null,
   "id": "284b83e1-8cfc-4105-b7c2-6214137dab31",
   "metadata": {},
   "outputs": [],
   "source": [
    "fig = fpl.Figure((2, 2))\n",
    "\n",
    "line = fig[0, 0].add_line(points_data, name=\"line\")\n",
    "scatter = fig[0, 1].add_scatter(points_data.copy(), name=\"scatter\")\n",
    "line_stack = fig[1, 0].add_line_stack(line_collection_data, name=\"line-stack\")\n",
    "image = fig[1, 1].add_image(img_data, name=\"image\")\n",
    "\n",
    "linear_sel = line.add_linear_selector(name=\"line_linear_sel\")\n",
    "linear_region_sel = line.add_linear_region_selector(name=\"line_region_sel\")\n",
    "\n",
    "linear_sel2 = line_stack.add_linear_selector(name=\"line-stack_linear_sel\")\n",
    "linear_region_sel2 = line_stack.add_linear_region_selector(name=\"line-stack_region_sel\")\n",
    "\n",
    "linear_sel_img = image.add_linear_selector(name=\"image_linear_sel\")\n",
    "linear_region_sel_img = image.add_linear_region_selector(name=\"image_linear_region_sel\")"
   ]
  },
  {
   "cell_type": "markdown",
   "id": "d691c3c6-0d82-4aa8-90e9-165efffda369",
   "metadata": {},
   "source": [
    "# Add event handlers"
   ]
  },
  {
   "cell_type": "code",
   "execution_count": null,
   "id": "64198fd0-edd4-4ba1-8082-a65d57b83881",
   "metadata": {},
   "outputs": [],
   "source": [
    "def feature_changed_handler(ev):\n",
    "    pass"
   ]
  },
  {
   "cell_type": "code",
   "execution_count": null,
   "id": "4a86c37b-41ce-4b50-af43-ef61d36b7d81",
   "metadata": {},
   "outputs": [],
   "source": [
    "objects = list()\n",
    "weakrefs = list() # used to make sure the real objs are garbage collected\n",
    "for subplot in fig:\n",
    "    for obj in subplot.objects:\n",
    "        objects.append(obj)\n",
    "        weakrefs.append(weakref.proxy(obj))\n",
    "\n",
    "for g in objects:\n",
    "    for feature in g._features:\n",
    "        g.add_event_handler(feature_changed_handler, feature)"
   ]
  },
  {
   "cell_type": "markdown",
   "id": "ecd09bc8-f051-4ffd-93d3-63c262064bb4",
   "metadata": {},
   "source": [
    "# Show figure"
   ]
  },
  {
   "cell_type": "code",
   "execution_count": null,
   "id": "11cf43c0-94fa-4e75-a85d-04a3f5c97729",
   "metadata": {},
   "outputs": [],
   "source": [
    "fig.show()"
   ]
  },
  {
   "cell_type": "markdown",
   "id": "ad58698e-1a21-466d-b640-78500cfcb229",
   "metadata": {},
   "source": [
    "# Clear fig and user-created objects list"
   ]
  },
  {
   "cell_type": "code",
   "execution_count": null,
   "id": "5849b8b3-8765-4e37-868f-6be0d127bdee",
   "metadata": {},
   "outputs": [],
   "source": [
    "fig.clear()"
   ]
  },
  {
   "cell_type": "code",
   "execution_count": null,
   "id": "8ea2206b-2522-40c2-beba-c3a377990219",
   "metadata": {},
   "outputs": [],
   "source": [
    "objects.clear()"
   ]
  },
  {
   "cell_type": "markdown",
   "id": "a7686046-65b6-4eb4-832a-7ca72c7f9bad",
   "metadata": {},
   "source": [
    "# test gc"
   ]
  },
  {
   "cell_type": "code",
   "execution_count": null,
   "id": "e33bf32d-b13a-474b-92ca-1d1e1c7b820b",
   "metadata": {},
   "outputs": [],
   "source": [
    "test_references(weakrefs)"
   ]
  },
  {
   "cell_type": "markdown",
   "id": "4f927111-61c5-468e-8c90-b7b5338606ba",
   "metadata": {},
   "source": [
    "# test for ImageWidget"
   ]
  },
  {
   "cell_type": "code",
   "execution_count": null,
   "id": "8078a7d2-9bc6-48a1-896c-7e169c5bbdcf",
   "metadata": {},
   "outputs": [],
   "source": [
    "movies = [np.random.rand(100, 100, 100) for i in range(6)]\n",
    "\n",
    "iw = fpl.ImageWidget(movies)\n",
    "\n",
    "# add some events onto all the image graphics\n",
    "for g in iw.managed_graphics:\n",
    "    for f in g._features:\n",
    "        g.add_event_handler(feature_changed_handler, f)\n",
    "\n",
    "iw.show()"
   ]
  },
  {
   "cell_type": "markdown",
   "id": "189bcd7a-40a2-4e84-abcf-c334e50f5544",
   "metadata": {},
   "source": [
    "# Test that setting new data with different dims clears old ImageGraphics"
   ]
  },
  {
   "cell_type": "code",
   "execution_count": null,
   "id": "7e855043-91c1-4f6c-bed3-b69cf4a87f84",
   "metadata": {},
   "outputs": [],
   "source": [
    "old_graphics = [weakref.proxy(g) for g in iw.managed_graphics]\n",
    "\n",
    "new_movies = [np.random.rand(100, 200, 200) for i in range(6)]\n",
    "\n",
    "iw.set_data(new_movies)"
   ]
  },
  {
   "cell_type": "code",
   "execution_count": null,
   "id": "59e3c193-5672-4a66-bdca-12f1dd675d32",
   "metadata": {},
   "outputs": [],
   "source": [
    "test_references(old_graphics)"
   ]
  },
  {
   "cell_type": "code",
   "execution_count": null,
   "id": "ad3d2a24-88b3-4071-a49c-49667d5a7813",
   "metadata": {},
   "outputs": [],
   "source": []
  }
 ],
 "metadata": {
  "kernelspec": {
   "display_name": "Python 3 (ipykernel)",
   "language": "python",
   "name": "python3"
  },
  "language_info": {
   "codemirror_mode": {
    "name": "ipython",
    "version": 3
   },
   "file_extension": ".py",
   "mimetype": "text/x-python",
   "name": "python",
   "nbconvert_exporter": "python",
   "pygments_lexer": "ipython3",
   "version": "3.11.2"
  }
 },
 "nbformat": 4,
 "nbformat_minor": 5
}
