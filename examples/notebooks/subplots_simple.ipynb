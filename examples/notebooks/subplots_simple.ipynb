{
 "cells": [
  {
   "cell_type": "markdown",
   "id": "0e42f03b-9cdf-484f-b158-78b07fdf524d",
   "metadata": {},
   "source": [
    "## This notebook shows how you can use more of the `fastplotlib` API to create `Graphic` objects and add them to subplots"
   ]
  },
  {
   "cell_type": "code",
   "execution_count": 1,
   "id": "5171a06e-1bdc-4908-9726-3c1fd45dbb9d",
   "metadata": {
    "ExecuteTime": {
     "end_time": "2023-11-26T04:01:19.120171Z",
     "start_time": "2023-11-26T04:01:18.618087Z"
    },
    "tags": []
   },
   "outputs": [
    {
     "data": {
      "application/vnd.jupyter.widget-view+json": {
       "model_id": "301d76bd4c5c42c7912cdd28651e2899",
       "version_major": 2,
       "version_minor": 0
      },
      "text/plain": [
       "Image(value=b'\\x89PNG\\r\\n\\x1a\\n\\x00\\x00\\x00\\rIHDR\\x00\\x00\\x01,\\x00\\x00\\x007\\x08\\x06\\x00\\x00\\x00\\xb6\\x1bw\\x99\\x…"
      ]
     },
     "metadata": {},
     "output_type": "display_data"
    },
    {
     "name": "stderr",
     "output_type": "stream",
     "text": [
      "Unable to find extension: VK_EXT_swapchain_colorspace\n"
     ]
    },
    {
     "name": "stdout",
     "output_type": "stream",
     "text": [
      "Available devices:\n",
      "✅ (default) | AMD RADV POLARIS10 (ACO) | DiscreteGPU | Vulkan | Mesa 20.3.5 (ACO)\n",
      "❗ | llvmpipe (LLVM 11.0.1, 256 bits) | CPU | Vulkan | Mesa 20.3.5 (LLVM 11.0.1)\n",
      "✅ | NVIDIA GeForce RTX 3080 | DiscreteGPU | Vulkan | 530.30.02\n",
      "❗ | Radeon RX 570 Series (POLARIS10, DRM 3.40.0, 5.10.0-21-amd64, LLVM 11.0.1) | Unknown | OpenGL | \n"
     ]
    }
   ],
   "source": [
    "import numpy as np\n",
    "import fastplotlib as fpl"
   ]
  },
  {
   "cell_type": "code",
   "execution_count": null,
   "id": "86a2488f-ae1c-4b98-a7c0-18eae8013af1",
   "metadata": {
    "ExecuteTime": {
     "end_time": "2023-11-26T04:01:19.467264Z",
     "start_time": "2023-11-26T04:01:19.121813Z"
    },
    "tags": []
   },
   "outputs": [],
   "source": [
    "# Figure of shape 2 x 3 with all controllers synced\n",
    "fig = fpl.Figure(shape=(2, 3), controller_ids=\"sync\")\n",
    "\n",
    "# Make a random image graphic for each subplot\n",
    "for subplot in fig:\n",
    "    # create image data\n",
    "    data = np.random.rand(512, 512)\n",
    "    # add an image to the subplot\n",
    "    subplot.add_image(data, name=\"rand-img\")\n",
    "\n",
    "# Define a function to update the image graphics with new data\n",
    "# add_animations will pass the figure to the animation function\n",
    "def update_data(f):\n",
    "    for sp in f:\n",
    "        new_data = np.random.rand(512, 512)\n",
    "        # index the image graphic by name and set the data\n",
    "        sp[\"rand-img\"].data = new_data\n",
    "        \n",
    "# add the animation function\n",
    "fig.add_animations(update_data)\n",
    "\n",
    "# show the figure\n",
    "fig.show()"
   ]
  },
  {
   "cell_type": "markdown",
   "id": "e7801781-c3e9-490f-ab12-1cd2f480d3e9",
   "metadata": {},
   "source": [
    "## Accessing subplots within `Figure`"
   ]
  },
  {
   "cell_type": "code",
   "execution_count": null,
   "id": "52163bc7-2c77-4699-b7b0-e455a0ed7584",
   "metadata": {},
   "outputs": [],
   "source": [
    "fig"
   ]
  },
  {
   "cell_type": "code",
   "execution_count": null,
   "id": "17c6bc4a-5340-49f1-8597-f54528cfe915",
   "metadata": {
    "tags": []
   },
   "outputs": [],
   "source": [
    "# positional indexing\n",
    "# row 0 and col 0\n",
    "fig[0, 0]"
   ]
  },
  {
   "cell_type": "markdown",
   "id": "276dfede-e9bc-4488-b9e6-3ca5cf91e4dc",
   "metadata": {},
   "source": [
    "### You can get the graphics within a subplot"
   ]
  },
  {
   "cell_type": "code",
   "execution_count": null,
   "id": "34130f12-9ef6-43b0-b929-931de8b7da25",
   "metadata": {
    "tags": []
   },
   "outputs": [],
   "source": [
    "fig[0, 1].graphics"
   ]
  },
  {
   "cell_type": "markdown",
   "id": "bf33f3e7-ab16-46b1-9126-f0a1ecc07541",
   "metadata": {},
   "source": [
    "### and change their properties"
   ]
  },
  {
   "cell_type": "code",
   "execution_count": null,
   "id": "ef8a29a6-b19c-4e6b-a2ba-fb4823c01451",
   "metadata": {
    "tags": []
   },
   "outputs": [],
   "source": [
    "fig[0, 1].graphics[0].cmap.vmax = 0.5"
   ]
  },
  {
   "cell_type": "markdown",
   "id": "00506fa1-2dc0-4435-96a0-e50667d3174f",
   "metadata": {},
   "source": [
    "### more indexing"
   ]
  },
  {
   "cell_type": "code",
   "execution_count": null,
   "id": "d6c2fa4b-c634-4dcf-8b61-f1986f7c4918",
   "metadata": {
    "tags": []
   },
   "outputs": [],
   "source": [
    "# you can give subplots human-readable string names\n",
    "fig[0, 2].name = \"top-right-plot\""
   ]
  },
  {
   "cell_type": "code",
   "execution_count": null,
   "id": "2f6b549c-3165-496d-98aa-45b96c3de674",
   "metadata": {
    "tags": []
   },
   "outputs": [],
   "source": [
    "fig[\"top-right-plot\"]"
   ]
  },
  {
   "cell_type": "code",
   "execution_count": null,
   "id": "be436e04-33a6-4597-8e6a-17e1e5225419",
   "metadata": {
    "tags": []
   },
   "outputs": [],
   "source": [
    "# view its position\n",
    "fig[\"top-right-plot\"].position"
   ]
  },
  {
   "cell_type": "code",
   "execution_count": null,
   "id": "6699cda6-af86-4258-87f5-1832f989a564",
   "metadata": {
    "tags": []
   },
   "outputs": [],
   "source": [
    "# these are really the same\n",
    "fig[\"top-right-plot\"] is fig[0, 2]"
   ]
  },
  {
   "cell_type": "markdown",
   "id": "aac2f6bf-a641-4c86-a3d2-2cb7906ba914",
   "metadata": {},
   "source": [
    "Indexing with subplot name and graphic name"
   ]
  },
  {
   "cell_type": "code",
   "execution_count": null,
   "id": "545b627b-d794-459a-a75a-3fde44f0ea95",
   "metadata": {
    "tags": []
   },
   "outputs": [],
   "source": [
    "fig[\"top-right-plot\"][\"rand-img\"].cmap.vmin = 0.5"
   ]
  },
  {
   "cell_type": "code",
   "execution_count": null,
   "id": "36432d5b-b76c-4a2a-a32c-097faf5ab269",
   "metadata": {
    "tags": []
   },
   "outputs": [],
   "source": [
    "fig.close()"
   ]
  },
  {
   "cell_type": "code",
   "execution_count": null,
   "id": "b507b723-1371-44e7-aa6d-6aeb3196b27d",
   "metadata": {},
   "outputs": [],
   "source": []
  }
 ],
 "metadata": {
  "kernelspec": {
   "display_name": "Python 3 (ipykernel)",
   "language": "python",
   "name": "python3"
  },
  "language_info": {
   "codemirror_mode": {
    "name": "ipython",
    "version": 3
   },
   "file_extension": ".py",
   "mimetype": "text/x-python",
   "name": "python",
   "nbconvert_exporter": "python",
   "pygments_lexer": "ipython3",
   "version": "3.11.3"
  }
 },
 "nbformat": 4,
 "nbformat_minor": 5
}
