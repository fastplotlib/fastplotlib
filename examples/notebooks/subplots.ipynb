{
 "cells": [
  {
   "cell_type": "markdown",
   "id": "3cfc2d9f-6a09-42f4-a47c-3ba51f1a1801",
   "metadata": {},
   "source": [
    "### More in-depth on subplots with a Figure"
   ]
  },
  {
   "cell_type": "code",
   "execution_count": null,
   "id": "a635b3b3-33fa-48f0-b1cc-bf83b1e883ab",
   "metadata": {},
   "outputs": [],
   "source": [
    "import numpy as np\n",
    "import fastplotlib as fpl"
   ]
  },
  {
   "cell_type": "code",
   "execution_count": null,
   "id": "8de931e2-bdb3-44a3-9538-e0b3965779af",
   "metadata": {},
   "outputs": [],
   "source": [
    "# grid with 2 rows and 3 columns\n",
    "shape = (2, 3)\n",
    "\n",
    "# pan-zoom controllers for each subplot\n",
    "# subplots are synced if they have the\n",
    "# same controller ID\n",
    "controller_ids = [\n",
    "    [0, -3, 1],  # id each controller with an integer\n",
    "    [2, 2, -3]\n",
    "]\n",
    "\n",
    "# another way to set controller_ids\n",
    "controller_ids = [\n",
    "    [\"subplot0\", \"subplot4\"],\n",
    "    [\"subplot1\", \"subplot2\", \"subplot5\"],\n",
    "]\n",
    "\n",
    "\n",
    "# you can give string names for each subplot within the figure\n",
    "names = [\n",
    "    [\"subplot0\", \"subplot1\", \"subplot2\"],\n",
    "    [\"subplot3\", \"subplot4\", \"subplot5\"]\n",
    "]\n",
    "\n",
    "# Create the figure\n",
    "fig = fpl.Figure(\n",
    "    shape=shape,\n",
    "    controller_ids=controller_ids,\n",
    "    names=names,\n",
    ")\n",
    "\n",
    "\n",
    "# Make a random image graphic for each subplot\n",
    "for subplot in fig:\n",
    "    data = np.random.rand(512, 512)\n",
    "    # create and add an ImageGraphic\n",
    "    subplot.add_image(data=data, name=\"rand-image\")\n",
    "    \n",
    "\n",
    "# Define a function to update the image graphics \n",
    "# with new randomly generated data\n",
    "def set_random_frame(gp):\n",
    "    for subplot in gp:\n",
    "        new_data = np.random.rand(512, 512)\n",
    "        subplot[\"rand-image\"].data = new_data\n",
    "\n",
    "# add the animation\n",
    "fig.add_animations(set_random_frame)\n",
    "fig.show()"
   ]
  },
  {
   "cell_type": "markdown",
   "id": "2867bcd6-7691-4073-91d9-9c33e8fdb896",
   "metadata": {},
   "source": [
    "### Accessing subplots"
   ]
  },
  {
   "cell_type": "code",
   "execution_count": null,
   "id": "2a6f7eb5-776e-42a6-b6c2-c26009a26795",
   "metadata": {
    "is_executing": true
   },
   "outputs": [],
   "source": [
    "# by name\n",
    "fig[\"subplot0\"]"
   ]
  },
  {
   "cell_type": "code",
   "execution_count": null,
   "id": "45e83bca-5a44-48ce-874f-9ae9ca444233",
   "metadata": {},
   "outputs": [],
   "source": [
    "# by index\n",
    "fig[0, 0]"
   ]
  },
  {
   "cell_type": "markdown",
   "id": "3272b8b3-3063-47a4-94c8-15ceeeaecc69",
   "metadata": {},
   "source": [
    "## getting graphics within subplots!\n",
    "this can be used to get graphics if they are named"
   ]
  },
  {
   "cell_type": "code",
   "execution_count": null,
   "id": "c8cf9bfd-e0cc-4173-b64e-a9f2c87bb2c6",
   "metadata": {},
   "outputs": [],
   "source": [
    "# can access graphic directly via name\n",
    "fig[\"subplot0\"][\"rand-image\"]"
   ]
  },
  {
   "cell_type": "code",
   "execution_count": null,
   "id": "1cfd1d45-8a60-4fc1-b873-46caa966fe6f",
   "metadata": {},
   "outputs": [],
   "source": [
    "fig[\"subplot0\"][\"rand-image\"].cmap.vmin = 0.6\n",
    "fig[\"subplot0\"][\"rand-image\"].cmap.vmax = 0.8"
   ]
  },
  {
   "cell_type": "markdown",
   "source": [
    "If they are not named use .graphics"
   ],
   "metadata": {
    "collapsed": false
   }
  },
  {
   "cell_type": "code",
   "execution_count": null,
   "outputs": [],
   "source": [
    "fig[\"subplot0\"].graphics"
   ],
   "metadata": {
    "collapsed": false,
    "is_executing": true
   }
  },
  {
   "cell_type": "markdown",
   "source": [
    "### positional indexing also works"
   ],
   "metadata": {
    "collapsed": false
   }
  },
  {
   "cell_type": "code",
   "execution_count": null,
   "id": "2fafe992-4783-40f2-b044-26a2835dd50a",
   "metadata": {},
   "outputs": [],
   "source": [
    "fig[1, 0][\"rand-image\"].cmap.vim = 0.1\n",
    "fig[1, 0][\"rand-image\"].cmap.vmax = 0.3"
   ]
  },
  {
   "cell_type": "code",
   "execution_count": null,
   "id": "a61e34a5-ee1b-4abb-8718-ec4715ffaa52",
   "metadata": {},
   "outputs": [],
   "source": []
  }
 ],
 "metadata": {
  "kernelspec": {
   "display_name": "Python 3 (ipykernel)",
   "language": "python",
   "name": "python3"
  },
  "language_info": {
   "codemirror_mode": {
    "name": "ipython",
    "version": 3
   },
   "file_extension": ".py",
   "mimetype": "text/x-python",
   "name": "python",
   "nbconvert_exporter": "python",
   "pygments_lexer": "ipython3",
   "version": "3.11.3"
  }
 },
 "nbformat": 4,
 "nbformat_minor": 5
}
