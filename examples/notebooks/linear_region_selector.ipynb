{
 "cells": [
  {
   "cell_type": "markdown",
   "id": "1db50ec4-8754-4421-9f5e-6ba8ca6b81e3",
   "metadata": {},
   "source": [
    "# `LinearRegionSelector` with single lines"
   ]
  },
  {
   "cell_type": "code",
   "execution_count": null,
   "id": "b7bbfeb4-1ad0-47db-9a82-3d3f642a1f63",
   "metadata": {},
   "outputs": [],
   "source": [
    "import fastplotlib as fpl\n",
    "import numpy as np\n",
    "from ipywidgets import IntRangeSlider, FloatRangeSlider, VBox\n",
    "\n",
    "fig = fpl.Figure((2, 2))\n",
    "\n",
    "# preallocated size for zoomed data\n",
    "zoomed_prealloc = 1_000\n",
    "\n",
    "# data to plot\n",
    "xs = np.linspace(0, 100, 1_000)\n",
    "sine = np.sin(xs) * 20\n",
    "\n",
    "# make sine along x axis\n",
    "sine_graphic_x = fig[0, 0].add_line(sine)\n",
    "\n",
    "# just something that looks different for line along y-axis\n",
    "sine_y = sine\n",
    "sine_y[sine_y > 0] = 0\n",
    "\n",
    "# sine along y axis\n",
    "sine_graphic_y = fig[0, 1].add_line(np.column_stack([sine_y, xs]))\n",
    "\n",
    "# offset the position of the graphic to demonstrate `get_selected_data()` later\n",
    "sine_graphic_y.position_x = 50\n",
    "sine_graphic_y.position_y = 50\n",
    "\n",
    "# add linear selectors\n",
    "ls_x = sine_graphic_x.add_linear_region_selector()  # default axis is \"x\"\n",
    "ls_y = sine_graphic_y.add_linear_region_selector(axis=\"y\")\n",
    "\n",
    "# preallocate array for storing zoomed in data\n",
    "zoomed_init = np.column_stack([np.arange(zoomed_prealloc), np.random.rand(zoomed_prealloc)])\n",
    "\n",
    "# make line graphics for displaying zoomed data\n",
    "zoomed_x = fig[1, 0].add_line(zoomed_init)\n",
    "zoomed_y = fig[1, 1].add_line(zoomed_init)\n",
    "\n",
    "\n",
    "def interpolate(subdata: np.ndarray, axis: int):\n",
    "    \"\"\"1D interpolation to display within the preallocated data array\"\"\"\n",
    "    x = np.arange(0, zoomed_prealloc)\n",
    "    xp = np.linspace(0, zoomed_prealloc, subdata.shape[0])\n",
    "    \n",
    "    # interpolate to preallocated size\n",
    "    return np.interp(x, xp, fp=subdata[:, axis])  # use the y-values\n",
    "\n",
    "\n",
    "def set_zoom_x(ev):\n",
    "    \"\"\"sets zoomed x selector data\"\"\"\n",
    "    selected_data = ev.pick_info[\"selected_data\"]\n",
    "    zoomed_x.data = interpolate(selected_data, axis=1)  # use the y-values\n",
    "    fig[1, 0].auto_scale()\n",
    "\n",
    "\n",
    "def set_zoom_y(ev):\n",
    "    \"\"\"sets zoomed y selector data\"\"\"\n",
    "    selected_data = ev.pick_info[\"selected_data\"]\n",
    "    zoomed_y.data = -interpolate(selected_data, axis=0)  # use the x-values\n",
    "    fig[1, 1].auto_scale()\n",
    "\n",
    "\n",
    "# update zoomed plots when bounds change\n",
    "ls_x.selection.add_event_handler(set_zoom_x)\n",
    "ls_y.selection.add_event_handler(set_zoom_y)\n",
    "\n",
    "fig.show()"
   ]
  },
  {
   "cell_type": "markdown",
   "id": "0bad4a35-f860-4f85-9061-920154ab682b",
   "metadata": {},
   "source": [
    "### On the x-axis we have a 1-1 mapping from the data that we have passed and the line geometry positions. So the `bounds` min max corresponds directly to the data indices."
   ]
  },
  {
   "cell_type": "code",
   "execution_count": null,
   "id": "2c96a3ff-c2e7-4683-8097-8491e97dd6d3",
   "metadata": {},
   "outputs": [],
   "source": [
    "ls_x.selection()"
   ]
  },
  {
   "cell_type": "code",
   "execution_count": null,
   "id": "3ec71e3f-291c-43c6-a954-0a082ba5981c",
   "metadata": {},
   "outputs": [],
   "source": [
    "ls_x.get_selected_indices()"
   ]
  },
  {
   "cell_type": "markdown",
   "id": "1588a89e-1da4-4ada-92e2-7437ba942065",
   "metadata": {},
   "source": [
    "### However, for the y-axis line we have passed a 2D array where we've used a linspace, so there is not a 1-1 mapping from the data to the line geometry positions. Use `get_selected_indices()` to get the indices of the data bounded by the current selection. In addition the position of the Graphic is not `(0, 0)`. You must use `get_selected_indices()` whenever you want the indices of the selected data."
   ]
  },
  {
   "cell_type": "code",
   "execution_count": null,
   "id": "18e10277-6d5d-42fe-8715-1733efabefa0",
   "metadata": {},
   "outputs": [],
   "source": [
    "ls_y.selection()"
   ]
  },
  {
   "cell_type": "code",
   "execution_count": null,
   "id": "8e9c42b9-60d2-4544-96c5-c8c6832b79e3",
   "metadata": {},
   "outputs": [],
   "source": [
    "ls_y.get_selected_indices()"
   ]
  },
  {
   "cell_type": "code",
   "execution_count": null,
   "id": "a9583d2e-ec52-405c-a875-f3fec5e3aa16",
   "metadata": {},
   "outputs": [],
   "source": [
    "# data to plot\n",
    "xs = np.linspace(0, 100, 1_000)\n",
    "sine = np.sin(xs) * 20\n",
    "cosine = np.cos(xs) * 20\n",
    "\n",
    "fig_stack = fpl.Figure((5, 1))\n",
    "\n",
    "# sines and cosines\n",
    "sines = [sine] * 2\n",
    "cosines = [cosine] * 2\n",
    "\n",
    "# make line stack\n",
    "line_stack = fig_stack[0, 0].add_line_stack(sines + cosines, separation=50)\n",
    "\n",
    "# make selector\n",
    "selector = line_stack.add_linear_region_selector()\n",
    "\n",
    "# populate subplots with preallocated graphics\n",
    "for i, subplot in enumerate(fig_stack):\n",
    "    if i == 0:\n",
    "        # skip the first one\n",
    "        continue\n",
    "    # make line graphics for displaying zoomed data\n",
    "    subplot.add_line(zoomed_init, name=\"zoomed\")\n",
    "\n",
    "\n",
    "def update_zoomed_subplots(ev):\n",
    "    \"\"\"update the zoomed subplots\"\"\"\n",
    "    zoomed_data = selector.get_selected_data()\n",
    "    \n",
    "    for i in range(len(zoomed_data)):\n",
    "        data = interpolate(zoomed_data[i], axis=1)\n",
    "        fig_stack[i + 1, 0][\"zoomed\"].data = data\n",
    "        fig_stack[i + 1, 0].auto_scale()\n",
    "\n",
    "\n",
    "selector.selection.add_event_handler(update_zoomed_subplots)\n",
    "fig_stack.show()"
   ]
  },
  {
   "cell_type": "markdown",
   "id": "0fa051b5-d6bc-4e4e-8f12-44f638a00c88",
   "metadata": {},
   "source": [
    "# Large line stack with selector"
   ]
  },
  {
   "cell_type": "code",
   "execution_count": null,
   "id": "d5ffb678-c989-49ee-85a9-4fd7822f033c",
   "metadata": {},
   "outputs": [],
   "source": [
    "import fastplotlib as fpl\n",
    "import numpy as np\n",
    "\n",
    "# data to plot\n",
    "xs = np.linspace(0, 250, 10_000)\n",
    "sine = np.sin(xs) * 20\n",
    "cosine = np.cos(xs) * 20\n",
    "\n",
    "fig_stack_large = fpl.Figure((1, 2))\n",
    "\n",
    "# sines and cosines\n",
    "sines = [sine] * 1_00\n",
    "cosines = [cosine] * 1_00\n",
    "\n",
    "# make line stack\n",
    "line_stack = fig_stack_large[0, 0].add_line_stack(sines + cosines, separation=50)\n",
    "\n",
    "# make selector\n",
    "stack_selector = line_stack.add_linear_region_selector(padding=200)\n",
    "\n",
    "zoomed_line_stack = fig_stack_large[0, 1].add_line_stack([zoomed_init] * 2_000, separation=50, name=\"zoomed\")\n",
    "    \n",
    "def update_zoomed_stack(ev):\n",
    "    \"\"\"update the zoomed subplots\"\"\"\n",
    "    zoomed_data = stack_selector.get_selected_data()\n",
    "    \n",
    "    for i in range(len(zoomed_data)):\n",
    "        data = interpolate(zoomed_data[i], axis=1)\n",
    "        zoomed_line_stack.graphics[i].data = data\n",
    "        \n",
    "    fig_stack_large[0, 1].auto_scale()\n",
    "\n",
    "\n",
    "stack_selector.selection.add_event_handler(update_zoomed_stack)\n",
    "fig_stack_large.show()"
   ]
  },
  {
   "cell_type": "code",
   "execution_count": null,
   "id": "cbcd6309-fb47-4941-9fd1-2b091feb3ae7",
   "metadata": {},
   "outputs": [],
   "source": []
  }
 ],
 "metadata": {
  "kernelspec": {
   "display_name": "Python 3 (ipykernel)",
   "language": "python",
   "name": "python3"
  },
  "language_info": {
   "codemirror_mode": {
    "name": "ipython",
    "version": 3
   },
   "file_extension": ".py",
   "mimetype": "text/x-python",
   "name": "python",
   "nbconvert_exporter": "python",
   "pygments_lexer": "ipython3",
   "version": "3.11.3"
  }
 },
 "nbformat": 4,
 "nbformat_minor": 5
}
