{
 "cells": [
  {
   "cell_type": "markdown",
   "id": "1db50ec4-8754-4421-9f5e-6ba8ca6b81e3",
   "metadata": {},
   "source": [
    "# `LinearRegionSelector` with single lines"
   ]
  },
  {
   "cell_type": "code",
   "execution_count": null,
   "id": "b7bbfeb4-1ad0-47db-9a82-3d3f642a1f63",
   "metadata": {},
   "outputs": [],
   "source": [
    "import fastplotlib as fpl\n",
    "import numpy as np\n",
    "# from ipywidgets import IntRangeSlider, FloatRangeSlider, VBox\n",
    "\n",
    "fig = fpl.Figure((2, 2))\n",
    "\n",
    "# preallocated size for zoomed data\n",
    "zoomed_prealloc = 1_000\n",
    "\n",
    "# data to plot\n",
    "xs = np.linspace(0, 10* np.pi, 1_000)\n",
    "sine = np.sin(xs)\n",
    "sine += 100\n",
    "\n",
    "# make sine along x axis\n",
    "sine_graphic_x = fig[0, 0].add_line(np.column_stack([xs, sine]), offset=(10, 0, 0))\n",
    "\n",
    "# just something that looks different for line along y-axis\n",
    "sine_y = sine\n",
    "sine_y[sine_y > 0] = 0\n",
    "\n",
    "# sine along y axis\n",
    "sine_graphic_y = fig[0, 1].add_line(np.column_stack([sine_y, xs]))\n",
    "\n",
    "# offset the position of the graphic to demonstrate `get_selected_data()` later\n",
    "sine_graphic_y.position_x = 50\n",
    "sine_graphic_y.position_y = 50\n",
    "\n",
    "# add linear selectors\n",
    "ls_x = sine_graphic_x.add_linear_region_selector()  # default axis is \"x\"\n",
    "ls_y = sine_graphic_y.add_linear_region_selector(axis=\"y\")\n",
    "\n",
    "# preallocate array for storing zoomed in data\n",
    "zoomed_init = np.column_stack([np.arange(zoomed_prealloc), np.zeros(zoomed_prealloc)])\n",
    "\n",
    "# make line graphics for displaying zoomed data\n",
    "zoomed_x = fig[1, 0].add_line(zoomed_init)\n",
    "zoomed_y = fig[1, 1].add_line(zoomed_init)\n",
    "\n",
    "\n",
    "def interpolate(subdata: np.ndarray, axis: int):\n",
    "    \"\"\"1D interpolation to display within the preallocated data array\"\"\"\n",
    "    x = np.arange(0, zoomed_prealloc)\n",
    "    xp = np.linspace(0, zoomed_prealloc, subdata.shape[0])\n",
    "    \n",
    "    # interpolate to preallocated size\n",
    "    return np.interp(x, xp, fp=subdata[:, axis])  # use the y-values\n",
    "\n",
    "@ls_x.add_event_handler(\"selection\")\n",
    "def set_zoom_x(ev):\n",
    "    \"\"\"sets zoomed x selector data\"\"\"\n",
    "    # get the selected data\n",
    "    selected_data = ev.get_selected_data()\n",
    "    if selected_data.size == 0:\n",
    "        # no data selected\n",
    "        zoomed_x.data[:, 1] = 0\n",
    "\n",
    "    # set the y-values\n",
    "    zoomed_x.data[:, 1] = interpolate(selected_data, axis=1)\n",
    "    fig[1, 0].auto_scale()\n",
    "\n",
    "\n",
    "def set_zoom_y(ev):\n",
    "    \"\"\"sets zoomed x selector data\"\"\"\n",
    "    # get the selected data\n",
    "    selected_data = ev.get_selected_data()\n",
    "    if selected_data.size == 0:\n",
    "        # no data selected\n",
    "        zoomed_y.data[:, 0] = 0\n",
    "\n",
    "    # set the x-values\n",
    "    zoomed_y.data[:, 0] = -interpolate(selected_data, axis=1)\n",
    "    fig[1, 1].auto_scale()\n",
    "\n",
    "\n",
    "fig.show(maintain_aspect=False)"
   ]
  },
  {
   "cell_type": "code",
   "execution_count": null,
   "id": "2f29e913-c4f8-44a6-8692-eb14436849a5",
   "metadata": {},
   "outputs": [],
   "source": [
    "sine_graphic_x.data[:, 1].ptp()"
   ]
  },
  {
   "cell_type": "code",
   "execution_count": null,
   "id": "1947a477-5dd2-4df9-aecd-6967c6ab45fe",
   "metadata": {},
   "outputs": [],
   "source": [
    "np.clip(-0.1, 0, 10)"
   ]
  },
  {
   "cell_type": "code",
   "execution_count": null,
   "id": "18e10277-6d5d-42fe-8715-1733efabefa0",
   "metadata": {},
   "outputs": [],
   "source": [
    "ls_y.selection"
   ]
  },
  {
   "cell_type": "code",
   "execution_count": null,
   "id": "8e9c42b9-60d2-4544-96c5-c8c6832b79e3",
   "metadata": {},
   "outputs": [],
   "source": [
    "ls_y.get_selected_indices()"
   ]
  },
  {
   "cell_type": "code",
   "execution_count": null,
   "id": "a9583d2e-ec52-405c-a875-f3fec5e3aa16",
   "metadata": {},
   "outputs": [],
   "source": [
    "# data to plot\n",
    "xs = np.linspace(0, 100, 1_000)\n",
    "sine = np.sin(xs) * 20\n",
    "cosine = np.cos(xs) * 20\n",
    "\n",
    "fig_stack = fpl.Figure((5, 1))\n",
    "\n",
    "# sines and cosines\n",
    "sines = [sine] * 2\n",
    "cosines = [cosine] * 2\n",
    "\n",
    "# make line stack\n",
    "line_stack = fig_stack[0, 0].add_line_stack(sines + cosines, separation=50)\n",
    "\n",
    "# make selector\n",
    "selector = line_stack.add_linear_region_selector()\n",
    "\n",
    "# populate subplots with preallocated graphics\n",
    "for i, subplot in enumerate(fig_stack):\n",
    "    if i == 0:\n",
    "        # skip the first one\n",
    "        continue\n",
    "    # make line graphics for displaying zoomed data\n",
    "    subplot.add_line(zoomed_init, name=\"zoomed\")\n",
    "\n",
    "\n",
    "@selector.add_event_handler(\"selection\")\n",
    "def update_zoomed_subplots(ev):\n",
    "    \"\"\"update the zoomed subplots\"\"\"\n",
    "    zoomed_data = ev.get_selected_data()\n",
    "    \n",
    "    for i in range(len(zoomed_data)):\n",
    "        # interpolate y-vals\n",
    "        data = interpolate(zoomed_data[i], axis=1)\n",
    "        fig_stack[i + 1, 0][\"zoomed\"].data[:, 1] = data\n",
    "        fig_stack[i + 1, 0].auto_scale()\n",
    "\n",
    "\n",
    "fig_stack.show()"
   ]
  },
  {
   "cell_type": "markdown",
   "id": "0fa051b5-d6bc-4e4e-8f12-44f638a00c88",
   "metadata": {},
   "source": [
    "# Large line stack with selector"
   ]
  },
  {
   "cell_type": "code",
   "execution_count": null,
   "id": "cbcd6309-fb47-4941-9fd1-2b091feb3ae7",
   "metadata": {},
   "outputs": [],
   "source": []
  }
 ],
 "metadata": {
  "kernelspec": {
   "display_name": "Python 3 (ipykernel)",
   "language": "python",
   "name": "python3"
  },
  "language_info": {
   "codemirror_mode": {
    "name": "ipython",
    "version": 3
   },
   "file_extension": ".py",
   "mimetype": "text/x-python",
   "name": "python",
   "nbconvert_exporter": "python",
   "pygments_lexer": "ipython3",
   "version": "3.11.3"
  }
 },
 "nbformat": 4,
 "nbformat_minor": 5
}
