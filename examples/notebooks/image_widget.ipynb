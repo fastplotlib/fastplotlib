{
 "cells": [
  {
   "cell_type": "code",
   "execution_count": null,
   "id": "04f453ca-d0bc-411f-b2a6-d38294dd0a26",
   "metadata": {
    "tags": []
   },
   "outputs": [],
   "source": [
    "from fastplotlib.widgets import ImageWidget\n",
    "import numpy as np\n",
    "\n",
    "import imageio.v3 as iio  # not a fastplotlib dependency, only used for examples"
   ]
  },
  {
   "cell_type": "markdown",
   "id": "bd632552-dba1-4e48-b8b2-595da7757d0f",
   "metadata": {},
   "source": [
    "# Single image"
   ]
  },
  {
   "cell_type": "code",
   "execution_count": null,
   "id": "c798a5e0-07a0-4468-8e22-9b53b8243ab5",
   "metadata": {
    "tags": []
   },
   "outputs": [],
   "source": [
    "# image widget only supports grayscale images for now\n",
    "a = iio.imread(\"imageio:camera.png\")"
   ]
  },
  {
   "cell_type": "code",
   "execution_count": null,
   "id": "b0dbf913-c1c6-4c2a-8191-45a87b2ce310",
   "metadata": {
    "tags": []
   },
   "outputs": [],
   "source": [
    "iw = ImageWidget(\n",
    "    data=a,\n",
    "    cmap=\"viridis\"\n",
    ")"
   ]
  },
  {
   "cell_type": "code",
   "execution_count": null,
   "id": "cc90aff2-4e56-4020-93d0-94e81f030f45",
   "metadata": {},
   "outputs": [],
   "source": [
    "iw.show()"
   ]
  },
  {
   "cell_type": "markdown",
   "id": "b718162f-9aa6-4091-a7a4-c620676b48bd",
   "metadata": {},
   "source": [
    "### Access graphics managed by the image widget"
   ]
  },
  {
   "cell_type": "code",
   "execution_count": null,
   "id": "393375df-327c-409a-9e3e-75121a0df6cb",
   "metadata": {
    "tags": []
   },
   "outputs": [],
   "source": [
    "iw.figure[0, 0][\"image_widget_managed\"].cmap = \"gnuplot2\""
   ]
  },
  {
   "cell_type": "markdown",
   "id": "e933771b-f172-4fa9-b2f8-129723efb808",
   "metadata": {},
   "source": [
    "# Single image sequence"
   ]
  },
  {
   "cell_type": "code",
   "execution_count": null,
   "id": "ea87f9a6-437f-41f6-8739-c957fb04bdbf",
   "metadata": {
    "tags": []
   },
   "outputs": [],
   "source": [
    "movie = iio.imread(\"imageio:cockatoo.mp4\")\n",
    "\n",
    "# convert RGB movie to grayscale, this could take a minute\n",
    "gray_movie = np.dot(movie[..., :3], [0.299, 0.587, 0.114])"
   ]
  },
  {
   "cell_type": "code",
   "execution_count": null,
   "id": "8b7a6066-ff69-4bee-bae6-160fb4038393",
   "metadata": {
    "tags": []
   },
   "outputs": [],
   "source": [
    "iw_movie = ImageWidget(\n",
    "    data=gray_movie, \n",
    "    cmap=\"gray\"\n",
    ")"
   ]
  },
  {
   "cell_type": "code",
   "execution_count": null,
   "id": "3d4cb44e-2c71-4bff-aeed-b2129f34d724",
   "metadata": {
    "tags": []
   },
   "outputs": [],
   "source": [
    "iw_movie.show(sidecar=True)"
   ]
  },
  {
   "cell_type": "markdown",
   "id": "9908103c-c35c-4f33-ada1-0fc357c3fd5e",
   "metadata": {},
   "source": [
    "### Play with setting different window functions\n",
    "\n",
    "These can also be given as kwargs to `ImageWidget` during instantiation"
   ]
  },
  {
   "cell_type": "code",
   "execution_count": null,
   "id": "f278b26a-1b71-4e76-9cc7-efaddbd7b122",
   "metadata": {
    "tags": []
   },
   "outputs": [],
   "source": [
    "# must be in the form of {dim: (func, window_size)}\n",
    "iw_movie.window_funcs = {\"t\": (np.mean, 13)}"
   ]
  },
  {
   "cell_type": "code",
   "execution_count": null,
   "id": "cb4d4b7c-919f-41c0-b1cc-b4496473d760",
   "metadata": {
    "tags": []
   },
   "outputs": [],
   "source": [
    "# change the winow size\n",
    "iw_movie.window_funcs[\"t\"].window_size = 33"
   ]
  },
  {
   "cell_type": "code",
   "execution_count": null,
   "id": "2eea6432-4d38-4d42-ab75-f6aa1bab36f4",
   "metadata": {
    "tags": []
   },
   "outputs": [],
   "source": [
    "# change the function\n",
    "iw_movie.window_funcs[\"t\"].func = np.max"
   ]
  },
  {
   "cell_type": "code",
   "execution_count": null,
   "id": "afa2436f-2741-49d6-87f6-7a91a343fe0e",
   "metadata": {
    "tags": []
   },
   "outputs": [],
   "source": [
    "# or reset it\n",
    "iw_movie.window_funcs = None"
   ]
  },
  {
   "cell_type": "markdown",
   "id": "caca9c2e-8c25-449c-ac23-1370c68d6dff",
   "metadata": {},
   "source": [
    "### Can also set new data"
   ]
  },
  {
   "cell_type": "code",
   "execution_count": null,
   "id": "f9ee0e42-3d41-4613-a508-042c6c2c27e3",
   "metadata": {},
   "outputs": [],
   "source": [
    "new_data = iio.imread(\"imageio:stent.npz\")"
   ]
  },
  {
   "cell_type": "code",
   "execution_count": null,
   "id": "b85d2e08-1479-46fc-a429-2d7a265493d4",
   "metadata": {},
   "outputs": [],
   "source": [
    "new_data.shape"
   ]
  },
  {
   "cell_type": "code",
   "execution_count": null,
   "id": "370d1d24-2944-491f-9da0-fa0c7ed073ef",
   "metadata": {
    "tags": []
   },
   "outputs": [],
   "source": [
    "iw_movie.set_data(new_data=new_data)\n",
    "iw_movie.figure[0, 0].auto_scale()# sidecar is optional"
   ]
  },
  {
   "cell_type": "code",
   "execution_count": null,
   "id": "3d323f67-4717-4241-ad84-5091e6caf2cd",
   "metadata": {},
   "outputs": [],
   "source": [
    "iw_movie.close()"
   ]
  },
  {
   "cell_type": "markdown",
   "id": "aca22179-1b1f-4c51-97bf-ce2d7044e451",
   "metadata": {},
   "source": [
    "# Gridplot of tzxy data"
   ]
  },
  {
   "cell_type": "code",
   "execution_count": null,
   "id": "882162eb-c873-42df-a945-d5e05ad141c9",
   "metadata": {
    "tags": []
   },
   "outputs": [],
   "source": [
    "zfish_data = np.load(\"./zfish_test.npy\")\n",
    "# snippet of a dataset from Martin Haesemeyer"
   ]
  },
  {
   "cell_type": "code",
   "execution_count": null,
   "id": "b015720c-3de1-4575-80c5-d6eabe4b305f",
   "metadata": {},
   "outputs": [],
   "source": [
    "# data is tzxy\n",
    "zfish_data.shape"
   ]
  },
  {
   "cell_type": "code",
   "execution_count": null,
   "id": "fdff388e-d44c-41ff-a177-801f2695fb88",
   "metadata": {},
   "outputs": [],
   "source": [
    "n_planes = zfish_data.shape[1]"
   ]
  },
  {
   "cell_type": "code",
   "execution_count": null,
   "id": "bf9f92b6-38ad-4d78-b88c-a32d473b6462",
   "metadata": {
    "tags": []
   },
   "outputs": [],
   "source": [
    "iw_zfish = ImageWidget(\n",
    "    data=[zfish_data[:, i] for i in range(n_planes)],\n",
    "    window_funcs={\"t\": (np.mean, 5)},\n",
    "    names=[f\"plane-{i}\" for i in range(n_planes)],\n",
    "    cmap=\"gnuplot2\", \n",
    ")"
   ]
  },
  {
   "cell_type": "markdown",
   "id": "037d899e-9e7c-4d58-a021-5f5b71e1db90",
   "metadata": {},
   "source": [
    "pan-zoom controllers are all synced across subplots in a `ImageWidget`"
   ]
  },
  {
   "cell_type": "code",
   "execution_count": null,
   "id": "403dde31-981a-46fb-b005-1bcef19c4f2c",
   "metadata": {
    "tags": []
   },
   "outputs": [],
   "source": [
    "iw_zfish.show(sidecar=True)"
   ]
  },
  {
   "cell_type": "markdown",
   "id": "82545214-13c4-475e-87da-962117085834",
   "metadata": {},
   "source": [
    "Access the subplots using the names given to `ImageWidget`"
   ]
  },
  {
   "cell_type": "code",
   "execution_count": null,
   "id": "b59d95e2-9092-4915-beef-01661d164781",
   "metadata": {
    "tags": []
   },
   "outputs": [],
   "source": [
    "iw_zfish.figure[\"plane-2\"]"
   ]
  },
  {
   "cell_type": "markdown",
   "id": "dc727d1a-681e-4cbf-bfb2-898ceb31cbe0",
   "metadata": {},
   "source": [
    "change window functions"
   ]
  },
  {
   "cell_type": "code",
   "execution_count": null,
   "id": "a8f070db-da11-4062-95aa-f19b96351ee8",
   "metadata": {
    "tags": []
   },
   "outputs": [],
   "source": [
    "iw_zfish.window_funcs[\"t\"].func = np.max"
   ]
  },
  {
   "cell_type": "code",
   "execution_count": null,
   "id": "ceeab465-bafa-4834-8775-d0e35bc5c880",
   "metadata": {},
   "outputs": [],
   "source": [
    "iw_zfish.window_funcs = None"
   ]
  },
  {
   "cell_type": "markdown",
   "id": "8e16a503-0213-4e83-abd3-d1fd202cc193",
   "metadata": {},
   "source": [
    "**Frame-apply functions**\n",
    "\n",
    "These are applied on a frame before being displayed in the `ImageGraphic`"
   ]
  },
  {
   "cell_type": "code",
   "execution_count": null,
   "id": "9557f0a1-b8fd-4dfe-ac3f-47c90ce78625",
   "metadata": {},
   "outputs": [],
   "source": [
    "# scipy isn't a fastplotlib dependency, it's just used for this example\n",
    "from scipy.ndimage import gaussian_filter"
   ]
  },
  {
   "cell_type": "code",
   "execution_count": null,
   "id": "f87d7e33-93bc-46e3-9cd1-6c648b132841",
   "metadata": {},
   "outputs": [],
   "source": [
    "iw_zfish.frame_apply = lambda frame: gaussian_filter(frame.astype(np.float32), sigma=3)\n",
    "iw_zfish.reset_vmin_vmax()"
   ]
  },
  {
   "cell_type": "code",
   "execution_count": null,
   "id": "8b0aa161-89f1-48e4-9976-4a6996f1e7e9",
   "metadata": {},
   "outputs": [],
   "source": [
    "# remove the frame-apply function\n",
    "iw_zfish.frame_apply = None\n",
    "iw_zfish.reset_vmin_vmax()"
   ]
  },
  {
   "cell_type": "markdown",
   "id": "3e89c10f-6e34-4d63-9805-88403d487432",
   "metadata": {},
   "source": [
    "## z-sliders\n",
    "\n",
    "ImageWidget will also give you a slider for \"z\" in addition to \"t\" if necessary. \n",
    "\n",
    "This example uses the same example data shown above, but displays them in a single subplot and `ImageWidget` provides a z-slider. You can use `window_funcs`, `frame_apply` funcs, etc. There is no difference in `ImageWidget` behavior with the z-slider."
   ]
  },
  {
   "cell_type": "code",
   "execution_count": null,
   "id": "b1587410-a08e-484c-8795-195a413d6374",
   "metadata": {
    "tags": []
   },
   "outputs": [],
   "source": [
    "iw_z = ImageWidget(\n",
    "    data=zfish_data, # you can also provide a list of tzxy arrays\n",
    "    window_funcs={\"t\": (np.mean, 5)},\n",
    "    cmap=\"gnuplot2\", \n",
    ")"
   ]
  },
  {
   "cell_type": "code",
   "execution_count": null,
   "id": "3ccea6c6-9580-4720-bce8-a5507cf867a3",
   "metadata": {
    "tags": []
   },
   "outputs": [],
   "source": [
    "iw_z.show()"
   ]
  },
  {
   "cell_type": "code",
   "execution_count": null,
   "id": "aba0fa3a-f844-4937-8615-adbded02345d",
   "metadata": {},
   "outputs": [],
   "source": []
  }
 ],
 "metadata": {
  "kernelspec": {
   "display_name": "Python 3 (ipykernel)",
   "language": "python",
   "name": "python3"
  },
  "language_info": {
   "codemirror_mode": {
    "name": "ipython",
    "version": 3
   },
   "file_extension": ".py",
   "mimetype": "text/x-python",
   "name": "python",
   "nbconvert_exporter": "python",
   "pygments_lexer": "ipython3",
   "version": "3.11.3"
  }
 },
 "nbformat": 4,
 "nbformat_minor": 5
}
