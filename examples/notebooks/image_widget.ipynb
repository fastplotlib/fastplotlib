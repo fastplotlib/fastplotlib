{
 "cells": [
  {
   "cell_type": "code",
   "execution_count": null,
   "id": "04f453ca-d0bc-411f-b2a6-d38294dd0a26",
   "metadata": {
    "tags": []
   },
   "outputs": [],
   "source": [
    "from fastplotlib.widgets import ImageWidget\n",
    "import numpy as np"
   ]
  },
  {
   "cell_type": "markdown",
   "id": "bd632552-dba1-4e48-b8b2-595da7757d0f",
   "metadata": {},
   "source": [
    "# Single image"
   ]
  },
  {
   "cell_type": "code",
   "execution_count": null,
   "id": "c798a5e0-07a0-4468-8e22-9b53b8243ab5",
   "metadata": {
    "tags": []
   },
   "outputs": [],
   "source": [
    "a = np.random.rand(512, 512)"
   ]
  },
  {
   "cell_type": "code",
   "execution_count": null,
   "id": "b0dbf913-c1c6-4c2a-8191-45a87b2ce310",
   "metadata": {
    "tags": []
   },
   "outputs": [],
   "source": [
    "iw = ImageWidget(\n",
    "    data=a,\n",
    "    cmap=\"viridis\"\n",
    ")"
   ]
  },
  {
   "cell_type": "code",
   "execution_count": null,
   "id": "cc90aff2-4e56-4020-93d0-94e81f030f45",
   "metadata": {},
   "outputs": [],
   "source": [
    "iw.show()"
   ]
  },
  {
   "cell_type": "markdown",
   "id": "b718162f-9aa6-4091-a7a4-c620676b48bd",
   "metadata": {},
   "source": [
    "### can dynamically change features"
   ]
  },
  {
   "cell_type": "code",
   "execution_count": null,
   "id": "393375df-327c-409a-9e3e-75121a0df6cb",
   "metadata": {
    "tags": []
   },
   "outputs": [],
   "source": [
    "iw.gridplot[0, 0].graphics[0].cmap = \"gnuplot2\""
   ]
  },
  {
   "cell_type": "markdown",
   "id": "e933771b-f172-4fa9-b2f8-129723efb808",
   "metadata": {},
   "source": [
    "# Single image sequence"
   ]
  },
  {
   "cell_type": "code",
   "execution_count": null,
   "id": "ea87f9a6-437f-41f6-8739-c957fb04bdbf",
   "metadata": {
    "tags": []
   },
   "outputs": [],
   "source": [
    "a = np.random.rand(500, 512, 512)"
   ]
  },
  {
   "cell_type": "code",
   "execution_count": null,
   "id": "8b7a6066-ff69-4bee-bae6-160fb4038393",
   "metadata": {
    "tags": []
   },
   "outputs": [],
   "source": [
    "iw2 = ImageWidget(\n",
    "    data=a, \n",
    "    slider_dims=[\"t\"],\n",
    "    cmap=\"gnuplot2\"\n",
    ")"
   ]
  },
  {
   "cell_type": "code",
   "execution_count": null,
   "id": "3d4cb44e-2c71-4bff-aeed-b2129f34d724",
   "metadata": {
    "tags": []
   },
   "outputs": [],
   "source": [
    "iw2.show()"
   ]
  },
  {
   "cell_type": "markdown",
   "id": "9908103c-c35c-4f33-ada1-0fc357c3fd5e",
   "metadata": {},
   "source": [
    "### Play with setting different window functions\n",
    "\n",
    "These can also be given as kwargs to `ImageWidget` during instantiation"
   ]
  },
  {
   "cell_type": "code",
   "execution_count": null,
   "id": "f278b26a-1b71-4e76-9cc7-efaddbd7b122",
   "metadata": {
    "tags": []
   },
   "outputs": [],
   "source": [
    "# must be in the form of {dim: (func, window_size)}\n",
    "iw2.window_funcs = {\"t\": (np.mean, 13)}"
   ]
  },
  {
   "cell_type": "code",
   "execution_count": null,
   "id": "cb4d4b7c-919f-41c0-b1cc-b4496473d760",
   "metadata": {
    "tags": []
   },
   "outputs": [],
   "source": [
    "# change the winow size\n",
    "iw2.window_funcs[\"t\"].window_size = 23"
   ]
  },
  {
   "cell_type": "code",
   "execution_count": null,
   "id": "2eea6432-4d38-4d42-ab75-f6aa1bab36f4",
   "metadata": {
    "tags": []
   },
   "outputs": [],
   "source": [
    "# change the function\n",
    "iw2.window_funcs[\"t\"].func = np.max"
   ]
  },
  {
   "cell_type": "code",
   "execution_count": null,
   "id": "afa2436f-2741-49d6-87f6-7a91a343fe0e",
   "metadata": {
    "tags": []
   },
   "outputs": [],
   "source": [
    "# or set it again\n",
    "iw2.window_funcs = {\"t\": (np.min, 11)}"
   ]
  },
  {
   "cell_type": "markdown",
   "id": "caca9c2e-8c25-449c-ac23-1370c68d6dff",
   "metadata": {},
   "source": [
    "### Can also set new data"
   ]
  },
  {
   "cell_type": "code",
   "execution_count": null,
   "id": "370d1d24-2944-491f-9da0-fa0c7ed073ef",
   "metadata": {
    "tags": []
   },
   "outputs": [],
   "source": [
    "new_data = np.random.rand(500, 512, 512)\n",
    "iw2.set_data(new_data=new_data)"
   ]
  },
  {
   "cell_type": "markdown",
   "id": "aca22179-1b1f-4c51-97bf-ce2d7044e451",
   "metadata": {},
   "source": [
    "# Gridplot of txy data"
   ]
  },
  {
   "cell_type": "code",
   "execution_count": null,
   "id": "882162eb-c873-42df-a945-d5e05ad141c9",
   "metadata": {
    "tags": []
   },
   "outputs": [],
   "source": [
    "dims = (100, 512, 512)\n",
    "data = [np.random.rand(*dims) for i in range(4)]"
   ]
  },
  {
   "cell_type": "code",
   "execution_count": null,
   "id": "bf9f92b6-38ad-4d78-b88c-a32d473b6462",
   "metadata": {
    "tags": []
   },
   "outputs": [],
   "source": [
    "iw3 = ImageWidget(\n",
    "    data=data, \n",
    "    slider_dims=[\"t\"], \n",
    "    # dims_order=\"txy\", # you can set this manually if dim order is not the usual\n",
    "    names=[\"zero\", \"one\", \"two\", \"three\"],\n",
    "    window_funcs={\"t\": (np.mean, 5)},\n",
    "    cmap=\"gnuplot2\", \n",
    ")"
   ]
  },
  {
   "cell_type": "markdown",
   "id": "0721dc40-677e-431d-94c6-da59606199cb",
   "metadata": {},
   "source": [
    "### pan-zoom controllers are all synced in a `ImageWidget`"
   ]
  },
  {
   "cell_type": "code",
   "execution_count": null,
   "id": "403dde31-981a-46fb-b005-1bcef19c4f2c",
   "metadata": {
    "tags": []
   },
   "outputs": [],
   "source": [
    "iw3.show()"
   ]
  },
  {
   "cell_type": "markdown",
   "id": "82545214-13c4-475e-87da-962117085834",
   "metadata": {},
   "source": [
    "### Index the subplots using the names given to `ImageWidget`"
   ]
  },
  {
   "cell_type": "code",
   "execution_count": null,
   "id": "b59d95e2-9092-4915-beef-01661d164781",
   "metadata": {
    "tags": []
   },
   "outputs": [],
   "source": [
    "iw3.gridplot[\"two\"]"
   ]
  },
  {
   "cell_type": "markdown",
   "id": "dc727d1a-681e-4cbf-bfb2-898ceb31cbe0",
   "metadata": {},
   "source": [
    "### change window functions just like before"
   ]
  },
  {
   "cell_type": "code",
   "execution_count": null,
   "id": "a8f070db-da11-4062-95aa-f19b96351ee8",
   "metadata": {
    "tags": []
   },
   "outputs": [],
   "source": [
    "iw3.window_funcs[\"t\"].func = np.max"
   ]
  },
  {
   "cell_type": "markdown",
   "id": "3e89c10f-6e34-4d63-9805-88403d487432",
   "metadata": {},
   "source": [
    "## Gridplot of volumetric data"
   ]
  },
  {
   "cell_type": "code",
   "execution_count": null,
   "id": "b1587410-a08e-484c-8795-195a413d6374",
   "metadata": {
    "tags": []
   },
   "outputs": [],
   "source": [
    "dims = (256, 256, 5, 100)\n",
    "data = [np.random.rand(*dims) for i in range(4)]\n",
    "\n",
    "iw4 = ImageWidget(\n",
    "    data=data, \n",
    "    slider_dims=[\"t\", \"z\"], \n",
    "    dims_order=\"xyzt\", # example of how you can set this for non-standard orders\n",
    "    names=[\"zero\", \"one\", \"two\", \"three\"],\n",
    "    # window_funcs={\"t\": (np.mean, 5)}, # window functions can be slow when indexing multiple dims\n",
    "    cmap=\"gnuplot2\", \n",
    ")"
   ]
  },
  {
   "cell_type": "code",
   "execution_count": null,
   "id": "3ccea6c6-9580-4720-bce8-a5507cf867a3",
   "metadata": {
    "tags": []
   },
   "outputs": [],
   "source": [
    "iw4.show()"
   ]
  },
  {
   "cell_type": "markdown",
   "id": "2382809c-4c7d-4da4-9955-71d316dee46a",
   "metadata": {},
   "source": [
    "### window functions, can be slow when you have \"t\" and \"z\""
   ]
  },
  {
   "cell_type": "code",
   "execution_count": null,
   "id": "fd4433a9-2add-417c-a618-5891371efae0",
   "metadata": {
    "tags": []
   },
   "outputs": [],
   "source": [
    "iw4.window_funcs = {\"t\": (np.mean, 11)}"
   ]
  }
 ],
 "metadata": {
  "kernelspec": {
   "display_name": "Python 3 (ipykernel)",
   "language": "python",
   "name": "python3"
  },
  "language_info": {
   "codemirror_mode": {
    "name": "ipython",
    "version": 3
   },
   "file_extension": ".py",
   "mimetype": "text/x-python",
   "name": "python",
   "nbconvert_exporter": "python",
   "pygments_lexer": "ipython3",
   "version": "3.11.3"
  }
 },
 "nbformat": 4,
 "nbformat_minor": 5
}
