{
 "cells": [
  {
   "cell_type": "code",
   "execution_count": null,
   "id": "07019035-83f2-4753-9e7c-628ae439b441",
   "metadata": {
    "tags": []
   },
   "outputs": [],
   "source": [
    "from fastplotlib.widgets import ImageWidget\n",
    "import numpy as np\n",
    "from scipy.ndimage import gaussian_filter\n",
    "\n",
    "import imageio.v3 as iio"
   ]
  },
  {
   "cell_type": "code",
   "execution_count": null,
   "id": "10b8ab40-944d-472c-9b7e-cae8a129e7ce",
   "metadata": {},
   "outputs": [],
   "source": [
    "from nb_test_utils import plot_test, notebook_finished\n",
    "import nb_test_utils\n",
    "nb_test_utils.TOLERANCE = 0.035"
   ]
  },
  {
   "cell_type": "markdown",
   "id": "0a9fe48a-cc24-4ecf-b442-b7425ce338d3",
   "metadata": {},
   "source": [
    "# Single image"
   ]
  },
  {
   "cell_type": "code",
   "execution_count": null,
   "id": "01dd4b84-2960-4c26-8162-f0499698e593",
   "metadata": {
    "tags": []
   },
   "outputs": [],
   "source": [
    "a = iio.imread(\"imageio:camera.png\")"
   ]
  },
  {
   "cell_type": "code",
   "execution_count": null,
   "id": "f9d98a12-9574-4b47-9271-013e659cb93f",
   "metadata": {
    "tags": []
   },
   "outputs": [],
   "source": [
    "iw = ImageWidget(\n",
    "    data=a,\n",
    "    cmap=\"viridis\",\n",
    "    grid_plot_kwargs={\"size\": (900, 600)},\n",
    ")"
   ]
  },
  {
   "cell_type": "code",
   "execution_count": null,
   "id": "e9d86a12-b5f2-4ad7-bd70-4715c80b5ece",
   "metadata": {},
   "outputs": [],
   "source": [
    "iw.show()"
   ]
  },
  {
   "cell_type": "code",
   "execution_count": null,
   "id": "920ef882-e5e6-45b6-b002-5ed26aa3134e",
   "metadata": {},
   "outputs": [],
   "source": [
    "plot_test(\"image-widget-single\", iw.gridplot)\n",
    "iw.gridplot[0, 0][\"image_widget_managed\"].cmap = \"gnuplot2\"\n",
    "plot_test(\"image-widget-single-gnuplot2\", iw.gridplot)"
   ]
  },
  {
   "cell_type": "code",
   "execution_count": null,
   "id": "26120b76-c7b0-4e23-bdb1-411be1944687",
   "metadata": {},
   "outputs": [],
   "source": [
    "iw.close()"
   ]
  },
  {
   "cell_type": "markdown",
   "id": "ffde9820-b388-4f22-b7fd-d55a2ad421ad",
   "metadata": {},
   "source": [
    "# Single image sequence"
   ]
  },
  {
   "cell_type": "code",
   "execution_count": null,
   "id": "2067c88f-2b71-4036-a413-59355fa64292",
   "metadata": {
    "tags": []
   },
   "outputs": [],
   "source": [
    "movie = iio.imread(\"imageio:cockatoo.mp4\")\n",
    "\n",
    "# convert RGB movie to grayscale, this could take a minute\n",
    "gray_movie = np.dot(movie[..., :3], [0.299, 0.587, 0.114])"
   ]
  },
  {
   "cell_type": "code",
   "execution_count": null,
   "id": "05d3a905-849b-42ae-82ac-34bdc28c1414",
   "metadata": {
    "tags": []
   },
   "outputs": [],
   "source": [
    "iw_movie = ImageWidget(\n",
    "    data=gray_movie, \n",
    "    slider_dims=[\"t\"],\n",
    "    cmap=\"gray\",\n",
    "    grid_plot_kwargs={\"size\": (900, 600)},\n",
    ")"
   ]
  },
  {
   "cell_type": "code",
   "execution_count": null,
   "id": "92df8b8c-8d9f-4111-9b3b-fdab7cc7b3f4",
   "metadata": {
    "tags": []
   },
   "outputs": [],
   "source": [
    "iw_movie.show()"
   ]
  },
  {
   "cell_type": "code",
   "execution_count": null,
   "id": "ac0a7fc0-0323-4b9e-8c70-3ddc735b7893",
   "metadata": {},
   "outputs": [],
   "source": [
    "# testing cell ignore\n",
    "assert iw_movie.sliders[\"t\"].max == gray_movie.shape[0] - 1\n",
    "assert iw_movie.sliders[\"t\"].min == 0\n",
    "plot_test(\"image-widget-movie-single-0\", iw_movie.gridplot)\n",
    "iw_movie.sliders[\"t\"].value = 50\n",
    "plot_test(\"image-widget-movie-single-50\", iw_movie.gridplot)\n",
    "iw_movie.sliders[\"t\"].value = 279\n",
    "plot_test(\"image-widget-movie-single-279\", iw_movie.gridplot)\n",
    "iw_movie.sliders[\"t\"].value = 0\n",
    "plot_test(\"image-widget-movie-single-0-reset\", iw_movie.gridplot)\n",
    "iw_movie.sliders[\"t\"].value = 50\n",
    "iw_movie.window_funcs = {\"t\": (np.mean, 13)}\n",
    "# testing cell ignore\n",
    "plot_test(\"image-widget-movie-single-50-window-mean-13\", iw_movie.gridplot)\n",
    "iw_movie.window_funcs[\"t\"].window_size = 33\n",
    "plot_test(\"image-widget-movie-single-50-window-mean-33\", iw_movie.gridplot)\n",
    "iw_movie.window_funcs[\"t\"].func = np.max\n",
    "plot_test(\"image-widget-movie-single-50-window-max-33\", iw_movie.gridplot)\n",
    "iw_movie.window_funcs = None\n",
    "plot_test(\"image-widget-movie-single-50-window-reset\", iw_movie.gridplot)\n",
    "iw_movie.sliders[\"t\"].value = 0"
   ]
  },
  {
   "cell_type": "markdown",
   "id": "c5fb9aaa-b1a8-46b9-81a5-a656183ab16d",
   "metadata": {},
   "source": [
    "# Set new data"
   ]
  },
  {
   "cell_type": "code",
   "execution_count": null,
   "id": "e1730287-41de-4166-8d00-36ae2daabb47",
   "metadata": {},
   "outputs": [],
   "source": [
    "new_data = iio.imread(\"imageio:stent.npz\")"
   ]
  },
  {
   "cell_type": "code",
   "execution_count": null,
   "id": "9010dd43-83c8-4807-8874-71af8ef5c955",
   "metadata": {
    "tags": []
   },
   "outputs": [],
   "source": [
    "iw_movie.set_data(new_data=new_data)\n",
    "iw_movie.gridplot[0, 0].auto_scale()"
   ]
  },
  {
   "cell_type": "code",
   "execution_count": null,
   "id": "06e6f4fb-fe58-40f0-adf0-191e02cdbd75",
   "metadata": {},
   "outputs": [],
   "source": [
    "plot_test(\"image-widget-movie-set_data\", iw_movie.gridplot)"
   ]
  },
  {
   "cell_type": "code",
   "execution_count": null,
   "id": "e5d55d4e-57f2-4460-b252-7a9d21f7c217",
   "metadata": {},
   "outputs": [],
   "source": [
    "iw_movie.close()"
   ]
  },
  {
   "cell_type": "markdown",
   "id": "d2e6819b-209a-49af-97b7-0b8956023d1a",
   "metadata": {},
   "source": [
    "# zfish"
   ]
  },
  {
   "cell_type": "code",
   "execution_count": null,
   "id": "cf9845b6-1cda-403b-96cd-e2b51803c96a",
   "metadata": {
    "tags": []
   },
   "outputs": [],
   "source": [
    "zfish_data = np.load(\"./zfish_test.npy\")"
   ]
  },
  {
   "cell_type": "code",
   "execution_count": null,
   "id": "f7f0315a-29c0-4852-9d49-edaeb3ee45c6",
   "metadata": {},
   "outputs": [],
   "source": [
    "# data is tzxy\n",
    "zfish_data.shape"
   ]
  },
  {
   "cell_type": "code",
   "execution_count": null,
   "id": "67e840fa-9eb9-4705-ab85-ec981ba29abb",
   "metadata": {},
   "outputs": [],
   "source": [
    "n_planes = zfish_data.shape[1]"
   ]
  },
  {
   "cell_type": "code",
   "execution_count": null,
   "id": "76535d56-e514-4c16-aa48-a6359f8019d5",
   "metadata": {
    "jupyter": {
     "source_hidden": true
    },
    "tags": []
   },
   "outputs": [],
   "source": [
    "iw_zfish = ImageWidget(\n",
    "    data=[zfish_data[:, i] for i in range(n_planes)],\n",
    "    window_funcs={\"t\": (np.mean, 5)},\n",
    "    names=[f\"plane-{i}\" for i in range(n_planes)],\n",
    "    cmap=\"gnuplot2\", \n",
    "    grid_plot_kwargs={\"size\": (900, 600)},\n",
    ")"
   ]
  },
  {
   "cell_type": "code",
   "execution_count": null,
   "id": "13904849-cbc5-41e7-ad90-d6e8a4fc0077",
   "metadata": {
    "tags": []
   },
   "outputs": [],
   "source": [
    "iw_zfish.show()"
   ]
  },
  {
   "cell_type": "code",
   "execution_count": null,
   "id": "75e8cf08-f1d2-414c-84a2-1ba4c2a01072",
   "metadata": {},
   "outputs": [],
   "source": [
    "# testing cell ignore\n",
    "assert iw_zfish.sliders[\"t\"].max == zfish_data.shape[0] - 1\n",
    "assert iw_zfish.sliders[\"t\"].min == 0\n",
    "plot_test(\"image-widget-zfish-grid-init-mean-window-5\", iw_zfish.gridplot)\n",
    "iw_zfish.sliders[\"t\"].value = 50\n",
    "plot_test(\"image-widget-zfish-grid-frame-50-mean-window-5\", iw_zfish.gridplot)\n",
    "iw_zfish.window_funcs[\"t\"].window_size = 13\n",
    "plot_test(\"image-widget-zfish-grid-frame-50-mean-window-13\", iw_zfish.gridplot)\n",
    "iw_zfish.window_funcs = None\n",
    "plot_test(\"image-widget-zfish-grid-frame-50\", iw_zfish.gridplot)\n",
    "iw_zfish.sliders[\"t\"].value = 99\n",
    "plot_test(\"image-widget-zfish-grid-frame-99\", iw_zfish.gridplot)\n",
    "iw_zfish.sliders[\"t\"].value = 50\n",
    "iw_zfish.window_funcs = {\"t\": (np.max, 13)}\n",
    "plot_test(\"image-widget-zfish-grid-frame-50-max-window-13\", iw_zfish.gridplot)\n",
    "iw_zfish.window_funcs = None\n",
    "iw_zfish.frame_apply = lambda frame: gaussian_filter(frame.astype(np.float32), sigma=3)\n",
    "iw_zfish.reset_vmin_vmax()\n",
    "plot_test(\"image-widget-zfish-grid-frame-50-frame-apply-gaussian\", iw_zfish.gridplot)\n",
    "iw_zfish.frame_apply = None\n",
    "iw_zfish.reset_vmin_vmax()\n",
    "plot_test(\"image-widget-zfish-grid-frame-50-frame-apply-reset\", iw_zfish.gridplot)"
   ]
  },
  {
   "cell_type": "code",
   "execution_count": null,
   "id": "34499f45-cab3-4abd-832a-a679746b1684",
   "metadata": {},
   "outputs": [],
   "source": [
    "# reverse planes and test set_data\n",
    "iw_zfish.set_data(\n",
    "    [zfish_data[:, i] for i in range(n_planes - 1, -1, -1)],\n",
    "    reset_indices=False\n",
    ")\n",
    "\n",
    "plot_test(\"image-widget-zfish-grid-set_data-reset-indices-false\", iw_zfish.gridplot)\n",
    "\n",
    "iw_zfish.set_data(\n",
    "    [zfish_data[:, i] for i in range(n_planes - 1, -1, -1)],\n",
    "    reset_indices=True\n",
    ")\n",
    "plot_test(\"image-widget-zfish-grid-set_data-reset-indices-true\", iw_zfish.gridplot)"
   ]
  },
  {
   "cell_type": "code",
   "execution_count": null,
   "id": "08501aad-8b56-4ae5-98ff-26942cbb5d67",
   "metadata": {},
   "outputs": [],
   "source": [
    "iw_zfish.close()"
   ]
  },
  {
   "cell_type": "markdown",
   "id": "bf5ff2c3-780c-41dd-91a7-74ef8b87d838",
   "metadata": {},
   "source": [
    "## z-sliders"
   ]
  },
  {
   "cell_type": "code",
   "execution_count": null,
   "id": "87280ff7-5009-46a7-9306-0c1fe03ba4bd",
   "metadata": {
    "tags": []
   },
   "outputs": [],
   "source": [
    "iw_z = ImageWidget(\n",
    "    data=zfish_data, # you can also provide a list of tzxy arrays\n",
    "    window_funcs={\"t\": (np.mean, 5)},\n",
    "    cmap=\"gnuplot2\", \n",
    "    grid_plot_kwargs={\"size\": (900, 600)},\n",
    ")"
   ]
  },
  {
   "cell_type": "code",
   "execution_count": null,
   "id": "94142bdf-78d0-4512-b27a-f5a61b9aba5f",
   "metadata": {
    "tags": []
   },
   "outputs": [],
   "source": [
    "iw_z.show()"
   ]
  },
  {
   "cell_type": "code",
   "execution_count": null,
   "id": "06b66964-b3bf-4545-a0e6-79ddc996a1d0",
   "metadata": {},
   "outputs": [],
   "source": [
    "# same tests as with the gridplot\n",
    "assert iw_z.sliders[\"t\"].max == zfish_data.shape[0] - 1\n",
    "assert iw_z.sliders[\"t\"].min == 0\n",
    "plot_test(\"image-widget-zfish-init-mean-window-5\", iw_z.gridplot)\n",
    "iw_z.sliders[\"t\"].value = 50\n",
    "plot_test(\"image-widget-zfish-frame-50-mean-window-5\", iw_z.gridplot)\n",
    "iw_z.window_funcs[\"t\"].window_size = 13\n",
    "plot_test(\"image-widget-zfish-frame-50-mean-window-13\", iw_z.gridplot)\n",
    "iw_z.window_funcs = None\n",
    "plot_test(\"image-widget-zfish-frame-50\", iw_z.gridplot)\n",
    "iw_z.sliders[\"t\"].value = 99\n",
    "plot_test(\"image-widget-zfish-frame-99\", iw_z.gridplot)\n",
    "iw_z.sliders[\"t\"].value = 50\n",
    "iw_z.window_funcs = {\"t\": (np.max, 13)}\n",
    "plot_test(\"image-widget-zfish-frame-50-max-window-13\", iw_z.gridplot)\n",
    "iw_z.window_funcs = None\n",
    "iw_z.frame_apply = lambda frame: gaussian_filter(frame.astype(np.float32), sigma=3)\n",
    "iw_z.reset_vmin_vmax()\n",
    "plot_test(\"image-widget-zfish-frame-50-frame-apply-gaussian\", iw_z.gridplot)\n",
    "iw_z.frame_apply = None\n",
    "iw_z.reset_vmin_vmax()\n",
    "plot_test(\"image-widget-zfish-frame-50-frame-apply-reset\", iw_z.gridplot)"
   ]
  },
  {
   "cell_type": "code",
   "execution_count": null,
   "id": "b94ae517-4a48-4efe-b85b-7679ae02d233",
   "metadata": {},
   "outputs": [],
   "source": [
    "iw_z.close()"
   ]
  },
  {
   "cell_type": "code",
   "execution_count": null,
   "id": "870627ef-09d8-44e4-8952-aedb702d1526",
   "metadata": {},
   "outputs": [],
   "source": [
    "notebook_finished()"
   ]
  },
  {
   "cell_type": "code",
   "execution_count": null,
   "id": "b8fff1a6-119e-4f03-ba3a-4c7b9e8c212b",
   "metadata": {},
   "outputs": [],
   "source": []
  }
 ],
 "metadata": {
  "kernelspec": {
   "display_name": "Python 3 (ipykernel)",
   "language": "python",
   "name": "python3"
  },
  "language_info": {
   "codemirror_mode": {
    "name": "ipython",
    "version": 3
   },
   "file_extension": ".py",
   "mimetype": "text/x-python",
   "name": "python",
   "nbconvert_exporter": "python",
   "pygments_lexer": "ipython3",
   "version": "3.11.3"
  }
 },
 "nbformat": 4,
 "nbformat_minor": 5
}
