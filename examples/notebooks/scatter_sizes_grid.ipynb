{
 "cells": [
  {
   "cell_type": "code",
   "execution_count": null,
   "metadata": {},
   "outputs": [],
   "source": [
    "\"\"\"\n",
    "Scatter Plot\n",
    "============\n",
    "Example showing point size change for scatter plot.\n",
    "\"\"\"\n",
    "\n",
    "# test_example = true\n",
    "import numpy as np\n",
    "import fastplotlib as fpl\n",
    "\n",
    "# figure with 2 rows and 3 columns\n",
    "shape = (2, 1)\n",
    "\n",
    "# you can give string names for each subplot\n",
    "names = [\n",
    "    [\"scalar_size\"],\n",
    "    [\"array_size\"]\n",
    "]\n",
    "\n",
    "# Create the figure\n",
    "fig = fpl.Figure(\n",
    "    shape=shape,\n",
    "    names=names,\n",
    "    size=(1000, 1000)\n",
    ")\n",
    "\n",
    "# get y_values using sin function\n",
    "angles = np.arange(0, 20*np.pi+0.001, np.pi / 20)\n",
    "y_values = 30*np.sin(angles) # 1 thousand points\n",
    "x_values = np.array([x for x in range(len(y_values))], dtype=np.float32)\n",
    "\n",
    "data = np.column_stack([x_values, y_values])\n",
    "\n",
    "fig[\"scalar_size\"].add_scatter(data=data, sizes=5, colors=\"blue\") # add a set of scalar sizes\n",
    "\n",
    "non_scalar_sizes = np.abs((y_values / np.pi)) # ensure minimum size of 5\n",
    "fig[\"array_size\"].add_scatter(data=data, sizes=non_scalar_sizes, colors=\"red\")\n",
    "\n",
    "for subplot in fig:\n",
    "    subplot.auto_scale(maintain_aspect=True)\n",
    "\n",
    "fig.show()"
   ]
  },
  {
   "cell_type": "code",
   "execution_count": null,
   "metadata": {},
   "outputs": [],
   "source": []
  }
 ],
 "metadata": {
  "kernelspec": {
   "display_name": "Python 3 (ipykernel)",
   "language": "python",
   "name": "python3"
  },
  "language_info": {
   "codemirror_mode": {
    "name": "ipython",
    "version": 3
   },
   "file_extension": ".py",
   "mimetype": "text/x-python",
   "name": "python",
   "nbconvert_exporter": "python",
   "pygments_lexer": "ipython3",
   "version": "3.11.3"
  }
 },
 "nbformat": 4,
 "nbformat_minor": 4
}
