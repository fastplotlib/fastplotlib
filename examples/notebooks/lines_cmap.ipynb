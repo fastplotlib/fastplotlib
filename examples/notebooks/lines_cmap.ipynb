{
 "cells": [
  {
   "cell_type": "code",
   "execution_count": null,
   "id": "b169210c-b148-4701-91d2-87f8be2c90da",
   "metadata": {
    "tags": []
   },
   "outputs": [],
   "source": [
    "import numpy as np\n",
    "import fastplotlib as fpl"
   ]
  },
  {
   "cell_type": "code",
   "execution_count": null,
   "id": "a6615d45-6a6e-4a1e-a998-18f7cc52f6b9",
   "metadata": {
    "tags": []
   },
   "outputs": [],
   "source": [
    "# linspace, create 100 evenly spaced x values from -10 to 10\n",
    "xs = np.linspace(-10, 10, 100)\n",
    "# sine wave\n",
    "ys = np.sin(xs)\n",
    "sine = np.dstack([xs, ys])[0]\n",
    "\n",
    "# cosine wave\n",
    "ys = np.cos(xs)\n",
    "cosine = np.dstack([xs, ys])[0]"
   ]
  },
  {
   "cell_type": "code",
   "execution_count": null,
   "id": "52a91e8a-25b7-4121-a06f-623d7412b558",
   "metadata": {
    "tags": []
   },
   "outputs": [],
   "source": [
    "plot = fpl.Plot()\n",
    "\n",
    "plot.add_line(sine, thickness=10)\n",
    "\n",
    "plot.show()"
   ]
  },
  {
   "cell_type": "markdown",
   "id": "889b1858-ed64-4d6b-96ad-3883fbe4d38e",
   "metadata": {},
   "source": [
    "# Fancy indexing of line colormaps"
   ]
  },
  {
   "cell_type": "code",
   "execution_count": null,
   "id": "13185547-07bc-4771-ac6d-83314622bf30",
   "metadata": {
    "tags": []
   },
   "outputs": [],
   "source": [
    "plot.graphics[0].cmap = \"jet\""
   ]
  },
  {
   "cell_type": "code",
   "execution_count": null,
   "id": "ee9ec4d7-d9a2-417c-92bd-b01a9a019801",
   "metadata": {
    "tags": []
   },
   "outputs": [],
   "source": [
    "plot.graphics[0].cmap.values = sine[:, 1]"
   ]
  },
  {
   "cell_type": "code",
   "execution_count": null,
   "id": "ebf9f494-782d-4529-9ef6-a2a4032f097d",
   "metadata": {
    "tags": []
   },
   "outputs": [],
   "source": [
    "plot.graphics[0].cmap.values = cosine[:, 1]"
   ]
  },
  {
   "cell_type": "code",
   "execution_count": null,
   "id": "5ddc95cf-b3be-4212-b525-1c628dc1e091",
   "metadata": {
    "tags": []
   },
   "outputs": [],
   "source": [
    "plot.graphics[0].cmap = \"viridis\""
   ]
  },
  {
   "cell_type": "code",
   "execution_count": null,
   "id": "7712d313-16cd-49e5-89ca-91364412f194",
   "metadata": {
    "tags": []
   },
   "outputs": [],
   "source": [
    "cmap_values = [0] * 25 + [1] * 5 + [2] * 50 + [3] * 20"
   ]
  },
  {
   "cell_type": "code",
   "execution_count": null,
   "id": "c8c13c03-56f0-48c3-b44e-65545a3bc3bc",
   "metadata": {
    "tags": []
   },
   "outputs": [],
   "source": [
    "plot.graphics[0].cmap.values = cmap_values"
   ]
  },
  {
   "cell_type": "code",
   "execution_count": null,
   "id": "f64d036d-8a9e-4799-b77f-e78afa441fec",
   "metadata": {
    "tags": []
   },
   "outputs": [],
   "source": [
    "plot.graphics[0].cmap = \"tab10\""
   ]
  },
  {
   "cell_type": "code",
   "execution_count": null,
   "id": "c290c642-ba5f-4a46-9a17-c434cb39de26",
   "metadata": {},
   "outputs": [],
   "source": []
  }
 ],
 "metadata": {
  "kernelspec": {
   "display_name": "Python 3 (ipykernel)",
   "language": "python",
   "name": "python3"
  },
  "language_info": {
   "codemirror_mode": {
    "name": "ipython",
    "version": 3
   },
   "file_extension": ".py",
   "mimetype": "text/x-python",
   "name": "python",
   "nbconvert_exporter": "python",
   "pygments_lexer": "ipython3",
   "version": "3.11.3"
  }
 },
 "nbformat": 4,
 "nbformat_minor": 5
}
