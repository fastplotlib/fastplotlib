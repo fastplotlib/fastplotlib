{
 "cells": [
  {
   "cell_type": "code",
   "execution_count": null,
   "id": "b169210c-b148-4701-91d2-87f8be2c90da",
   "metadata": {
    "tags": []
   },
   "outputs": [],
   "source": [
    "import numpy as np\n",
    "import fastplotlib as fpl"
   ]
  },
  {
   "cell_type": "code",
   "execution_count": null,
   "id": "5d2ef4aa-0e4c-4694-ae2e-05da1153a413",
   "metadata": {
    "tags": []
   },
   "outputs": [],
   "source": [
    "# this is only for testing, you do not need this to use fastplotlib\n",
    "from nb_test_utils import plot_test, notebook_finished"
   ]
  },
  {
   "cell_type": "code",
   "execution_count": null,
   "id": "a6615d45-6a6e-4a1e-a998-18f7cc52f6b9",
   "metadata": {
    "tags": []
   },
   "outputs": [],
   "source": [
    "# linspace, create 100 evenly spaced x values from -10 to 10\n",
    "xs = np.linspace(-10, 10, 100)\n",
    "# sine wave\n",
    "ys = np.sin(xs)\n",
    "sine = np.dstack([xs, ys])[0]\n",
    "\n",
    "# cosine wave\n",
    "ys = np.cos(xs)\n",
    "cosine = np.dstack([xs, ys])[0]"
   ]
  },
  {
   "cell_type": "code",
   "execution_count": null,
   "id": "52a91e8a-25b7-4121-a06f-623d7412b558",
   "metadata": {
    "tags": []
   },
   "outputs": [],
   "source": [
    "fig = fpl.Figure()\n",
    "\n",
    "fig[0, 0].add_line(sine, thickness=10)\n",
    "\n",
    "fig.show()"
   ]
  },
  {
   "cell_type": "code",
   "execution_count": null,
   "id": "727282c3-aadf-420f-a88e-9dd4d4e91263",
   "metadata": {
    "tags": []
   },
   "outputs": [],
   "source": [
    "plot_test(\"lines-cmap-white\", fig)"
   ]
  },
  {
   "cell_type": "markdown",
   "id": "889b1858-ed64-4d6b-96ad-3883fbe4d38e",
   "metadata": {},
   "source": [
    "# Fancy indexing of line colormaps"
   ]
  },
  {
   "cell_type": "code",
   "execution_count": null,
   "id": "13185547-07bc-4771-ac6d-83314622bf30",
   "metadata": {
    "tags": []
   },
   "outputs": [],
   "source": [
    "fig[0, 0].graphics[0].cmap = \"jet\""
   ]
  },
  {
   "cell_type": "code",
   "execution_count": null,
   "id": "3c9b0bc8-b176-425c-8036-63dc55ab7466",
   "metadata": {
    "tags": []
   },
   "outputs": [],
   "source": [
    "# for testing, ignore\n",
    "plot_test(\"lines-cmap-jet\", fig)"
   ]
  },
  {
   "cell_type": "code",
   "execution_count": null,
   "id": "ee9ec4d7-d9a2-417c-92bd-b01a9a019801",
   "metadata": {
    "tags": []
   },
   "outputs": [],
   "source": [
    "fig[0, 0].graphics[0].cmap.values = sine[:, 1]"
   ]
  },
  {
   "cell_type": "code",
   "execution_count": null,
   "id": "6b19d2d4-90e7-40ed-afb9-13abe5474ace",
   "metadata": {
    "tags": []
   },
   "outputs": [],
   "source": [
    "# for testing, ignore\n",
    "plot_test(\"lines-cmap-jet-values\", fig)"
   ]
  },
  {
   "cell_type": "code",
   "execution_count": null,
   "id": "ebf9f494-782d-4529-9ef6-a2a4032f097d",
   "metadata": {
    "tags": []
   },
   "outputs": [],
   "source": [
    "fig[0, 0].graphics[0].cmap.values = cosine[:, 1]"
   ]
  },
  {
   "cell_type": "code",
   "execution_count": null,
   "id": "0a6c4739-fa61-4532-865e-21107eab76f9",
   "metadata": {
    "tags": []
   },
   "outputs": [],
   "source": [
    "# for testing, ignore\n",
    "plot_test(\"lines-cmap-jet-values-cosine\", fig)"
   ]
  },
  {
   "cell_type": "code",
   "execution_count": null,
   "id": "5ddc95cf-b3be-4212-b525-1c628dc1e091",
   "metadata": {
    "tags": []
   },
   "outputs": [],
   "source": [
    "fig[0, 0].graphics[0].cmap = \"viridis\""
   ]
  },
  {
   "cell_type": "code",
   "execution_count": null,
   "id": "45acfd2f-09f5-418c-bca5-3e574348b7d5",
   "metadata": {
    "tags": []
   },
   "outputs": [],
   "source": [
    "# for testing, ignore\n",
    "plot_test(\"lines-cmap-viridis\", fig)"
   ]
  },
  {
   "cell_type": "code",
   "execution_count": null,
   "id": "7712d313-16cd-49e5-89ca-91364412f194",
   "metadata": {
    "tags": []
   },
   "outputs": [],
   "source": [
    "cmap_values = [0] * 25 + [1] * 5 + [2] * 50 + [3] * 20"
   ]
  },
  {
   "cell_type": "code",
   "execution_count": null,
   "id": "c8c13c03-56f0-48c3-b44e-65545a3bc3bc",
   "metadata": {
    "tags": []
   },
   "outputs": [],
   "source": [
    "fig[0, 0].graphics[0].cmap.values = cmap_values"
   ]
  },
  {
   "cell_type": "code",
   "execution_count": null,
   "id": "7548407f-05ed-4c47-93cc-131c61f8e242",
   "metadata": {
    "tags": []
   },
   "outputs": [],
   "source": [
    "# for testing, ignore\n",
    "plot_test(\"lines-cmap-viridis-values\", fig)"
   ]
  },
  {
   "cell_type": "code",
   "execution_count": null,
   "id": "f64d036d-8a9e-4799-b77f-e78afa441fec",
   "metadata": {
    "tags": []
   },
   "outputs": [],
   "source": [
    "fig[0, 0].graphics[0].cmap = \"tab10\""
   ]
  },
  {
   "cell_type": "code",
   "execution_count": null,
   "id": "c290c642-ba5f-4a46-9a17-c434cb39de26",
   "metadata": {},
   "outputs": [],
   "source": [
    "# for testing, ignore\n",
    "plot_test(\"lines-cmap-tab-10\", fig)"
   ]
  },
  {
   "cell_type": "code",
   "execution_count": null,
   "id": "c4b9e735-72e9-4f0e-aa3e-43db57e65c99",
   "metadata": {
    "tags": []
   },
   "outputs": [],
   "source": [
    "# for testing, ignore\n",
    "notebook_finished()"
   ]
  },
  {
   "cell_type": "code",
   "execution_count": null,
   "id": "f6735cc0-910c-4854-ac50-8ee553a6475e",
   "metadata": {},
   "outputs": [],
   "source": []
  }
 ],
 "metadata": {
  "kernelspec": {
   "display_name": "Python 3 (ipykernel)",
   "language": "python",
   "name": "python3"
  },
  "language_info": {
   "codemirror_mode": {
    "name": "ipython",
    "version": 3
   },
   "file_extension": ".py",
   "mimetype": "text/x-python",
   "name": "python",
   "nbconvert_exporter": "python",
   "pygments_lexer": "ipython3",
   "version": "3.11.3"
  }
 },
 "nbformat": 4,
 "nbformat_minor": 5
}
