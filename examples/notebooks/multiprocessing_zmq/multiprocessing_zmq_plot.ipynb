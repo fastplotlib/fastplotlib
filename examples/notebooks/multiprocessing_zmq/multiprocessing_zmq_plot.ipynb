{
 "cells": [
  {
   "cell_type": "code",
   "execution_count": null,
   "id": "491e6050-64ae-4bfc-a480-5805cd684710",
   "metadata": {},
   "outputs": [],
   "source": [
    "import fastplotlib as fpl\n",
    "import numpy as np\n",
    "import zmq"
   ]
  },
  {
   "cell_type": "code",
   "execution_count": null,
   "id": "97135f98-6810-49b6-a8de-d0e114720d6c",
   "metadata": {},
   "outputs": [],
   "source": [
    "context = zmq.Context()\n",
    "\n",
    "# create subscriber\n",
    "sub = context.socket(zmq.SUB)\n",
    "sub.setsockopt(zmq.SUBSCRIBE, b\"\")\n",
    "\n",
    "# keep only the most recent message\n",
    "sub.setsockopt(zmq.CONFLATE, 1)\n",
    "\n",
    "# publisher address and port\n",
    "sub.connect(\"tcp://127.0.0.1:5555\")"
   ]
  },
  {
   "cell_type": "code",
   "execution_count": null,
   "id": "2d4420f2-364a-445a-9658-63e9ffa586c3",
   "metadata": {},
   "outputs": [],
   "source": [
    "def get_bytes():\n",
    "    \"\"\"\n",
    "    Gets the bytes from the publisher\n",
    "    \"\"\"\n",
    "    try:\n",
    "        b = sub.recv(zmq.NOBLOCK)\n",
    "    except zmq.Again:\n",
    "        pass\n",
    "    else:\n",
    "        return b\n",
    "    \n",
    "    return None"
   ]
  },
  {
   "cell_type": "code",
   "execution_count": null,
   "id": "42d20d77-b884-4379-80e4-e08738506eeb",
   "metadata": {},
   "outputs": [],
   "source": [
    "fig = fpl.Figure()\n",
    "\n",
    "# initialize some data, must be of same dtype and shape as data sent by publisher\n",
    "data = np.random.rand(512, 512).astype(np.float32)\n",
    "fig[0, 0].add_image(data, name=\"image\")\n",
    "\n",
    "def update_frame(subplot):\n",
    "    # recieve bytes\n",
    "    b = get_bytes()\n",
    "    \n",
    "    if b is not None:\n",
    "        # numpy array from bytes, MUST specify dtype and make sure it matches what you sent\n",
    "        a = np.frombuffer(b, dtype=np.float32).reshape(512, 512)\n",
    "        \n",
    "        # set graphic data\n",
    "        subplot[\"image\"].data = a\n",
    "\n",
    "fig[0, 0].add_animations(update_frame)\n",
    "fig.show()"
   ]
  },
  {
   "cell_type": "code",
   "execution_count": null,
   "id": "0f8ac188-9359-4d3c-b8f1-384be84d1585",
   "metadata": {},
   "outputs": [],
   "source": []
  }
 ],
 "metadata": {
  "kernelspec": {
   "display_name": "Python 3 (ipykernel)",
   "language": "python",
   "name": "python3"
  },
  "language_info": {
   "codemirror_mode": {
    "name": "ipython",
    "version": 3
   },
   "file_extension": ".py",
   "mimetype": "text/x-python",
   "name": "python",
   "nbconvert_exporter": "python",
   "pygments_lexer": "ipython3",
   "version": "3.11.3"
  }
 },
 "nbformat": 4,
 "nbformat_minor": 5
}
