{
 "cells": [
  {
   "cell_type": "code",
   "execution_count": null,
   "id": "ca2817a3-869c-4cc6-901b-c34509518175",
   "metadata": {},
   "outputs": [],
   "source": [
    "import numpy as np\n",
    "import zmq"
   ]
  },
  {
   "cell_type": "code",
   "execution_count": null,
   "id": "dd0b9780-b507-4ea2-af09-134abd76f45b",
   "metadata": {},
   "outputs": [],
   "source": [
    "context = zmq.Context()\n",
    "\n",
    "# create publisher\n",
    "socket = context.socket(zmq.PUB)\n",
    "socket.bind(\"tcp://127.0.0.1:5555\")"
   ]
  },
  {
   "cell_type": "code",
   "execution_count": null,
   "id": "4729bfe8-3474-4bc9-a489-a57d02e5a287",
   "metadata": {},
   "outputs": [],
   "source": [
    "for i in range(2_000):\n",
    "    # make some data, make note of the dtype\n",
    "    data = np.random.rand(512, 512).astype(np.float32)\n",
    "\n",
    "    # sent bytes over the socket\n",
    "    socket.send(data.tobytes())"
   ]
  },
  {
   "cell_type": "code",
   "execution_count": null,
   "id": "d47dab72-1061-439f-bf6e-a88b9ee8e5aa",
   "metadata": {},
   "outputs": [],
   "source": []
  }
 ],
 "metadata": {
  "kernelspec": {
   "display_name": "Python 3 (ipykernel)",
   "language": "python",
   "name": "python3"
  },
  "language_info": {
   "codemirror_mode": {
    "name": "ipython",
    "version": 3
   },
   "file_extension": ".py",
   "mimetype": "text/x-python",
   "name": "python",
   "nbconvert_exporter": "python",
   "pygments_lexer": "ipython3",
   "version": "3.11.3"
  }
 },
 "nbformat": 4,
 "nbformat_minor": 5
}
