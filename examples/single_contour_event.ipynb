{
 "cells": [
  {
   "cell_type": "code",
   "execution_count": 1,
   "id": "3a992f41-b157-4b6f-9630-ef370389f318",
   "metadata": {},
   "outputs": [],
   "source": [
    "%load_ext autoreload\n",
    "%autoreload 2"
   ]
  },
  {
   "cell_type": "code",
   "execution_count": 2,
   "id": "589eaea4-e749-46ff-ac3d-e22aa4f75641",
   "metadata": {},
   "outputs": [],
   "source": [
    "import numpy as np\n",
    "from fastplotlib.graphics import LineGraphic\n",
    "from fastplotlib.plot import Plot\n",
    "import pickle"
   ]
  },
  {
   "cell_type": "code",
   "execution_count": 3,
   "id": "650279ac-e7df-4c6f-aac1-078ae4287028",
   "metadata": {},
   "outputs": [],
   "source": [
    "contours = pickle.load(open(\"/home/caitlin/Downloads/contours.pickle\", \"rb\"))"
   ]
  },
  {
   "cell_type": "code",
   "execution_count": 4,
   "id": "49dc6123-39d8-4f60-b14b-9cfd9a008940",
   "metadata": {},
   "outputs": [],
   "source": [
    "single_contour = LineGraphic(data=contours[0], size=10.0, cmap=\"jet\")"
   ]
  },
  {
   "cell_type": "code",
   "execution_count": 5,
   "id": "776e916f-16c9-4114-b1ff-7ea209aa7b04",
   "metadata": {},
   "outputs": [
    {
     "data": {
      "application/vnd.jupyter.widget-view+json": {
       "model_id": "ef7e51b0da07486faf42b012582be35e",
       "version_major": 2,
       "version_minor": 0
      },
      "text/plain": [
       "RFBOutputContext()"
      ]
     },
     "metadata": {},
     "output_type": "display_data"
    },
    {
     "name": "stderr",
     "output_type": "stream",
     "text": [
      "MESA-INTEL: warning: Performance support disabled, consider sysctl dev.i915.perf_stream_paranoid=0\n",
      "\n"
     ]
    }
   ],
   "source": [
    "plot = Plot()"
   ]
  },
  {
   "cell_type": "code",
   "execution_count": 6,
   "id": "203768f0-6bb4-4ba9-b099-395f2bdd2a8c",
   "metadata": {},
   "outputs": [],
   "source": [
    "plot.add_graphic(single_contour)"
   ]
  },
  {
   "cell_type": "code",
   "execution_count": 7,
   "id": "4e46d687-d81a-4b6f-bece-c9edf3606d4f",
   "metadata": {},
   "outputs": [
    {
     "data": {
      "text/html": [
       "<div class='initial-snapshot-9b0cb33f7b674585b2f5f58c7d1af28f' style='position:relative;'><img src='data:image/png;base64,iVBORw0KGgoAAAANSUhEUgAAAfQAAAEsCAYAAAA1u0HIAABdBklEQVR42uzdBXhTB9vG8TtSd4NSCoUaLsXd3Z3h7gwZY8BW3N3dxmA4G2NDihYtbkOGu2splTTJOe9z2mSEkKbwDkjl+X3Xfe39NraddjT/npPTBGCMMcYYY4wxxhhjjDHGGGOMMcYYY4wxxhhjjDHGGGOMMcYYY4wxxhhjjDHGGGOMMcYYY4wxxhhjjDHGGGOMMcYYY4wxxhhjjDHGGGOMMcYYY4wxxhhjjDHGGGOMMcYYY4wxxhhjjDHGGGOMMcZSMDlNSbPSzZpmIwNsaXY0e5oDzZHmRHOmudBcaW40d/oHeMgh86R50TLQMtK8aZloPgrIMtN8dctCy0rzU0KWjZad5k8LoAXSgqwgC9YtBy0nLbc1ZHlpBWwgC7FN+CPo74fC0p88xhhj7Guj+MkowgqKqU1hO7g2zgCfAXngP6UyAubUQeD8+ghc2BCBixsjcElTBC5rjoCfWyLgl9YIWNUOAas7IGBNJwSs64qADd0RsKkX/H/vA/8/+sH/zwHw3zoQ/tsHI/uOn5B95zBk3z0C2feORvbwcch2YCKyHZyCbIenwy9iFvyOzYXfiQXIenIxsp5ehqxnVyDL+VXIcmENfC+uh+/l35D5yh/IfO0v+FzfDp+bO5Hp5i5439oN79t7kfHWLnjQP8NmcEHAW27pzyxjjDH2BUjhdtGFu5At3Bp5IXP/3AiaXg35N/ZEsaOzUZbiWP7peVR6+xCV1dG0WFTSxKKiJi5hFWjlaWUTpkIZWmlaKVpJWgltPIrTiulWlFZEq0ZhWiFaCK0grYBWk7D8ggb5aHlpeQQtctNy6ZaTlkMQEEwLogXSAkQB/rTsoohsND9aVt189aN/VqYXV+C4oAHgy6fqjDHGUisp3M4U7iwK2IbYwqOBJ7L0zYUc06oihM6gS0XMRMUbYajy9ByqRT1ADQp3DQpvDQpodQpiNd2q0qrQKtMq6VaRVp5WjlZWtzK00rRStJK0ErTitGK0orQitMK0QrqF0ArSCtDy0/LR8tLy0HLTcumWk5aDFkwLogXSAmj+NOOgZzEMekLUBfi8vgWHuXUBH446Y4yxlExO4XaicNNZqF0BG3jU84RfnxzIPaUyCq/rirKHp6Pq9e2o8eQMakfdR934t6iriUcdOoOtQ9GrTaulW01aDVp13VJ90HVRz/TqGuxn1uDL74wxxlIAKdyOMigzU7jz28Crrgey9w5G3skVUWxtZ1Q4NAU1rm1FncenUf/NPTSMj0IjjQoNKdwNKWwNaPV1q0erS9MHvXYaCbqviWWWRlH3fvEP7OibHHhx1BljjH0NBuG2z2eDDLXd4d8zCPknVkDJ1R1R+cAk1Ln6Jxo+PoUmb+6iGYW7GYW7KYW7qSigCQVMWmPdGtH0QddH3TDohmfp+qDro56agm7q7DyzwXwo6hmfX4Tt+HIJd90zxhhjn4cUbgcKtw+FO681MtZ0Q2CPQBSk4JT5tT2q75+ABle2oOmjk/gm8jZaqt6gFYW7JYW7JYW7BUVK2je05rRmtKa6GUb9U4NueJb+JYKuj/rnDrrZmOsnaJHh6XnYjC6V+CN1jDHG2KeSWQO2gVbIWN0VQd0CUGhcWZRb1Ra19o1Dk382o8WjE2gdeQvtVJFoT+FuR+FuR+FuSyGS1obWmtaK1lK3Twm64WV3fdANL7un5qAbX243GXPdMlHUvZ6cgfWwook/M88YY4x9LAc6Ay82tQoanVyMNg+PocPrm+hM4e5C4e6s1aAzhbsTxUZaR1oHWntaO13MPzbo+qh/TNCNn0c3dWNc6gm6QCEXko+5bt4Udc9HJ2E1pGDiC+IwxhhjyXEqYINqm/ugc8xTdKOQdKegdNOtK60LrbNupoKuj7ph0PVRNwy64Vm6cdANL7t/dNDpWKtp41FFE4vK8W9RMfYFytPHUD76CcpGP0aZtw9ROuoBSkXdR8k3d1Ei8g6KR95CMfpmpeirGyjy6hoKv7yKQi+uIOTFZRR8fgkFnl1E/md/I9/T88j79Bzy0Jly7senkevxKeSkwOZ4eBzB9A1P0IOjCLx/BAH3D8P/3iFkv3sQ2e7uh9+dcGS9vY+2B1lu7YbvzV3IfHMnfK7vSHhRGR86JukGOLMx148+Po97h6HslzvxVe8YY4yxpDiH2CbEvEvMs4SQ6/exQW9vIuitPzHojU0E/b3n0SlstSncNdWxqB77HJVf/IPy9w6ixLlfUHDbYAQvboxs48vBN7QIfIaEINOgAvAemB8ZB+RFhv654dU3Fzy/zQGPXsFw7xEIt24BcO2SHS6dssG5Q1Y4tcsCp9a+cGzpA4dvMsG+mTfsmmSEbaMMsG3gCZt6HrCu4w7rWm6wqu4KZVUXKCs7Q1nRCYpyjlCUoZVygLyEPeRF7SAvbAu57uVdE17uVXrZV+nlX+nP28+qCW/6RkK6AS7JkOuWUZpWA3f6RkDZPSDxJW0ZY4wxY65F7FDzzwHoSme2PQxibhh1fdC7/Megf/MxQadwN9CqUY/CXYeOqcbLK6hCZ6hlz/+KIjt+RO7FTeA3tAi82maBPYVUGWiV8NrrCaFLLSewmRSwn1MH3q9vJkTdbMx1y0CfE7erW6CgbzwSXrOeMcYY03Mrbo/a2weje9wr9KRoSOvxiUHvYCLobUwE/YMb4yhkTShSjTVxaBj7EnVfXkON+0dQ6e81KBEWinxLm8F/eDFkbJ8VjhWcoAyyglwKt/SGK6kl3Ob4KuCwqBEyvrlLMRfMx1w3L40KrhfXQ97MO/HNaBhjjDGPUg6ot3MYeqgi0Zti0UsXdOOo64Pe1UTQP+rGOAp3Cwr3NxTupvSNQ8NX11H3QQSqXVyHMruGIWTZNwgaURw+Hf3gXMkZVsEU7gxpKNzm+Cvh8EtrZHz7kCIumI15QtBpnvR5dDm7AvKGXhx1xhhL1yiSnmUcUH/3SPRSvcG3FIneuhlGPbmgf3BjHIW7LYW7DQWnZdxrNHt1A40eHEXtSxtRYfcIFP25JXKNKoksnbLBtbIzrHNQuDPKE2/0SuvhNienFRzXd0WGmKfJxtzr36jHwunUEsjrenDUGWMsXaJwepVzRMO9o9E7Pgp9KA7STEW9R1JBp3B3onB3pHC3o3C3en0TzR4eQ/3Lm1Blz2iUWNEKeceUhl+X7HCv6gKbXNZQSO8pbpfOw22GLL8NnLb0R4a4V8nHXDcPdQwcj8+DrKYbf14ZYyxdoQf9DOWd0HjfOHxLMe9LUeirC3pSUU8IOgW8S/xbtI+8hVaPTqDJP7+j5r6xKLOyDQqMLQP/rv7wqu4Ku9y6cNtzuP8fsqJ2cAoLRQbVG5Mx9zSMuW7u6mg4HpkBGX3jxJ9zxhhLD+jB3ruiM5rsn4A+FOd+FIN+uqCbi3oPQYO2j06izJImCOoRmPCyr/Z5rKHMpEgMN1/u/axkpRzgtHc0vOgbruRi/m/U6b+nw8HJkFV04qgzxliaRg/ymSo7oxk96PejB//+FIH+uqCbi3ovKeb3DyPfoAKQu3ApvhZZeSc40TdenvTfKtmY6+ZGv9Z+3zjIyjha+vAZY4x9EdRhn6ouaH5oKvrTg/4AevD/Thd0c1HvrVWj3Z39yDsgL+QOHPOvSnrGgr4Bczo8DZ7qaJMxdzeaG82Vzurtdo8ASthb+iNgjDH2WVEYMld3RYsj0/EdhUGKuX7mov6tFPNbu5Gnb67Ey+rs65OiTv/tnI7OTrj5LbmY6+eiioTttkFAIVtLfwSMMcY+CwpClppuaBkxCwMo5t/Tg71+5qLeRxuPdjd2IHev4MS70pnlSFGv7Q6nEwvhro5NNuauurnEvoDNb72BPPwasYwxlrrJgawUgtbH5uB7Orv7gR7kB+pmLup9KeZtr/2FnN0CILPhmKcI9N9SXt8TTmeWwV0Tl3zMdXOOfgzr1R2AICtLfwSMMcb+LxQAvzoeaHt8Pn6gmA+iB/cfdDMX9X4aFdr+sxk5OmVLeD90loJIUW+cAU5//0pRVyUb88QJcIq6D6tlzem7O4WlPwLGGGOfhB74s9XzRLuTizBIHYvB9MA+SDdzUe8vxfzSRgS3ywIZn9ClTNRkeavMcLr8G9y08cnEnM7QEybAMfI2lPPrA5k56owxljpQzP0beKLDqSUYTDEfQg/og3UzF/XvNHFoe2EtAikW/A5eKRz995F3zgan69vhqlWbjLmzwZykCQIcXt2AclZNwJtfNIAxxlI2epwOaOSFTmeWY4gmFj/SA/kQ3cxFfYAU8/OrENDcO+EMkKUCNjIoeueA051wuAoa8zHXzZGibv/yChTTqgAZOOqMMZYyUYiDmmRE57Mr8CMF+id6AJeWXNS/p7P4tvT3ZG+SgV/tLbWxp6gPzAenh8fgImjNx1w/KerPL0ExsQLgyf/BGWMsZVECOb7JhK7nf8VPFPNQeuAO1QXdXNQHSjE/vQzZ+e03Uy8ninpoYTg+PgVnirrZmOvmQFG3e/Y35GNKA+78UwyMMZYiyCjmuVtnRvcL6xCqUWEoPWAP1QU91CDoxlGX7nxve2oxsjXw5Jindi4U9ZEl4Pj0XELUzcZcN3v6dbZPzkI+onjC388YY8yCpDvR87bPil6XN2EYxXw4PVAP0wXdXNQHUczbnVgIv3r8HtpphrscirFl4PjsQsINcGZjrp8UdTqzl/9UKOFMnzHGmAVIL/hSoHM2fHvlDwzXxmMEPUAP181c1AdLMT8+D3513DnmaY0nRX1SRTg8v5zwXLnZmNPspFHUbR4chWxAXoBfEZAxxr4uua0MId0D0PfaVoykmI+kB2ZpyUV9iDoa7Y7OQdZabvz2mmlVBor6tKqwf3n136gnGXPdbAUNrG/vhaxXUMLd84wxxr4COZ1FFekdjP43wjBKq8YoekAepQu6uaj/GE8xj5iJrDU45mleJor67Fqwf30j4QY4czFPCLo0+r1kRd8gyjr68esQMMbYlya9fWnxfrkw4PYejKYH4NH0QDxaF3RzUf8p/i3aHZ6OLNVcOebpRWYFFAsawD7yDkVcMB9z3Wy08VBe3gi08OHXI2CMsS9F4ShDyQF5MfDufozRajCGHoDH6IJuLuqhUswPTUGWKi4c8/TGTwnlzy1gF/UgIepmY66btUYF5flVQCN+XQLGGPvsFE4ylBlUAIPvH8FYQYOx9MA7Vhf0pKIuBX1ofBTaHZgE38rOHPP0KtgKyjWdYBf9JNmYJwSdZqWJg+L0UoB/CoIxxj4fpYsM5X4qhB8fHsc4QYtx9IA7Thd0c1EfJsU8fDwyV3TimKd3+Wyg/L0PbGNfJBvzhKBLU8dCcWIBwDdQMsbYf6d0laHC0CL46dFJTKCYT6AH2vG6oJuL+nDVG7TbNxaZy3PMmU5hWyi3D4GtKjL5mOumVMdAHjEL4HsvGGPs/6d0k6HS8GIY+vg0JlLMJ9ID7ATdzEV9hBTzPaPhU9aRH4TZ+0raQ7lnFGzio5KPuX7qaMgPTQUq8dM2jDH2yazc5agysgSGPTmDSRTzSfTAOlE3c1EfSWdf7XaPQKbSDpb+EFhKRd/oKcPHU9TfJh9z3RT0a2X7xwPlHC199IwxlnpYechRbXQpjHhyFpMp5pPpAXWSbuaiPiruNdqFDUUmOgtjLEnSWTadbSsPTYE1nX0nG3P96KxeRmf3KMXfLDLGWLKsPeWoPrYMRj49jykU8yn0QCotqaiP121U7Eu03TYIGYtxzNlHkKJezQWKiFmwUsckH3OaXJrqDbDjR6CInaU/AsYYS7lsvOSoOb4cRj/7G9MEAVPpAXSqLuhJR13A6JjnaPPnd8jAD7LsU0hRr+UGxfH5UKpjk4+5bjL65hGb+wL5bSz9ETDGWMpjl0mOOpMqYsyzi5hOMZ9GD5zTdEGfahD096MuxfwpWv3+LbxCbC39IbDUSPoZ83oeCT9zrtTEJR9z3UC/77CuC5DL2tIfAWOMpRwKBxlqT6yA8S+vYgbFfDo9YE7XBT3pqAsYE/0YLTd0hwefKbH/Qop6Iy/Iz62EQqNKPuYJE4DoJ8DqDkBGfuUZxhhLuOwZ0tIHI2/vxUyK+Ux6sJyhC3rSUaeYv32IFms7wz0PnyGxz0Bq8jeZIL+0EQptfDIx141+v+LJWaC1r6WPnjHGLC9rKQcMjJiFOXRmNIceJGfRzEadHkTHRt1H81Xt4JbTytKHz9IS6R3WOvhBfu0vyLXqZGJO09BiY+gsvRvgzmfpjLF0zDGzAp1Xd8S8uNdYQA+S82hmo04xH/fmLpqtaAmXII45+wKsZUDPIMhu74Vc0HwYc33I46WY097SWfrlQ0B1D0sfOWOMWYbCXob6o0pizqtrWCIKWEwPlgtp82lzabONoy7FPPI2mi5tBid/frNq9gXZUdS/ywPZgwjIBG1ixLW6kKv0IadF0l7SHr4BJjcEbPll5Bhj6Q097hVrkQnTbu3Bz/SAuZyCvZQmRX0RzfhsfQYFf3zkLTRZ2AiOfhxz9hU40m/SnwoBj88BaiEx5DG0KNpr2gvaM9pj2n2KfvgWoISzpY+aMca+Lv+S9hgZMRMrNXFYRcH+hfYzbRltiYmoT4l+gubLv4FDFoWlD52lJ9Lz4nPq01n4i/dD/pT2SAo57Q7tBu18JDCxLT+XzhhLP5wzK9BndQf8GvcKaynWq2nGUdefrUuX4OfEv0WPbYPgwT/vyyyhuANwdAOdjdNZ+BPp8rpRyK/SLtEu0ln8kStAr5J86Z0xlvYp7WRoPrIEfnl5DRtFAesp2FLU19B+pa2kraDpL8Ev0sYj9OwKBFV1sfShs/TKhuI8rjZw+zVwj8J92yDk/+hjTrtA+5uiv/sw0Ng/8cfgGGMsLZLRA1y5Vpmx+NZubBa0+I2CvYm2gbbOIOr6s/Xl0gvMPDqJctIdx3ylnVlSWVfg0F7guvBhyP+NuW7n4oFNv9Lfw3e9M8bSIjrJKVjdFXPOLMOfGhX+pGD/QfvdKOqGl+AXRd3HNzOqw9qVL18yC5NukJvagcIdnRhyw7Nyw5if1+10DLB8CpCf35WNMZaW0GNh/krOmHpwMraqo7GdYr2V9hdtC20zTTpb30jTX4JfGf8W328bBM9g/llzlkJUzQDs3kch1yYd83O6naWdiASm9QEy8+9hxlhaQDHPV5FifmAStlOkwyjW0nbQtpmIunS2vk6rxqRzvyB3NX7enKUg0nPpPYoBhy5QyAXzMZd2hnboHvBDbcCFn1BnjKVmUswrOGHa/onYQTHfRbHeqQu6Pur6s/V/L8ELApY+OolqvYL5eXOW8khhHlILOHr3/UvspmJ+mnaKwr/nItCleOI3BIwxlupIMS9PMQ+fgDDVW+wWxISgJxV1/dn6uqj76DijOmzc+MGPpVA+SmBaT4r16w9jfsYg5glBp53UAlsPAvWy8Z3vjLFURhfz6fvGYyfFfA/FfLdu5qL+pzoaI7YPhncOfs6RpXD57IHlkxJvfjtrLua6HYsHVq8ESrpb+sgZY+wjSTEv50gxH4ddqijspYhLSy7q2zUqLLy4DiE13Sz9ETD2ccpQnNdTpE/Hvx/zU0YxP0E7Toug+C+kbwLy2Fv6yBljLBkU87xlHTFj71jsppiHU7z36YJuLupSzBdRzMu3yszPm7PUQ7p83iAbsP0ghVxrPubSjtEOvgbG9wS8+f0IGGMplRTzMhTzPWOwh2K+n6Idrpu5qIdRzBdfXI8KFHM5x5ylNtKNbl2LA3svJt4Ad8og5MYxl3ZUuknuLtC/JuDET6gzxlKgvGUcMHPPaOyjmB+gWO/XzVzUd1LMl17aiEptfCHnExaWWkl3vks/mnbgXtIxP6pbBO0IRX3bBaB9UcCKb/5kjKUgeUpTzHePQjjF/CCFWlpyUd+lVmH55d9QuW0WjjlL/aQ73yf3oVhHvov5MRMxTwg67bAW2BQO1PRLuLrFGGMWl6cUxXzXSOyPi8IhCvUhXdDNRX23Jh4rLm9G1fZZOeYs7cjnACyeknjzm6mYH9HHXLcD8cDyn4FifCMoY8zC8pR0wKydI3Ag7g2OaEUc1gXdXNT3Usx/+ecPVO/gBzn/dBpLa0p5AKt/pYDHm4/5IekGOVo4xX/2BCAn3/nOGLOQ3CXsMStsGA7GvkEExfyIbuaivo9ivurKn6jZKRsUHHOWFkn3udX3B7YcppBrzcdc2gHa7lfAiG5ABr5cxRj7ynIXp5jvCMWh2EgcpYhH6GYu6vsp5quv/oVanbNDYW3pj4CxL0i6871zCWDHpcQb4I4YhNw45tL2SzfJ3QF61QAc+c53xthXkquYHWZu+xGHKebHKN7Skov6AYr5mmvbUKerP8ecpQ/OFOYBdens+0HSMd+vWzhtH0X997+BVkX4znfG2JeXswjFfOtgHIl5jeMU7eO6oJuL+kGNGuuu70C9bgFQ8ptTsPREetvUCf0p2G/exfyAqZjrtkcLrN4LVMnCd74zxr6cnIUp5n/+QDF/hRMU6xO6oJuL+iG1Ghtu7ESDHkEcc5Y+5XUE5k1LvPnNXMz3SkGn7YoHFiwDCvOd74yxLyBHIVvM2PI9ImJe4hSF+qQu6OaifoRivunGLjTqFQylLcecpWMlPYCf11DA1e9Cbirm0nbTdkQDU8YDgXaWPnLGWFoSHEIx3/wdjka/wGkK9SndzEU9gmL+2809aNw7B8ecMek+t3qBwKajFHLtu5jvNRHzXbptfQUM6Qx48J3vjLHPIKggxfz3fjj29gXOaEScoVgbR/2kUdSPqjXYfGsfmvbJCSs7jjljCaSnnDqWArb8k3gDnGHMdxvFfCctjH7Nb7eArtUAe77znTH2HwTlt8H0Td/i+NvnOEsxP6sLurmoH6OYb7kdjuZ9c3HMGTMm3fnerwGw7eH7Z+UfxFy3HRT1teeBZoUAJX89Mcb+D4H5KOYbeuFE1DOco5Cf0wXdXNRPaDT46/YBtOifB9b2/ODDmEnSne9jv6dgR70f853GMddtuxZYvgson5nvfGeMfZqAvDaYtr4Hxfwp/qaAn9cF3VzUT1LMt945hFbf5eWYM5acPI7AzBkU7thkYq7bXyr69UuAAq6WPnLGWGoRkMca09Z2w8moJ7hA4f5bN3NRP0Ux3373CFp/nw82Dhxzxj5KCU9g8ToKuDrpmG/TbSvtj2hg3FggO9/5zhhLhn8ua0xd0wWn3jzBRQr2Bd3MRf20WouwexFoO7AAbBw55ox9NOk+t7rBwJrjiTfAhRmdlRvGXNpftN9eAAPaA24KSx89Yyylyp6TYr66E06/eYxLFGppyUadYr7r3jG0H1QQthxzxj6ddOd7uzLAhiuJN8CZi/mftC30a9bcBDpUAez4znfGmJFsOawwdVUHnIl8hMsagSYmH3WK+e77x9FxcAhsnTjmjP3fpDvfv20I/P7oXci3GYRcH/OEoEuX3inqv5wDGoYACv7aY4zp+AVbYcov7XE28iGuUMz/oVhf1i2pqJ+nmO+9fwKdhhSCHcecsf8uszUwchAFO+r9s/IPYq7bZi2wYAdQ2sfSR84YSwmyBlHMV7TF2dcPcVUt4IpapKiLZqP+N8V83/2T6PJjYY45Y59Tbidg6iwKd+z7Md9iHHPdNsUBkxcBeV0sfeSMMUvKGmCFyctb49yrB7hGMb9KMZdmLuoXKObhD06i609FYO/MMWfssyvmBczfSAFXJx3z33X7jbY+Ghg+mr6gbS195IwxS8jir8SkZS1x/tV9XKeYX6eIX9MFPcmoU8wPPDiFbqEcc8a+GOk+t9o5gRUnKORa8zHfpNuaF0DvtoAL3/nOWLrim51ivuQb/P3qHm5QzG9QvK/rlmTUKeYHKeY9QovCwYVjztgXJd353ros8OuVxBvgNpuJ+UbaBvo1P98AWlUGbPnOd8bShcx+Skxc3AwXXt7FTYr5TYr2Dd2Sivo/FPPDD0+j59BiHHPGvhYnCnPPJsC6x+9i/pupmOu2nqK++CxQtwDf+c5YWueZUY6JC5vgIsX8FsX8FsVamrmoX4nX4siDM+g9rDgcXflBgrGvyscaGDqEgh31fsw3Gsecto62VgPM2gWU9rX0kTPGvqSm7fxw5uF53KGY36ZY39YFPamoX6WYR1DMvx1egmPOmKXkcgImzKZwx34Y8/UGMU8IOm11HDBoMODIl94ZS5PcveRYtL43bsbEUtDFhJmL+jWK+bEHZ9FnREk4uXHMGbOoohnozPt3irjm/bPy9QYh/3cCMPcwkJffxIWxNKluk0zyU7ePy++pBNldlYi78WaiTjE//vAs+nHMGUsZpJPtWrmBxScTnys3GXLpbnfdVjwFGhSx9FEzxj43Nw+5bOGqboo7UTGK+3Gi/J40lZgQ9jvx70f9JsX8xMNz6D+yFJzd+JIdYymGdOd7i/LA8muJZ+HGETfcryqgfx++452xtKZ2gwzKM9ePKh/GCMoHMaLiQayouB9rEHbd2bp0o9zpxxcxYFRpOLvzAwFjKY6zAujdAVgVZTrkq3X7lYI/ZTOQld9mlbE0w8VNLl+wvJPV/dfRVo+iReVDaTGicdgTztavvHmOcfMaws2LY85YilXAHZgbQeEW3gX835AbbNENoLy/pY+WMfa51KzjZX32n8M2j6ME68dRovWjt6LJsN+L0cjCjq9A/iL8HT1jKZoTnaX/NIairf4w4qsMtiIa6NiEfyadsbTA2VmmmL+one3DF9G2T9+INk+kUdRNhF1x/fljDBpZBkqlpY+aMWaWdAGtRRXg59cfRnylwX7RAMPnA+78Rc1Yqleturvt2b/32z97Ldg9ey3aPY0UpbDbGof94VuNYs+xlShQmM/OGUsVimUC5v1tIuIGW0GbdRoo4GXpo2WM/ReOjjLlnDktHB4/iXJ4/kq0lyZF3VTYbz19KgsdXQFKK0sfNWPso2SwBsasoHBrP4y44Ra/BBqVAfiqO2OplqxSRVe7c6d3O758Lji+fCE6vHgpmgz7k0it1f5ja1GoqL2lj5kx9rGUVOgubYDlse8H/GejLVMD/X8E7PhGV8ZSJXs7mdXMqY2dnj6IdHr1THR69VyUov5v2Gn6sNvee/xMPnJsFVhZ87fwjKUqlXMCC+5+GPHlBlsmABN3AtkcLH20jLH/g6x8GWfHs8e2u0Q+EZwjn4rOr6Womwj78xdamyNHN6JYcf5iZyzVkSI9KYzCLRhF3GhzKfqVcln6aBljn8rOVmY1fXw91+d3X7u+eSy6vHkiukhR14f99buwOzx8+EIxblx1WNvw2TljqY50Gb3fYGCp+v2ALzXaoligY7vEy/SMsVRDVrakk/O5Q3+6v30ouL19JLpFPRZNhv3VM63d8aObUbKko6WPmTH2/5D63KAMsPDFhxFfYrDFWmDYSsDL2tJHzBj7WLY2Muupo2u5v7z50iP6oeguTYq6qbA/vfdSOWl8bdjw2TljqVc+T2DayfcDnhBxo027CBTysfTRMsY+kqx0UUeXc+G/e8bc03rG3Bc9Yh6IHtEPTIVd63Am4k9Z2VJOlj5mxth/4aoEhsxNPAs3jvgig82LBBpX5R9fYyw1sLGW2UwZVs0r8uoLr7i7olfsPdEz9r5oKuyuL+68tpoxsb70fLulD5sx9l/I6Wu4dWNgQfSHEV9osAUaoP9YwFFh6SNmjCVDVqqQg/u5XRsyqm5rM6juiBmkqJsIu3v0A8H5QsQOWcWyLpY+ZsbY51DKH5hx3UTEDTafNu4gEMhf94ylaDZWMttJQypnjLr8zFt9S8wYfzthpsLuEXnrjc28yU3hYMdn54ylCT62wMjfKdzC+xHXh1y/GY+AKgUtfbSMMTPkFYo5ef69Y72P+oY2k+amKEXdZNhj7wpuVyL2yKpVcLP0MTPGPhfpRaG6fgvMU70fcGnzDDYnDujYA7Dib+YZS5ECfJUu62d284m79Caz9rroo70h+mhuiCbD/vZ6lN2SaS3h5MBf0IylKdUKAzOfvB/wuUabowV+2ghktLX00TLGjGXJoHBePLqJb9Tpe1mEq6KvcE3MLFwXTYY9/pbgcfPIQXmdyh6WPmzG2OcW5AqMPWwUcKPNpk28ChT1s/TRMsYM+XgqnOcNrZsl8sStrOI/QlbxiphFpKiL10yG3Tv26lvHldPbw9WJz84ZS3Oku9f7TaRwaz6MuOFmvAWa1E+8O54xZnne7nLnWUNqZn119Ho24ZLgJ14WKeriu6gnhj3zu7ALGe4ePqxoUJXfF5mxNEnqc6MaFOw37wd8ltFmUvD7zgSclJY+YsZYBle589SBVfxeHrmSXbgoZBcvidko6O9H/cq/UU8Iu/qfWOf1s7rBw5nfQpGxNCskMzD+komIG2wGbdRxIAc/9caYRXk6y50n9quQ7fmhS/7CBcFfvChmT5iZqAtXtRnv7t+vbFU3s6UPnzH2JXlaA4NXU7iFDyNuuEnPgWolLX20jKVf7o5y57G9y2R/tv9CoHBeCBD/FgPEC6LZqAtXtJkeHzljG9qjCBz4VeEYS9ukd1Nr3RGYHvdhxKcbbGo80PF7wJqv2DH21bk6yJxGdi+e/em+c0HCOSFQPC8GJgTdTNSFy1qfpxHn7Eb1KQlXR445Y+lC2TzAhPvvB1zaNINNpTP4IVsBH3tLHy1j6YuzncwptHORgMd7TgcLZ7XB4jkxKGFmoi5c0vo+i7hgP75/WX7enLH0JKsjMHTf+wFPiLjRxtwCigdb+mgZSz8cbGROP7TNH/Bw5/GcwmltDvGsGJwwM1EXLgpZXkRcdpz8fSV4uXDMGUtXbOlrvuswirb6/YBPMdrEGKBJC/7xNca+BlsrmWOf5jkD7m49kEs4pc0lnhZzimfEHAkzHXXpRjm/l0euOk8fVA0Z3TjmjKU7Up9rVgAmvPow4pMNNkkL9FkKuFhZ+ogZS9usFHDo2sA/8OYfO3NrT2hyi6dEKehmoy6cF7K9PnLDZfaQ2sjkwTFnLN3KlQEYftYo4EabSBt6jn5tRksfLWNpl1IO+7Y1swRe2fhHHu0xdR7xpCgtMeqnTEddOCf4Rx657bYgtAEye/L7HTOWrkln3X0WJZ6FGwbccBOk59HpLL56xcSzesbY5yWXwbZZJe/Ai2vW5dUejc8rHhfziidEc1EPFs8KgVER9z2Wj/xG5peRX/2JsXRPel688TfA+JgPI67feOn90dVAxxGALZ8EMPZZSTFvWNYr8NzKX/Jrjqjyi8fEfAlB10f9hKmoC0HREY+9Vo/vIAvy5efCGGM6RQOBEbc+jLh+46QJwMBwIIuTpY+WsbSDYm5Tr5RH0KnlSwpoDscVEI+K+ROWGPV8SUQ9R2zE84ybpvSS58lubekPgTGWknjbAQP+ongLRhE32Fja8AdAyXyWPlrG0gYZxbxWcbeg40vmF1QfjC0oHhELiBFiclHPGRfx2uevmQPlIUH83saMMSNWcqD1dxTt+PcDbrgx0uu6xwFNOwMKfiKdsf+EvoRsqhV2DYpYMCtEvT8mRDwshlDQDaNe4N+oH/s36rlVEW98d80dpiiem1/piTGWhArFgZHPPoy44UZrgd5rAXcbSx8tY6kXxdy6UkHn4ENzpxZSh0cXFg+JhWjJRT1P/JGorHvnj1GUzudg6Q+BMZaS+bsDg44aBdxoo0QlBv9jhdxZLH20jKVOUszL53MK3j9rQpH4vW+LiAfEwuJBMbmo54s//Dbb/gUTleUL8k0sjLFkOCiBztMo3BrjiBvOBUPfBqFKc7n0/B9j7NNYlc7lELx32uii8bujior7xaIU9OSinl99KDr7oUXTrCoXcuYfG2WMJU96oKhVFxjx9v2Ij3xvDhgu1EXr/flg72PpI2YsVVEWDbIL3jlpaDHVrjfFxXCxGC25qBdQH4wJiFg826paUVeOOWPs4+XLqsTgq8YRp8j/OzmtKgbE9UfOecGAs6WPmLFUQe7nqQzYNLxX8bgdr0qIe8Xi4j4x2airD8QEHV+yQLoTnmPOGPsUNnC1y4+uu6wwQjCMuPGq4AdxPkLe/giE0mk6/xgsY2YpZPAa1KxA0dd/3Cgp7hGlJRf1Qur9scGnly21rVfKg98UiTH2qawgVxRD/QluGKZOKuYuGC52Q09xNQJpeNwUKMGPNoyZIfNxVeTcN3VcCe1utT7o5qJeWBMel/Pc8l/sGpbx4pgzxv5fOZGjUE58d0duIuYyWjH8JM5EbXEjbMUNQDydpf9gD/AbPDGWFLl/BmW+Mwt/Lins1hoG3WTUNftUeS7+st6hecVMHHPG2H9hBaWiICp1zI0fXtrT2bjhmbkU8/7oQmfmQeImQJowE9jIl90ZM0OeXQr6guWlKOilxN1iUlEvpt2rznd11Z9O7apnld55jTHG/itXWNnUR7lhLdEjugYGidK6o2fCmfmahJgrxN8o6NKWAadCAA9LHzNjKZY80NuqwMUl60sLu4TSFHRppXQzjHqRV1uuefRvnBvW/AZIjLHPJwfkbhOQfcsvKCTQxLUIpIDbir9TxA23BrhfB8ht6eNlLMVS5PSxCrn289bS4i7R1PRxL3Rr1R5lSHZ+fXbG2GdlBcj6AG02AXH6eG82Mfrr0V2Bunx9kLEkKPP72RS+tXJ3GXGnaGZCoavL/1Tk8OG3QmWMfXaNgcLrgWf6eP9hYvTn44cBgx34xjjGTLMqFmRf9M6q/WUp3ElOCBNCLixaqwjMqLT08TLG0p5SQKaVwAV9vLeYnnYusD4T3xjHmGm25fI4Frv/6+GyYpiY5IQd2gKn5y6VZ/fkoDPGPrvsgN0iYIc+3n8mMYr+yRDAzdLHy1iKZF+9oGvxh6uPlxN3iElO2K7JHzF9ljyLO98Rxxj77FwBxXhgEsVcI4X7ryS2EbhXV/oRdsbYhxzrFfMs+XjNmfLidvHD7UhYOe12db79k8bLfVw46Iyxz04JyPoBrSjocfp4bzUxin10N6AWP4nOmAkuzUp7l3q29u8KFHBTSwi7dps6786xQ2UZnfjriDH2RTQHiv4OvNDHe5uJ0Z9XjwAG8o1xjJng1qaCb+kX6/6pKG4Tk1oF7db43H8O/17mYc9fRIyxL6Ic4LMWuKSP93bTExYAqzMl/LQbY+w9nl2qZi/7av2NSuJWUVpFE6ug+UuVa9OPPWWutvx6r4yxLyIAsFsO7NLHe4eJhdFWA8dDEp52Z4y9J0PvWsHl3my4W0n8S9RH3XgVNX+qcqz+viMcrTjojLEvwg1QTAWmUsw1+ngbb2fiz6PfqQsEW/p4GUtxMg2on7fC242PKlPQk1olzZa44OV9W8BWyUFnjH0R0ivGDQTaUtBV+nibGv31t92B6vz8H2NGMv/YpFDFmE3Pq4h/isarrFsl9R+xgQt7NoQVfwkxxr6c1kCJrcBLKdy7khj9tfhRwHf8VqqMGaLz7ayjWpSopPotsoq4RTQ9irp6c2zArC41oeATdMbYl1MJ8P0NuKyP927T0y4GVvKNcYwZoj5nm9CmfBX179FVKd5Jjf56TPbJ7SqBe84Y+4KCAftfgT1SuPcksb209cDREMDF0sfLWMohlyFgRsfqVdW/xVYT/xCTWhXVpjd+Y1qW5qAzxr4kD0AxG5hJQdfs1cXbcPt0+wu4XQ8IsvTxMpZyKOUInte1XjXNb7HVxc1iUqsSu+FFlqFNilj6cBljaZs1IPsJ6EBBV+0zCLh+4brRX4/qCVTlJ9EZ07NVyHIu7dmsumZTXHXxd/H9GQQ9eu3jzD/Uz2/pw2WMpW3SRcAOQKmdwKtwg4DvNxrFPX4s0NcefN2QsUQOSlmeVX3bUdBVNSjiSa3Km9X3fPrU4jdEYIx9cdWALH8CVwwDfsBo9Oe0y4CfMyW8DDxjDDIXa1n+DQO619BsjK8p/iYmtSqvV93M2K1KgKWPlzGW9uWmU431wD4Kt6AP+EET+w04EgI4W/p4GUsRZO628oJ/DOpfU7shvpa4STReTd2qvFxxxat9uayWPl7GWNrnRWfdC4A5FHKNPt6HTCwMuFkv4RVjGWOQZ3CQF97x04+1tBvUtcSN4odLDHuVZ8svenxTMpOlj5cxlvbZ0LnGCKAzBV2lj/dhE9sPvOkFVOIb4xgj8kxOimL7ho+prd2gqU0BT2pVniw969awsJelj5cxlvZJd7l1AcrsA17p433ExCj0qvFAb74xjjGi8HVRlDg8enodYb2mjrhBTGqVHy0+4VIzv5ulj5cxlj7UAvx2AFf18Y4wPe3PwBK+MY4xosjmpix9cvzCOsI6bV1xvahfHaNVfrAgwrFiTidLHy9jLH3IBzj+Duw3DPhRE9sCHAoB+LGJMWWAh7Lc+cmr6grrhLriOvHDJQa+8t15B+xLBthb+ngZY+lDRnp4WgbMl87C9fE+ZmJ7gBv1geyWPl7GLM4q2Muq4j/TN9cT1wk0MalVvj1nj01IFltLHy9jLH2wA2Rjga4UdJU+3sdN7AgQ2RuowE+is3TPOo+3deWbM3fWF9eKZiZUvjFzu1Vub2tLHy9jLH2QAt0TKHeYgq2P9wkTo9CrJgA9+MY4lu7ZFs5qW/X27H0NxDWitPqmJqwRKl6euskqyIvfqpAx9tXUBbLtBa7r433S9LQrgYXefGMcS+8cSgc4VLs356A+6CYnrNFWODfhF6W/O3/BMMa+moKA41bgoD7ep0xP2AYckH6tpY+XMYtyrpzTucaDuUcbiqvFpNZAWK0pd3z0fKWfq8LSx8sYSz+ks246+14knYVL8T5tYmcSX2DmWn06m7f08TJmUW6187nXfDTvVCMKd1JrqP1VU+bQsCmKzM4cdMbYVyM9Lz4J6ElBj9fH23hnE59ff/0tUI6fRGfpmmejQhlqP51/rpH4q5jktKvUpfcMGSX3duBXWGSMfTVSoPsCFSnYb/TxNt65xDN1FYW/qx3fGMfSs4wti/vUeT7/UmNxlZjUGmlXxpfc9v1guZcdB50x9lU1AvwPAjf08Tbe+cQ/alYD8/jGOJau+XQo7Vfv5YJrTcSV4vtb9e8aa3+JL765b1+5mw1/98sY+6oKA047gcP6eBvv78Q/CvRrwvnGOJauZelRIbB+5MJbHwb93RprVqiKruvZReZsxUFnjH1Vmemsex2wlKKt/VsXcFM7DFytD/BbPLP0K1u/KrkaRi2631T8RUxqTTQ/xxVe2aWNzF7JQWeMfVV0yi2bAXxLZ+jxFyjcpnYx8Qa5V32AMvwgxdKtgEE1CzSKXvykqbhCTGpNNMvjQpa0bwIbOX+tMMa+KunGne+BymeBqIu6eBvvUuJZumoK0IlvjGPpE/22Dx5Wt2iTuMUvm4k/i0mtqXpZbIG5reuCT9AZYxbQDAg8Bty6pIu34S7rRv9bsxaY7Q3wj9eydIj6nGtswzJN45dENadwJ7Wm6qUx+aY3rwa+x50xZgHFAedwIEIK9z8GEdf//7oJe4F9BQAHSx8vY18fBTrvlKaVm6mXxHwjLheN11y3ZpqlcUWWtWsuc+JTdMbY15cVsPoDWHWVon2N4k1/FK+Y2HHgn/pAFksfL2NfH/W5wOwWtZurl8R+Iy4Tk1oLYam24b1JhwL7V8wts1dw1BljX1UwYLNVhpU35NBel0HUR914F4BX/YDS/CDF0h8rOUIWtGrwjWZxXAtxqZi4ZUZbKraktdYu0jS6Mz48qH8Fjjpj7KtxAGQ/yVD5ogL3bykg3pRDvKGLunHYLwNxE4CWNnxjHEt35DLkndS4YnPVojfvgv7+WopLxNbiYrGNuEhsq12gaXxnHEedMfZVSLfttACyn1Ti2B0lhNtKiP9GnXbdKOqXgKifgOp8VxxLl3w7lMja6PnMy6ZC3opC3ppCnhBzcaHYTlwgttPO0zS5MyY8uH95jjpj7IsqBTjvUGLJPRvE37OGeNcKIoVd1Ic9IervLsELR4BTtQEfSx83YxahzOaiLLu1z6Dm8Yui3oX83Vl5Gwq5Pubtxfm0eWJ77VxN0zujw3P0L8dRZ4x9EVno4WmFEv3u2uLtQ1uID2wg3jcRdf0leDo7j5wBdHYH/zwOS8dcygc4Vdj13fBvVAsiE8/Kk455B1pHca7YUTtb0+zOKI46Y+yzk14dbrgClW7Y4fYTe4iP7SD+G3XaPYr6XYOoX5dD9ZsMcwvza7kzBjiVyGpfIaxvaAvV/MjWycVcnCN2kqadpWl+Z2R4zv5lOeqMsc9COr1uLUe2C/Y4+swRwlMHiPqoP7J9F3b9JXiKuvaIAgcaAr78IMSYjhT1imF9Qlup5kYmF/PO4mzaLLGzdqamxZ3h4bn6l+GoM8b+s7IyOIXbYfFzJ8S/cIL43BHiM8Oo270XdeGCEjd+kKEsv+QrY0acS2SxrxT2bWhr1ZzI5GLehdZVnCl21c7QtLwzjKPOGPtPsgLKNbbo+9wFUa9dIL50hmgYdf3Zuj7qt20QuVCBHpn45V4ZM02KeuWw3qFtVbMjk425OEPsJk07TdPqztDw3P1Lc9QZY5/Mic6wx1ih4kNX3H7jBjHSFaIU9VcU9Zf6qDu+i/pDO6i2WWFeMX7enDHznEv42lcJ6xXaTjUzMtmYi9PF7uI0sbt2qqb1ndDwPBx1xtgnkJ43b6eA3w1XHH3rDoEmRlHU3xhG3eBsnaKuPWuLQ01lyMIPNIx9BBeKetWwnqHtVTMik4t5D1pPcarYUztZ0/bOjxT1UhR1frtVxljyysvgFOGMRdGeiI/xgBhNM4x6pEti2PVRv+mAm6EKlLPn580Z+3guxX3tq4X1CO2omh6ZbMzFKWIvcbLYSztJ0+7OkPC8/Uty1BljZvkDyk2O6BvthShVBohxXhBjPSEmhN09MeyGl+CfOuHNCiv0zMzPmzP26VyKZ7avHtY9tJNqamRyMe9N+1acJH6rnahpf2dweD6OOmMsCb4U5UUOaByZEffVGSFKSyrq0tn6K1eo9tljQSl+3pyx/58rRb1GWLfQzqopkcnGXJwo9pGmHa/pcGcQRb1EbjlHnTFmIAdgtdARjV5746bgA0GbCaLGOzHq8RR1lWHUEy/Ba68443ArObLygwlj/5EU9ZphXUO7qCZHJhfzvuIE2nixr3acpuOdH8Lz9y/OUWeMJTzpXVoOhy2u6P/WBw+FzBDEzBBFH4gfRP3d2brwyA03R1mhvCM/b87Y5+Fa3Me+VliX0G6qiZHJxbwfrb84TuyvHaPpfOf78AL9i3HUGUvHpLvZayngdtATk1W+eCP6UsilZdaNoi4YRF1/CT7KE2/W2qN3Fn7enLHPy42iXjusc2h31YTIZGMujhW/E8eI32lHa7rcGcBRZ6mSvRKyAr6waVUKmduUhq/0v20VfKb4KWzpzLqNFXzPZMRydVbEiFkp4Fl0QTcRdf3ZelwGqCJcsFB6BTlLfwyMpUlS1OuEdQrtqRoXmVzMB9C+F0eLA7SjNF3vfBdesH9RjjpL8Wwp4rkzwbpDefgt645vzk/Br8+X4tKLpbj89xSsmdYGVQtS2Pk3cvKkd0AbYoeQm5mxS+MHlehH4c6qW1JRT7wEL9z1xJF2CmTlt1Bj7AtyL57Jvm5Yx9BeqrGRycVc2kBxlDhQO1LT7U5/jjpLkWzorDtHRli1KQvfxd3R+MwU/PziZ1xRr0WMsB5acT3FhiasgzZ6JZ4eGIGJTYoiox2frSfJB1BMckLFJ1lxVshOn8Ns9Dn00y2pqCcGXYj0xp2JtqjgxM+bM/blSVGvF9YhtLdqTGRyMf9BHJk47XBN9zt9w0P6F+GoM4uzVgCBXlC2KA2feV1R7+QULH7+Cy6pNyBa2EQB2kiBkbYhMeb/bh1EzRrE3ZyFnaOboGRWF35+11geGayXuqHZq2y4JvhDEP3p85adZhz1LAZRp6BLN8q99saNFY5omZWfN2fs63Ev7m1fP6x9aB/V6MjkYj5IHCEOFoeLg7RDNT3v9AkP6Vs4l8yWo86+Lis54O8JZbNS8J7dBbWOTcHcZyvxd/wmRAm/U8R/p7D8RtukWxJBF9dSfNZA+3opbvzWD70r5YAzv+hx4ul0OQUct2XEoGh/PBYDKOYB9PnSB91M1AVfaJ964/xUO1Tx5Zgz9vV5UNQbhLUL7asaGZlczAeLw8Qh4lBxiDZU0+Nmr515O+fNJlPyoyD7spQU8WweUDYqgQzTO6PakSmY8WQVzqp+xxthC0V8CwXlD9pmmj7ovxkFfcP7MU/YmsTF/4KoM2OxvFclBLvbIN0+5SsVuI4SHod9MD0+EFFiIH1+pAXoZirqukvv2iyIv+ON8FBbFPFA+v0cMmZxUtQbhrUN7acaEZlszGk/iqHij9of47td6roxqFmQN3/5ss9NingWdyjqF4Pn5E6odHAypjz+Fafi/sBr4S9oxL8oJH/qZhh0w6jrg77RRNB1MRdX036lIK2E+vFcnJnXFvUK+KS/G+ak11bvZIts57JipToIsWIQfV6CdEEPNAi6iahLd76fy4CVnayQjV+jnbEUwKN4RvtGYW1Cv1MNjxyYTMx/ov+jpIs/aQarupzpsNy/Hp0/8Zcx+4+kS96Z3aCoXRTuEzqifPhkjHu4Gsfj/sQr7TaK+HYKyDbaVtpfuhkG/Q8TQd9kIuiGMdcFXVwFUVgJIWYJnu4fggmNQ5Ahvfx4m3RGHeqMInf8Ea7NgXgxB30+gnVBNxd1CrrKD28Oe2F6XQU8+Bo7YymIJ0W9cVjr0AGqoZHGMf/RKOaJf2aIGKr+IbbTsTbz/Kr7uqaPhz/2OUl3YWRyhaJGYbiOaY/SeyZj1IM1iIjdihfaMKjFMArHDt0Mg77VKOgfc9ndVNB1MU/YStovdMa5HLE3JmHHyPookcU5bT8X7CuDYqo7qjwNwnkhJ7RiTvoc5NDNOOoGl96lG+Wi/fB4mwcGlZPDkb/0GUuBpKg3CWv10/dxP702F3PprwxLvE1OHKb+PrrjoRZTfSt6O3HUWXKkiGd0hrxKCFxGtkOJnZMw9N46HIrZjufaXRTxXRQNaTtppoK+zSjon3LZfa1RzH99P+biisQJy6F9NRfXN/VAz4qBcEqLN8wVkMNmRUa0ep0DN4XcEMRc9LFLSybqQgCEV364ttQVzaS74S39cTDGzPAsnsG+aVjLn35Q/Rj5YcyHJMR8uC7mI3TPtg+P/y6q/d6mY7xLejpY+vhZyiOjIHo5QV6hAJyGtkXR7ZMw5O56HIgJw1PtHor4XorFHtpu3QyDHmYQ9E+87C79+JpmPWLV6xAjrKNorTUTc33Qf6Ytpy2DGL8IUaeHYVmPcgh0t04b365KH0RFJZzCsiA0JjeeiXno85JbF3PjqAe/H3UhENonfjgr/Xy6D9/JzljqkKFURoeW4a3HD44fEpVczEeJAxPujR+h6vem9bYGgzwLutha+viZ5Unh8HCEvExeOAxuhYJ/TcT3tzdgb/QuPNGGI17cT5EIp+2j7dVtj1HQkzpLN3PZXfrxNfVGRL/8BVfOTsWKn3uh5apeaPtwHo5rfqV/72qjmK80EXNd0MWlELWLoX48FafmfoM6+b1T9w1zSlp9G3hGZMes+LyIEvPSxygtDy23UdCNoq4JhOpmVuwa4oAQd775jbFURHpus1wmx1bhrcYNiR/81jDmI0zEfHTCT7B/J46I+fZZs3U1uzoH21tZ+kNgX5/0KO/mAFnJPLD/vgXybZ6Avjc2IOztbjzSHqCYHqSzwYMUiAM0w6DvMxH0pM7STVx2l358Tf07Yl6txrXzM/Hr8t5o0akisuXxgbWdEjI3G8g6lYPf8dGYH7cCrynmwgeX2n9+/+xcinnCltA/fzGE6Dl4Ev4dxjXKjwy28tQXNOndzro5IeBCENaq8yFWzEcfWz6DoJuJujoI0Wd8sbytDXxtOeaMpULSXceVMju3O9x6eqj6h2h9zBPvgR/4Qcyll6YZJ/YXRkT1fNBwaaVm9r7WfEkuHZAe3V3sISuWC3b9myP3xvHoeW0DtkbtxX3NYajEIxTPwxSGQ7oZBt34LH2PibP0JC67C1sp4lsQ+3odbl6Yg3Ur+6FN16rwz+8LG+lNWYyPU/rpytIBcFjdAx1eLMAV4RdoDJ83fy/my97FXFys2yIK23zEXh+N7SNqobivY+q55OxFH/5wDxS/nwuHtQWgFgvQx5NfF/Rkoq4KRuTBzJhcSwk3/glVxlIzelj0q5nVrdOJtguGqQfGGsd8zPsx170qfF9hxOtuN+vMLlPLxlvJjwFplJMtZIVzwPbbpsixbhy6XNmAzW/24a4mAnHCUYr4UQpCBO0I7bBuhkE/YCLoyVx2F7ZD0PyFuMiNuH15ATat/h4de9ZEUIgfbB2tPu7M0YdCHFoXha9MxB/q5YhJ6lJ7QsyXvIu5uDBxwnxoX03FtQ2d0L18djil9N/gWWVQzMiI6s/y4oJQENqEmOtnJupCLghvg/Fwize+K6OAA5+WM5YW0CNWQINsnt3PtftlhOZ7VTIxFydI7+EmfCuMeNHlSs3JxStZeypS+mMe+0jSO5kVCIRNjyYIXD0WHS5txMbI/bilPoZY4ThF/DjF4JhuhkE/YhT0T7jsLuykiG9H3JvfcffKEvyxbjC6flsHOYr4w87ZJuF+u09mTb8j6+aDx+6BGPF2IR4Ky+nYTVxqNzw7Twj6Atp82jwIqll4c2oQlnQviQC3j/xm4msrrIDt6izoEFkAt4QQ+hhD6NgLGgU9v0HQdVGX7np/GYwrCz3RMKcM/PQZY2kKPQDmahnk8+0/HTeP0g5Qm405TXqn9UlCb2HEs44Xqo0pXFrpyq/7ntoVCILNrIGoeX4Dfn19ADfUJyjip+iM7xRF4CTtBO24boZBjzAK+sdcdt9NEd8JVdQWPLj2M7ZuGoqe/Rsgd/Eg2Lva/n8RNyb9M3JngPXMFqjxcDqOa5ci/qNinhh0UZwLUTsb8Y/G4uTsxqidzyvl3DAnHUdlazjvCcDI2BC8EAtRzAvRMYfoZibqQh5oHgfj9AQ3lPPml3FlLG2SWckQ0j1PwIDbnfeOEb7TjNW9R5sU8wlGMZ8s9haniL3EKUJP7YjH7c5UCi1QWOHIUU+NpHpWLAKnHfPxY8xRPBXOUMTP0IP/ad0Mg37CKOifdtld0O5B/NuteHRjFcI2j0TfgU2Qr2QOOLjZfZ6Im+JqDVnn0sh+IhQLVQsRSTEXTMZ8wfsxF+ckTpgNIXoKHu/thTENcsPLxsI3zEl3sjeyR4ZjOTE3vjDeikXoOAvTCummD7qJqGvyQnU9CNsGOiOfK9/8xljaJreTy0oNLJh/8KOuJ8YJ/bTvx/zb92Mu9hSnij3EaUJ37fAHrSPK9MuVS27zxR6X2RdgrYSsaQ14H12LuaoziBLO0QP/WdoZ3QyDftIo6B952V36EbboMDy5vRZ7/xqL74d8g5AyueHo4YCv9h2gdBpa1h+Oa7ug88uZuCospm9aFpm81P5+0GfTZiVOPR0x137CX8OroJivvWVumHOmCH/rhhyX8mKjpihixaJ0bNI+IurqfIg+5Y8lLWzhY8MxZyx9UDjLZRWGFyn205OuZ8cLfbVmYy52F6dLE7pqQm8031G0k7+fTGnpj4B9DHdnyH/oigJXdmFr/EXECRfpbPRvevA3jLo+6J922V2QfoQtZjee3t2A/dKLzAxtgyIV8sPJy/HrRdyUzI5QDK2FoldHY4t6PmKSutT+b8z1QZ9Jm0Gfn+nQvhyLa+vboFu5rHD8mterM8ggH+2NUg9DcExbDGqxmC7mhkEvbBD0d1EX4vLj9f7smFDDCq58jZ2xdEbprpBXHV+87LDnXS5KN8BNopDrYz7VKOYzxG7iTLGrOEPbOX7Ixcbr8zX1zcjPzKVsWX2gmBKKqo9O4Jz6GrTaK3QmfZmCJUX9vC7qn3bZXdAehjpmH57f+x2Hdk7DsJEdUEJ6+deMLpCnpCdjrOWQ1csLzz39MPLtLDwS5kMwdan9vZjrgi5Op02DoJqENyf7YXHXovB3U375s11/OZRzsqD28yK4JJSAVixOxyEtmahLN8pF5cO9TVnQq4QS9inoPwNj7GuyzqCU15pWqurIl12uTRZ6CeZiPlPsIs6izdR0ivvhdP1luep6e3DUUx7pCZFiIbBfPR9dXlzELfVtCJqbFPNrNH3UL+iibnyW/uFld0EbAXXsAbx4sAURe2Zj1JguKF2jKFwzuUGRkiL+weeBlscL1rOaoOajCTihnYv4hJibuNT+XswTgy6KU+lzNRnxj4bh5Oy6qJXXA9Zf4sOV/pnFrGC3IRDd3hTDXaEkffNRkv79JQyCnkTUhULQvsiHy3O9UTdQzneyM5bu2WayUtSfV6bemMjOdyjmwruYd/sg5rPFzuIcsZM4S90h9vtjtecGVffid2hLQRQKoGZVuO/9A5Pe3sYr9X0I6rsQNbdoN95FXbhkFPX3L7sL2uNQxx3Cq4fbcDx8PsZP6IHytUvCPbMH/StS2TdxrlaQdS0J/5ODsEg1E5EUc8HUpXaDs/OEmCdsCn2OJkOIHoPHezpjdP1geH7OG+akT2U1O7juy42xcSXxSixN/85StJK6mYm6tjDUj/LhxFgvlM4o42+tGWM6jn7WyuYrKrQa/7bzo+RiPkfsKM4VO4iz1e2ivztYY4p/BXd+h7YUwMkRsi4dEHDqIH6NeYSY+McQ1Q9p92l3DKJ+lfaPQdR1l96FU9DEReD14zCcOrgYUyb3QaX6ZeCZxQuK1P7SQtLhl8sGx3Xt0eXlRFwVZkGbxKX2d0GnmIuTaZNoE+lzOB6xVwfgz2EVUDSz3X+/YU56i7PmzvA+WQAL1aURLZahf48+6KUMgm4i6poiiLuSG5v7uSKXM9/8xhgz5p7b3rrdb1V7T47r/DKpmM/VxXwebb7YXpwb3+Ztv71VRmct6Wxv6eNPz3x9oZgw9n/t3QdUU3cbx/HnJiFh7w2ibJHgBBfgYqgo4h5VW9tqHa19q6LWVWfrqG193XvvUa1V1Kq4omjdotaNkioilggCWTf3//5vIDUgNtbXVpHnc86vp54qrXjKlztyAzEZ1+Gk8g/Qqh8D0TyiM0RdbhT1W0ZRv0J/fBG0uUfhRtoqmPPDUIjv2Axcq7mBqKJHvDxeViD8Kh4iboyFXfwd7SZjbhR0Mo1+vqaCLncc3NjYFfpGeb76k9f4CA9xhRo36sHPbBSoSDT9+FElKy/qRtfTNeFQ8Gt1WNjFEtzwHDtC6IXcw+0s+v/Setx36o/zZ+tj3recmPfRx3wh+YAsIu+T+eqeeYP3NBvlHWFt8ab/+ysb/np5vXpgsXwZvJ+dBRnKp8Cp8oCoc+kMUc+iMb9fHHWWj/qdZ1FXpUPBmS2w9LNuEBTgBSKzCvNk81fHnzJvHwLOqYNgcuEMeMj9AFypU+0znz8652Ou31S6b4BTT4K8tE9gdtfq4C5h/t4RsjMDgkne0CirIZzmmgBLmtCPGV0yQ9DLjzqnioDc1CCYEicBu3fw+y2E0OvmE+Vo/dnhhKk/aD4qMBXzxaQ3XS+yQNVD8XlKk5EY9X+PGT08S0wElwP7mW8VuUyuspB+wS+kkX5KY/6kOOoaPurZRlHnr6ff1Uede5oO2XuXw7iYhjQOleykLf/blTqDeE4HaJM1Ec7ovgON8XXzUjGfXirmxZtCP4cTQXXrc9gzujHUdTF7uWvY7gIQfOsLLXKiIZ1rDjrSlH6sJiUre5RuFHX+Rrm8cLi3yRf6RYgA/x9DCL0k+tXOL8bZdsiJtrP+q/2wkI/5/L+I+RK6paQnWajqpvgPjXoVjPo/zskJBMOSofbFi4Kf8vMFyqJCAVEWMnQ06AV0+SVR/4PGPKc46tqsP6+n63IuwPUlU6FrWCBI3vTv5U3in9/evz74nx0CS9TTIZ/GnPsz5jPKxNwQ9K/pJtNNpKEdTz+Xw+Dy/HhIDLHVXxZ/oapCEM0Lhra5LeAGF0f/PTH0YzSnMxF1rjHoHofDldne0NpXAPgECITQ30SjHtza1WH46cRFc7R9lMUx/6BUzJcYxXwpeY8so1uk6kqjHk2jboVR/4fUCAXJrNlM0j258HJBoVBXWCQkRUUCUlQS9FJRVxhF/SH9+/ugzTwLp6YMhyh3Z7wzmsd/Epr6gM3mXtBfMQlucjPokXP5p9qfxXwS3QS6r2hwxwJXMBwe7OkCo2K9yj8VLhWDeHUY9M6Lh3tcaxrzlvTXxtGVjXp06ajrIkF7vx6cnOQOjVzwTnaE0CujXz5C23s4j77Ybs189n21qZgvIz3IctKdLFZ1UXyREoVRf834l6TFxoPDzt2C8dmPRQ+fFom4giIR4YNeqA96OVHPexb1ogdQdP4wrO//PgTYWOGd0WXxj3qdEAMNbo6A3fwd7eXGfErpmJNxdGPoRtFvmIZDwdnesLRPMPhYl7y0jf9LQyuw3BkBQwvbQDZpS2OeQH9+K7p4uli6FuVHXRsJyqu1YcunThBog3eyI4T+bzTqdXtW8Zp4PWnHQl1v7V/HvAdZQYO+gnQjS1SdFUNSIkf6YNRfCzs7YD4ZyASnnRaty31qVphfZEZo0EmBfsJyo264nk6jzuU/hCepu+DbNnHgJKwEN769Kv6GuQ7VweVQP/i6cBI85KbSABtdN9fHfCLdeKOYj6b7km4EPaIeBhp5Pzg2uQE09hGDsIU92KZGwWR1e8gj7enPaUfXlq68qDd7FnVNFBScqglzO1iDC55jRwi9NgIzgKiBfgHf3O1waDHXizUV85WkK1lFt0zVSTE0pTGNuiVG/f9QzQ9EX88QxN24Kz6rKJRo85Rikq/kg/7iqBuupysLgHt0H+6uXwUDGoSDJb6tjmn8pyjMCSRz20Lbh6PhrO5r0OhjPrlMzMcaxXwk3XC6YUC4IaDLHQA3drWC5DMtYYmmMxSQzvSfdaQzHXVOGQWP94fChBbmYIt/XAih105owTAxwwKl0+UdZEu491hTMV9FupDVpDNZruqoGJbSCKP+CgQC+o1UU7BZv000VJ4jyVQozbknSgnJo8v/M+qiP6NeWBJ1w/X0wgLQ3suAczOmQZyPD95M9Xfxz28fGA4B5z+FFZqJNMrGp9oNMR9lFPNkuqF0X9B9Dhw7CNS6vsCSHvTHXehMRJ2LBS6/CWRuCIKP6pqB+Zv+/SOE3mEiK4aJTQ4M+1beXraU68Gaivmakq1QdVAkpzQcWRWj/tKsrIHp3pvxOXhCvCj7qcXTXJUFoUEnT+jy9FEvDroh6gWloi4g+XmCwjOnmY2fDoIQe3w47yvjr07EVQW7fb1hbOFoyOK+Ak4f8zFGMR9hFPMhdP+hG0z3Kd1Auo/o3iuJeie6Ds9HnWsFXG5zuLkgAJL8hPjNF0LoX8BHPS45IGymPEm2jOvOmor5WtKJrCMdyUpVkmJ4SgMadQuMugkeXiAcM0kYfem2uSynyFL9h8qS6IP+Z9QlpaJe5tQ79/gP4aOUFGZSy5bgKMI0vBah9iBe0BqSHg+DK9xo0Olj/qVRzIeViflndIPoBtB9UhL1nmWinkSXSGPeBnQ5MXDlO3+I9RC8mfdgRwhVUoaofydPlK3gurGmYs5vPelAVqvaKUak1MeovwB/fTu8IVgtXmP28a1HlrdyVFa6xyorYgh6cdSLj9LLi3p+oUh3Ty68Mnsu01EqrdyvL/8n8A+PGdsIwm8PhH3sCFDpYz7cKObFp9pLx7w/XT+6vnTv03UrHXUuCXQP4+DcFD+IdMaXpSGE3gQ+6vHJ/mHfy9vKVnJdWFMx30Da67dGlagYmRIxshpGvRSxBJjETozb7iPms37Pt36So7bm6Igh6KWiriwddf56uuKpmfJCunBX8gimrjO+vvwfYy4ApnsgeJzsBXM1Q+GpPuZDy8TccKq9f8nRed+SfUDHX0/vWnw9XdcRtJkt4egoX6hj/zcfH4sQQq8VH/WWyX5hP8jbyFZxnVlTMd9AkshG0o6sVbVRfJkSTqNujlGnnFxBMGS0MPzUNas9D4psVI/UNiRHPxr0cqKuKB117tETsWJfqvC7du3BVSzGMPzT+E9wEzew/qkdfJH/KWRyXwD33HXzsjHn16fkWnp3IGwXUF+Lh+0Dq0CAJcYcIfQ2KIm6dJY8QbaG68Saivkm/RLJelWCYlRKvcoddfplPLQWmM9cZNb56kObq1lqO122xpY8UvN7iagXmevuZolvLlkp6FMvAl+S9m/ztwDRD1EQn90Pzus+A1Yfc+Pr5v3KBP1Dul5AtN2h6Hw8rOjuDh74bmkIobcKH/VWyb7S2fLWsrVcR9ZUzDfTbSFtyQZVa8XoShp1oQggpg3juPWA5Td38u1ysjT23EONHeGXrTaOujUxnHo3vp7+uNBCnX5TfGTMBEGkhyfeSPWmOAqBGRoGob/1gK3aAVD0wpj3Lb4xTtMLCk7Gw5xEF3DC6yIIobdSSdTD5shbydZxHVhTMee3lbQhG1WtaNTrjPStRFG3cwRBvy+EoYcu2WzJVDoUPdA4EBp0/UpH3abcqD98apF/4LjZgm7vMd6Wlni69k3jX0jQzgucjrWDb5V9IZfGnHsu5nTqPpB/pCVMi3MCO/xDQwi91fiot06uJp0rbylbzyWxpmK+jSTQtSabVC0VY/RRl7zzUfcLBrNJs8QJFx7YX5BrHNn7WkfygF+ZqPOn3p+Luspal5FjeW/NFtF/IqPBhsFDvLcGH+j69mC5rin0ye0NN3QfA2sIOdcXOOWHkLu/JYyPdgBrjDlCqELgo56QXFU6Tx4n28C1Y/8q5j/SmPPbTlqRzao4xdiU2iP93tGo65/6FsvYrdpl9eW1J4735Von7netE+GDXhx1PugOpY/SjaKerbTWXr5ncXridGGMTzV88MjbyksEwjFSqJuWCLMf9IBfH/WES9c7w86ljaFLhC2+jzlCqIIxRH2+PFa2iUtkTcV8B2mp31ZVrGJcSq13LupWtsB07yv0Szljt+K20rkgU+tM5HR80A1Rf3aU7vDcqff7hTaFh86Yr+7TXxBgY4en2N92/HdbvmIQJbiBQxdvcKtjA+aGd19DCKEKh496m2Qf6QJ5jGwz15bdQkP+VzH/icTTxZFtqhaKr1Jq0qiL34moe/iA8Mtpkman5E6nMjSumnusK8lkXfRBN0T9/nNRty+ZHXdHYZO1abdkbLM4xl6At74hhBB6E4qjXkW6UN5CtoVLYE3FfCfdzySW/KhqrhifElaho85f3w6PYqznb7EedCnXNSND68bdZd0IH/R7NOiZ2rJRdywV9Qdqe/byA5tLU2eLEgNDQPymfz8IIYQqOZEVMG1p1BfLm8u2ca1ZUzH/mcSQXXTbVc0UE1KkI/0rYNQlFsAk9hB6bktzmHtd6Z5/R+dOMlh3wgf9rj7oxUfphqgbn3rnx9/5fjTd+sdBw4Q1HZzwqW8IIYTeEnzUE5O9w5bIm8l+5FqxpmK+m7Sga05+UjVVTEwJLY56BbkC6ewBws8nmDc8csf14A2Np/q2zoPcocvQR92tnKiXup7O3X7q8PjHVMvpcYmMkwifOoIQQuhtY6aPupd0qbyJbDsXz5qKeYp+zchOVbRi6oHQiW0HOQU26Wrj3qi9lXNEgoVD7ViJXWi02Dq4gcjSr7bIvEoNodgrWGDmESAQufkJRC5VGaGTNyN08GSEdm6MwMYZBFYOwFjYAiOxBsaMfosgEgMIRMWnx/VPWTPsFfC/PjScsZi+yqbnmcce12+yXrpbOk9ym+6OPurFR+mGqN8rE/VMjbPu8iOHa98vk/QIqwsV5hsYhBBClRAf9XY06svk0bIdXBz7VzHfQ2O+hzQle0kTkqKNVu540uDOtpyIy1uz613YmlX3zJb7dU5u/r328U2ZtY5svFvz4IbbYfvWXQ/9adXlkI3Lz1dfsfjXoPkLjgd8P+eQ3zezfvH9aubuqiOm7ajy+debvftPXOfZZ9xK9x6jFrt1Gj7Ppe2QH5zjB89wbD5wikNkv/F29fuMsqnTa5i1tNtgq+BOAyz8kz4yr5rQS+IV19XMvVl7kXNUgsihfqzQrk60wFraQGBZvS5j3rq7yGP9UacZ6UVeuTc4b+4m50Vu6bz0QS8b9bulou5CMtTOquM37fcPGWfWwNkdT7EjhBCqAPioJyV7SpfLo2Q7uVjWVMz57SPR5BcSRQ6QSHKQNCKp+jUkh0gDcpjuCKlPF0GO8uPCuWNcPd0xrq5OxtVlZbo67HFdbS2/E7pamhNsTX7qNDZMlcZKVWlaqfKkNpSuRtFJTcjTNFV1xYmi4JzjBUFZsvxA+bEnARnHFP43j/7h99uRHN/Lh7OrXTiUVfVM6n2fkwd/r3L8QKb3kf13vVOPZ3tfvKL1UV3nqhAadHJTP1NRd+VuFrnk7ThuO6ddN4GHBI/LEUIIVSSGqK+QR8p+5lqwpmL+LOiNTQb9GAmnq0dkdMdJXbo65ARdGqlNV4ucpDtFaur3Kwmjk5LTdGdIKF0NcpbuHAmhq07O010gwXRB5CIJJJf0CyDpdJeJP50fuUJ3lfjSVSO/0V0jPjToz6LOB71s1PXX07Vuukt/uNyZv8lqQHgkY4VvrIIQQqhC4qPePtlDulLeWLaLa86aivl+enT+7wQ9RB/0868Y9N9IVVLeUbrx9fRbWnfNSblz2oipkqYeVfCNVRBCCFVwxVF3l66WN5SlcM3YF8X8nwl6mD7op/VBD9UH/ewLgn7xpYNeVb9rXOmjdOOoX1d5FOw847is68eiapY2eIodIYTQO4KPeodkt7A18gayPVwTtryYG66fvz1B9zcZ9Otlo67z4i7mefy+dJfdiEYxAlsB3vqGEELoXcNHvWOym3StvL5sLxfNlo158dH5mwh68HNBT3+JoBefdvcpOfVehVxnvbVpD93Pj51l2apqEOCryxFCCL27iqPuGrZOHnFsry5KWxGCfsUo6L+VCTp/cxwf9asa78Ldl103ffCFOMTGAU+xI4QQqgT0D58Z7By86FLttbuUjXP3spFqfvvYSM0vusaa/brG2gO6RtqDuobsQa4hm8o10B3i6usOc/U5GnRO/7K1tyTov3FVuQuFVR6tOug0uUkboaMQ3/AUIYRQZcI/uS0kSmL94TSvJuO2BQ4atzVw4PjtgYOn7ApKnrYveOzM1OpT/isLmTnvVI15i8+FLlueHrp+zTXpjg23w/Zuygg7uOVe2OFt8jDZjvvStJ1Z0tO7sqXnUx5J0/c+ll79JVd648CT0Dup+aGZhwtCHxwtCn0kU9bIPaGukX9SW6PwlDak6FdtiPI0W115hg1WnaU7xwapz7OBmvO6QM0FXYD2It0lnT+bzvmzlzk/3RW6q5wvd5VU4wwhv6rz0Z7M9b4+aYlt56BajASPyxFCCFVajBDA3B4YcztgLByAsXJiBDaujMDOgxE4eDFCJx+B0NVXIHL3F4g8gwRmVUKEYt9aQklQfZGFNMrMuk6M2LZ+a4lDZJK5c7MuFm5xPS29Ej608knqb+3X+TOb4O5DbUN7f2lX+6Ov7CP6T3Zo/Nl0x2ZDvneMGzHXqc2YRc4dJ6xw6T5lrcsH0ze5fvL9dtfBc3a5DV+4z33sslT3Katl7jPXn/KYt+Wcx7Id6Z7rd1/z3LHvtufeAxmeB/bc8Ph59WHnb/qNMq/j5IFPfUMIIYT+PSXPcOef6c6fIRCaAZiZAyOxKn72O/8MeFsnENi7gsCRRtrFG4RuPiD08AWRtz8j8glizHxDGHFgTUbiV4MRO3uCEN+7HCGEEEIIIYQQQgghhBBCCCGEEEIIIYQQQgghhBBCCCGEEEIIIYQQQgghhBBCCCGEEEIIIYQQQgghhBBCCCGEEEIIIYQQQgghhBBCCCGEEEIIIYQQQgghhBBCCCGEEEIIIYQQenv8Dycc7n3wHf5xAAAAAElFTkSuQmCC' style='width:500.0px;height:300.0px;' /><div style='position: absolute; top:0; left:0; padding:1px 3px; background: #777; color:#fff; font-size: 90%; font-family:sans-serif; '>initial snapshot</div></div>"
      ],
      "text/plain": [
       "<jupyter_rfb._utils.Snapshot object>"
      ]
     },
     "metadata": {},
     "output_type": "display_data"
    },
    {
     "data": {
      "application/vnd.jupyter.widget-view+json": {
       "model_id": "9b0cb33f7b674585b2f5f58c7d1af28f",
       "version_major": 2,
       "version_minor": 0
      },
      "text/plain": [
       "JupyterWgpuCanvas()"
      ]
     },
     "execution_count": 7,
     "metadata": {},
     "output_type": "execute_result"
    }
   ],
   "source": [
    "plot.show()"
   ]
  },
  {
   "cell_type": "code",
   "execution_count": 8,
   "id": "dbcda1d6-3f21-4a5e-b60f-75bf9103fbe6",
   "metadata": {},
   "outputs": [],
   "source": [
    "white = np.ones(shape=single_contour.colors.shape)"
   ]
  },
  {
   "cell_type": "code",
   "execution_count": 10,
   "id": "6db453cf-5856-4a7b-879f-83032cb9e9ac",
   "metadata": {},
   "outputs": [],
   "source": [
    "single_contour.link(event_type=\"click\", target=single_contour, feature=\"colors\", new_data=white, indices_mapper=None)"
   ]
  },
  {
   "cell_type": "code",
   "execution_count": 12,
   "id": "712c3f43-3339-4d1b-9d64-fe4f4d6bd672",
   "metadata": {},
   "outputs": [
    {
     "data": {
      "text/plain": [
       "{'click': [CallbackData(target=fastplotlib.LineGraphic @ 0x7ff9ce507d30, feature='colors', new_data=array([[1., 1., 1., 1.],\n",
       "         [1., 1., 1., 1.],\n",
       "         [1., 1., 1., 1.],\n",
       "         [1., 1., 1., 1.],\n",
       "         [1., 1., 1., 1.],\n",
       "         [1., 1., 1., 1.],\n",
       "         [1., 1., 1., 1.],\n",
       "         [1., 1., 1., 1.],\n",
       "         [1., 1., 1., 1.],\n",
       "         [1., 1., 1., 1.],\n",
       "         [1., 1., 1., 1.],\n",
       "         [1., 1., 1., 1.],\n",
       "         [1., 1., 1., 1.],\n",
       "         [1., 1., 1., 1.],\n",
       "         [1., 1., 1., 1.],\n",
       "         [1., 1., 1., 1.],\n",
       "         [1., 1., 1., 1.],\n",
       "         [1., 1., 1., 1.],\n",
       "         [1., 1., 1., 1.],\n",
       "         [1., 1., 1., 1.],\n",
       "         [1., 1., 1., 1.],\n",
       "         [1., 1., 1., 1.],\n",
       "         [1., 1., 1., 1.],\n",
       "         [1., 1., 1., 1.],\n",
       "         [1., 1., 1., 1.],\n",
       "         [1., 1., 1., 1.],\n",
       "         [1., 1., 1., 1.]]), old_data=array([[0.        , 0.        , 0.5       , 1.        ],\n",
       "         [0.        , 0.        , 0.6604278 , 1.        ],\n",
       "         [0.        , 0.        , 0.8386809 , 1.        ],\n",
       "         [0.        , 0.        , 1.        , 1.        ],\n",
       "         [0.        , 0.11176471, 1.        , 1.        ],\n",
       "         [0.        , 0.26862746, 1.        , 1.        ],\n",
       "         [0.        , 0.40980393, 1.        , 1.        ],\n",
       "         [0.        , 0.56666666, 1.        , 1.        ],\n",
       "         [0.        , 0.7235294 , 1.        , 1.        ],\n",
       "         [0.        , 0.88039213, 0.9835547 , 1.        ],\n",
       "         [0.11068944, 1.        , 0.8570525 , 1.        ],\n",
       "         [0.22454143, 1.        , 0.7432005 , 1.        ],\n",
       "         [0.35104364, 1.        , 0.61669827, 1.        ],\n",
       "         [0.47754586, 1.        , 0.49019608, 1.        ],\n",
       "         [0.6040481 , 1.        , 0.36369386, 1.        ],\n",
       "         [0.7305503 , 1.        , 0.23719165, 1.        ],\n",
       "         [0.84440225, 1.        , 0.12333966, 1.        ],\n",
       "         [0.97090447, 0.95933187, 0.        , 1.        ],\n",
       "         [1.        , 0.8140886 , 0.        , 1.        ],\n",
       "         [1.        , 0.6688453 , 0.        , 1.        ],\n",
       "         [1.        , 0.523602  , 0.        , 1.        ],\n",
       "         [1.        , 0.3928831 , 0.        , 1.        ],\n",
       "         [1.        , 0.24763979, 0.        , 1.        ],\n",
       "         [1.        , 0.10239651, 0.        , 1.        ],\n",
       "         [0.8565062 , 0.        , 0.        , 1.        ],\n",
       "         [0.6782531 , 0.        , 0.        , 1.        ],\n",
       "         [0.5       , 0.        , 0.        , 1.        ]], dtype=float32))]}"
      ]
     },
     "execution_count": 12,
     "metadata": {},
     "output_type": "execute_result"
    }
   ],
   "source": [
    "single_contour.registered_callbacks"
   ]
  },
  {
   "cell_type": "code",
   "execution_count": null,
   "id": "9d353d7b-a0d0-4629-a8c0-87b767d99bd2",
   "metadata": {},
   "outputs": [],
   "source": []
  }
 ],
 "metadata": {
  "kernelspec": {
   "display_name": "Python 3 (ipykernel)",
   "language": "python",
   "name": "python3"
  },
  "language_info": {
   "codemirror_mode": {
    "name": "ipython",
    "version": 3
   },
   "file_extension": ".py",
   "mimetype": "text/x-python",
   "name": "python",
   "nbconvert_exporter": "python",
   "pygments_lexer": "ipython3",
   "version": "3.9.2"
  }
 },
 "nbformat": 4,
 "nbformat_minor": 5
}
