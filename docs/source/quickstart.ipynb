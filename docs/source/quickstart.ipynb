{
 "cells": [
  {
   "cell_type": "markdown",
   "id": "93740a09-9111-4777-ad57-173e9b80a2f0",
   "metadata": {
    "tags": []
   },
   "source": [
    "# Quick Start Guide 🚀\n",
    "\n",
    "This notebook goes through the basic components of the `fastplotlib` API, images, image updates, line plots, scatter plots, and grid plots.\n",
    "\n",
    "**NOTE: This quick start guide in the docs is NOT interactive. Download the examples from the repo and try them on your own computer. You can run the desktop examples directly if you have `glfw` installed, or try the notebook demos:** https://github.com/kushalkolar/fastplotlib/tree/master/examples\n",
    "\n",
    "It will not be possible to have live demos on the docs until someone can figure out how to get [pygfx](https://github.com/pygfx/pygfx) to work with `wgpu` in the browser, perhaps through [pyodide](https://github.com/pyodide/pyodide) or something :D."
   ]
  },
  {
   "cell_type": "markdown",
   "id": "5d21c330-89cd-49ab-9069-4e3652d4286b",
   "metadata": {},
   "source": [
    "**The example images are from `imageio` so you will need to install it for this example notebook. But `imageio` is not required to use `fasptlotlib`**"
   ]
  },
  {
   "cell_type": "code",
   "execution_count": null,
   "id": "07f064bb-025a-4794-9b05-243810edaf60",
   "metadata": {
    "tags": []
   },
   "outputs": [],
   "source": [
    "!pip install imageio"
   ]
  },
  {
   "cell_type": "code",
   "execution_count": null,
   "id": "5f842366-bd39-47de-ad00-723b2be707e4",
   "metadata": {
    "tags": []
   },
   "outputs": [],
   "source": [
    "import imageio.v3 as iio"
   ]
  },
  {
   "cell_type": "code",
   "execution_count": null,
   "id": "fb57c3d3-f20d-4d88-9e7a-04b9309bc637",
   "metadata": {
    "tags": []
   },
   "outputs": [],
   "source": [
    "import fastplotlib as fpl\n",
    "from ipywidgets import VBox, HBox, IntSlider\n",
    "import numpy as np"
   ]
  },
  {
   "cell_type": "markdown",
   "id": "a9b386ac-9218-4f8f-97b3-f29b4201ef55",
   "metadata": {},
   "source": [
    "## Images"
   ]
  },
  {
   "cell_type": "code",
   "execution_count": null,
   "id": "237823b7-e2c0-4e2f-9ee8-e3fc2b4453c4",
   "metadata": {
    "tags": []
   },
   "outputs": [],
   "source": [
    "# create a `Plot` instance\n",
    "plot = fpl.Plot()\n",
    "\n",
    "# get a grayscale image\n",
    "data = iio.imread(\"imageio:camera.png\")\n",
    "\n",
    "# plot the image data\n",
    "image_graphic = plot.add_image(data=data, name=\"sample-image\")\n",
    "\n",
    "# show the plot\n",
    "plot.show()"
   ]
  },
  {
   "cell_type": "markdown",
   "id": "be5b408f-dd91-4e36-807a-8c22c8d7d216",
   "metadata": {},
   "source": [
    "**In live notebooks or desktop applications, you can use the handle on the bottom right corner of the _canvas_ to resize it. You can also pan and zoom using your mouse!**\n",
    "\n",
    "By default the origin is on the bottom left, you can click the flip button to flip the y-axis, or use `plot.camera.world.scale_y *= -1`"
   ]
  },
  {
   "cell_type": "code",
   "execution_count": null,
   "id": "9b4e977e-2a7d-4e2b-aee4-cfc36767b3c6",
   "metadata": {
    "tags": []
   },
   "outputs": [],
   "source": [
    "plot.camera.world.scale_y *= -1"
   ]
  },
  {
   "cell_type": "markdown",
   "id": "9ba07ec1-a0cb-4461-87c6-c7b64d4a882b",
   "metadata": {},
   "source": [
    "This is how you can take a snapshot of the canvas. Snapshots are shown throughout this doc page for the purposes of documentation, they are NOT necessary for real interactive usage. Download the notebooks to run live demos."
   ]
  },
  {
   "cell_type": "code",
   "execution_count": null,
   "id": "b64ba135-e753-43a9-ad1f-adcc7310792d",
   "metadata": {
    "tags": []
   },
   "outputs": [],
   "source": [
    "plot.canvas.snapshot()"
   ]
  },
  {
   "cell_type": "markdown",
   "id": "ac5f5e75-9aa4-441f-9a41-66c22cd53de8",
   "metadata": {},
   "source": [
    "Changing graphic **\"features\"**"
   ]
  },
  {
   "cell_type": "code",
   "execution_count": null,
   "id": "d3541d1d-0819-450e-814c-588ffc8e7ed5",
   "metadata": {
    "tags": []
   },
   "outputs": [],
   "source": [
    "image_graphic.cmap = \"viridis\""
   ]
  },
  {
   "cell_type": "code",
   "execution_count": null,
   "id": "ab544719-9187-45bd-8127-aac79eea30e4",
   "metadata": {
    "tags": []
   },
   "outputs": [],
   "source": [
    "plot.canvas.snapshot()"
   ]
  },
  {
   "cell_type": "markdown",
   "id": "9693cf94-11e9-46a6-a5b7-b0fbed42ad81",
   "metadata": {},
   "source": [
    "### Slicing data\n",
    "\n",
    "**Most features, such as `data` support slicing!**\n",
    "\n",
    "Out image data is of shape [n_rows, n_cols]"
   ]
  },
  {
   "cell_type": "code",
   "execution_count": null,
   "id": "330a47b5-50b1-4e6a-b8ab-d55d92af2042",
   "metadata": {
    "tags": []
   },
   "outputs": [],
   "source": [
    "image_graphic.data().shape"
   ]
  },
  {
   "cell_type": "code",
   "execution_count": null,
   "id": "601f46d9-7f32-4a43-9090-4674218800ea",
   "metadata": {
    "tags": []
   },
   "outputs": [],
   "source": [
    "image_graphic.data[::15, :] = 1\n",
    "image_graphic.data[:, ::15] = 1"
   ]
  },
  {
   "cell_type": "code",
   "execution_count": null,
   "id": "3443948f-9ac9-484a-a4bf-3a06c1ce5658",
   "metadata": {
    "tags": []
   },
   "outputs": [],
   "source": [
    "plot.canvas.snapshot()"
   ]
  },
  {
   "cell_type": "markdown",
   "id": "53125b3b-3ce2-43c5-b2e3-7cd37cec7d7d",
   "metadata": {},
   "source": [
    "**Fancy indexing**"
   ]
  },
  {
   "cell_type": "code",
   "execution_count": null,
   "id": "7344cbbe-40c3-4d9e-ae75-7abe3ddaeeeb",
   "metadata": {
    "tags": []
   },
   "outputs": [],
   "source": [
    "image_graphic.data[data > 175] = 255"
   ]
  },
  {
   "cell_type": "code",
   "execution_count": null,
   "id": "ef113d79-5d86-4be0-868e-30f82f8ab528",
   "metadata": {
    "tags": []
   },
   "outputs": [],
   "source": [
    "plot.canvas.snapshot()"
   ]
  },
  {
   "cell_type": "markdown",
   "id": "4df5296e-2a18-403f-82f1-acb8eaf280e3",
   "metadata": {},
   "source": [
    "Adjust vmin vmax"
   ]
  },
  {
   "cell_type": "code",
   "execution_count": null,
   "id": "28af88d1-0518-47a4-ab73-431d6aaf9cb8",
   "metadata": {
    "tags": []
   },
   "outputs": [],
   "source": [
    "image_graphic.cmap.vmin = 50\n",
    "image_graphic.cmap.vmax = 150"
   ]
  },
  {
   "cell_type": "code",
   "execution_count": null,
   "id": "e3dfb827-c812-447d-b413-dc15653160b1",
   "metadata": {
    "tags": []
   },
   "outputs": [],
   "source": [
    "plot.canvas.snapshot()"
   ]
  },
  {
   "cell_type": "markdown",
   "id": "19a1b56b-fdca-40c5-91c9-3c9486fd8a21",
   "metadata": {},
   "source": [
    "**Set the entire data array again**\n",
    "\n",
    "Note: The shape of the new data array must match the current data shown in the Graphic."
   ]
  },
  {
   "cell_type": "code",
   "execution_count": null,
   "id": "4dc3d0e4-b128-42cd-a53e-76846fc9b8a8",
   "metadata": {
    "tags": []
   },
   "outputs": [],
   "source": [
    "new_data = iio.imread(\"imageio:astronaut.png\")\n",
    "new_data.shape"
   ]
  },
  {
   "cell_type": "markdown",
   "id": "3bd06068-fe3f-404d-ba4a-a72a2105904f",
   "metadata": {},
   "source": [
    "This is an RGB image, convert to grayscale to maintain the shape of (512, 512)"
   ]
  },
  {
   "cell_type": "code",
   "execution_count": null,
   "id": "150047a6-a6ac-442d-a468-3e0c224a2b7e",
   "metadata": {
    "tags": []
   },
   "outputs": [],
   "source": [
    "gray = new_data.dot([0.3, 0.6, 0.1])\n",
    "gray.shape"
   ]
  },
  {
   "cell_type": "code",
   "execution_count": null,
   "id": "bf24576b-d336-4754-9992-9649ccaa4d1e",
   "metadata": {
    "tags": []
   },
   "outputs": [],
   "source": [
    "image_graphic.data = gray"
   ]
  },
  {
   "cell_type": "code",
   "execution_count": null,
   "id": "67d810c2-4020-4769-a5ba-0d4a972ee243",
   "metadata": {
    "tags": []
   },
   "outputs": [],
   "source": [
    "plot.canvas.snapshot()"
   ]
  },
  {
   "cell_type": "markdown",
   "id": "2fe82654-e554-4be6-92a0-ecdee0ef8519",
   "metadata": {},
   "source": [
    "reset vmin vmax"
   ]
  },
  {
   "cell_type": "code",
   "execution_count": null,
   "id": "0be6e4bb-cf9a-4155-9f6a-8106e66e6132",
   "metadata": {
    "tags": []
   },
   "outputs": [],
   "source": [
    "image_graphic.cmap.reset_vmin_vmax()"
   ]
  },
  {
   "cell_type": "code",
   "execution_count": null,
   "id": "bd51936c-ad80-4b33-b855-23565265a430",
   "metadata": {
    "tags": []
   },
   "outputs": [],
   "source": [
    "plot.canvas.snapshot()"
   ]
  },
  {
   "cell_type": "markdown",
   "id": "a6c1f3fb-a3a7-4175-bd8d-bb3203740771",
   "metadata": {},
   "source": [
    "### Indexing plots"
   ]
  },
  {
   "cell_type": "markdown",
   "id": "3fc38694-aca6-4f56-97ac-3435059a6be7",
   "metadata": {},
   "source": [
    "**Plots are indexable and give you their graphics by name**"
   ]
  },
  {
   "cell_type": "code",
   "execution_count": null,
   "id": "8a547138-0f7d-470b-9925-8df479c3979e",
   "metadata": {
    "tags": []
   },
   "outputs": [],
   "source": [
    "plot"
   ]
  },
  {
   "cell_type": "code",
   "execution_count": null,
   "id": "5551861f-9860-4515-8222-2f1c6d6a3220",
   "metadata": {
    "tags": []
   },
   "outputs": [],
   "source": [
    "plot[\"sample-image\"]"
   ]
  },
  {
   "cell_type": "markdown",
   "id": "0c29b36e-0eb4-4bb3-a8db-add58c303ee8",
   "metadata": {},
   "source": [
    "**You can also use numerical indexing on `plot.graphics`**"
   ]
  },
  {
   "cell_type": "code",
   "execution_count": null,
   "id": "ce6adbb0-078a-4e74-b189-58f860ee5df5",
   "metadata": {
    "tags": []
   },
   "outputs": [],
   "source": [
    "plot.graphics"
   ]
  },
  {
   "cell_type": "code",
   "execution_count": null,
   "id": "119bd6af-c486-4378-bc23-79b1759aa3a4",
   "metadata": {
    "tags": []
   },
   "outputs": [],
   "source": [
    "plot.graphics[0]"
   ]
  },
  {
   "cell_type": "markdown",
   "id": "6b8e3f0d-56f8-447f-bf26-b52629d06e95",
   "metadata": {},
   "source": [
    "The `Graphic` instance is also returned when you call `plot.add_<graphic_type>`."
   ]
  },
  {
   "cell_type": "code",
   "execution_count": null,
   "id": "967c0cbd-287c-4d99-9891-9baf18f7b56a",
   "metadata": {
    "tags": []
   },
   "outputs": [],
   "source": [
    "image_graphic"
   ]
  },
  {
   "cell_type": "code",
   "execution_count": null,
   "id": "5da72e26-3536-47b8-839c-53452dd94f7a",
   "metadata": {
    "tags": []
   },
   "outputs": [],
   "source": [
    "image_graphic == plot[\"sample-image\"]"
   ]
  },
  {
   "cell_type": "markdown",
   "id": "2b5ee18b-e61b-415d-902a-688b1c9c03b8",
   "metadata": {},
   "source": [
    "### RGB images\n",
    "\n",
    "`cmap` arguments are ignored for rgb images, but vmin vmax still works"
   ]
  },
  {
   "cell_type": "code",
   "execution_count": null,
   "id": "1f7143ec-8ee1-47d2-b017-d0a8efc69fc6",
   "metadata": {
    "tags": []
   },
   "outputs": [],
   "source": [
    "plot_rgb = fpl.Plot()\n",
    "\n",
    "plot_rgb.add_image(new_data, name=\"rgb-image\")\n",
    "\n",
    "plot_rgb.show()"
   ]
  },
  {
   "cell_type": "code",
   "execution_count": null,
   "id": "7e4b5a30-4293-4ae3-87dc-06a1355bb2c7",
   "metadata": {
    "tags": []
   },
   "outputs": [],
   "source": [
    "plot_rgb.camera.world.scale_y *= -1"
   ]
  },
  {
   "cell_type": "code",
   "execution_count": null,
   "id": "a47b1eaf-3638-470a-88a5-0026c81d7e2b",
   "metadata": {
    "tags": []
   },
   "outputs": [],
   "source": [
    "plot_rgb.canvas.snapshot()"
   ]
  },
  {
   "cell_type": "markdown",
   "id": "4848a929-4f3b-46d7-921b-ebfe8de0ebb5",
   "metadata": {},
   "source": [
    "vmin and vmax are still applicable to rgb images"
   ]
  },
  {
   "cell_type": "code",
   "execution_count": null,
   "id": "ffe50132-8dd0-433c-b9c6-9ead8c3d48de",
   "metadata": {
    "tags": []
   },
   "outputs": [],
   "source": [
    "plot_rgb[\"rgb-image\"].cmap.vmin = 100"
   ]
  },
  {
   "cell_type": "code",
   "execution_count": null,
   "id": "161468ba-b836-4021-8d11-8dfc140b94eb",
   "metadata": {
    "tags": []
   },
   "outputs": [],
   "source": [
    "plot_rgb.canvas.snapshot()"
   ]
  },
  {
   "cell_type": "markdown",
   "id": "1cb03f42-1029-4b16-a16b-35447d9e2955",
   "metadata": {
    "tags": []
   },
   "source": [
    "## Image updates\n",
    "\n",
    "This examples show how you can define animation functions that run on every render cycle."
   ]
  },
  {
   "cell_type": "code",
   "execution_count": null,
   "id": "aadd757f-6379-4f52-a709-46aa57c56216",
   "metadata": {
    "tags": []
   },
   "outputs": [],
   "source": [
    "# create another `Plot` instance\n",
    "plot_v = fpl.Plot()\n",
    "\n",
    "plot.canvas.max_buffered_frames = 1\n",
    "\n",
    "# make some random data again\n",
    "data = np.random.rand(512, 512)\n",
    "\n",
    "# plot the data\n",
    "plot_v.add_image(data=data, name=\"random-image\")\n",
    "\n",
    "# a function to update the image_graphic\n",
    "# a plot will pass its plot instance to the animation function as an arugment\n",
    "def update_data(plot_instance):\n",
    "    new_data = np.random.rand(512, 512)\n",
    "    plot_instance[\"random-image\"].data = new_data\n",
    "\n",
    "#add this as an animation function\n",
    "plot_v.add_animations(update_data)\n",
    "\n",
    "# show the plot\n",
    "plot_v.show()"
   ]
  },
  {
   "cell_type": "markdown",
   "id": "b313eda1-6e6c-466f-9fd5-8b70c1d3c110",
   "metadata": {},
   "source": [
    "**Share controllers across plots**\n",
    "\n",
    "This example creates a new plot, but it synchronizes the pan-zoom controller"
   ]
  },
  {
   "cell_type": "code",
   "execution_count": null,
   "id": "86e70b1e-4328-4035-b992-70dff16d2a69",
   "metadata": {},
   "outputs": [],
   "source": [
    "plot_sync = fpl.Plot(controller=plot_v.controller)\n",
    "\n",
    "data = np.random.rand(512, 512)\n",
    "\n",
    "image_graphic_instance = plot_sync.add_image(data=data, cmap=\"viridis\")\n",
    "\n",
    "# you will need to define a new animation function for this graphic\n",
    "def update_data_2():\n",
    "    new_data = np.random.rand(512, 512)\n",
    "    # alternatively, you can use the stored reference to the graphic as well instead of indexing the Plot\n",
    "    image_graphic_instance.data = new_data\n",
    "\n",
    "plot_sync.add_animations(update_data_2)\n",
    "\n",
    "plot_sync.show()"
   ]
  },
  {
   "cell_type": "markdown",
   "id": "f226c9c2-8d0e-41ab-9ab9-1ae31fd91de5",
   "metadata": {},
   "source": [
    "Keeping a reference to the Graphic instance, as shown above `image_graphic_instance`, is useful if you're creating something where you need flexibility in the naming of the graphics"
   ]
  },
  {
   "cell_type": "markdown",
   "id": "d11fabb7-7c76-4e94-893d-80ed9ee3be3d",
   "metadata": {},
   "source": [
    "You can also use `ipywidgets.VBox` and `HBox` to stack plots. See the `gridplot` notebooks for a proper gridplot interface for more automated subplotting\n",
    "\n",
    "Not shown in the docs, try the live demo for this feature"
   ]
  },
  {
   "cell_type": "code",
   "execution_count": null,
   "id": "ef9743b3-5f81-4b79-9502-fa5fca08e56d",
   "metadata": {},
   "outputs": [],
   "source": [
    "#VBox([plot_v.canvas, plot_sync.show()])"
   ]
  },
  {
   "cell_type": "code",
   "execution_count": null,
   "id": "11839d95-8ff7-444c-ae13-6b072c3112c5",
   "metadata": {},
   "outputs": [],
   "source": [
    "#HBox([plot_v.show(), plot_sync.show()])"
   ]
  },
  {
   "cell_type": "markdown",
   "id": "e7859338-8162-408b-ac72-37e606057045",
   "metadata": {
    "tags": []
   },
   "source": [
    "## Line plots\n",
    "\n",
    "2D line plots\n",
    "\n",
    "This example plots a sine wave, cosine wave, and ricker wavelet and demonstrates how **Graphic Features** can be modified by slicing!"
   ]
  },
  {
   "cell_type": "markdown",
   "id": "a6fee1c2-4a24-4325-bca2-26e5a4bf6338",
   "metadata": {},
   "source": [
    "Generate some data."
   ]
  },
  {
   "cell_type": "code",
   "execution_count": null,
   "id": "8e8280da-b421-43a5-a1a6-2a196a408e9a",
   "metadata": {},
   "outputs": [],
   "source": [
    "# linspace, create 100 evenly spaced x values from -10 to 10\n",
    "xs = np.linspace(-10, 10, 100)\n",
    "# sine wave\n",
    "ys = np.sin(xs)\n",
    "sine = np.dstack([xs, ys])[0]\n",
    "\n",
    "# cosine wave\n",
    "ys = np.cos(xs) + 5\n",
    "cosine = np.dstack([xs, ys])[0]\n",
    "\n",
    "# sinc function\n",
    "a = 0.5\n",
    "ys = np.sinc(xs) * 3 + 8\n",
    "sinc = np.dstack([xs, ys])[0]"
   ]
  },
  {
   "cell_type": "markdown",
   "id": "fbb806e5-1565-4189-936c-b7cf147a59ee",
   "metadata": {},
   "source": [
    "Plot all of it on the same plot. Each line plot will be an individual Graphic, you can have any combination of graphics on a plot."
   ]
  },
  {
   "cell_type": "code",
   "execution_count": null,
   "id": "93a5d1e6-d019-4dd0-a0d1-25d1704ab7a7",
   "metadata": {},
   "outputs": [],
   "source": [
    "# Create a plot instance\n",
    "plot_l = fpl.Plot()\n",
    "\n",
    "# plot sine wave, use a single color\n",
    "sine_graphic = plot_l.add_line(data=sine, thickness=5, colors=\"magenta\")\n",
    "\n",
    "# you can also use colormaps for lines!\n",
    "cosine_graphic = plot_l.add_line(data=cosine, thickness=12, cmap=\"autumn\")\n",
    "\n",
    "# or a list of colors for each datapoint\n",
    "colors = [\"r\"] * 25 + [\"purple\"] * 25 + [\"y\"] * 25 + [\"b\"] * 25\n",
    "sinc_graphic = plot_l.add_line(data=sinc, thickness=5, colors = colors)\n",
    "\n",
    "plot_l.show()"
   ]
  },
  {
   "cell_type": "markdown",
   "id": "22dde600-0f56-4370-b017-c8f23a6c01aa",
   "metadata": {},
   "source": [
    "\"stretching\" the camera, useful for large timeseries data\n",
    "\n",
    "Set `maintain_aspect = False` on a camera, and then use the right mouse button and move the mouse to stretch and squeeze the view!\n",
    "\n",
    "You can also click the **`1:1`** button to toggle this."
   ]
  },
  {
   "cell_type": "code",
   "execution_count": null,
   "id": "2695f023-f6ce-4e26-8f96-4fbed5510d1d",
   "metadata": {
    "tags": []
   },
   "outputs": [],
   "source": [
    "plot_l.camera.maintain_aspect = False"
   ]
  },
  {
   "cell_type": "markdown",
   "id": "1651e965-f750-47ac-bf53-c23dae84cc98",
   "metadata": {},
   "source": [
    "reset the plot area"
   ]
  },
  {
   "cell_type": "code",
   "execution_count": null,
   "id": "ba50a6ed-0f1b-4795-91dd-a7c3e40b8e3c",
   "metadata": {
    "tags": []
   },
   "outputs": [],
   "source": [
    "plot_l.auto_scale(maintain_aspect=True)"
   ]
  },
  {
   "cell_type": "markdown",
   "id": "dcd68796-c190-4c3f-8519-d73b98ff6367",
   "metadata": {},
   "source": [
    "Graphic features support slicing! :D "
   ]
  },
  {
   "cell_type": "code",
   "execution_count": null,
   "id": "cb0d13ed-ef07-46ff-b19e-eeca4c831037",
   "metadata": {},
   "outputs": [],
   "source": [
    "# indexing of colors\n",
    "cosine_graphic.colors[:15] = \"magenta\"\n",
    "cosine_graphic.colors[90:] = \"red\"\n",
    "cosine_graphic.colors[60] = \"w\"\n",
    "\n",
    "# indexing to assign colormaps to entire lines or segments\n",
    "sinc_graphic.cmap[10:50] = \"gray\"\n",
    "sine_graphic.cmap = \"seismic\"\n",
    "\n",
    "# more complex indexing, set the blue value directly from an array\n",
    "cosine_graphic.colors[65:90, 0] = np.linspace(0, 1, 90-65)"
   ]
  },
  {
   "cell_type": "markdown",
   "id": "bfe14ed3-e81f-4058-96a7-e2720b6d2f45",
   "metadata": {},
   "source": [
    "Make a snapshot of the canvas after slicing"
   ]
  },
  {
   "cell_type": "code",
   "execution_count": null,
   "id": "a061a888-d732-406e-a9c2-8cc632fbc368",
   "metadata": {
    "tags": []
   },
   "outputs": [],
   "source": [
    "plot_l.canvas.snapshot()"
   ]
  },
  {
   "cell_type": "markdown",
   "id": "c9689887-cdf3-4a4d-948f-7efdb09bde4e",
   "metadata": {},
   "source": [
    "**You can capture changes to a graphic feature as events**"
   ]
  },
  {
   "cell_type": "code",
   "execution_count": null,
   "id": "cfa001f6-c640-4f91-beb0-c19b030e503f",
   "metadata": {},
   "outputs": [],
   "source": [
    "def callback_func(event_data):\n",
    "    print(event_data)\n",
    "\n",
    "# Will print event data when the color changes\n",
    "cosine_graphic.colors.add_event_handler(callback_func)"
   ]
  },
  {
   "cell_type": "code",
   "execution_count": null,
   "id": "bb8a0f95-0063-4cd4-a117-e3d62c6e120d",
   "metadata": {},
   "outputs": [],
   "source": [
    "# more complex indexing of colors\n",
    "# from point 15 - 30, set every 3rd point as \"cyan\"\n",
    "cosine_graphic.colors[15:50:3] = \"cyan\""
   ]
  },
  {
   "cell_type": "code",
   "execution_count": null,
   "id": "3da9a43b-35bd-4b56-9cc7-967536aac967",
   "metadata": {
    "tags": []
   },
   "outputs": [],
   "source": [
    "plot_l.canvas.snapshot()"
   ]
  },
  {
   "cell_type": "markdown",
   "id": "c29f81f9-601b-49f4-b20c-575c56e58026",
   "metadata": {},
   "source": [
    "Graphic `data` is also indexable"
   ]
  },
  {
   "cell_type": "code",
   "execution_count": null,
   "id": "d1a4314b-5723-43c7-94a0-b4cbb0e44d60",
   "metadata": {},
   "outputs": [],
   "source": [
    "cosine_graphic.data[10:50:5, :2] = sine[10:50:5]\n",
    "cosine_graphic.data[90:, 1] = 7"
   ]
  },
  {
   "cell_type": "code",
   "execution_count": null,
   "id": "682db47b-8c7a-4934-9be4-2067e9fb12d5",
   "metadata": {},
   "outputs": [],
   "source": [
    "cosine_graphic.data[0] = np.array([[-10, 0, 0]])"
   ]
  },
  {
   "cell_type": "code",
   "execution_count": null,
   "id": "f779cba0-7ee2-4795-8da8-9a9593d3893e",
   "metadata": {
    "tags": []
   },
   "outputs": [],
   "source": [
    "plot_l.canvas.snapshot()"
   ]
  },
  {
   "cell_type": "markdown",
   "id": "3f6d264b-1b03-407e-9d83-cd6cfb02e706",
   "metadata": {},
   "source": [
    "Toggle the presence of a graphic within the scene"
   ]
  },
  {
   "cell_type": "code",
   "execution_count": null,
   "id": "fcba75b7-9a1e-4aae-9dec-715f7f7456c3",
   "metadata": {},
   "outputs": [],
   "source": [
    "sinc_graphic.present = False"
   ]
  },
  {
   "cell_type": "code",
   "execution_count": null,
   "id": "a5e22d0f-a244-47e2-9a2d-1eaf79eda1d9",
   "metadata": {
    "tags": []
   },
   "outputs": [],
   "source": [
    "plot_l.canvas.snapshot()"
   ]
  },
  {
   "cell_type": "code",
   "execution_count": null,
   "id": "763b9943-53a4-4e2a-b47a-4e9e5c9d7be3",
   "metadata": {},
   "outputs": [],
   "source": [
    "sinc_graphic.present = True"
   ]
  },
  {
   "cell_type": "code",
   "execution_count": null,
   "id": "b22a8660-26b3-4c73-b87a-df9d7cb4353a",
   "metadata": {
    "tags": []
   },
   "outputs": [],
   "source": [
    "plot_l.canvas.snapshot()"
   ]
  },
  {
   "cell_type": "markdown",
   "id": "86f4e535-ce88-415a-b8d2-53612a2de7b9",
   "metadata": {},
   "source": [
    "You can create callbacks to `present` too, for example to re-scale the plot w.r.t. graphics that are present in the scene"
   ]
  },
  {
   "cell_type": "code",
   "execution_count": null,
   "id": "64a20a16-75a5-4772-a849-630ade9be4ff",
   "metadata": {},
   "outputs": [],
   "source": [
    "sinc_graphic.present.add_event_handler(plot_l.auto_scale)"
   ]
  },
  {
   "cell_type": "code",
   "execution_count": null,
   "id": "fb093046-c94c-4085-86b4-8cd85cb638ff",
   "metadata": {},
   "outputs": [],
   "source": [
    "sinc_graphic.present = False"
   ]
  },
  {
   "cell_type": "code",
   "execution_count": null,
   "id": "f9dd6a54-3460-4fb7-bffb-82fd9288902f",
   "metadata": {
    "tags": []
   },
   "outputs": [],
   "source": [
    "plot_l.canvas.snapshot()"
   ]
  },
  {
   "cell_type": "code",
   "execution_count": null,
   "id": "f05981c3-c768-4631-ae62-6a8407b20c4c",
   "metadata": {},
   "outputs": [],
   "source": [
    "sinc_graphic.present = True"
   ]
  },
  {
   "cell_type": "code",
   "execution_count": null,
   "id": "cb5bf73e-b015-4b4f-82a0-c3ae8cc39ef7",
   "metadata": {
    "tags": []
   },
   "outputs": [],
   "source": [
    "plot_l.canvas.snapshot()"
   ]
  },
  {
   "cell_type": "markdown",
   "id": "05f93e93-283b-45d8-ab31-8d15a7671dd2",
   "metadata": {},
   "source": [
    "You can set the z-positions of graphics to have them appear under or over other graphics"
   ]
  },
  {
   "cell_type": "code",
   "execution_count": null,
   "id": "6bb33406-5bef-455b-86ea-358a7d3ffa94",
   "metadata": {
    "tags": []
   },
   "outputs": [],
   "source": [
    "img = np.random.rand(20, 100)\n",
    "\n",
    "plot_l.add_image(img, name=\"image\", cmap=\"gray\")\n",
    "\n",
    "# z axix position -1 so it is below all the lines\n",
    "plot_l[\"image\"].position_z = -1\n",
    "plot_l[\"image\"].position_x = -50"
   ]
  },
  {
   "cell_type": "code",
   "execution_count": null,
   "id": "5b586a89-ca3e-4e88-a801-bdd665384f59",
   "metadata": {
    "tags": []
   },
   "outputs": [],
   "source": [
    "plot_l.canvas.snapshot()"
   ]
  },
  {
   "cell_type": "markdown",
   "id": "2c90862e-2f2a-451f-a468-0cf6b857e87a",
   "metadata": {},
   "source": [
    "### 3D line plot"
   ]
  },
  {
   "cell_type": "code",
   "execution_count": null,
   "id": "9c51229f-13a2-4653-bff3-15d43ddbca7b",
   "metadata": {},
   "outputs": [],
   "source": [
    "# just set the camera as \"3d\", the rest is basically the same :D \n",
    "plot_l3d = fpl.Plot(camera='3d')\n",
    "\n",
    "# create a spiral\n",
    "phi = np.linspace(0, 30, 200)\n",
    "\n",
    "xs = phi * np.cos(phi)\n",
    "ys = phi * np.sin(phi)\n",
    "zs = phi\n",
    "\n",
    "# use 3D data\n",
    "# note: you usually mix 3D and 2D graphics on the same plot\n",
    "spiral = np.dstack([xs, ys, zs])[0]\n",
    "\n",
    "plot_l3d.add_line(data=spiral, thickness=2, cmap='winter')\n",
    "\n",
    "plot_l3d.show()"
   ]
  },
  {
   "cell_type": "code",
   "execution_count": null,
   "id": "28eb7014-4773-4a34-8bfc-bd3a46429012",
   "metadata": {
    "tags": []
   },
   "outputs": [],
   "source": [
    "plot_l3d.auto_scale(maintain_aspect=True)"
   ]
  },
  {
   "cell_type": "markdown",
   "id": "a202b3d0-2a0b-450a-93d4-76d0a1129d1d",
   "metadata": {},
   "source": [
    "## Scatter plots\n",
    "\n",
    "Plot tens of thousands or millions of points\n",
    "\n",
    "There might be a small delay for a few seconds before the plot shows, this is due to shaders being compiled and a few other things. The plot should be very fast and responsive once it is displayed and future modifications should also be fast!"
   ]
  },
  {
   "cell_type": "code",
   "execution_count": null,
   "id": "39252df5-9ae5-4132-b97b-2785c5fa92ea",
   "metadata": {},
   "outputs": [],
   "source": [
    "# create a random distribution\n",
    "# only 1,000 points shown here in the docs, but it can be millions\n",
    "n_points = 1_000\n",
    "\n",
    "# if you have a good GPU go for 1.5 million points :D \n",
    "# this is multiplied by 3\n",
    "#n_points = 500_000\n",
    "\n",
    "# dimensions always have to be [n_points, xyz]\n",
    "dims = (n_points, 3)\n",
    "\n",
    "clouds_offset = 15\n",
    "\n",
    "# create some random clouds\n",
    "normal = np.random.normal(size=dims, scale=5)\n",
    "# stack the data into a single array\n",
    "cloud = np.vstack(\n",
    "    [\n",
    "        normal - clouds_offset,\n",
    "        normal,\n",
    "        normal + clouds_offset,\n",
    "    ]\n",
    ")\n",
    "\n",
    "# color each of them separately\n",
    "colors = [\"yellow\"] * n_points + [\"cyan\"] * n_points + [\"magenta\"] * n_points\n",
    "\n",
    "# create plot\n",
    "plot_s = fpl.Plot()\n",
    "\n",
    "# use an alpha value since this will be a lot of points\n",
    "scatter_graphic = plot_s.add_scatter(data=cloud, sizes=3, colors=colors, alpha=0.7)\n",
    "\n",
    "plot_s.show()"
   ]
  },
  {
   "cell_type": "markdown",
   "id": "b6e4a704-ee6b-4316-956e-acb4dcc1c6f2",
   "metadata": {},
   "source": [
    "**Scatter graphic features work similarly to line graphic**"
   ]
  },
  {
   "cell_type": "code",
   "execution_count": null,
   "id": "8fa46ec0-8680-44f5-894c-559de3145932",
   "metadata": {},
   "outputs": [],
   "source": [
    "# half of the first cloud's points to red\n",
    "scatter_graphic.colors[:n_points:2] = \"r\""
   ]
  },
  {
   "cell_type": "code",
   "execution_count": null,
   "id": "293a4793-44b9-4d18-ae6a-68e7c6f91acc",
   "metadata": {
    "tags": []
   },
   "outputs": [],
   "source": [
    "plot_s.canvas.snapshot()"
   ]
  },
  {
   "cell_type": "code",
   "execution_count": null,
   "id": "e4dc71e4-5144-436f-a464-f2a29eee8f0b",
   "metadata": {},
   "outputs": [],
   "source": [
    "# set the green value directly\n",
    "scatter_graphic.colors[n_points:n_points * 2, 1] = 0.3"
   ]
  },
  {
   "cell_type": "code",
   "execution_count": null,
   "id": "5ea7852d-fdae-401b-83b6-b6cfd975f64f",
   "metadata": {
    "tags": []
   },
   "outputs": [],
   "source": [
    "plot_s.canvas.snapshot()"
   ]
  },
  {
   "cell_type": "code",
   "execution_count": null,
   "id": "5b637a29-cd5e-4011-ab81-3f91490d9ecd",
   "metadata": {},
   "outputs": [],
   "source": [
    "# set color values directly using an array\n",
    "scatter_graphic.colors[n_points * 2:] = np.repeat([[1, 1, 0, 0.5]], n_points, axis=0)"
   ]
  },
  {
   "cell_type": "code",
   "execution_count": null,
   "id": "02c19f51-6436-4601-976e-04326df0de81",
   "metadata": {
    "tags": []
   },
   "outputs": [],
   "source": [
    "plot_s.canvas.snapshot()"
   ]
  },
  {
   "cell_type": "code",
   "execution_count": null,
   "id": "a4084fce-78a2-48b3-9a0d-7b57c165c3c1",
   "metadata": {},
   "outputs": [],
   "source": [
    "# change the data, change y-values\n",
    "scatter_graphic.data[n_points:n_points * 2, 1] += 15"
   ]
  },
  {
   "cell_type": "code",
   "execution_count": null,
   "id": "2ec43f58-4710-4603-9358-682c4af3f701",
   "metadata": {
    "tags": []
   },
   "outputs": [],
   "source": [
    "plot_s.canvas.snapshot()"
   ]
  },
  {
   "cell_type": "code",
   "execution_count": null,
   "id": "f486083e-7c58-4255-ae1a-3fe5d9bfaeed",
   "metadata": {},
   "outputs": [],
   "source": [
    "# set x values directly but using an array\n",
    "scatter_graphic.data[n_points:n_points * 2, 0] = np.linspace(-40, 0, n_points)"
   ]
  },
  {
   "cell_type": "code",
   "execution_count": null,
   "id": "6bcb3bc3-4b75-4bbc-b8ca-f8a3219ec3d7",
   "metadata": {
    "tags": []
   },
   "outputs": [],
   "source": [
    "plot_s.canvas.snapshot()"
   ]
  },
  {
   "cell_type": "markdown",
   "id": "d9e554de-c436-4684-a46a-ce8a33d409ac",
   "metadata": {},
   "source": [
    "## ipywidget layouts\n",
    "\n",
    "This just plots everything from these examples in a single output cell"
   ]
  },
  {
   "cell_type": "code",
   "execution_count": null,
   "id": "01a6f70b-c81b-4ee5-8a6b-d979b87227eb",
   "metadata": {
    "tags": []
   },
   "outputs": [],
   "source": [
    "# row1 = HBox([plot.show(), plot_v.show(), plot_sync.show()])\n",
    "# row2 = HBox([plot_l.show(), plot_l3d.show(), plot_s.show()])\n",
    "\n",
    "# VBox([row1, row2])"
   ]
  },
  {
   "cell_type": "markdown",
   "id": "a26c0063-b7e0-4f36-bb14-db06bafa31aa",
   "metadata": {},
   "source": [
    "## Gridplot\n",
    "\n",
    "Subplots within a `GridPlot` behave the same as simple `Plot` instances! \n",
    "\n",
    "💡 `Plot` is actually a subclass of `Subplot`!"
   ]
  },
  {
   "cell_type": "code",
   "execution_count": null,
   "id": "6b7e1129-ae8e-4a0f-82dc-bd8fb65871fc",
   "metadata": {
    "tags": []
   },
   "outputs": [],
   "source": [
    "# GridPlot of shape 2 x 3 with all controllers synced\n",
    "grid_plot = fpl.GridPlot(shape=(2, 3), controllers=\"sync\")\n",
    "\n",
    "# Make a random image graphic for each subplot\n",
    "for subplot in grid_plot:\n",
    "    # create image data\n",
    "    data = np.random.rand(512, 512)\n",
    "    # add an image to the subplot\n",
    "    subplot.add_image(data, name=\"rand-img\")\n",
    "\n",
    "# Define a function to update the image graphics with new data\n",
    "# add_animations will pass the gridplot to the animation function\n",
    "def update_data(gp):\n",
    "    for sp in gp:\n",
    "        new_data = np.random.rand(512, 512)\n",
    "        # index the image graphic by name and set the data\n",
    "        sp[\"rand-img\"].data = new_data\n",
    "        \n",
    "# add the animation function\n",
    "grid_plot.add_animations(update_data)\n",
    "\n",
    "# show the gridplot \n",
    "grid_plot.show()"
   ]
  },
  {
   "cell_type": "markdown",
   "id": "f4f71c34-3925-442f-bd76-60dd57d09f48",
   "metadata": {},
   "source": [
    "### Slicing GridPlot"
   ]
  },
  {
   "cell_type": "code",
   "execution_count": null,
   "id": "d8194c9e-9a99-4d4a-8984-a4cfcab0c42c",
   "metadata": {
    "tags": []
   },
   "outputs": [],
   "source": [
    "# positional indexing\n",
    "# row 0 and col 0\n",
    "grid_plot[0, 0]"
   ]
  },
  {
   "cell_type": "markdown",
   "id": "d626640f-bc93-4883-9bf4-47b825bbc663",
   "metadata": {},
   "source": [
    "You can get the graphics within a subplot, just like with simple `Plot`"
   ]
  },
  {
   "cell_type": "code",
   "execution_count": null,
   "id": "bffec80c-e81b-4945-85a2-c2c5e8395677",
   "metadata": {
    "tags": []
   },
   "outputs": [],
   "source": [
    "grid_plot[0, 1].graphics"
   ]
  },
  {
   "cell_type": "markdown",
   "id": "a4e3184f-c86a-4a7e-b803-31632cc163b0",
   "metadata": {},
   "source": [
    "and change their properties"
   ]
  },
  {
   "cell_type": "code",
   "execution_count": null,
   "id": "04b616fb-6644-42ba-8683-0589ce7d165e",
   "metadata": {
    "tags": []
   },
   "outputs": [],
   "source": [
    "grid_plot[0, 1].graphics[0].vmax = 0.5"
   ]
  },
  {
   "cell_type": "markdown",
   "id": "28f7362c-d1b9-43ef-85c5-4d68f70f459c",
   "metadata": {},
   "source": [
    "more slicing with `GridPlot`"
   ]
  },
  {
   "cell_type": "code",
   "execution_count": null,
   "id": "920e6365-bb50-4882-9b0d-8367dc485360",
   "metadata": {
    "tags": []
   },
   "outputs": [],
   "source": [
    "# you can give subplots human-readable string names\n",
    "grid_plot[0, 2].name = \"top-right-plot\""
   ]
  },
  {
   "cell_type": "code",
   "execution_count": null,
   "id": "73300d2c-3e70-43ad-b5a2-40341b701ac8",
   "metadata": {
    "tags": []
   },
   "outputs": [],
   "source": [
    "grid_plot[\"top-right-plot\"]"
   ]
  },
  {
   "cell_type": "code",
   "execution_count": null,
   "id": "834d9905-35e9-4711-9375-5b1828c80ee2",
   "metadata": {
    "tags": []
   },
   "outputs": [],
   "source": [
    "# view its position\n",
    "grid_plot[\"top-right-plot\"].position"
   ]
  },
  {
   "cell_type": "code",
   "execution_count": null,
   "id": "9aa61efa-c6a5-4611-a03b-1b8da66b19f0",
   "metadata": {
    "tags": []
   },
   "outputs": [],
   "source": [
    "# these are really the same\n",
    "grid_plot[\"top-right-plot\"] is grid_plot[0, 2]"
   ]
  },
  {
   "cell_type": "markdown",
   "id": "28c8b145-86cb-4445-92be-b7537a87f7ca",
   "metadata": {},
   "source": [
    "Indexing with subplot name and graphic name"
   ]
  },
  {
   "cell_type": "code",
   "execution_count": null,
   "id": "2b7b73a3-5335-4bd5-bbef-c7d3cfbb3ca7",
   "metadata": {
    "tags": []
   },
   "outputs": [],
   "source": [
    "grid_plot[\"top-right-plot\"][\"rand-img\"].vmin = 0.5"
   ]
  },
  {
   "cell_type": "markdown",
   "id": "6a5b4368-ae4d-442c-a11f-45c70267339b",
   "metadata": {},
   "source": [
    "## GridPlot customization"
   ]
  },
  {
   "cell_type": "code",
   "execution_count": null,
   "id": "175d45a6-3351-4b75-8ff3-08797fe0a389",
   "metadata": {
    "tags": []
   },
   "outputs": [],
   "source": [
    "# grid with 2 rows and 3 columns\n",
    "grid_shape = (2, 3)\n",
    "\n",
    "# pan-zoom controllers for each view\n",
    "# views are synced if they have the \n",
    "# same controller ID\n",
    "controllers = [\n",
    "    [0, 3, 1],  # id each controller with an integer\n",
    "    [2, 2, 3]\n",
    "]\n",
    "\n",
    "\n",
    "# you can give string names for each subplot within the gridplot\n",
    "names = [\n",
    "    [\"subplot0\", \"subplot1\", \"subplot2\"],\n",
    "    [\"subplot3\", \"subplot4\", \"subplot5\"]\n",
    "]\n",
    "\n",
    "# Create the grid plot\n",
    "grid_plot = fpl.GridPlot(\n",
    "    shape=grid_shape,\n",
    "    controllers=controllers,\n",
    "    names=names,\n",
    ")\n",
    "\n",
    "\n",
    "# Make a random image graphic for each subplot\n",
    "for subplot in grid_plot:\n",
    "    data = np.random.rand(512, 512)\n",
    "    # create and add an ImageGraphic\n",
    "    subplot.add_image(data=data, name=\"rand-image\")\n",
    "    \n",
    "\n",
    "# Define a function to update the image graphics \n",
    "# with new randomly generated data\n",
    "def set_random_frame(gp):\n",
    "    for subplot in gp:\n",
    "        new_data = np.random.rand(512, 512)\n",
    "        subplot[\"rand-image\"].data = new_data\n",
    "\n",
    "# add the animation\n",
    "grid_plot.add_animations(set_random_frame)\n",
    "grid_plot.show()"
   ]
  },
  {
   "cell_type": "markdown",
   "id": "4224f1c2-5e61-4894-8d72-0519598a3cef",
   "metadata": {},
   "source": [
    "Indexing the gridplot to access subplots"
   ]
  },
  {
   "cell_type": "code",
   "execution_count": null,
   "id": "d88dd9b2-9359-42e8-9dfb-96dcbbb34b95",
   "metadata": {
    "tags": []
   },
   "outputs": [],
   "source": [
    "# can access subplot by name\n",
    "grid_plot[\"subplot0\"]"
   ]
  },
  {
   "cell_type": "code",
   "execution_count": null,
   "id": "a14df7ea-14c3-4a8a-84f2-2e2194236d9e",
   "metadata": {
    "tags": []
   },
   "outputs": [],
   "source": [
    "# can access subplot by index\n",
    "grid_plot[0, 0]"
   ]
  },
  {
   "cell_type": "markdown",
   "id": "5f8a3427-7949-40a4-aec2-38d5d95ef156",
   "metadata": {},
   "source": [
    "**subplots also support indexing!**\n",
    "\n",
    "this can be used to get graphics if they are named"
   ]
  },
  {
   "cell_type": "code",
   "execution_count": null,
   "id": "8c99fee0-ce46-4f18-8300-af025c9a967c",
   "metadata": {
    "tags": []
   },
   "outputs": [],
   "source": [
    "# can access graphic directly via name\n",
    "grid_plot[\"subplot0\"][\"rand-image\"]"
   ]
  },
  {
   "cell_type": "code",
   "execution_count": null,
   "id": "ed4eebb7-826d-4856-bbb8-db2de966a0c3",
   "metadata": {
    "tags": []
   },
   "outputs": [],
   "source": [
    "grid_plot[\"subplot0\"][\"rand-image\"].vmin = 0.6\n",
    "grid_plot[\"subplot0\"][\"rand-image\"].vmax = 0.8"
   ]
  },
  {
   "cell_type": "markdown",
   "id": "ad322f6f-e7de-4eb3-a1d9-cf28701a2eae",
   "metadata": {},
   "source": [
    "positional indexing also works event if subplots have string names"
   ]
  },
  {
   "cell_type": "code",
   "execution_count": null,
   "id": "759d3966-d92b-460f-ba48-e57adabbf163",
   "metadata": {
    "tags": []
   },
   "outputs": [],
   "source": [
    "grid_plot[1, 0][\"rand-image\"].vim = 0.1\n",
    "grid_plot[1, 0][\"rand-image\"].vmax = 0.3"
   ]
  },
  {
   "cell_type": "code",
   "execution_count": null,
   "id": "8a5753b9-ee71-4ed1-bb0d-52bdb4ea365f",
   "metadata": {
    "tags": []
   },
   "outputs": [],
   "source": [
    "grid_plot[1, 0][\"rand-image\"].type"
   ]
  }
 ],
 "metadata": {
  "kernelspec": {
   "display_name": "Python 3 (ipykernel)",
   "language": "python",
   "name": "python3"
  },
  "language_info": {
   "codemirror_mode": {
    "name": "ipython",
    "version": 3
   },
   "file_extension": ".py",
   "mimetype": "text/x-python",
   "name": "python",
   "nbconvert_exporter": "python",
   "pygments_lexer": "ipython3",
   "version": "3.11.3"
  }
 },
 "nbformat": 4,
 "nbformat_minor": 5
}
