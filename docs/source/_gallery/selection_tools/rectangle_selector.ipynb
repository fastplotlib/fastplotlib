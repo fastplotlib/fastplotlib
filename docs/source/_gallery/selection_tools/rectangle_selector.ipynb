{
  "cells": [
    {
      "cell_type": "markdown",
      "metadata": {},
      "source": [
        "\n# Rectangle Selectors\n\nExample showing how to use a `RectangleSelector` with line collections\n"
      ]
    },
    {
      "cell_type": "code",
      "execution_count": null,
      "metadata": {
        "collapsed": false
      },
      "outputs": [],
      "source": [
        "# test_example = false\n\nimport numpy as np\nimport fastplotlib as fpl\nfrom itertools import product\n\n# create a figure\nfigure = fpl.Figure(\n    size=(700, 560)\n)\n\n\n# generate some data\ndef make_circle(center, radius: float, n_points: int = 75) -> np.ndarray:\n    theta = np.linspace(0, 2 * np.pi, n_points)\n    xs = radius * np.sin(theta)\n    ys = radius * np.cos(theta)\n\n    return np.column_stack([xs, ys]) + center\n\n\nspatial_dims = (50, 50)\n\ncircles = list()\nfor center in product(range(0, spatial_dims[0], 9), range(0, spatial_dims[1], 9)):\n    circles.append(make_circle(center, 3, n_points=75))\n\npos_xy = np.vstack(circles)\n\n# add image\nline_collection = figure[0, 0].add_line_collection(circles, cmap=\"jet\", thickness=5)\n\n# add rectangle selector to image graphic\nrectangle_selector = line_collection.add_rectangle_selector()\n\n\n# add event handler to highlight selected indices\n@rectangle_selector.add_event_handler(\"selection\")\ndef color_indices(ev):\n    line_collection.cmap = \"jet\"\n    ixs = ev.get_selected_indices()\n\n    # iterate through each of the selected indices, if the array size > 0 that mean it's under the selection\n    selected_line_ixs = [i for i in range(len(ixs)) if ixs[i].size > 0]\n    line_collection[selected_line_ixs].colors = \"w\"\n\n\n# manually move selector to make a nice gallery image :D\nrectangle_selector.selection = (15, 30, 15, 30)\n\n\nfigure.show()\n\n# NOTE: `if __name__ == \"__main__\"` is NOT how to use fastplotlib interactively\n# please see our docs for using fastplotlib interactively in ipython and jupyter\nif __name__ == \"__main__\":\n    print(__doc__)\n    fpl.loop.run()"
      ]
    }
  ],
  "metadata": {
    "kernelspec": {
      "display_name": "Python 3",
      "language": "python",
      "name": "python3"
    },
    "language_info": {
      "codemirror_mode": {
        "name": "ipython",
        "version": 3
      },
      "file_extension": ".py",
      "mimetype": "text/x-python",
      "name": "python",
      "nbconvert_exporter": "python",
      "pygments_lexer": "ipython3",
      "version": "3.10.12"
    }
  },
  "nbformat": 4,
  "nbformat_minor": 0
}