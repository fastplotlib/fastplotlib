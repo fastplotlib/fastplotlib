{
  "cells": [
    {
      "cell_type": "markdown",
      "metadata": {},
      "source": [
        "\n# Rectangle Selectors Images\n\nExample showing how to use a `RectangleSelector` with images\n"
      ]
    },
    {
      "cell_type": "code",
      "execution_count": null,
      "metadata": {
        "collapsed": false
      },
      "outputs": [],
      "source": [
        "# test_example = false\n\nimport imageio.v3 as iio\nimport fastplotlib as fpl\n\n# create a figure\nfigure = fpl.Figure(\n    shape=(2, 1),\n    size=(700, 560)\n)\n\n# add image\nimage_graphic = figure[0, 0].add_image(data=iio.imread(\"imageio:camera.png\"))\n\n# add rectangle selector to image graphic\nrectangle_selector = image_graphic.add_rectangle_selector()\n\n# add a zoomed plot of the selected data\nzoom_ig = figure[1, 0].add_image(rectangle_selector.get_selected_data())\n\n\n# add event handler to update the data of the zoomed image as the selection changes\n@rectangle_selector.add_event_handler(\"selection\")\ndef update_data(ev):\n    # get the new data\n    new_data = ev.get_selected_data()\n\n    # remove the old zoomed image graphic\n    global zoom_ig\n\n    figure[1, 0].remove_graphic(zoom_ig)\n\n    # add new zoomed image of new data\n    zoom_ig = figure[1, 0].add_image(data=new_data)\n\n    # autoscale the plot\n    figure[1, 0].auto_scale()\n\nfigure.show()\n\n# NOTE: `if __name__ == \"__main__\"` is NOT how to use fastplotlib interactively\n# please see our docs for using fastplotlib interactively in ipython and jupyter\nif __name__ == \"__main__\":\n    print(__doc__)\n    fpl.loop.run()"
      ]
    }
  ],
  "metadata": {
    "kernelspec": {
      "display_name": "Python 3",
      "language": "python",
      "name": "python3"
    },
    "language_info": {
      "codemirror_mode": {
        "name": "ipython",
        "version": 3
      },
      "file_extension": ".py",
      "mimetype": "text/x-python",
      "name": "python",
      "nbconvert_exporter": "python",
      "pygments_lexer": "ipython3",
      "version": "3.10.12"
    }
  },
  "nbformat": 4,
  "nbformat_minor": 0
}