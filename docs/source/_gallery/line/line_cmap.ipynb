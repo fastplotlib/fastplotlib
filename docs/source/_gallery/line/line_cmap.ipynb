{
  "cells": [
    {
      "cell_type": "markdown",
      "metadata": {},
      "source": [
        "\n# Line Plot Colormap\n\nExample showing basic colormapping with lines\n"
      ]
    },
    {
      "cell_type": "code",
      "execution_count": null,
      "metadata": {
        "collapsed": false
      },
      "outputs": [],
      "source": [
        "# test_example = true\n\nimport fastplotlib as fpl\nimport numpy as np\n\nfigure = fpl.Figure(size=(700, 560))\n\nxs = np.linspace(-10, 10, 100)\n# sine wave\nys = np.sin(xs)\nsine = np.dstack([xs, ys])[0]\n\n# cosine wave\nys = np.cos(xs) - 5\ncosine = np.dstack([xs, ys])[0]\n\n# cmap_transform from an array, so the colors on the sine line will be based on the sine y-values\nsine_graphic = figure[0, 0].add_line(\n    data=sine,\n    thickness=10,\n    cmap=\"plasma\",\n    cmap_transform=sine[:, 1]\n)\n\n# qualitative colormaps, useful for cluster labels or other types of categorical labels\nlabels = [0] * 25 + [5] * 10 + [1] * 35 + [2] * 30\ncosine_graphic = figure[0, 0].add_line(\n    data=cosine,\n    thickness=10,\n    cmap=\"tab10\",\n    cmap_transform=labels\n)\n\nfigure.show()\n\n\n# NOTE: `if __name__ == \"__main__\"` is NOT how to use fastplotlib interactively\n# please see our docs for using fastplotlib interactively in ipython and jupyter\nif __name__ == \"__main__\":\n    print(__doc__)\n    fpl.loop.run()"
      ]
    }
  ],
  "metadata": {
    "kernelspec": {
      "display_name": "Python 3",
      "language": "python",
      "name": "python3"
    },
    "language_info": {
      "codemirror_mode": {
        "name": "ipython",
        "version": 3
      },
      "file_extension": ".py",
      "mimetype": "text/x-python",
      "name": "python",
      "nbconvert_exporter": "python",
      "pygments_lexer": "ipython3",
      "version": "3.10.12"
    }
  },
  "nbformat": 4,
  "nbformat_minor": 0
}