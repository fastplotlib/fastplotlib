{
  "cells": [
    {
      "cell_type": "markdown",
      "metadata": {},
      "source": [
        "\n# Lines more colormapping\n\nExample showing more on colormapping with lines\n"
      ]
    },
    {
      "cell_type": "code",
      "execution_count": null,
      "metadata": {
        "collapsed": false
      },
      "outputs": [],
      "source": [
        "# test_example = true\n\nimport numpy as np\nimport fastplotlib as fpl\n\nxs = np.linspace(0, 10 * np.pi, 100)\n# sine wave\nys = np.sin(xs)\nsine = np.column_stack([xs, ys])\n\n# cosine wave\nys = np.cos(xs)\ncosine = np.column_stack([xs, ys])\n\nfigure = fpl.Figure(size=(700, 560))\n\n# basic white line\nline0 = figure[0, 0].add_line(sine, thickness=10)\n\n# set colormap along line datapoints, use an offset to place it above the previous line\nline1 = figure[0, 0].add_line(sine, thickness=10, cmap=\"jet\", offset=(0, 2, 0))\n\n# set colormap by mapping data using a transform\n# here we map the color using the y-values of the sine data\n# i.e., the color is a function of sine(x)\nline2 = figure[0, 0].add_line(sine, thickness=10, cmap=\"jet\", cmap_transform=sine[:, 1], offset=(0, 4, 0))\n\n# make a line and change the cmap afterward, here we are using the cosine instead fot the transform\nline3 = figure[0, 0].add_line(sine, thickness=10, cmap=\"jet\", cmap_transform=cosine[:, 1], offset=(0, 6, 0))\n# change the cmap\nline3.cmap = \"bwr\"\n\n# use quantitative colormaps with categorical cmap_transforms\nlabels = [0] * 25 + [1] * 5 + [2] * 50 + [3] * 20\nline4 = figure[0, 0].add_line(sine, thickness=10, cmap=\"tab10\", cmap_transform=labels, offset=(0, 8, 0))\n\n# some text labels\nfor i in range(5):\n    figure[0, 0].add_text(f\"line{i}\", font_size=20, offset=(1, (i * 2) + 1.5, 0))\n\nfigure.show(maintain_aspect=False)\n\n\n# NOTE: `if __name__ == \"__main__\"` is NOT how to use fastplotlib interactively\n# please see our docs for using fastplotlib interactively in ipython and jupyter\nif __name__ == \"__main__\":\n    print(__doc__)\n    fpl.loop.run()"
      ]
    }
  ],
  "metadata": {
    "kernelspec": {
      "display_name": "Python 3",
      "language": "python",
      "name": "python3"
    },
    "language_info": {
      "codemirror_mode": {
        "name": "ipython",
        "version": 3
      },
      "file_extension": ".py",
      "mimetype": "text/x-python",
      "name": "python",
      "nbconvert_exporter": "python",
      "pygments_lexer": "ipython3",
      "version": "3.10.12"
    }
  },
  "nbformat": 4,
  "nbformat_minor": 0
}