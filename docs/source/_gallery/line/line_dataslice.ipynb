{
  "cells": [
    {
      "cell_type": "markdown",
      "metadata": {},
      "source": [
        "\n# Line Plot Data Slicing\n\nExample showing data slicing with cosine, sine, sinc lines.\n"
      ]
    },
    {
      "cell_type": "code",
      "execution_count": null,
      "metadata": {
        "collapsed": false
      },
      "outputs": [],
      "source": [
        "# test_example = true\n\nimport fastplotlib as fpl\nimport numpy as np\n\nfigure = fpl.Figure(size=(700, 560))\n\nxs = np.linspace(-10, 10, 100)\n# sine wave\nys = np.sin(xs)\nsine = np.dstack([xs, ys])[0]\n\n# cosine wave\nys = np.cos(xs) + 5\ncosine = np.dstack([xs, ys])[0]\n\n# sinc function\na = 0.5\nys = np.sinc(xs) * 3 + 8\nsinc = np.dstack([xs, ys])[0]\n\nsine_graphic = figure[0, 0].add_line(data=sine, thickness=5, colors=\"magenta\")\n\n# you can also use colormaps for lines!\ncosine_graphic = figure[0, 0].add_line(data=cosine, thickness=12, cmap=\"autumn\")\n\n# or a list of colors for each datapoint\ncolors = [\"r\"] * 25 + [\"purple\"] * 25 + [\"y\"] * 25 + [\"b\"] * 25\nsinc_graphic = figure[0, 0].add_line(data=sinc, thickness=5, colors=colors)\n\nfigure.show()\n\ncosine_graphic.data[10:50:5, :2] = sine[10:50:5]\ncosine_graphic.data[90:, 1] = 7\ncosine_graphic.data[0] = np.array([[-10, 0, 0]])\n\n# additional fancy indexing with boolean array\nbool_key = [True, True, True, False, False] * 20\nsinc_graphic.data[bool_key, 1] = 7  # y vals to 1\n\n\n# NOTE: `if __name__ == \"__main__\"` is NOT how to use fastplotlib interactively\n# please see our docs for using fastplotlib interactively in ipython and jupyter\nif __name__ == \"__main__\":\n    print(__doc__)\n    fpl.loop.run()"
      ]
    }
  ],
  "metadata": {
    "kernelspec": {
      "display_name": "Python 3",
      "language": "python",
      "name": "python3"
    },
    "language_info": {
      "codemirror_mode": {
        "name": "ipython",
        "version": 3
      },
      "file_extension": ".py",
      "mimetype": "text/x-python",
      "name": "python",
      "nbconvert_exporter": "python",
      "pygments_lexer": "ipython3",
      "version": "3.10.12"
    }
  },
  "nbformat": 4,
  "nbformat_minor": 0
}