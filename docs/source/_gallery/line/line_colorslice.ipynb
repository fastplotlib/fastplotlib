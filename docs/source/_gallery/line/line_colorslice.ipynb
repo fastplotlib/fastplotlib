{
  "cells": [
    {
      "cell_type": "markdown",
      "metadata": {},
      "source": [
        "\n# Line Plot Color Slicing\n\nExample showing color slicing with cosine, sine, sinc lines.\n"
      ]
    },
    {
      "cell_type": "code",
      "execution_count": null,
      "metadata": {
        "collapsed": false
      },
      "outputs": [],
      "source": [
        "# test_example = true\n\nimport fastplotlib as fpl\nimport numpy as np\n\nfigure = fpl.Figure(size=(700, 560))\n\nxs = np.linspace(-10, 10, 100)\n# sine wave\nys = np.sin(xs)\nsine = np.column_stack([xs, ys])\n\n# cosine wave\nys = np.cos(xs)\ncosine = np.column_stack([xs, ys])\n\n# sinc function\na = 0.5\nys = np.sinc(xs) * 3\nsinc = np.column_stack([xs, ys])\n\nsine_graphic = figure[0, 0].add_line(\n    data=sine,\n    thickness=5,\n    colors=\"magenta\"\n)\n\n# you can also use colormaps for lines!\ncosine_graphic = figure[0, 0].add_line(\n    data=cosine,\n    thickness=12,\n    cmap=\"autumn\",\n    offset=(0, 3, 0)  # places the graphic at a y-axis offset of 3, offsets don't affect data\n)\n\n# or a list of colors for each datapoint\ncolors = [\"r\"] * 25 + [\"purple\"] * 25 + [\"y\"] * 25 + [\"b\"] * 25\nsinc_graphic = figure[0, 0].add_line(\n    data=sinc,\n    thickness=5,\n    colors=colors,\n    offset=(0, 6, 0)\n)\n\nzeros = np.zeros(xs.size)\nzeros_data = np.column_stack([xs, zeros])\nzeros_graphic = figure[0, 0].add_line(\n    data=zeros_data,\n    thickness=8,\n    colors=\"w\",\n    offset=(0, 10, 0)\n)\n\nfigure.show()\n\n# indexing of colors\ncosine_graphic.colors[:15] = \"magenta\"\ncosine_graphic.colors[90:] = \"red\"\ncosine_graphic.colors[60] = \"w\"\n\n# more complex indexing, set the blue value directly from an array\ncosine_graphic.colors[65:90, 0] = np.linspace(0, 1, 90-65)\n\n# additional fancy indexing using numpy\nkey = np.array([0, 1, 2, 3, 4, 5, 6, 7, 8, 9, 10, 11, 12, 13, 14, 67, 19])\nsinc_graphic.colors[key] = \"Red\"\n\n# boolean fancy indexing\nzeros_graphic.colors[xs < -5] = \"green\"\n\n# assign colormap to an entire line\nsine_graphic.cmap = \"seismic\"\n# or to segments of a line\nzeros_graphic.cmap[50:75] = \"jet\"\nzeros_graphic.cmap[75:] = \"viridis\"\n\n\n# NOTE: `if __name__ == \"__main__\"` is NOT how to use fastplotlib interactively\n# please see our docs for using fastplotlib interactively in ipython and jupyter\nif __name__ == \"__main__\":\n    print(__doc__)\n    fpl.loop.run()"
      ]
    }
  ],
  "metadata": {
    "kernelspec": {
      "display_name": "Python 3",
      "language": "python",
      "name": "python3"
    },
    "language_info": {
      "codemirror_mode": {
        "name": "ipython",
        "version": 3
      },
      "file_extension": ".py",
      "mimetype": "text/x-python",
      "name": "python",
      "nbconvert_exporter": "python",
      "pygments_lexer": "ipython3",
      "version": "3.10.12"
    }
  },
  "nbformat": 4,
  "nbformat_minor": 0
}