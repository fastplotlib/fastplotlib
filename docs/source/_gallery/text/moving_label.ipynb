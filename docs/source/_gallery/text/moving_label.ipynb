{
  "cells": [
    {
      "cell_type": "markdown",
      "metadata": {},
      "source": [
        "\n# Moving TextGraphic label\n\nA TextGraphic that labels a point on a line and another TextGraphic that moves along the line on every draw.\n"
      ]
    },
    {
      "cell_type": "code",
      "execution_count": null,
      "metadata": {
        "collapsed": false
      },
      "outputs": [],
      "source": [
        "# test_example = false\n\nimport numpy as np\nimport fastplotlib as fpl\n\n# create a sinc wave\nxs = np.linspace(-2 * np.pi, 2 * np.pi, 200)\nys = np.sinc(xs)\n\ndata = np.column_stack([xs, ys])\n\n# create a figure\nfigure = fpl.Figure(size=(700, 450))\n\n# sinc wave\nline = figure[0, 0].add_line(data, thickness=2)\n\n# position for the text label on the peak\npos = (0, max(ys), 0)\n\n# create label for the peak\ntext_peak = figure[0, 0].add_text(\n    f\"peak  \",\n    font_size=20,\n    anchor=\"bottom-right\",\n    offset=pos\n)\n\n# add a point on the peak\npoint_peak = figure[0, 0].add_scatter(np.asarray([pos]), sizes=10, colors=\"r\")\n\n# create a text that will move along the line\ntext_moving = figure[0, 0].add_text(\n    f\"({xs[0]:.2f}, {ys[0]:.2f})  \",\n    font_size=16,\n    outline_color=\"k\",\n    outline_thickness=1,\n    anchor=\"top-center\",\n    offset=(*data[0], 0)\n)\n# a point that will move on the line\npoint_moving = figure[0, 0].add_scatter(np.asarray([data[0]]), sizes=10, colors=\"magenta\")\n\n\nindex = 0\ndef update():\n    # moves the text and point before every draw\n    global index\n    # get the new position\n    new_pos = (*data[index], 0)\n\n    # move the text and point to the new position\n    text_moving.offset = new_pos\n    point_moving.data[0] = new_pos\n\n    # set the text to the new position\n    text_moving.text = f\"({new_pos[0]:.2f}, {new_pos[1]:.2f})\"\n\n    # increment index\n    index += 1\n    if index == data.shape[0]:\n        index = 0\n\n\n# add update as an animation functions\nfigure.add_animations(update)\n\nfigure[0, 0].axes.visible = False\nfigure.show(maintain_aspect=False)\n\n\n# NOTE: `if __name__ == \"__main__\"` is NOT how to use fastplotlib interactively\n# please see our docs for using fastplotlib interactively in ipython and jupyter\nif __name__ == \"__main__\":\n    print(__doc__)\n    fpl.loop.run()"
      ]
    }
  ],
  "metadata": {
    "kernelspec": {
      "display_name": "Python 3",
      "language": "python",
      "name": "python3"
    },
    "language_info": {
      "codemirror_mode": {
        "name": "ipython",
        "version": 3
      },
      "file_extension": ".py",
      "mimetype": "text/x-python",
      "name": "python",
      "nbconvert_exporter": "python",
      "pygments_lexer": "ipython3",
      "version": "3.10.12"
    }
  },
  "nbformat": 4,
  "nbformat_minor": 0
}