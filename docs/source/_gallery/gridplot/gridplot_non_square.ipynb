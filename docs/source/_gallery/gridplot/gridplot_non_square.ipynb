{
  "cells": [
    {
      "cell_type": "markdown",
      "metadata": {},
      "source": [
        "\n# Grid Layout 2\n\nSimple 2x2 grid layout Figure with standard images from imageio, one subplot is left empty\n"
      ]
    },
    {
      "cell_type": "code",
      "execution_count": null,
      "metadata": {
        "collapsed": false
      },
      "outputs": [],
      "source": [
        "# test_example = true\n\nimport fastplotlib as fpl\nimport imageio.v3 as iio\n\nfigure = fpl.Figure(shape=(2, 2), size=(700, 560))\n\nim = iio.imread(\"imageio:clock.png\")\nim2 = iio.imread(\"imageio:astronaut.png\")\nim3 = iio.imread(\"imageio:coffee.png\")\n\nfigure[0, 0].add_image(data=im)\nfigure[0, 1].add_image(data=im2)\nfigure[1, 0].add_image(data=im3)\n\nfigure.show()\n\n\n# NOTE: `if __name__ == \"__main__\"` is NOT how to use fastplotlib interactively\n# please see our docs for using fastplotlib interactively in ipython and jupyter\nif __name__ == \"__main__\":\n    print(__doc__)\n    fpl.loop.run()"
      ]
    }
  ],
  "metadata": {
    "kernelspec": {
      "display_name": "Python 3",
      "language": "python",
      "name": "python3"
    },
    "language_info": {
      "codemirror_mode": {
        "name": "ipython",
        "version": 3
      },
      "file_extension": ".py",
      "mimetype": "text/x-python",
      "name": "python",
      "nbconvert_exporter": "python",
      "pygments_lexer": "ipython3",
      "version": "3.10.12"
    }
  },
  "nbformat": 4,
  "nbformat_minor": 0
}