{
  "cells": [
    {
      "cell_type": "markdown",
      "metadata": {},
      "source": [
        "\n# Multi-Graphic Grid layout\n\nA Figure with multiple subplots and multiple graphic types.\n"
      ]
    },
    {
      "cell_type": "code",
      "execution_count": null,
      "metadata": {
        "collapsed": false
      },
      "outputs": [],
      "source": [
        "# test_example = false\n\nimport fastplotlib as fpl\nimport numpy as np\nimport imageio.v3 as iio\nfrom itertools import product\n\n# define figure\nfigure = fpl.Figure(\n    shape=(2, 2),\n    names=[[\"image-overlay\", \"circles\"], [\"line-stack\", \"scatter\"]],\n    size=(700, 560)\n)\n\nimg = iio.imread(\"imageio:coffee.png\")\n\n# add image to subplot\nfigure[\"image-overlay\"].add_image(data=img)\n\n# generate overlay\n\n# empty array for overlay, shape is [nrows, ncols, RGBA]\noverlay = np.zeros(shape=(*img.shape[:2], 4), dtype=np.float32)\n\n# set the blue values of some pixels with an alpha > 1\noverlay[img[:, :, -1] > 200] = np.array([0.0, 0.0, 1.0, 0.6]).astype(np.float32)\n\n# add overlay to image\nfigure[\"image-overlay\"].add_image(data=overlay)\n\n# generate some circles\ndef make_circle(center, radius: float, n_points: int = 75) -> np.ndarray:\n    theta = np.linspace(0, 2 * np.pi, n_points)\n    xs = radius * np.sin(theta)\n    ys = radius * np.cos(theta)\n\n    return np.column_stack([xs, ys]) + center\n\n\nspatial_dims = (50, 50)\n\n# this makes 16 circles, so we can create 16 cmap values, so it will use these values to set the\n# color of the line based by using the cmap as a LUT with the corresponding cmap_transform\ncircles = list()\nfor center in product(range(0, spatial_dims[0], 15), range(0, spatial_dims[1], 15)):\n    circles.append(make_circle(center, 5, n_points=75))\n\n# things like class labels, cluster labels, etc.\ncmap_transform = [\n    0, 1, 1, 2,\n    0, 0, 1, 1,\n    2, 2, 8, 3,\n    1, 9, 1, 5\n]\n\n# add an image to overlay the circles on\nimg2 = iio.imread(\"imageio:coins.png\")[10::5, 5::5]\n\nfigure[\"circles\"].add_image(data=img2, cmap=\"gray\")\n\n# add the circles to the figure\nfigure[\"circles\"].add_line_collection(\n    circles,\n    cmap=\"tab10\",\n    cmap_transform=cmap_transform,\n    thickness=3,\n    alpha=0.5,\n    name=\"circles-graphic\"\n)\n\n# move the circles graphic so that it is centered over the image\nfigure[\"circles\"][\"circles-graphic\"].offset = np.array([7, 7, 2])\n\n# generate some sine data\n# linspace, create 100 evenly spaced x values from -10 to 10\nxs = np.linspace(-10, 10, 100)\n# sine wave\nys = np.sin(xs)\nsine = np.dstack([xs, ys])[0]\n\n# make 10 identical waves\nsine_waves = 10 * [sine]\n\n# add the line stack to the figure\nfigure[\"line-stack\"].add_line_stack(data=sine_waves, cmap=\"Wistia\", separation=1)\n\nfigure[\"line-stack\"].auto_scale(maintain_aspect=True)\n\n# generate some scatter data\n# create a gaussian cloud of 500 points\nn_points = 500\n\nmean = [0, 0]  # mean of the Gaussian distribution\ncovariance = [[1, 0], [0, 1]]  # covariance matrix\n\ngaussian_cloud = np.random.multivariate_normal(mean, covariance, n_points)\ngaussian_cloud2 = np.random.multivariate_normal(mean, covariance, n_points)\n\n# add the scatter graphics to the figure\nfigure[\"scatter\"].add_scatter(data=gaussian_cloud, sizes=2, cmap=\"jet\")\nfigure[\"scatter\"].add_scatter(data=gaussian_cloud2, colors=\"r\", sizes=2)\n\nfigure.show()\n\n# NOTE: `if __name__ == \"__main__\"` is NOT how to use fastplotlib interactively\n# please see our docs for using fastplotlib interactively in ipython and jupyter\nif __name__ == \"__main__\":\n    print(__doc__)\n    fpl.loop.run()"
      ]
    }
  ],
  "metadata": {
    "kernelspec": {
      "display_name": "Python 3",
      "language": "python",
      "name": "python3"
    },
    "language_info": {
      "codemirror_mode": {
        "name": "ipython",
        "version": 3
      },
      "file_extension": ".py",
      "mimetype": "text/x-python",
      "name": "python",
      "nbconvert_exporter": "python",
      "pygments_lexer": "ipython3",
      "version": "3.10.12"
    }
  },
  "nbformat": 4,
  "nbformat_minor": 0
}