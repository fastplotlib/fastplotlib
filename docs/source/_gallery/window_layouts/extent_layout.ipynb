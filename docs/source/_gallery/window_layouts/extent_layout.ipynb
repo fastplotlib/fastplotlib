{
  "cells": [
    {
      "cell_type": "markdown",
      "metadata": {},
      "source": [
        "\n# Extent Layout\n\nCreate subplots using given extents in absolute pixels.\nThis example plots two images and their histograms in separate subplots\n"
      ]
    },
    {
      "cell_type": "code",
      "execution_count": null,
      "metadata": {
        "collapsed": false
      },
      "outputs": [],
      "source": [
        "# test_example = true\n\nimport numpy as np\nimport imageio.v3 as iio\nimport fastplotlib as fpl\n\n# load images\nimg1 = iio.imread(\"imageio:astronaut.png\")\nimg2 = iio.imread(\"imageio:wikkie.png\")\n\n# calculate histograms\nhist_1, edges_1 = np.histogram(img1)\ncenters_1 = edges_1[:-1] + np.diff(edges_1) / 2\n\nhist_2, edges_2 = np.histogram(img2)\ncenters_2 = edges_2[:-1] + np.diff(edges_2) / 2\n\n# figure size in pixels\nsize = (640, 480)\n\n# extent is (xmin, xmax, ymin, ymax)\n# here it is defined in absolute pixels\nextents = [\n    (0, 200, 0, 240),  # for image1\n    (0, 200, 240, 480),  # for image2\n    (200, 640, 0, 240),  # for image1 histogram\n    (200, 640, 240, 480),  # for image2 histogram\n]\n\n# create a figure using the rects and size\n# also give each subplot a name\nfigure = fpl.Figure(\n    extents=extents,\n    names=[\"astronaut image\", \"wikkie image\", \"astronaut histogram\", \"wikkie histogram\"],\n    size=size\n)\n\n# add image to the corresponding subplots\nfigure[\"astronaut image\"].add_image(img1)\nfigure[\"wikkie image\"].add_image(img2)\n\n# add histogram to the corresponding subplots\nfigure[\"astronaut histogram\"].add_line(np.column_stack([centers_1, hist_1]))\nfigure[\"wikkie histogram\"].add_line(np.column_stack([centers_2, hist_2]))\n\n\nfor subplot in figure:\n    if \"image\" in subplot.name:\n        # remove axes from image subplots to reduce clutter\n        subplot.axes.visible = False\n        continue\n\n    # don't maintain aspect ratio for the histogram subplots\n    subplot.camera.maintain_aspect = False\n\n\nfigure.show()\n\n\n# NOTE: `if __name__ == \"__main__\"` is NOT how to use fastplotlib interactively\n# please see our docs for using fastplotlib interactively in ipython and jupyter\nif __name__ == \"__main__\":\n    print(__doc__)\n    fpl.loop.run()"
      ]
    }
  ],
  "metadata": {
    "kernelspec": {
      "display_name": "Python 3",
      "language": "python",
      "name": "python3"
    },
    "language_info": {
      "codemirror_mode": {
        "name": "ipython",
        "version": 3
      },
      "file_extension": ".py",
      "mimetype": "text/x-python",
      "name": "python",
      "nbconvert_exporter": "python",
      "pygments_lexer": "ipython3",
      "version": "3.10.12"
    }
  },
  "nbformat": 4,
  "nbformat_minor": 0
}