{
  "cells": [
    {
      "cell_type": "markdown",
      "metadata": {},
      "source": [
        "\n# Image widget Video\n\nExample showing how to scroll through one or more videos using the ImageWidget\n"
      ]
    },
    {
      "cell_type": "code",
      "execution_count": null,
      "metadata": {
        "collapsed": false
      },
      "outputs": [],
      "source": [
        "# test_example = true\n\nimport fastplotlib as fpl\nimport imageio.v3 as iio\nimport numpy as np\n\n\nmovie = iio.imread(\"imageio:cockatoo.mp4\")\n\n# Ignore and do not use the next 2 lines\n# for the purposes of docs gallery generation we subsample and only use 15 frames\nmovie_sub = movie[:15, ::12, ::12].copy()\ndel movie\n\niw = fpl.ImageWidget(movie_sub, rgb=True, figure_kwargs={\"size\": (700, 560)})\n\n# ImageWidget supports setting window functions the `time` \"t\" or `volume` \"z\" dimension\n# These can also be given as kwargs to `ImageWidget` during instantiation\n# to set a window function, give a dict in the form of {dim: (func, window_size)}\niw.window_funcs = {\"t\": (np.mean, 13)}\n\n# change the window size\niw.window_funcs[\"t\"].window_size = 33\n\n# change the function\niw.window_funcs[\"t\"].func = np.max\n\n# or reset it\niw.window_funcs = None\n\niw.show()\n\nfigure = iw.figure\n\n# NOTE: `if __name__ == \"__main__\"` is NOT how to use fastplotlib interactively\n# please see our docs for using fastplotlib interactively in ipython and jupyter\nif __name__ == \"__main__\":\n    print(__doc__)\n    fpl.loop.run()"
      ]
    }
  ],
  "metadata": {
    "kernelspec": {
      "display_name": "Python 3",
      "language": "python",
      "name": "python3"
    },
    "language_info": {
      "codemirror_mode": {
        "name": "ipython",
        "version": 3
      },
      "file_extension": ".py",
      "mimetype": "text/x-python",
      "name": "python",
      "nbconvert_exporter": "python",
      "pygments_lexer": "ipython3",
      "version": "3.10.12"
    }
  },
  "nbformat": 4,
  "nbformat_minor": 0
}