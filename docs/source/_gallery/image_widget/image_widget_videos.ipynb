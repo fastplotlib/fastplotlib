{
  "cells": [
    {
      "cell_type": "markdown",
      "metadata": {},
      "source": [
        "\n# Image widget videos side by side\n\nExample showing how to scroll through one or more videos using the ImageWidget\n"
      ]
    },
    {
      "cell_type": "code",
      "execution_count": null,
      "metadata": {
        "collapsed": false
      },
      "outputs": [],
      "source": [
        "# test_example = true\n\nimport fastplotlib as fpl\nimport imageio.v3 as iio\nimport numpy as np\n\n\n# load the standard cockatoo video\ncockatoo = iio.imread(\"imageio:cockatoo.mp4\")\n\n# Ignore and do not use the next 2 lines\n# for the purposes of docs gallery generation we subsample and only use 15 frames\ncockatoo_sub = cockatoo[:15, ::12, ::12].copy()\ndel cockatoo\n\n# make a random grayscale video, shape is [t, rows, cols]\nnp.random.seed(0)\nrandom_data = np.random.rand(*cockatoo_sub.shape[:-1])\n\niw = fpl.ImageWidget(\n    [random_data, cockatoo_sub],\n    rgb=[False, True],\n    figure_shape=(2, 1),  # 2 rows, 1 column\n    figure_kwargs={\"size\": (700, 940)}\n)\n\niw.show()\n\nfigure = iw.figure\n\n# NOTE: `if __name__ == \"__main__\"` is NOT how to use fastplotlib interactively\n# please see our docs for using fastplotlib interactively in ipython and jupyter\nif __name__ == \"__main__\":\n    print(__doc__)\n    fpl.loop.run()"
      ]
    }
  ],
  "metadata": {
    "kernelspec": {
      "display_name": "Python 3",
      "language": "python",
      "name": "python3"
    },
    "language_info": {
      "codemirror_mode": {
        "name": "ipython",
        "version": 3
      },
      "file_extension": ".py",
      "mimetype": "text/x-python",
      "name": "python",
      "nbconvert_exporter": "python",
      "pygments_lexer": "ipython3",
      "version": "3.10.12"
    }
  },
  "nbformat": 4,
  "nbformat_minor": 0
}