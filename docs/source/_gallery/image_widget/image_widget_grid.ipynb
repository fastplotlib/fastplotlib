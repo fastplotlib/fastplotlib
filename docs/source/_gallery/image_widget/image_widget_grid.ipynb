{
  "cells": [
    {
      "cell_type": "markdown",
      "metadata": {},
      "source": [
        "\n# Image widget grid\n\nExample showing how to view multiple images in an ImageWidget\n"
      ]
    },
    {
      "cell_type": "code",
      "execution_count": null,
      "metadata": {
        "collapsed": false
      },
      "outputs": [],
      "source": [
        "import fastplotlib as fpl\nimport imageio.v3 as iio\n\n# test_example = true\n\nimg1 = iio.imread(\"imageio:camera.png\")\nimg2 = iio.imread(\"imageio:astronaut.png\")\nimg3 = iio.imread(\"imageio:chelsea.png\")\nimg4 = iio.imread(\"imageio:wikkie.png\")\n\niw = fpl.ImageWidget(\n    data=[img1, img2, img3, img4],\n    rgb=[False, True, True, True], # mix of grayscale and RGB images\n    names=[\"cameraman\", \"astronaut\", \"chelsea\", \"Almar's cat\"],\n    # ImageWidget will sync controllers by default\n    # by setting `controller_ids=None` we can have independent controllers for each subplot\n    # this is useful when the images have different dimensions\n    figure_kwargs={\"size\": (700, 560), \"controller_ids\": None},\n)\niw.show()\n\nfigure = iw.figure\n\nfor subplot in figure:\n    # sometimes the toolbar adds clutter\n    subplot.toolbar = False\n\n\n# NOTE: `if __name__ == \"__main__\"` is NOT how to use fastplotlib interactively\n# please see our docs for using fastplotlib interactively in ipython and jupyter\nif __name__ == \"__main__\":\n    print(__doc__)\n    fpl.loop.run()"
      ]
    }
  ],
  "metadata": {
    "kernelspec": {
      "display_name": "Python 3",
      "language": "python",
      "name": "python3"
    },
    "language_info": {
      "codemirror_mode": {
        "name": "ipython",
        "version": 3
      },
      "file_extension": ".py",
      "mimetype": "text/x-python",
      "name": "python",
      "nbconvert_exporter": "python",
      "pygments_lexer": "ipython3",
      "version": "3.10.12"
    }
  },
  "nbformat": 4,
  "nbformat_minor": 0
}