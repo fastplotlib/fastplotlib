{
  "cells": [
    {
      "cell_type": "markdown",
      "metadata": {},
      "source": [
        "\n# ImageWidget test viewport rects\n\nTest Figure to test that viewport rects are positioned correctly in an image widget\n"
      ]
    },
    {
      "cell_type": "code",
      "execution_count": null,
      "metadata": {
        "collapsed": false
      },
      "outputs": [],
      "source": [
        "# test_example = true\n\nimport fastplotlib as fpl\nimport numpy as np\n\nnp.random.seed(0)\na = np.random.rand(6, 15, 10, 10)\n\niw = fpl.ImageWidget(\n    data=[img for img in a],\n    names=list(map(str, range(6))),\n    figure_kwargs={\"size\": (700, 560)},\n)\n\nfor subplot in iw.figure:\n    subplot.docks[\"left\"].size = 10\n    subplot.docks[\"bottom\"].size = 40\n\niw.show()\n\nfigure = iw.figure\n\n# NOTE: `if __name__ == \"__main__\"` is NOT how to use fastplotlib interactively\n# please see our docs for using fastplotlib interactively in ipython and jupyter\nif __name__ == \"__main__\":\n    print(__doc__)\n    fpl.loop.run()"
      ]
    }
  ],
  "metadata": {
    "kernelspec": {
      "display_name": "Python 3",
      "language": "python",
      "name": "python3"
    },
    "language_info": {
      "codemirror_mode": {
        "name": "ipython",
        "version": 3
      },
      "file_extension": ".py",
      "mimetype": "text/x-python",
      "name": "python",
      "nbconvert_exporter": "python",
      "pygments_lexer": "ipython3",
      "version": "3.10.12"
    }
  },
  "nbformat": 4,
  "nbformat_minor": 0
}