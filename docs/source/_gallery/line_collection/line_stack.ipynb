{
  "cells": [
    {
      "cell_type": "markdown",
      "metadata": {},
      "source": [
        "\n# Line Stack\n\nExample showing how to plot a stack of lines\n"
      ]
    },
    {
      "cell_type": "code",
      "execution_count": null,
      "metadata": {
        "collapsed": false
      },
      "outputs": [],
      "source": [
        "# test_example = true\n\nimport numpy as np\nimport fastplotlib as fpl\n\n\nxs = np.linspace(0, np.pi * 10, 100)\n# sine wave\nys = np.sin(xs)\n\ndata = np.column_stack([xs, ys])\nmulti_data = np.stack([data] * 10)\n\nfigure = fpl.Figure(size=(700, 560))\n\nline_stack = figure[0, 0].add_line_stack(\n    multi_data,  # shape: (10, 100, 2), i.e. [n_lines, n_points, xy]\n    cmap=\"jet\",  # applied along n_lines\n    thickness=5,\n    separation=1,  # spacing between lines along the separation axis, default separation along \"y\" axis\n)\n\nfigure.show(maintain_aspect=False)\n\n\n# NOTE: `if __name__ == \"__main__\"` is NOT how to use fastplotlib interactively\n# please see our docs for using fastplotlib interactively in ipython and jupyter\nif __name__ == \"__main__\":\n    print(__doc__)\n    fpl.loop.run()"
      ]
    }
  ],
  "metadata": {
    "kernelspec": {
      "display_name": "Python 3",
      "language": "python",
      "name": "python3"
    },
    "language_info": {
      "codemirror_mode": {
        "name": "ipython",
        "version": 3
      },
      "file_extension": ".py",
      "mimetype": "text/x-python",
      "name": "python",
      "nbconvert_exporter": "python",
      "pygments_lexer": "ipython3",
      "version": "3.10.12"
    }
  },
  "nbformat": 4,
  "nbformat_minor": 0
}