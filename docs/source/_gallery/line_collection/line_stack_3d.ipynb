{
  "cells": [
    {
      "cell_type": "markdown",
      "metadata": {},
      "source": [
        "\n# Line stack 3D\n\nExample showing a 3D stack of lines with animations\n"
      ]
    },
    {
      "cell_type": "code",
      "execution_count": null,
      "metadata": {
        "collapsed": false
      },
      "outputs": [],
      "source": [
        "# test_example = false\n\nimport numpy as np\nimport fastplotlib as fpl\n\n\nxs = np.linspace(0, np.pi * 10, 100)\n# spiral\nys = np.sin(xs)\nzs = np.cos(xs)\n\ndata = np.column_stack([xs, ys, zs])\nmulti_data = np.stack([data] * 10)\n\n# create figure to plot lines and use an orbit controller in 3D\nfigure = fpl.Figure(cameras=\"3d\", controller_types=\"orbit\", size=(700, 560))\n\n# make grid invisible to remove clutter\nfigure[0, 0].axes.grids.visible = False\n\nline_stack = figure[0, 0].add_line_stack(\n    multi_data,  # shape: (10, 100, 2), i.e. [n_lines, n_points, xy]\n    cmap=\"jet\",  # applied along n_lines\n    thickness=3,\n    separation=1,  # spacing between lines along the separation axis, default separation along \"y\" axis\n    name=\"lines\",\n)\n\n\nx_increment = 0.1\n\n\ndef animate_data(subplot):\n    \"\"\"animate with different rates of spinning the spirals\"\"\"\n    global xs  # x vals\n    global x_increment  # increment\n\n    # calculate the new data\n    # new a different spinning rate for each spiral\n    # top ones will spin faster than the bottom ones\n    new_xs = [xs + (factor * x_increment) for factor in np.linspace(0.5, 1.5, 10)]\n    y = [np.sin(x) for x in new_xs]\n    z = [np.cos(x) for x in new_xs]\n\n    # iterate through collection and set data of each line\n    for i, line in enumerate(subplot[\"lines\"]):\n        # set y and z values\n        line.data[:, 1:] = np.column_stack([y[i], z[i]])\n\n    x_increment += 0.1\n\n\ncolors_iteration = 0\n\n\ndef animate_colors(subplot):\n    \"\"\"animate the colors\"\"\"\n    global colors_iteration\n\n    # change the colors only on every 50th render cycle\n    # otherwise it just looks like flickering because it's too fast :)\n    if colors_iteration % 50 != 0:\n        colors_iteration += 1\n        return\n\n    # use cmap_transform to shift the cmap\n    cmap_transform = np.roll(np.arange(10), shift=int(colors_iteration / 50))\n\n    # set cmap with the transform\n    subplot[\"lines\"].cmap = \"jet\", cmap_transform\n\n    colors_iteration += 1\n\n\nfigure[0, 0].add_animations(animate_data, animate_colors)\n\n# just a pre-saved camera state\ncamera_state = {\n    \"position\": np.array([-18.0, 9.0, 8.0]),\n    \"rotation\": np.array([0.00401791, -0.5951809, 0.00297593, 0.80357619]),\n    \"scale\": np.array([1.0, 1.0, 1.0]),\n    \"reference_up\": np.array([0.0, 1.0, 0.0]),\n    \"fov\": 50.0,\n    \"width\": 32,\n    \"height\": 20,\n    \"zoom\": 0.7,\n    \"maintain_aspect\": True,\n    \"depth_range\": None,\n}\n\nfigure.show(maintain_aspect=False)\n\nfigure[0, 0].camera.set_state(camera_state)\n\n\n# NOTE: `if __name__ == \"__main__\"` is NOT how to use fastplotlib interactively\n# please see our docs for using fastplotlib interactively in ipython and jupyter\nif __name__ == \"__main__\":\n    print(__doc__)\n    fpl.loop.run()"
      ]
    }
  ],
  "metadata": {
    "kernelspec": {
      "display_name": "Python 3",
      "language": "python",
      "name": "python3"
    },
    "language_info": {
      "codemirror_mode": {
        "name": "ipython",
        "version": 3
      },
      "file_extension": ".py",
      "mimetype": "text/x-python",
      "name": "python",
      "nbconvert_exporter": "python",
      "pygments_lexer": "ipython3",
      "version": "3.10.12"
    }
  },
  "nbformat": 4,
  "nbformat_minor": 0
}