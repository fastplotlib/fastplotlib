{
  "cells": [
    {
      "cell_type": "markdown",
      "metadata": {},
      "source": [
        "\n# Line collection slicing\n\nExample showing how to slice a line collection\n"
      ]
    },
    {
      "cell_type": "code",
      "execution_count": null,
      "metadata": {
        "collapsed": false
      },
      "outputs": [],
      "source": [
        "# test_example = true\n\nimport numpy as np\nimport fastplotlib as fpl\n\n\nxs = np.linspace(0, np.pi * 10, 100)\n# sine wave\nys = np.sin(xs)\n\ndata = np.column_stack([xs, ys])\nmulti_data = np.stack([data] * 15)\n\n\nfigure = fpl.Figure(size=(700, 560))\n\nlines = figure[0, 0].add_line_stack(\n    multi_data,\n    thickness=[2, 10, 2, 5, 5, 5, 8, 8, 8, 9, 3, 3, 3, 4, 4],\n    separation=4,\n    metadatas=list(range(15)),  # some metadata\n    names=list(\"abcdefghijklmno\"),  # unique name for each line\n)\n\nprint(\"slice a collection to return a collection indexer\")\nprint(lines[1:5])  # lines 1, 2, 3, 4\n\nprint(\"collections supports fancy indexing!\")\nprint(lines[::3])\n\nprint(\"fancy index using properties of individual lines!\")\nprint(lines[lines.thickness < 3])\nprint(lines[lines.metadatas > 10])\n\n# set line properties, such as data\n# set y-values of lines 3, 4, 5\nlines[3:6].data[:, 1] = np.cos(xs)\n# set these same lines to a different color\nlines[3:6].colors = \"cyan\"\n\n# setting properties using fancy indexing\n# set cmap along the line collection\nlines[-3:].cmap = \"plasma\"\n\n# set cmap of along a single line\nlines[7].cmap = \"jet\"\n\n# fancy indexing using line properties!\nlines[lines.thickness > 8].colors = \"r\"\nlines[lines.names == \"a\"].colors = \"b\"\n\n# fancy index at the level of lines and individual line properties!\nlines[::2].colors[::5] = \"magenta\"  # set every 5th point of every other line to magenta\nlines[3:6].colors[50:, -1] = 0.6  # set half the points alpha to 0.6\n\nfigure.show(maintain_aspect=False)\n\n# individual y axis for each line\nfor line in lines:\n    line.add_axes()\n    line.axes.x.visible = False\n    line.axes.update_using_bbox(line.world_object.get_world_bounding_box())\n\n# no y axis in subplot\nfigure[0, 0].axes.y.visible = False\n\n\nif __name__ == \"__main__\":\n    print(__doc__)\n    fpl.loop.run()"
      ]
    }
  ],
  "metadata": {
    "kernelspec": {
      "display_name": "Python 3",
      "language": "python",
      "name": "python3"
    },
    "language_info": {
      "codemirror_mode": {
        "name": "ipython",
        "version": 3
      },
      "file_extension": ".py",
      "mimetype": "text/x-python",
      "name": "python",
      "nbconvert_exporter": "python",
      "pygments_lexer": "ipython3",
      "version": "3.10.12"
    }
  },
  "nbformat": 4,
  "nbformat_minor": 0
}