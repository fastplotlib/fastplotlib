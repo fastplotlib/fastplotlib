{
  "cells": [
    {
      "cell_type": "markdown",
      "metadata": {},
      "source": [
        "\n# Line Collection Qualitative Colormap\n\nExample showing a line collection with a qualitative cmap\n"
      ]
    },
    {
      "cell_type": "code",
      "execution_count": null,
      "metadata": {
        "collapsed": false
      },
      "outputs": [],
      "source": [
        "# test_example = true\n\nfrom itertools import product\nimport numpy as np\nimport fastplotlib as fpl\n\n\ndef make_circle(center, radius: float, n_points: int = 75) -> np.ndarray:\n    theta = np.linspace(0, 2 * np.pi, n_points)\n    xs = radius * np.sin(theta)\n    ys = radius * np.cos(theta)\n\n    return np.column_stack([xs, ys]) + center\n\n\nspatial_dims = (50, 50)\n\ncircles = list()\nfor center in product(range(0, spatial_dims[0], 15), range(0, spatial_dims[1], 15)):\n    circles.append(make_circle(center, 5, n_points=75))\n\npos_xy = np.vstack(circles)\n\n# this makes 16 circles, so we can create 16 cmap values, so it will use these values to set the\n# color of the line based by using the cmap as a LUT with the corresponding cmap_value\n\n# qualitative colormap used for mapping 16 cmap values for each line\n# for example, these could be cluster labels\ncmap_values = [\n    0, 1, 1, 2,\n    0, 0, 1, 1,\n    2, 2, 3, 3,\n    1, 1, 1, 5\n]\n\nfigure = fpl.Figure(size=(700, 560))\n\nfigure[0, 0].add_line_collection(\n    circles,\n    cmap=\"tab10\",\n    cmap_transform=cmap_values,\n    thickness=10\n)\n\n# remove clutter\nfigure[0, 0].axes.visible = False\n\nfigure.show()\n\n\n# NOTE: `if __name__ == \"__main__\"` is NOT how to use fastplotlib interactively\n# please see our docs for using fastplotlib interactively in ipython and jupyter\nif __name__ == \"__main__\":\n    print(__doc__)\n    fpl.loop.run()"
      ]
    }
  ],
  "metadata": {
    "kernelspec": {
      "display_name": "Python 3",
      "language": "python",
      "name": "python3"
    },
    "language_info": {
      "codemirror_mode": {
        "name": "ipython",
        "version": 3
      },
      "file_extension": ".py",
      "mimetype": "text/x-python",
      "name": "python",
      "nbconvert_exporter": "python",
      "pygments_lexer": "ipython3",
      "version": "3.10.12"
    }
  },
  "nbformat": 4,
  "nbformat_minor": 0
}