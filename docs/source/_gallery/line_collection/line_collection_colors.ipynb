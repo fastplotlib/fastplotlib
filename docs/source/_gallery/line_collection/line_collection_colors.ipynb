{
  "cells": [
    {
      "cell_type": "markdown",
      "metadata": {},
      "source": [
        "\n# Line Collection Colors\n\nExample showing one way ot setting colors for individual lines in a collection\n"
      ]
    },
    {
      "cell_type": "code",
      "execution_count": null,
      "metadata": {
        "collapsed": false
      },
      "outputs": [],
      "source": [
        "# test_example = true\n\nfrom itertools import product\nimport numpy as np\nimport fastplotlib as fpl\n\n\ndef make_circle(center, radius: float, n_points: int = 75) -> np.ndarray:\n    theta = np.linspace(0, 2 * np.pi, n_points)\n    xs = radius * np.sin(theta)\n    ys = radius * np.cos(theta)\n\n    return np.column_stack([xs, ys]) + center\n\n\nspatial_dims = (50, 50)\n\ncircles = list()\nfor center in product(range(0, spatial_dims[0], 15), range(0, spatial_dims[1], 15)):\n    circles.append(make_circle(center, 5, n_points=75))\n\npos_xy = np.vstack(circles)\n\n# set line collection colors manually\n# this will produce 16 circles so we will define 16 colors\ncolors = [\"blue\"] * 4 + [\"red\"] * 4 + [\"yellow\"] * 4 + [\"w\"] * 4\n\nfigure = fpl.Figure(size=(700, 560))\n\nfigure[0, 0].add_line_collection(circles, colors=colors, thickness=10)\n\n# remove clutter\nfigure[0, 0].axes.visible = False\n\nfigure.show()\n\n\n# NOTE: `if __name__ == \"__main__\"` is NOT how to use fastplotlib interactively\n# please see our docs for using fastplotlib interactively in ipython and jupyter\nif __name__ == \"__main__\":\n    print(__doc__)\n    fpl.loop.run()"
      ]
    }
  ],
  "metadata": {
    "kernelspec": {
      "display_name": "Python 3",
      "language": "python",
      "name": "python3"
    },
    "language_info": {
      "codemirror_mode": {
        "name": "ipython",
        "version": 3
      },
      "file_extension": ".py",
      "mimetype": "text/x-python",
      "name": "python",
      "nbconvert_exporter": "python",
      "pygments_lexer": "ipython3",
      "version": "3.10.12"
    }
  },
  "nbformat": 4,
  "nbformat_minor": 0
}