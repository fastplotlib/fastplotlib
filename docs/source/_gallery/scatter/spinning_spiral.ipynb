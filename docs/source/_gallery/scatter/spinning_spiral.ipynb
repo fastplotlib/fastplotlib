{
  "cells": [
    {
      "cell_type": "markdown",
      "metadata": {},
      "source": [
        "\n# Spinning spiral scatter\n\nExample of a spinning spiral scatter.\n\nThis example with 1 million points runs at 125 fps on an AMD RX 570.\n"
      ]
    },
    {
      "cell_type": "code",
      "execution_count": null,
      "metadata": {
        "collapsed": false
      },
      "outputs": [],
      "source": [
        "# test_example = false\n\nimport numpy as np\nimport fastplotlib as fpl\n\n# number of points\nn = 100_000\n\n# create data in the shape of a spiral\nphi = np.linspace(0, 30, n)\n\nxs = phi * np.cos(phi) + np.random.normal(scale=1.5, size=n)\nys = np.random.normal(scale=1, size=n)\nzs = phi * np.sin(phi) + np.random.normal(scale=1.5, size=n)\n\ndata = np.column_stack([xs, ys, zs])\n\n# generate some random sizes for the points\nsizes = np.abs(np.random.normal(loc=0, scale=1, size=n))\n\nfigure = fpl.Figure(\n    cameras=\"3d\",\n    size=(700, 560),\n    canvas_kwargs={\"max_fps\": 500, \"vsync\": False}\n)\n\nspiral = figure[0, 0].add_scatter(data, cmap=\"viridis_r\", alpha=0.5, sizes=sizes)\n\n# pre-generate normally distributed data to jitter the points before each render\njitter = np.random.normal(scale=0.001, size=n * 3).reshape((n, 3))\n\n\ndef update():\n    # rotate around y axis\n    spiral.rotate(0.005, axis=\"y\")\n\n    # add small jitter\n    spiral.data[:] += jitter\n    # shift array to provide a random-sampling effect\n    # without re-running a random generator on each iteration\n    # generating 1 million normally distributed points takes ~50ms even with SFC64\n    jitter[1000:] = jitter[:-1000]\n    jitter[:1000] = jitter[-1000:]\n\n\nfigure.add_animations(update)\nfigure.show()\n\n# pre-saved camera state\ncamera_state = {\n    'position': np.array([-0.13046005, 20.09142224, 29.03347696]),\n    'rotation': np.array([-0.44485092,  0.05335406,  0.11586037,  0.88647469]),\n    'scale': np.array([1., 1., 1.]),\n    'reference_up': np.array([0., 1., 0.]),\n    'fov': 50.0,\n    'width': 62.725074768066406,\n    'height': 8.856056690216064,\n    'zoom': 0.75,\n    'maintain_aspect': True,\n    'depth_range': None\n}\n\nfigure[0, 0].camera.set_state(camera_state)\nfigure[0, 0].axes.visible = False\n\n\nif fpl.IMGUI:\n    # show fps with imgui overlay\n    figure.imgui_show_fps = True\n\n\n# NOTE: `if __name__ == \"__main__\"` is NOT how to use fastplotlib interactively\n# please see our docs for using fastplotlib interactively in ipython and jupyter\nif __name__ == \"__main__\":\n    print(__doc__)\n    fpl.loop.run()"
      ]
    }
  ],
  "metadata": {
    "kernelspec": {
      "display_name": "Python 3",
      "language": "python",
      "name": "python3"
    },
    "language_info": {
      "codemirror_mode": {
        "name": "ipython",
        "version": 3
      },
      "file_extension": ".py",
      "mimetype": "text/x-python",
      "name": "python",
      "nbconvert_exporter": "python",
      "pygments_lexer": "ipython3",
      "version": "3.10.12"
    }
  },
  "nbformat": 4,
  "nbformat_minor": 0
}