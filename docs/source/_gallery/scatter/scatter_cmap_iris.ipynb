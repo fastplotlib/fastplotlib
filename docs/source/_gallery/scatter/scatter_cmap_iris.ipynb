{
  "cells": [
    {
      "cell_type": "markdown",
      "metadata": {},
      "source": [
        "\n# Iris Scatter Colormap\n\nExample showing cmap change for scatter plot.\n"
      ]
    },
    {
      "cell_type": "code",
      "execution_count": null,
      "metadata": {
        "collapsed": false
      },
      "outputs": [],
      "source": [
        "# test_example = true\n\nimport fastplotlib as fpl\nfrom sklearn.cluster import AgglomerativeClustering\nfrom sklearn import datasets\n\n\nfigure = fpl.Figure(size=(700, 560))\n\ndata = datasets.load_iris()[\"data\"]\n\nagg = AgglomerativeClustering(n_clusters=3)\nagg.fit_predict(data)\n\nscatter_graphic = figure[0, 0].add_scatter(\n    data=data[:, :-1],  # use only xy data\n    sizes=15,\n    alpha=0.7,\n    cmap=\"Set1\",\n    cmap_transform=agg.labels_  # use the labels as a transform to map colors from the colormap\n)\n\nfigure.show()\n\nscatter_graphic.cmap = \"tab10\"\n\n\nif __name__ == \"__main__\":\n    print(__doc__)\n    fpl.loop.run()"
      ]
    }
  ],
  "metadata": {
    "kernelspec": {
      "display_name": "Python 3",
      "language": "python",
      "name": "python3"
    },
    "language_info": {
      "codemirror_mode": {
        "name": "ipython",
        "version": 3
      },
      "file_extension": ".py",
      "mimetype": "text/x-python",
      "name": "python",
      "nbconvert_exporter": "python",
      "pygments_lexer": "ipython3",
      "version": "3.10.12"
    }
  },
  "nbformat": 4,
  "nbformat_minor": 0
}