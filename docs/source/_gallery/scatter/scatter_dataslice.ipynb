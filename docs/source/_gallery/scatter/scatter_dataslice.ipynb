{
  "cells": [
    {
      "cell_type": "markdown",
      "metadata": {},
      "source": [
        "\n# Scatter Plot Data Slicing\n\nExample showing data slice for scatter plot.\n"
      ]
    },
    {
      "cell_type": "code",
      "execution_count": null,
      "metadata": {
        "collapsed": false
      },
      "outputs": [],
      "source": [
        "# test_example = false\n\nimport fastplotlib as fpl\nimport numpy as np\n\n\nfigure = fpl.Figure(size=(700, 560))\n\n# create a gaussian cloud of 5_000 points\nn_points = 1_000\n\nmean = [0, 0]  # mean of the Gaussian distribution\ncovariance = [[1, 0], [0, 1]]  # covariance matrix\n\ngaussian_cloud = np.random.multivariate_normal(mean, covariance, n_points)\ngaussian_cloud2 = np.random.multivariate_normal(mean, covariance, n_points)\n\n# use an alpha value since this will be a lot of points\nscatter1 = figure[0,0].add_scatter(data=gaussian_cloud, sizes=3)\nscatter2 = figure[0,0].add_scatter(data=gaussian_cloud2, colors=\"r\", sizes=3)\n\nfigure.show()\n\nscatter1.data[:500] = np.array([0 , 0, 0])\nscatter2.data[500:] = np.array([0 , 0, 0])\n\n# NOTE: `if __name__ == \"__main__\"` is NOT how to use fastplotlib interactively\n# please see our docs for using fastplotlib interactively in ipython and jupyter\nif __name__ == \"__main__\":\n    print(__doc__)\n    fpl.loop.run()"
      ]
    }
  ],
  "metadata": {
    "kernelspec": {
      "display_name": "Python 3",
      "language": "python",
      "name": "python3"
    },
    "language_info": {
      "codemirror_mode": {
        "name": "ipython",
        "version": 3
      },
      "file_extension": ".py",
      "mimetype": "text/x-python",
      "name": "python",
      "nbconvert_exporter": "python",
      "pygments_lexer": "ipython3",
      "version": "3.10.12"
    }
  },
  "nbformat": 4,
  "nbformat_minor": 0
}