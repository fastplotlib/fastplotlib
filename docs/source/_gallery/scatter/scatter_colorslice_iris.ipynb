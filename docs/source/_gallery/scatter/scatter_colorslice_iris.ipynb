{
  "cells": [
    {
      "cell_type": "markdown",
      "metadata": {},
      "source": [
        "\n# Iris Scatter Plot Color Slicing\n\nExample showing color slice for scatter plot.\n"
      ]
    },
    {
      "cell_type": "code",
      "execution_count": null,
      "metadata": {
        "collapsed": false
      },
      "outputs": [],
      "source": [
        "# test_example = true\n\nimport fastplotlib as fpl\nfrom sklearn import datasets\n\n\nfigure = fpl.Figure(size=(700, 560))\n\ndata = datasets.load_iris()[\"data\"]\n\nn_points = 50\ncolors = [\"yellow\"] * n_points + [\"cyan\"] * n_points + [\"magenta\"] * n_points\n\nscatter_graphic = figure[0, 0].add_scatter(\n    data=data[:, :-1],\n    sizes=6,\n    alpha=0.7,\n    colors=colors  # use colors from the list of strings\n)\n\nfigure.show()\n\nscatter_graphic.colors[0:75] = \"red\"\nscatter_graphic.colors[75:150] = \"white\"\nscatter_graphic.colors[::2] = \"blue\"\n\n\nif __name__ == \"__main__\":\n    print(__doc__)\n    fpl.loop.run()"
      ]
    }
  ],
  "metadata": {
    "kernelspec": {
      "display_name": "Python 3",
      "language": "python",
      "name": "python3"
    },
    "language_info": {
      "codemirror_mode": {
        "name": "ipython",
        "version": 3
      },
      "file_extension": ".py",
      "mimetype": "text/x-python",
      "name": "python",
      "nbconvert_exporter": "python",
      "pygments_lexer": "ipython3",
      "version": "3.10.12"
    }
  },
  "nbformat": 4,
  "nbformat_minor": 0
}