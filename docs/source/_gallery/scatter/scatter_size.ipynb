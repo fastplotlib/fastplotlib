{
  "cells": [
    {
      "cell_type": "markdown",
      "metadata": {},
      "source": [
        "\n# Scatter Plot Size\n\nExample that shows how to set scatter sizes in two different ways.\n\nOne subplot uses a single scaler value for every point, and another subplot uses an array that defines the size for\neach individual scatter point.\n"
      ]
    },
    {
      "cell_type": "code",
      "execution_count": null,
      "metadata": {
        "collapsed": false
      },
      "outputs": [],
      "source": [
        "# test_example = true\n\nimport numpy as np\nimport fastplotlib as fpl\n\n# figure with 2 rows and 3 columns\nshape = (2, 1)\n\n# you can give string names for each subplot within the figure\nnames = [[\"scalar_size\"], [\"array_size\"]]\n\n# Create the figure\nfigure = fpl.Figure(shape=shape, names=names, size=(700, 560))\n\n# get y_values using sin function\nangles = np.arange(0, 20 * np.pi + 0.001, np.pi / 20)\ny_values = 30 * np.sin(angles)  # 1 thousand points\nx_values = np.array([x for x in range(len(y_values))], dtype=np.float32)\n\ndata = np.column_stack([x_values, y_values])\n\nfigure[\"scalar_size\"].add_scatter(\n    data=data, sizes=5, colors=\"blue\"\n)  # add a set of scalar sizes\n\nnon_scalar_sizes = np.abs((y_values / np.pi))  # ensure minimum size of 5\nfigure[\"array_size\"].add_scatter(data=data, sizes=non_scalar_sizes, colors=\"red\")\n\nfor graph in figure:\n    graph.auto_scale(maintain_aspect=True)\n\nfigure.show()\n\n\n# NOTE: `if __name__ == \"__main__\"` is NOT how to use fastplotlib interactively\n# please see our docs for using fastplotlib interactively in ipython and jupyter\nif __name__ == \"__main__\":\n    print(__doc__)\n    fpl.loop.run()"
      ]
    }
  ],
  "metadata": {
    "kernelspec": {
      "display_name": "Python 3",
      "language": "python",
      "name": "python3"
    },
    "language_info": {
      "codemirror_mode": {
        "name": "ipython",
        "version": 3
      },
      "file_extension": ".py",
      "mimetype": "text/x-python",
      "name": "python",
      "nbconvert_exporter": "python",
      "pygments_lexer": "ipython3",
      "version": "3.10.12"
    }
  },
  "nbformat": 4,
  "nbformat_minor": 0
}