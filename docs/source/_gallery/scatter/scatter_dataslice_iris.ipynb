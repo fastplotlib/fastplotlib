{
  "cells": [
    {
      "cell_type": "markdown",
      "metadata": {},
      "source": [
        "\n# Iris Scatter Plot Data Slicing\n\nExample showing data slice for scatter plot.\n"
      ]
    },
    {
      "cell_type": "code",
      "execution_count": null,
      "metadata": {
        "collapsed": false
      },
      "outputs": [],
      "source": [
        "# test_example = true\n\nimport fastplotlib as fpl\nimport numpy as np\nfrom sklearn import datasets\n\n\nfigure = fpl.Figure(size=(700, 560))\n\ndata = datasets.load_iris()[\"data\"]\n\nn_points = 50\ncolors = [\"yellow\"] * n_points + [\"cyan\"] * n_points + [\"magenta\"] * n_points\n\nscatter_graphic = figure[0, 0].add_scatter(data=data[:, :-1], sizes=6, alpha=0.7, colors=colors)\n\nfigure.show()\n\nscatter_graphic.data[0] = np.array([[5, 3, 1.5]])\nscatter_graphic.data[1] = np.array([[4.3, 3.2, 1.3]])\nscatter_graphic.data[2] = np.array([[5.2, 2.7, 1.7]])\n\nscatter_graphic.data[10:15] = scatter_graphic.data[0:5] + np.array([1, 1, 1])\nscatter_graphic.data[50:100:2] = scatter_graphic.data[100:150:2] + np.array([1, 1, 0])\n\n\nif __name__ == \"__main__\":\n    print(__doc__)\n    fpl.loop.run()"
      ]
    }
  ],
  "metadata": {
    "kernelspec": {
      "display_name": "Python 3",
      "language": "python",
      "name": "python3"
    },
    "language_info": {
      "codemirror_mode": {
        "name": "ipython",
        "version": 3
      },
      "file_extension": ".py",
      "mimetype": "text/x-python",
      "name": "python",
      "nbconvert_exporter": "python",
      "pygments_lexer": "ipython3",
      "version": "3.10.12"
    }
  },
  "nbformat": 4,
  "nbformat_minor": 0
}