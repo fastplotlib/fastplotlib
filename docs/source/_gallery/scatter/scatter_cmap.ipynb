{
  "cells": [
    {
      "cell_type": "markdown",
      "metadata": {},
      "source": [
        "\n# Scatter Colormap\n\nExample showing cmap change for scatter plot.\n"
      ]
    },
    {
      "cell_type": "code",
      "execution_count": null,
      "metadata": {
        "collapsed": false
      },
      "outputs": [],
      "source": [
        "# test_example = false\n\nimport fastplotlib as fpl\nimport numpy as np\n\nfigure = fpl.Figure(size=(700, 560))\n\n# create a random distribution of 10,000 xyz coordinates\nn_points = 5_000\n\n# dimensions always have to be [n_points, xyz]\ndims = (n_points, 3)\n\nclouds_offset = 15\n\n# create some random clouds\nnormal = np.random.normal(size=dims, scale=5)\n# stack the data into a single array\ncloud = np.vstack(\n    [\n        normal - clouds_offset,\n        normal,\n        normal + clouds_offset,\n    ]\n)\n\n# color each of them separately\ncolors = [\"yellow\"] * n_points + [\"cyan\"] * n_points + [\"magenta\"] * n_points\n\n# use an alpha value since this will be a lot of points\nfigure[0, 0].add_scatter(data=cloud, sizes=3, colors=colors, alpha=0.6)\n\nfigure.show()\n\nfigure[0, 0].graphics[0].cmap = \"viridis\"\n\n\n# NOTE: `if __name__ == \"__main__\"` is NOT how to use fastplotlib interactively\n# please see our docs for using fastplotlib interactively in ipython and jupyter\nif __name__ == \"__main__\":\n    print(__doc__)\n    fpl.loop.run()"
      ]
    }
  ],
  "metadata": {
    "kernelspec": {
      "display_name": "Python 3",
      "language": "python",
      "name": "python3"
    },
    "language_info": {
      "codemirror_mode": {
        "name": "ipython",
        "version": 3
      },
      "file_extension": ".py",
      "mimetype": "text/x-python",
      "name": "python",
      "nbconvert_exporter": "python",
      "pygments_lexer": "ipython3",
      "version": "3.10.12"
    }
  },
  "nbformat": 4,
  "nbformat_minor": 0
}