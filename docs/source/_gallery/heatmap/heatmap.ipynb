{
  "cells": [
    {
      "cell_type": "markdown",
      "metadata": {},
      "source": [
        "\n# Heatmap or large arrays\nExample showing how ImageGraphics can be useful for viewing large arrays, these can be in the order of 10^4 x 10^4.\nThe performance and limitations will depend on your hardware.\n"
      ]
    },
    {
      "cell_type": "code",
      "execution_count": null,
      "metadata": {
        "collapsed": false
      },
      "outputs": [],
      "source": [
        "# test_example = true\n\nimport fastplotlib as fpl\nimport numpy as np\n\n\nfigure = fpl.Figure(size=(700, 560))\n\nxs = np.linspace(0, 2300, 2300, dtype=np.float16)\n\nsine = np.sin(np.sqrt(xs))\n\ndata = np.vstack([sine * i for i in range(2_300)])\n\n# plot the image data\nimg = figure[0, 0].add_image(data=data, name=\"heatmap\")\ndel data\n\nfigure.show()\n\n# NOTE: `if __name__ == \"__main__\"` is NOT how to use fastplotlib interactively\n# please see our docs for using fastplotlib interactively in ipython and jupyter\nif __name__ == \"__main__\":\n    print(__doc__)\n    fpl.loop.run()"
      ]
    }
  ],
  "metadata": {
    "kernelspec": {
      "display_name": "Python 3",
      "language": "python",
      "name": "python3"
    },
    "language_info": {
      "codemirror_mode": {
        "name": "ipython",
        "version": 3
      },
      "file_extension": ".py",
      "mimetype": "text/x-python",
      "name": "python",
      "nbconvert_exporter": "python",
      "pygments_lexer": "ipython3",
      "version": "3.10.12"
    }
  },
  "nbformat": 4,
  "nbformat_minor": 0
}