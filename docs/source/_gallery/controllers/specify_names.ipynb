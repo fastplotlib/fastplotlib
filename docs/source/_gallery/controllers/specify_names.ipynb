{
  "cells": [
    {
      "cell_type": "markdown",
      "metadata": {},
      "source": [
        "\n# Specify IDs with subplot names\n\nProvide a list of tuples where each tuple has subplot names. The same controller will be used for the subplots\nindicated by each of these tuples\n"
      ]
    },
    {
      "cell_type": "code",
      "execution_count": null,
      "metadata": {
        "collapsed": false
      },
      "outputs": [],
      "source": [
        "# test_example = false\n\nimport numpy as np\nimport fastplotlib as fpl\n\n\nxs = np.linspace(0, 2 * np.pi, 100)\nys = np.sin(xs)\n\n# create some subplots names\nnames = [\"subplot_0\", \"subplot_1\", \"subplot_2\", \"subplot_3\", \"subplot_4\", \"subplot_5\"]\n\n# list of tuples of subplot names\n# subplots within each tuple will use the same controller.\nids = [\n    (\"subplot_0\", \"subplot_3\"),\n    (\"subplot_1\", \"subplot_2\", \"subplot_4\"),\n]\n\n\nfigure = fpl.Figure(\n    shape=(2, 3),\n    controller_ids=ids,\n    names=names,\n    size=(700, 560),\n)\n\nfor subplot in figure:\n    subplot.add_line(np.column_stack([xs, ys + np.random.normal(scale=0.1, size=100)]))\n\nfigure.show(maintain_aspect=False)\n\n\n# NOTE: `if __name__ == \"__main__\"` is NOT how to use fastplotlib interactively\n# please see our docs for using fastplotlib interactively in ipython and jupyter\nif __name__ == \"__main__\":\n    print(__doc__)\n    fpl.loop.run()"
      ]
    }
  ],
  "metadata": {
    "kernelspec": {
      "display_name": "Python 3",
      "language": "python",
      "name": "python3"
    },
    "language_info": {
      "codemirror_mode": {
        "name": "ipython",
        "version": 3
      },
      "file_extension": ".py",
      "mimetype": "text/x-python",
      "name": "python",
      "nbconvert_exporter": "python",
      "pygments_lexer": "ipython3",
      "version": "3.10.12"
    }
  },
  "nbformat": 4,
  "nbformat_minor": 0
}