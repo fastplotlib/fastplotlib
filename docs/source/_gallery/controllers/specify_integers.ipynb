{
  "cells": [
    {
      "cell_type": "markdown",
      "metadata": {},
      "source": [
        "\n# Specify IDs with integers\n\nSpecify controllers to sync subplots using integer IDs\n"
      ]
    },
    {
      "cell_type": "code",
      "execution_count": null,
      "metadata": {
        "collapsed": false
      },
      "outputs": [],
      "source": [
        "# test_example = false\n\nimport numpy as np\nimport fastplotlib as fpl\n\n\nxs = np.linspace(0, 2 * np.pi, 100)\nsine = np.sin(xs)\ncosine = np.cos(xs)\n\n# controller IDs\n# one controller is created for each unique ID\n# if the IDs are the same, those subplots will be synced\nids = [\n    [0, 1],\n    [2, 0],\n]\n\nfigure = fpl.Figure(\n    shape=(2, 2),\n    controller_ids=ids,\n    size=(700, 560),\n)\n\nfor subplot, controller_id in zip(figure, np.asarray(ids).ravel()):\n    subplot.title = f\"contr. id: {controller_id}\"\n\nfigure[0, 0].add_line(np.column_stack([xs, sine]))\n\nfigure[0, 1].add_line(np.random.rand(100))\nfigure[1, 0].add_line(np.random.rand(100))\n\nfigure[1, 1].add_line(np.column_stack([xs, cosine]))\n\nfigure.show(maintain_aspect=False)\n\n\n# NOTE: `if __name__ == \"__main__\"` is NOT how to use fastplotlib interactively\n# please see our docs for using fastplotlib interactively in ipython and jupyter\nif __name__ == \"__main__\":\n    print(__doc__)\n    fpl.loop.run()"
      ]
    }
  ],
  "metadata": {
    "kernelspec": {
      "display_name": "Python 3",
      "language": "python",
      "name": "python3"
    },
    "language_info": {
      "codemirror_mode": {
        "name": "ipython",
        "version": 3
      },
      "file_extension": ".py",
      "mimetype": "text/x-python",
      "name": "python",
      "nbconvert_exporter": "python",
      "pygments_lexer": "ipython3",
      "version": "3.10.12"
    }
  },
  "nbformat": 4,
  "nbformat_minor": 0
}