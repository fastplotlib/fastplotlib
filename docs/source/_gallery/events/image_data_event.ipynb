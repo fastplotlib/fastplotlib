{
  "cells": [
    {
      "cell_type": "markdown",
      "metadata": {},
      "source": [
        "\n# Image data event\n\nExample showing how to add an event handler to an ImageGraphic to capture when the data changes.\n"
      ]
    },
    {
      "cell_type": "code",
      "execution_count": null,
      "metadata": {
        "collapsed": false
      },
      "outputs": [],
      "source": [
        "# test_example = false\n\nimport fastplotlib as fpl\nimport imageio.v3 as iio\nfrom scipy.ndimage import gaussian_filter\n\nrgb_weights = [0.299, 0.587, 0.114]\n\n# load images, convert to grayscale\nimg1 = iio.imread(\"imageio:wikkie.png\") @ rgb_weights\nimg2 = iio.imread(\"imageio:astronaut.png\") @ rgb_weights\n\n# Create a figure\nfigure = fpl.Figure(\n    shape=(1, 2),\n    size=(700, 560),\n    names=[\"image\", \"gaussian filtered image\"]\n)\n\n# create image graphics\nimage_raw = figure[0, 0].add_image(img1)\nimage_filt = figure[0, 1].add_image(gaussian_filter(img1, sigma=5))\n\n# show the plot\nfigure.show()\n\n\n# add event handler\n@image_raw.add_event_handler(\"data\")\ndef data_changed(ev: fpl.GraphicFeatureEvent):\n    # get the new image data\n    new_img = ev.info[\"value\"]\n\n    # set the filtered image graphic\n    image_filt.data = gaussian_filter(new_img, sigma=5)\n\n\n# set the data on the first image graphic\n# this will trigger the `data_changed()` handler to be called\nimage_raw.data = img2\n\n\n# NOTE: `if __name__ == \"__main__\"` is NOT how to use fastplotlib interactively\n# please see our docs for using fastplotlib interactively in ipython and jupyter\nif __name__ == \"__main__\":\n    print(__doc__)\n    fpl.loop.run()"
      ]
    }
  ],
  "metadata": {
    "kernelspec": {
      "display_name": "Python 3",
      "language": "python",
      "name": "python3"
    },
    "language_info": {
      "codemirror_mode": {
        "name": "ipython",
        "version": 3
      },
      "file_extension": ".py",
      "mimetype": "text/x-python",
      "name": "python",
      "nbconvert_exporter": "python",
      "pygments_lexer": "ipython3",
      "version": "3.10.12"
    }
  },
  "nbformat": 4,
  "nbformat_minor": 0
}