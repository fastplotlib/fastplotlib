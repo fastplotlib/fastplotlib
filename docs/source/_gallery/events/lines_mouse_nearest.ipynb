{
  "cells": [
    {
      "cell_type": "markdown",
      "metadata": {},
      "source": [
        "\n# Highlight nearest circle\n\nShows how to use the \"pointer_move\" event to get the nearest circle and highlight it.\n"
      ]
    },
    {
      "cell_type": "code",
      "execution_count": null,
      "metadata": {
        "collapsed": false
      },
      "outputs": [],
      "source": [
        "# test_example = false\n\nfrom itertools import product\nimport numpy as np\nimport fastplotlib as fpl\nimport pygfx\n\n\ndef make_circle(center, radius: float, n_points: int) -> np.ndarray:\n    theta = np.linspace(0, 2 * np.pi, n_points)\n    xs = radius * np.cos(theta)\n    ys = radius * np.sin(theta)\n\n    return np.column_stack([xs, ys]) + center\n\nspatial_dims = (100, 100)\n\ncircles = list()\nfor center in product(range(0, spatial_dims[0], 15), range(0, spatial_dims[1], 15)):\n    circles.append(make_circle(center, 5, n_points=75))\n\npos_xy = np.vstack(circles)\n\nfigure = fpl.Figure(size=(700, 560))\n\nline_collection = figure[0, 0].add_line_collection(circles, colors=\"w\", thickness=5)\n\n\n@figure.renderer.add_event_handler(\"pointer_move\")\ndef highlight_nearest(ev: pygfx.PointerEvent):\n    line_collection.colors = \"w\"\n\n    pos = figure[0, 0].map_screen_to_world(ev)\n    if pos is None:\n        return\n\n    # get_nearest_graphics() is a helper function\n    # sorted the passed array or collection of graphics from nearest to furthest from the passed `pos`\n    nearest = fpl.utils.get_nearest_graphics(pos, line_collection)[0]\n\n    nearest.colors = \"r\"\n\n\n# remove clutter\nfigure[0, 0].axes.visible = False\n\nfigure.show()\n\n# NOTE: `if __name__ == \"__main__\"` is NOT how to use fastplotlib interactively\n# please see our docs for using fastplotlib interactively in ipython and jupyter\nif __name__ == \"__main__\":\n    print(__doc__)\n    fpl.loop.run()"
      ]
    }
  ],
  "metadata": {
    "kernelspec": {
      "display_name": "Python 3",
      "language": "python",
      "name": "python3"
    },
    "language_info": {
      "codemirror_mode": {
        "name": "ipython",
        "version": 3
      },
      "file_extension": ".py",
      "mimetype": "text/x-python",
      "name": "python",
      "nbconvert_exporter": "python",
      "pygments_lexer": "ipython3",
      "version": "3.10.12"
    }
  },
  "nbformat": 4,
  "nbformat_minor": 0
}