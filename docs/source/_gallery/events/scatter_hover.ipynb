{
  "cells": [
    {
      "cell_type": "markdown",
      "metadata": {},
      "source": [
        "\n# Scatter hover\n\nAdd an event handler to hover on scatter points and highlight them, i.e. change the color and size of the clicked point.\nFly around the 3D scatter using WASD keys and click on points to highlight them.\n\nThere is no \"hover\" event, you can create a hover effect by using \"pointer_move\" events.\n"
      ]
    },
    {
      "cell_type": "code",
      "execution_count": null,
      "metadata": {
        "collapsed": false
      },
      "outputs": [],
      "source": [
        "# test_example = false\n\nimport numpy as np\nimport fastplotlib as fpl\nimport pygfx\n\n# make a gaussian cloud\ndata = np.random.normal(loc=0, scale=3, size=1500).reshape(500, 3)\n\nfigure = fpl.Figure(cameras=\"3d\", size=(700, 560))\n\nscatter = figure[0, 0].add_scatter(\n    data,  # the gaussian cloud\n    sizes=10,  # some big points that are easy to click\n    cmap=\"viridis\",\n    cmap_transform=np.linalg.norm(data, axis=1)  # color points using distance from origin\n)\n\n# simple dict to restore the original scatter color and size\n# of the previously clicked point upon clicking a new point\nold_props = {\"index\": None, \"size\": None, \"color\": None}\n\n\n@scatter.add_event_handler(\"pointer_move\")\ndef highlight_point(ev: pygfx.PointerEvent):\n    global old_props\n\n    # the index of the point that was just entered\n    new_index = ev.pick_info[\"vertex_index\"]\n\n    # if a new point has been entered, but we have not yet had\n    # a leave event for the previous point, then reset this old point\n    if old_props[\"index\"] is not None:\n        old_index = old_props[\"index\"]\n        if new_index == old_index:\n            # same point, ignore\n            return\n        scatter.colors[old_index] = old_props[\"color\"]\n        scatter.sizes[old_index] = old_props[\"size\"]\n\n    # store the current property values of this new point\n    old_props[\"index\"] = new_index\n    old_props[\"color\"] = scatter.colors[new_index].copy()  # if you do not copy you will just get a view of the array!\n    old_props[\"size\"] = scatter.sizes[new_index]\n\n    # highlight this new point\n    scatter.colors[new_index] = \"magenta\"\n    scatter.sizes[new_index] = 20\n\n\nfigure.show()\n\n\n# NOTE: `if __name__ == \"__main__\"` is NOT how to use fastplotlib interactively\n# please see our docs for using fastplotlib interactively in ipython and jupyter\nif __name__ == \"__main__\":\n    print(__doc__)\n    fpl.loop.run()"
      ]
    }
  ],
  "metadata": {
    "kernelspec": {
      "display_name": "Python 3",
      "language": "python",
      "name": "python3"
    },
    "language_info": {
      "codemirror_mode": {
        "name": "ipython",
        "version": 3
      },
      "file_extension": ".py",
      "mimetype": "text/x-python",
      "name": "python",
      "nbconvert_exporter": "python",
      "pygments_lexer": "ipython3",
      "version": "3.10.12"
    }
  },
  "nbformat": 4,
  "nbformat_minor": 0
}