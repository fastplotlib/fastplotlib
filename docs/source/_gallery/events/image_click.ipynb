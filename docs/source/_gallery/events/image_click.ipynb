{
  "cells": [
    {
      "cell_type": "markdown",
      "metadata": {},
      "source": [
        "\n# Image click event\n\nExample showing how to use a click event on an image.\n"
      ]
    },
    {
      "cell_type": "code",
      "execution_count": null,
      "metadata": {
        "collapsed": false
      },
      "outputs": [],
      "source": [
        "# test_example = false\n\nimport fastplotlib as fpl\nimport pygfx\nimport imageio.v3 as iio\n\ndata = iio.imread(\"imageio:camera.png\")\n\n# Create a figure\nfigure = fpl.Figure(size=(700, 560))\n\n# create image graphic\nimage_graphic = figure[0, 0].add_image(data=data)\n\n# show the plot\nfigure.show()\n\n\n# adding a click event, we can also use decorators to add event handlers\n@image_graphic.add_event_handler(\"click\")\ndef click_event(ev: pygfx.PointerEvent):\n    # get the click location in screen coordinates\n    xy = (ev.x, ev.y)\n\n    # map the screen coordinates to world coordinates\n    xy = figure[0, 0].map_screen_to_world(xy)[:-1]\n\n    # print the click location\n    print(xy)\n\n\n# NOTE: `if __name__ == \"__main__\"` is NOT how to use fastplotlib interactively\n# please see our docs for using fastplotlib interactively in ipython and jupyter\nif __name__ == \"__main__\":\n    print(__doc__)\n    fpl.loop.run()"
      ]
    }
  ],
  "metadata": {
    "kernelspec": {
      "display_name": "Python 3",
      "language": "python",
      "name": "python3"
    },
    "language_info": {
      "codemirror_mode": {
        "name": "ipython",
        "version": 3
      },
      "file_extension": ".py",
      "mimetype": "text/x-python",
      "name": "python",
      "nbconvert_exporter": "python",
      "pygments_lexer": "ipython3",
      "version": "3.10.12"
    }
  },
  "nbformat": 4,
  "nbformat_minor": 0
}