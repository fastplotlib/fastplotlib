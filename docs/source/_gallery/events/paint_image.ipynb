{
  "cells": [
    {
      "cell_type": "markdown",
      "metadata": {},
      "source": [
        "\n# Paint an Image\n\nClick and drag the mouse to paint in the image\n"
      ]
    },
    {
      "cell_type": "code",
      "execution_count": null,
      "metadata": {
        "collapsed": false
      },
      "outputs": [],
      "source": [
        "# test_example = false\n\nimport numpy as np\nimport fastplotlib as fpl\nimport pygfx\n\nfigure = fpl.Figure(size=(700, 560))\n\n# add a blank image\nimage = figure[0, 0].add_image(np.zeros((100, 100)), vmin=0, vmax=255)\n\npainting = False  # use to toggle painting state\n\n\n@image.add_event_handler(\"pointer_down\")\ndef on_pointer_down(ev: pygfx.PointerEvent):\n    # start painting when mouse button is down\n    global painting\n\n    # get image element index, (x, y) pos corresponds to array (column, row)\n    col, row = ev.pick_info[\"index\"]\n\n    # increase value of this image element\n    image.data[row, col] = np.clip(image.data[row, col] + 50, 0, 255)\n\n    # toggle on painting state\n    painting = True\n\n    # disable controller until painting stops when mouse button is un-clicked\n    figure[0, 0].controller.enabled = False\n\n\n@image.add_event_handler(\"pointer_move\")\ndef on_pointer_move(ev: pygfx.PointerEvent):\n    # continue painting when mouse pointer is moved\n    global painting\n\n    if not painting:\n        return\n\n    # get image element index, (x, y) pos corresponds to array (column, row)\n    col, row = ev.pick_info[\"index\"]\n\n    image.data[row, col] = np.clip(image.data[row, col] + 50, 0, 255)\n\n\n@figure.renderer.add_event_handler(\"pointer_up\")\ndef on_pointer_up(ev: pygfx.PointerEvent):\n    # toggle off painting state\n    global painting\n    painting = False\n\n    # re-enable controller\n    figure[0, 0].controller.enabled = True\n\n\nfigure.show()\n\n# NOTE: `if __name__ == \"__main__\"` is NOT how to use fastplotlib interactively\n# please see our docs for using fastplotlib interactively in ipython and jupyter\nif __name__ == \"__main__\":\n    print(__doc__)\n    fpl.loop.run()"
      ]
    }
  ],
  "metadata": {
    "kernelspec": {
      "display_name": "Python 3",
      "language": "python",
      "name": "python3"
    },
    "language_info": {
      "codemirror_mode": {
        "name": "ipython",
        "version": 3
      },
      "file_extension": ".py",
      "mimetype": "text/x-python",
      "name": "python",
      "nbconvert_exporter": "python",
      "pygments_lexer": "ipython3",
      "version": "3.10.12"
    }
  },
  "nbformat": 4,
  "nbformat_minor": 0
}