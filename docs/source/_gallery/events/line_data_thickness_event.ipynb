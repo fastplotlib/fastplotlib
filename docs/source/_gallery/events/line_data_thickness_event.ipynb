{
  "cells": [
    {
      "cell_type": "markdown",
      "metadata": {},
      "source": [
        "\n# Events line data thickness\n\nSimple example of adding event handlers for line data and thickness.\n"
      ]
    },
    {
      "cell_type": "code",
      "execution_count": null,
      "metadata": {
        "collapsed": false
      },
      "outputs": [],
      "source": [
        "# test_example = false\n\nimport fastplotlib as fpl\nimport numpy as np\n\nfigure = fpl.Figure(size=(700, 560))\n\nxs = np.linspace(0, 4 * np.pi, 100)\n# sine wave\nys = np.sin(xs)\nsine = np.column_stack([xs, ys])\n\n# cosine wave\nys = np.cos(xs)\ncosine = np.column_stack([xs, ys])\n\n# create line graphics\nsine_graphic = figure[0, 0].add_line(data=sine)\ncosine_graphic = figure[0, 0].add_line(data=cosine, offset=(0, 4, 0))\n\n# make a list of the line graphics for convenience\nlines = [sine_graphic, cosine_graphic]\n\n\ndef change_thickness(ev: fpl.GraphicFeatureEvent):\n    # sets thickness of all the lines\n    new_value = ev.info[\"value\"]\n\n    for g in lines:\n        g.thickness = new_value\n\n\ndef change_data(ev: fpl.GraphicFeatureEvent):\n    # sets data of all the lines using the given event and value from the event\n\n    # the user's slice/index\n    # This can be a single int index, a slice,\n    # or even a numpy array of int or bool for fancy indexing!\n    indices = ev.info[\"key\"]\n\n    # the new values to set at the given indices\n    new_values = ev.info[\"value\"]\n\n    # set the data for all the lines\n    for g in lines:\n        g.data[indices] = new_values\n\n\n# add the event handlers to the line graphics\nfor g in lines:\n    g.add_event_handler(change_thickness, \"thickness\")\n    g.add_event_handler(change_data, \"data\")\n\n\nfigure.show()\nfigure[0, 0].axes.intersection = (0, 0, 0)\n\n# set the y-value of the middle 40 points of the sine graphic to 1\n# after the sine_graphic sets its data, the event handlers will be called\n# and therefore the cosine graphic will also set its data using the event data\nsine_graphic.data[30:70, 1] = np.ones(40)\n\n# set the thickness of the cosine graphic, this will trigger an event\n# that causes the sine graphic's thickness to also be set from this value\ncosine_graphic.thickness = 10\n\n# NOTE: `if __name__ == \"__main__\"` is NOT how to use fastplotlib interactively\n# please see our docs for using fastplotlib interactively in ipython and jupyter\nif __name__ == \"__main__\":\n    print(__doc__)\n    fpl.loop.run()"
      ]
    }
  ],
  "metadata": {
    "kernelspec": {
      "display_name": "Python 3",
      "language": "python",
      "name": "python3"
    },
    "language_info": {
      "codemirror_mode": {
        "name": "ipython",
        "version": 3
      },
      "file_extension": ".py",
      "mimetype": "text/x-python",
      "name": "python",
      "nbconvert_exporter": "python",
      "pygments_lexer": "ipython3",
      "version": "3.10.12"
    }
  },
  "nbformat": 4,
  "nbformat_minor": 0
}