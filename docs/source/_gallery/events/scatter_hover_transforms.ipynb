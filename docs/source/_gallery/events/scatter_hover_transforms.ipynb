{
  "cells": [
    {
      "cell_type": "markdown",
      "metadata": {},
      "source": [
        "\n# Scatter data explore scalers\n\nBased on the sklearn preprocessing scalers example. Hover points to highlight the corresponding point of the dataset\ntransformed by the various scalers.\n\nSee: https://scikit-learn.org/stable/auto_examples/preprocessing/plot_all_scaling.html\n\nThis is another example that uses bi-directional events.\n"
      ]
    },
    {
      "cell_type": "code",
      "execution_count": null,
      "metadata": {
        "collapsed": false
      },
      "outputs": [],
      "source": [
        "# test_example = false\n\nfrom sklearn.datasets import fetch_california_housing\nfrom sklearn.preprocessing import (\n    Normalizer,\n    QuantileTransformer,\n    PowerTransformer,\n)\n\nimport fastplotlib as fpl\nimport pygfx\n\n# get the dataset\ndataset = fetch_california_housing()\nX_full, y = dataset.data, dataset.target\nfeature_names = dataset.feature_names\n\nfeature_mapping = {\n    \"MedInc\": \"Median income in block\",\n    \"HouseAge\": \"Median house age in block\",\n    \"AveRooms\": \"Average number of rooms\",\n    \"AveBedrms\": \"Average number of bedrooms\",\n    \"Population\": \"Block population\",\n    \"AveOccup\": \"Average house occupancy\",\n    \"Latitude\": \"House block latitude\",\n    \"Longitude\": \"House block longitude\",\n}\n\n# Take only 2 features to make visualization easier\n# Feature MedInc has a long tail distribution.\n# Feature AveOccup has a few but very large outliers.\nfeatures = [\"MedInc\", \"AveOccup\"]\nfeatures_idx = [feature_names.index(feature) for feature in features]\nX = X_full[:, features_idx]\n\n# list of our scalers and their names as strings\nscalers = [PowerTransformer, QuantileTransformer, Normalizer]\nnames = [\"Original Data\", *[s.__name__ for s in scalers]]\n\n# fastplotlib code starts here, make a figure\nfigure = fpl.Figure(\n    shape=(2, 2),\n    names=names,\n    size=(700, 780),\n)\n\nscatters = list()  # list to store our 4 scatter graphics for convenience\n\n# add a scatter of the original data\ns = figure[\"Original Data\"].add_scatter(\n    data=X,\n    cmap=\"viridis\",\n    cmap_transform=y,\n    sizes=3,\n)\n\n# append to list of scatters\nscatters.append(s)\n\n# add the scaled data as scatter graphics\nfor scaler in scalers:\n    name = scaler.__name__\n    s = figure[name].add_scatter(scaler().fit_transform(X), cmap=\"viridis\", cmap_transform=y, sizes=3)\n    scatters.append(s)\n\n\n# simple dict to restore the original scatter color and size\n# of the previously clicked point upon clicking a new point\nold_props = {\"index\": None, \"size\": None, \"color\": None}\n\n\ndef highlight_point(ev: pygfx.PointerEvent):\n    # event handler to highlight the point when the mouse moves over it\n    global old_props\n\n    # the index of the point that was just clicked\n    new_index = ev.pick_info[\"vertex_index\"]\n\n    # restore old point's properties\n    if old_props[\"index\"] is not None:\n        old_index = old_props[\"index\"]\n        if new_index == old_index:\n            # same point was clicked, ignore\n            return\n        for s in scatters:\n            s.colors[old_index] = old_props[\"color\"]\n            s.sizes[old_index] = old_props[\"size\"]\n\n    # store the current property values of this new point\n    old_props[\"index\"] = new_index\n    # all the scatters have the same colors and size for the corresponding index\n    # so we can just use the first scatter's original color and size\n    old_props[\"color\"] = scatters[0].colors[new_index].copy()  # if you do not copy you will just get a view of the array!\n    old_props[\"size\"] = scatters[0].sizes[new_index]\n\n    # highlight this new point\n    for s in scatters:\n        s.colors[new_index] = \"magenta\"\n        s.sizes[new_index] = 15\n\n\n# add the event handler to all the scatter graphics\nfor s in scatters:\n    s.add_event_handler(highlight_point, \"pointer_move\")\n\n\nfigure.show(maintain_aspect=False)\n\n# NOTE: `if __name__ == \"__main__\"` is NOT how to use fastplotlib interactively\n# please see our docs for using fastplotlib interactively in ipython and jupyter\nif __name__ == \"__main__\":\n    print(__doc__)\n    fpl.loop.run()"
      ]
    }
  ],
  "metadata": {
    "kernelspec": {
      "display_name": "Python 3",
      "language": "python",
      "name": "python3"
    },
    "language_info": {
      "codemirror_mode": {
        "name": "ipython",
        "version": 3
      },
      "file_extension": ".py",
      "mimetype": "text/x-python",
      "name": "python",
      "nbconvert_exporter": "python",
      "pygments_lexer": "ipython3",
      "version": "3.10.12"
    }
  },
  "nbformat": 4,
  "nbformat_minor": 0
}