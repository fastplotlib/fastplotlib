{
  "cells": [
    {
      "cell_type": "markdown",
      "metadata": {},
      "source": [
        "\n# Drag points\n\nExample where you can drag scatter points on a line. This example also demonstrates how you can use a shared buffer\nbetween two graphics to represent the same data using different graphics. When you update the data of one graphic the\ndata of the other graphic is also changed simultaneously since they use the same underlying buffer on the GPU.\n"
      ]
    },
    {
      "cell_type": "code",
      "execution_count": null,
      "metadata": {
        "collapsed": false
      },
      "outputs": [],
      "source": [
        "# test_example = false\n\nimport numpy as np\nimport fastplotlib as fpl\nimport pygfx\n\nxs = np.linspace(0, 2 * np.pi, 10)\nys = np.sin(xs)\n\ndata = np.column_stack([xs, ys])\n\nfigure = fpl.Figure(size=(700, 560))\n\n# add a line\nline_graphic = figure[0, 0].add_line(data)\n\n# add a scatter, share the line graphic buffer!\nscatter_graphic = figure[0, 0].add_scatter(data=line_graphic.data, sizes=25, colors=\"r\")\n\nis_moving = False\nvertex_index = None\n\n\n@scatter_graphic.add_event_handler(\"pointer_down\")\ndef start_drag(ev: pygfx.PointerEvent):\n    global is_moving\n    global vertex_index\n\n    if ev.button != 1:\n        return\n\n    is_moving = True\n    vertex_index = ev.pick_info[\"vertex_index\"]\n    scatter_graphic.colors[vertex_index] = \"cyan\"\n\n\n@figure.renderer.add_event_handler(\"pointer_move\")\ndef move_point(ev):\n    global is_moving\n    global vertex_index\n\n    # if not moving, return\n    if not is_moving:\n        return\n\n    # disable controller\n    figure[0, 0].controller.enabled = False\n\n    # map x, y from screen space to world space\n    pos = figure[0, 0].map_screen_to_world(ev)\n\n    if pos is None:\n        # end movement\n        is_moving = False\n        scatter_graphic.colors[vertex_index] = \"r\"  # reset color\n        vertex_index = None\n        return\n\n    # change scatter data\n    # since we are sharing the buffer, the line data will also change\n    scatter_graphic.data[vertex_index, :-1] = pos[:-1]\n\n    # re-enable controller\n    figure[0, 0].controller.enabled = True\n\n\n@figure.renderer.add_event_handler(\"pointer_up\")\ndef end_drag(ev: pygfx.PointerEvent):\n    global is_moving\n    global vertex_index\n\n    # end movement\n    if is_moving:\n        # reset color\n        scatter_graphic.colors[vertex_index] = \"r\"\n\n    is_moving = False\n    vertex_index = None\n\n\nfigure.show()\n\n\n# NOTE: `if __name__ == \"__main__\"` is NOT how to use fastplotlib interactively\n# please see our docs for using fastplotlib interactively in ipython and jupyter\nif __name__ == \"__main__\":\n    print(__doc__)\n    fpl.loop.run()"
      ]
    }
  ],
  "metadata": {
    "kernelspec": {
      "display_name": "Python 3",
      "language": "python",
      "name": "python3"
    },
    "language_info": {
      "codemirror_mode": {
        "name": "ipython",
        "version": 3
      },
      "file_extension": ".py",
      "mimetype": "text/x-python",
      "name": "python",
      "nbconvert_exporter": "python",
      "pygments_lexer": "ipython3",
      "version": "3.10.12"
    }
  },
  "nbformat": 4,
  "nbformat_minor": 0
}