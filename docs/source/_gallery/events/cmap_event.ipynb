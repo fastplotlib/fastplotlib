{
  "cells": [
    {
      "cell_type": "markdown",
      "metadata": {},
      "source": [
        "\n# cmap event\n\nAdd a cmap event handler to multiple graphics. When any one graphic changes the cmap, the cmap of all other graphics\nis also changed.\n\nThis also shows how bidirectional events are supported.\n"
      ]
    },
    {
      "cell_type": "code",
      "execution_count": null,
      "metadata": {
        "collapsed": false
      },
      "outputs": [],
      "source": [
        "# test_example = false\n\nimport numpy as np\nimport fastplotlib as fpl\nimport imageio.v3 as iio\n\n# load images\nimg1 = iio.imread(\"imageio:camera.png\")\nimg2 = iio.imread(\"imageio:moon.png\")\n\n# Create a figure\nfigure = fpl.Figure(\n    shape=(2, 2),\n    size=(700, 560),\n    names=[\"camera\", \"moon\", \"sine\", \"cloud\"],\n)\n\n# create graphics\nfigure[\"camera\"].add_image(img1)\nfigure[\"moon\"].add_image(img2)\n\n# sine wave\nxs = np.linspace(0, 4 * np.pi, 100)\nys = np.sin(xs)\n\nfigure[\"sine\"].add_line(np.column_stack([xs, ys]))\n\n# make a 2D gaussian cloud\ncloud_data = np.random.normal(0, scale=3, size=1000).reshape(500, 2)\nfigure[\"cloud\"].add_scatter(\n    cloud_data,\n    sizes=3,\n    cmap=\"plasma\",\n    cmap_transform=np.linalg.norm(cloud_data, axis=1)  # cmap transform using distance from origin\n)\nfigure[\"cloud\"].axes.intersection = (0, 0, 0)\n\n# show the plot\nfigure.show()\n\n\n# event handler to change the cmap of all graphics when the cmap of any one graphic changes\ndef cmap_changed(ev: fpl.GraphicFeatureEvent):\n    # get the new cmap\n    new_cmap = ev.info[\"value\"]\n\n    # set cmap of the graphics in the other subplots\n    for subplot in figure:\n        subplot.graphics[0].cmap = new_cmap\n\n\nfor subplot in figure:\n    # add event handler to the graphic added to each subplot\n    subplot.graphics[0].add_event_handler(cmap_changed, \"cmap\")\n\n\n# change the cmap of graphic image, triggers all other graphics to set the cmap\nfigure[\"camera\"].graphics[0].cmap = \"jet\"\n\n# NOTE: `if __name__ == \"__main__\"` is NOT how to use fastplotlib interactively\n# please see our docs for using fastplotlib interactively in ipython and jupyter\nif __name__ == \"__main__\":\n    print(__doc__)\n    fpl.loop.run()"
      ]
    }
  ],
  "metadata": {
    "kernelspec": {
      "display_name": "Python 3",
      "language": "python",
      "name": "python3"
    },
    "language_info": {
      "codemirror_mode": {
        "name": "ipython",
        "version": 3
      },
      "file_extension": ".py",
      "mimetype": "text/x-python",
      "name": "python",
      "nbconvert_exporter": "python",
      "pygments_lexer": "ipython3",
      "version": "3.10.12"
    }
  },
  "nbformat": 4,
  "nbformat_minor": 0
}