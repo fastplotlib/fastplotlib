{
  "cells": [
    {
      "cell_type": "markdown",
      "metadata": {},
      "source": [
        "\n# Key Events\n\nMove an image around using and change some of its properties using keyboard events.\n\n- Use the arrows keys to move the image by changing its offset\n\n- Press \"v\", \"g\", \"p\" to change the colormaps (viridis, grey, plasma).\n\n- Press \"r\" to rotate the image +18 degrees (pi / 10 radians)\n- Press \"Shift + R\" to rotate the image -18 degrees\n- Axis of rotation is the origin\n\n- Press \"-\", \"=\" to decrease/increase the vmin\n- Press \"_\", \"+\" to decrease/increase the vmax\n\nWe use the ImageWidget here because the histogram LUT tool makes it easy to see the changes in vmin and vmax.\n"
      ]
    },
    {
      "cell_type": "code",
      "execution_count": null,
      "metadata": {
        "collapsed": false
      },
      "outputs": [],
      "source": [
        "# test_example = false\n\nimport numpy as np\nimport fastplotlib as fpl\nimport pygfx\nimport imageio.v3 as iio\n\ndata = iio.imread(\"imageio:camera.png\")\n\niw = fpl.ImageWidget(data, figure_kwargs={\"size\": (700, 560)})\n\nimage = iw.managed_graphics[0]\n\n\n@iw.figure.renderer.add_event_handler(\"key_down\")\ndef handle_event(ev: pygfx.KeyboardEvent):\n    match ev.key:\n        # change the cmap\n        case \"v\":\n            image.cmap = \"viridis\"\n        case \"g\":\n            image.cmap = \"grey\"\n        case \"p\":\n            image.cmap = \"plasma\"\n\n        # keys to change vmin/vmax\n        case \"-\":\n            image.vmin -= 1\n        case \"=\":\n            image.vmin += 1\n        case \"_\":\n            image.vmax -= 1\n        case \"+\":\n            image.vmax += 1\n\n        # rotate\n        case \"r\":\n            image.rotate(np.pi / 10, axis=\"z\")\n        case \"R\":\n            image.rotate(-np.pi / 10, axis=\"z\")\n\n        # arrow key events to move the image\n        case \"ArrowUp\":\n            image.offset = image.offset + [0, -10, 0]  # remember y-axis is flipped for images\n        case \"ArrowDown\":\n            image.offset = image.offset + [0, 10, 0]\n        case \"ArrowLeft\":\n            image.offset = image.offset + [-10, 0, 0]\n        case \"ArrowRight\":\n            image.offset = image.offset + [10, 0, 0]\n\n\niw.show()\n\n\nfigure = iw.figure  # ignore, this is just so the docs gallery scraper picks up the figure\n\n\n# NOTE: `if __name__ == \"__main__\"` is NOT how to use fastplotlib interactively\n# please see our docs for using fastplotlib interactively in ipython and jupyter\nif __name__ == \"__main__\":\n    print(__doc__)\n    fpl.loop.run()"
      ]
    }
  ],
  "metadata": {
    "kernelspec": {
      "display_name": "Python 3",
      "language": "python",
      "name": "python3"
    },
    "language_info": {
      "codemirror_mode": {
        "name": "ipython",
        "version": 3
      },
      "file_extension": ".py",
      "mimetype": "text/x-python",
      "name": "python",
      "nbconvert_exporter": "python",
      "pygments_lexer": "ipython3",
      "version": "3.10.12"
    }
  },
  "nbformat": 4,
  "nbformat_minor": 0
}